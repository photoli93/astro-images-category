{
 "cells": [
  {
   "cell_type": "markdown",
   "id": "7036d689",
   "metadata": {},
   "source": [
    "# Space Images Classifier - Using Kaggle dataset\n",
    "\n",
    "https://www.kaggle.com/datasets/abhikalpsrivastava15/space-images-category?utm_source=chatgpt.com\n",
    "\n",
    "### Notebook 5 - Training stage 2 (Unfrozen backbone for fine-tuning)"
   ]
  },
  {
   "cell_type": "markdown",
   "id": "255efa75",
   "metadata": {},
   "source": [
    "# Import librairies"
   ]
  },
  {
   "cell_type": "code",
   "execution_count": 1,
   "id": "937ec054",
   "metadata": {},
   "outputs": [],
   "source": [
    "import numpy as np\n",
    "import pandas as pd\n",
    "\n",
    "import matplotlib.pyplot as plt\n",
    "import seaborn as sns\n",
    "\n",
    "import sys\n",
    "import os\n",
    "import json\n",
    "\n",
    "# Add the root folder to Python's module search path\n",
    "sys.path.append(os.path.abspath(os.path.join(\"..\"))) \n",
    "# Import the project configuration\n",
    "from config import DEVICE, OUTPUT_PATH, BATCH_SIZE, NUM_WORKERS, EPOCHS_STAGE2, LEARNING_RATE_STAGE2\n",
    "from models import SpaceClassifier\n",
    "from train_utils import train_epoch, validate\n",
    "from datasets import SpaceImageDataset, train_transforms, val_test_transforms\n",
    "\n",
    "import shutil\n",
    "from pathlib import Path\n",
    "import cv2\n",
    "from tqdm import tqdm\n",
    "import random\n",
    "\n",
    "import warnings\n",
    "warnings.filterwarnings('ignore')\n",
    "\n",
    "import torch\n",
    "import torch.nn as nn\n",
    "import torch.optim as optim\n",
    "from torch.utils.data import Dataset, DataLoader\n",
    "from torchvision import transforms, models\n",
    "from torch.optim.lr_scheduler import ReduceLROnPlateau\n",
    "import torchvision.transforms.functional as TF\n",
    "\n",
    "from sklearn.model_selection import train_test_split\n",
    "from sklearn.metrics import classification_report, confusion_matrix, accuracy_score\n",
    "from sklearn.utils import class_weight"
   ]
  },
  {
   "cell_type": "markdown",
   "id": "b4f7aebf",
   "metadata": {},
   "source": [
    "# Load callback/config variables"
   ]
  },
  {
   "cell_type": "code",
   "execution_count": 2,
   "id": "5766abd9",
   "metadata": {},
   "outputs": [],
   "source": [
    "ROOT_PATH = Path(\"..\")\n",
    "# Path to load JSON\n",
    "CONFIG_JSON_PATH = ROOT_PATH / \"config_dynamic.json\"\n",
    "\n",
    "try:\n",
    "    with open(CONFIG_JSON_PATH) as f:\n",
    "        dynamic_config = json.load(f)\n",
    "except FileNotFoundError:\n",
    "    dynamic_config = {}\n",
    "    \n",
    "NUM_CLASSES = dynamic_config.get(\"NUM_CLASSES\", 0)\n",
    "class_names = dynamic_config.get(\"class_names\", [])\n",
    "split_success = dynamic_config.get(\"split_success\", 5)\n",
    "\n",
    "# Path to the saved tensor\n",
    "WEIGHTS_PATH = Path(\"models\") / \"class_weights_tensor.pth\"\n",
    "\n",
    "# Load the tensor\n",
    "class_weights_tensor = torch.load(WEIGHTS_PATH, map_location=DEVICE)\n",
    "\n"
   ]
  },
  {
   "cell_type": "markdown",
   "id": "58bc9a1b",
   "metadata": {},
   "source": [
    "# Training stage 2 with unfrozen backbone"
   ]
  },
  {
   "cell_type": "markdown",
   "id": "fb148444",
   "metadata": {},
   "source": [
    "## Load the best model"
   ]
  },
  {
   "cell_type": "code",
   "execution_count": 3,
   "id": "02640134",
   "metadata": {},
   "outputs": [
    {
     "name": "stdout",
     "output_type": "stream",
     "text": [
      "================================================================================\n",
      "Model created: EfficientNet-B0\n",
      "Device: mps\n",
      "Total parameters: 4,796,290\n",
      "Trainable parameters: 788,742\n",
      "--------------------------------------------------------------------------------\n",
      "Best model from stage 1 loaded\n",
      "History of the stage 1 loaded\n",
      "================================================================================\n"
     ]
    }
   ],
   "source": [
    "# Create model\n",
    "model = SpaceClassifier(NUM_CLASSES, pretrained=True)\n",
    "model = model.to(DEVICE)\n",
    "\n",
    "print(\"=\" * 80)\n",
    "print(f\"Model created: EfficientNet-B0\")\n",
    "print(f\"Device: {DEVICE}\")\n",
    "\n",
    "# Count parameters\n",
    "total_params = sum(p.numel() for p in model.parameters())\n",
    "trainable_params = sum(p.numel() for p in model.parameters() if p.requires_grad)\n",
    "print(f\"Total parameters: {total_params:,}\")\n",
    "print(f\"Trainable parameters: {trainable_params:,}\")\n",
    "print(\"-\" * 80)\n",
    "\n",
    "# Load best model\n",
    "model.load_state_dict(torch.load('models/stage1_best.pth'))\n",
    "print(\"Best model from stage 1 loaded\")\n",
    "# Load history of the stage1\n",
    "history_stage1 = torch.load('models/history_stage1_del_img.pt')\n",
    "print(\"History of the stage 1 loaded\")\n",
    "print(\"=\" * 80)"
   ]
  },
  {
   "cell_type": "markdown",
   "id": "b24fb85d",
   "metadata": {},
   "source": [
    "## Create Dataset"
   ]
  },
  {
   "cell_type": "code",
   "execution_count": 4,
   "id": "bdbc53a0",
   "metadata": {},
   "outputs": [
    {
     "name": "stderr",
     "output_type": "stream",
     "text": [
      "libpng warning: iCCP: known incorrect sRGB profile\n",
      "libpng warning: iCCP: known incorrect sRGB profile\n",
      "libpng warning: iCCP: known incorrect sRGB profile\n",
      "libpng warning: iCCP: known incorrect sRGB profile\n",
      "libpng warning: iCCP: known incorrect sRGB profile\n"
     ]
    },
    {
     "name": "stdout",
     "output_type": "stream",
     "text": [
      "Dataset created from ../space_images_split/train\n",
      "   -> 765 valid images\n",
      "7 images skipped (see ../space_images_split/train/skipped_images.txt)\n",
      "Dataset created from ../space_images_split/validation\n",
      "   -> 161 valid images\n",
      "2 images skipped (see ../space_images_split/validation/skipped_images.txt)\n"
     ]
    }
   ],
   "source": [
    "train_dataset = SpaceImageDataset(OUTPUT_PATH / \"train\", transform=train_transforms)\n",
    "val_dataset = SpaceImageDataset(OUTPUT_PATH / \"validation\", transform=val_test_transforms)"
   ]
  },
  {
   "cell_type": "markdown",
   "id": "8f72fcda",
   "metadata": {},
   "source": [
    "## Create Data loaders"
   ]
  },
  {
   "cell_type": "code",
   "execution_count": 5,
   "id": "3f157dea",
   "metadata": {},
   "outputs": [],
   "source": [
    "train_loader = DataLoader(\n",
    "    train_dataset, \n",
    "    batch_size=BATCH_SIZE,\n",
    "    shuffle=True, \n",
    "    num_workers=NUM_WORKERS,\n",
    "    pin_memory=True if DEVICE.type == 'mps' else False\n",
    ")\n",
    "\n",
    "val_loader = DataLoader(\n",
    "    val_dataset, \n",
    "    batch_size=BATCH_SIZE, \n",
    "    shuffle=False, \n",
    "    num_workers=NUM_WORKERS,\n",
    "    pin_memory=True if DEVICE.type == 'mps' else False\n",
    ")"
   ]
  },
  {
   "cell_type": "markdown",
   "id": "c0963a13",
   "metadata": {},
   "source": [
    "## Training the model - Phase 2"
   ]
  },
  {
   "cell_type": "code",
   "execution_count": 6,
   "id": "27350b3f",
   "metadata": {},
   "outputs": [
    {
     "name": "stdout",
     "output_type": "stream",
     "text": [
      "Backbone unfrozen for stage 2\n",
      "Trainable parameters: 3,532,322\n",
      "================================================================================\n",
      "Starting Stage 2 Training\n",
      "--------------------------------------------------------------------------------\n",
      "Estimated time on M1: 20-40 minutes\n",
      "\n",
      "================================================================================\n",
      "================================================================================\n",
      "Epoch 1/15\n",
      "------------------------------------------------------------\n"
     ]
    },
    {
     "name": "stderr",
     "output_type": "stream",
     "text": [
      "Training:   0%|          | 0/24 [00:00<?, ?it/s]libpng warning: iCCP: known incorrect sRGB profile\n",
      "Training:  50%|█████     | 12/24 [00:07<00:02,  4.92it/s, loss=0.9376, acc=79.43%]libpng warning: iCCP: known incorrect sRGB profile\n",
      "Training:  62%|██████▎   | 15/24 [00:08<00:01,  5.50it/s, loss=1.1156, acc=78.12%]libpng warning: iCCP: known incorrect sRGB profile\n",
      "libpng warning: iCCP: known incorrect sRGB profile\n",
      "Training:  88%|████████▊ | 21/24 [00:09<00:00,  5.03it/s, loss=0.9564, acc=77.38%]libpng warning: iCCP: known incorrect sRGB profile\n",
      "Training: 100%|██████████| 24/24 [00:31<00:00,  1.30s/it, loss=0.8770, acc=77.78%]\n",
      "Validation: 100%|██████████| 6/6 [00:24<00:00,  4.12s/it, loss=3.2812, acc=62.11%]\n"
     ]
    },
    {
     "name": "stdout",
     "output_type": "stream",
     "text": [
      "\n",
      "Train Loss: 0.9864 | Train Acc: 77.78%\n",
      "Val Loss:   1.2979 | Val Acc:   62.11%\n",
      "Best model saved! (Val Acc: 62.11%)\n",
      "================================================================================\n",
      "Epoch 2/15\n",
      "------------------------------------------------------------\n"
     ]
    },
    {
     "name": "stderr",
     "output_type": "stream",
     "text": [
      "Training:   0%|          | 0/24 [00:00<?, ?it/s]libpng warning: iCCP: known incorrect sRGB profile\n",
      "Training:  25%|██▌       | 6/24 [00:04<00:06,  2.92it/s, loss=0.9168, acc=78.12%]libpng warning: iCCP: known incorrect sRGB profile\n",
      "Training:  33%|███▎      | 8/24 [00:04<00:03,  4.40it/s, loss=0.9353, acc=78.52%]libpng warning: iCCP: known incorrect sRGB profile\n",
      "Training:  50%|█████     | 12/24 [00:06<00:02,  4.15it/s, loss=1.0471, acc=78.39%]libpng warning: iCCP: known incorrect sRGB profile\n",
      "libpng warning: iCCP: known incorrect sRGB profile\n",
      "Training: 100%|██████████| 24/24 [00:29<00:00,  1.21s/it, loss=0.8399, acc=77.12%]\n",
      "Validation: 100%|██████████| 6/6 [00:23<00:00,  3.98s/it, loss=3.0099, acc=62.11%]\n"
     ]
    },
    {
     "name": "stdout",
     "output_type": "stream",
     "text": [
      "\n",
      "Train Loss: 0.9798 | Train Acc: 77.12%\n",
      "Val Loss:   1.2640 | Val Acc:   62.11%\n",
      "================================================================================\n",
      "Epoch 3/15\n",
      "------------------------------------------------------------\n"
     ]
    },
    {
     "name": "stderr",
     "output_type": "stream",
     "text": [
      "Training:   0%|          | 0/24 [00:00<?, ?it/s]libpng warning: iCCP: known incorrect sRGB profile\n",
      "Training:  38%|███▊      | 9/24 [00:05<00:03,  3.80it/s, loss=0.8109, acc=79.17%]libpng warning: iCCP: known incorrect sRGB profile\n",
      "libpng warning: iCCP: known incorrect sRGB profile\n",
      "Training:  67%|██████▋   | 16/24 [00:07<00:01,  4.45it/s, loss=0.9212, acc=78.71%]libpng warning: iCCP: known incorrect sRGB profile\n",
      "Training:  83%|████████▎ | 20/24 [00:08<00:00,  4.82it/s, loss=0.8292, acc=79.06%]libpng warning: iCCP: known incorrect sRGB profile\n",
      "Training: 100%|██████████| 24/24 [00:28<00:00,  1.21s/it, loss=0.8850, acc=79.35%]\n",
      "Validation: 100%|██████████| 6/6 [00:24<00:00,  4.00s/it, loss=2.8918, acc=61.49%]\n"
     ]
    },
    {
     "name": "stdout",
     "output_type": "stream",
     "text": [
      "\n",
      "Train Loss: 0.9376 | Train Acc: 79.35%\n",
      "Val Loss:   1.2514 | Val Acc:   61.49%\n",
      "================================================================================\n",
      "Epoch 4/15\n",
      "------------------------------------------------------------\n"
     ]
    },
    {
     "name": "stderr",
     "output_type": "stream",
     "text": [
      "Training:   0%|          | 0/24 [00:00<?, ?it/s]libpng warning: iCCP: known incorrect sRGB profile\n",
      "libpng warning: iCCP: known incorrect sRGB profile\n",
      "Training:  17%|█▋        | 4/24 [00:04<00:14,  1.36it/s, loss=0.9308, acc=78.91%]libpng warning: iCCP: known incorrect sRGB profile\n",
      "libpng warning: iCCP: known incorrect sRGB profile\n",
      "Training:  58%|█████▊    | 14/24 [00:07<00:02,  4.04it/s, loss=0.8910, acc=77.68%]libpng warning: iCCP: known incorrect sRGB profile\n",
      "Training: 100%|██████████| 24/24 [00:30<00:00,  1.26s/it, loss=0.9580, acc=78.30%]\n",
      "Validation: 100%|██████████| 6/6 [00:23<00:00,  3.97s/it, loss=3.0167, acc=60.87%]\n"
     ]
    },
    {
     "name": "stdout",
     "output_type": "stream",
     "text": [
      "\n",
      "Train Loss: 0.9462 | Train Acc: 78.30%\n",
      "Val Loss:   1.2481 | Val Acc:   60.87%\n",
      "================================================================================\n",
      "Epoch 5/15\n",
      "------------------------------------------------------------\n"
     ]
    },
    {
     "name": "stderr",
     "output_type": "stream",
     "text": [
      "Training:   0%|          | 0/24 [00:00<?, ?it/s]libpng warning: iCCP: known incorrect sRGB profile\n",
      "Training:  12%|█▎        | 3/24 [00:04<00:21,  1.00s/it, loss=0.8859, acc=69.79%]libpng warning: iCCP: known incorrect sRGB profile\n",
      "Training:  50%|█████     | 12/24 [00:05<00:02,  4.86it/s, loss=1.0425, acc=76.82%]libpng warning: iCCP: known incorrect sRGB profile\n",
      "Training:  67%|██████▋   | 16/24 [00:07<00:01,  4.04it/s, loss=0.8226, acc=75.98%]libpng warning: iCCP: known incorrect sRGB profile\n",
      "Training:  75%|███████▌  | 18/24 [00:07<00:01,  3.68it/s, loss=0.8345, acc=76.39%]libpng warning: iCCP: known incorrect sRGB profile\n",
      "Training: 100%|██████████| 24/24 [00:29<00:00,  1.22s/it, loss=0.8654, acc=77.12%]\n",
      "Validation: 100%|██████████| 6/6 [00:24<00:00,  4.01s/it, loss=2.8798, acc=60.25%]\n"
     ]
    },
    {
     "name": "stdout",
     "output_type": "stream",
     "text": [
      "\n",
      "Train Loss: 0.9360 | Train Acc: 77.12%\n",
      "Val Loss:   1.2387 | Val Acc:   60.25%\n",
      "================================================================================\n",
      "Epoch 6/15\n",
      "------------------------------------------------------------\n"
     ]
    },
    {
     "name": "stderr",
     "output_type": "stream",
     "text": [
      "Training:  38%|███▊      | 9/24 [00:05<00:03,  4.00it/s, loss=0.7737, acc=76.04%]libpng warning: iCCP: known incorrect sRGB profile\n",
      "Training:  42%|████▏     | 10/24 [00:05<00:03,  4.51it/s, loss=0.8242, acc=77.19%]libpng warning: iCCP: known incorrect sRGB profile\n",
      "Training:  54%|█████▍    | 13/24 [00:05<00:01,  5.85it/s, loss=1.1341, acc=77.88%]libpng warning: iCCP: known incorrect sRGB profile\n",
      "Training:  75%|███████▌  | 18/24 [00:07<00:01,  5.37it/s, loss=1.1023, acc=77.78%]libpng warning: iCCP: known incorrect sRGB profile\n",
      "Training:  92%|█████████▏| 22/24 [00:07<00:00,  5.51it/s, loss=0.8289, acc=76.85%]libpng warning: iCCP: known incorrect sRGB profile\n",
      "Training: 100%|██████████| 24/24 [00:28<00:00,  1.19s/it, loss=0.9422, acc=76.34%]\n",
      "Validation: 100%|██████████| 6/6 [00:23<00:00,  3.96s/it, loss=2.8702, acc=59.63%]\n"
     ]
    },
    {
     "name": "stdout",
     "output_type": "stream",
     "text": [
      "\n",
      "Train Loss: 0.9530 | Train Acc: 76.34%\n",
      "Val Loss:   1.2341 | Val Acc:   59.63%\n",
      "================================================================================\n",
      "Epoch 7/15\n",
      "------------------------------------------------------------\n"
     ]
    },
    {
     "name": "stderr",
     "output_type": "stream",
     "text": [
      "Training:   0%|          | 0/24 [00:00<?, ?it/s]libpng warning: iCCP: known incorrect sRGB profile\n",
      "libpng warning: iCCP: known incorrect sRGB profile\n",
      "Training:  38%|███▊      | 9/24 [00:05<00:03,  4.05it/s, loss=0.8317, acc=77.43%]libpng warning: iCCP: known incorrect sRGB profile\n",
      "Training:  42%|████▏     | 10/24 [00:05<00:02,  4.73it/s, loss=0.8755, acc=77.50%]libpng warning: iCCP: known incorrect sRGB profile\n",
      "Training:  62%|██████▎   | 15/24 [00:05<00:01,  6.41it/s, loss=0.8871, acc=77.08%]libpng warning: iCCP: known incorrect sRGB profile\n",
      "Training: 100%|██████████| 24/24 [00:28<00:00,  1.20s/it, loss=0.8696, acc=78.30%]\n",
      "Validation: 100%|██████████| 6/6 [00:23<00:00,  3.93s/it, loss=2.8494, acc=59.63%]\n"
     ]
    },
    {
     "name": "stdout",
     "output_type": "stream",
     "text": [
      "\n",
      "Train Loss: 0.9051 | Train Acc: 78.30%\n",
      "Val Loss:   1.2096 | Val Acc:   59.63%\n",
      "\n",
      "Early stopping triggered (patience=6)\n",
      "\n",
      "Stage 2 fine-tuning complete!\n",
      "================================================================================\n"
     ]
    }
   ],
   "source": [
    "if split_success and history_stage1:\n",
    "    # Loss and optimizer\n",
    "    # Add label_smoothing argument to help generalization and better handle noisy labels\n",
    "    criterion = nn.CrossEntropyLoss(weight=class_weights_tensor, label_smoothing=0.1)\n",
    "\n",
    "    # # Unfreeze backbone\n",
    "    # model.unfreeze_backbone()\n",
    "    # print(f\"Backbone unfrozen\")\n",
    "\n",
    "    # # Unfreeze partial backbone (only the last block)\n",
    "    # model.unfreeze_backbone_partial()\n",
    "\n",
    "    # Unfreeze for stage 2\n",
    "    model.unfreeze_backbone_stage(stage=2)\n",
    "\n",
    "    # Differential learning rates\n",
    "    backbone_params = [p for n, p in model.backbone.named_parameters() if \"features\" in n and p.requires_grad]\n",
    "    classifier_params = [p for n, p in model.backbone.named_parameters() if \"classifier\" in n and p.requires_grad]\n",
    "\n",
    "    # # Add weight_decay in order to add L2 regularization > it penalizes large weights\n",
    "    # optimizer = optim.Adam(model.parameters(), lr=LEARNING_RATE_STAGE2, weight_decay=1e-3)\n",
    "\n",
    "    optimizer = torch.optim.Adam([\n",
    "        {'params': backbone_params, 'lr': 1e-6, 'weight_decay': 1e-3},\n",
    "        {'params': classifier_params, 'lr': 1e-4, 'weight_decay': 1e-3}\n",
    "    ])\n",
    "\n",
    "    # Automatically reduces the learning rate by 50% if validation loss stops improving for 5 epochs\n",
    "    scheduler = ReduceLROnPlateau(optimizer, mode='min', factor=0.5, patience=5, verbose=True)\n",
    "\n",
    "    trainable_params = sum(p.numel() for p in model.parameters() if p.requires_grad)\n",
    "    print(f\"Trainable parameters: {trainable_params:,}\")\n",
    "    \n",
    "    print(\"=\" * 80)\n",
    "    print(f\"Starting Stage 2 Training\")\n",
    "    print(\"-\" * 80)\n",
    "    print(f\"Estimated time on M1: 20-40 minutes\")\n",
    "\n",
    "    history_stage2 = {\n",
    "        'train_loss': [], 'train_acc': [],\n",
    "        'val_loss': [], 'val_acc': []\n",
    "    }\n",
    "    \n",
    "    best_val_acc = 0.0\n",
    "    patience_counter = 0\n",
    "    PATIENCE = 6\n",
    "    \n",
    "    for epoch in range(EPOCHS_STAGE2):\n",
    "        print(\"=\" * 80)\n",
    "        print(f\"Epoch {epoch+1}/{EPOCHS_STAGE2}\")\n",
    "        print(\"-\" * 60)\n",
    "        \n",
    "        train_loss, train_acc = train_epoch(model, train_loader, criterion, optimizer, DEVICE)\n",
    "        val_loss, val_acc, _, _ = validate(model, val_loader, criterion, DEVICE)\n",
    "        \n",
    "        scheduler.step(val_loss)\n",
    "        \n",
    "        history_stage2['train_loss'].append(train_loss)\n",
    "        history_stage2['train_acc'].append(train_acc)\n",
    "        history_stage2['val_loss'].append(val_loss)\n",
    "        history_stage2['val_acc'].append(val_acc)\n",
    "        \n",
    "        print(f\"\\nTrain Loss: {train_loss:.4f} | Train Acc: {train_acc*100:.2f}%\")\n",
    "        print(f\"Val Loss:   {val_loss:.4f} | Val Acc:   {val_acc*100:.2f}%\")\n",
    "        \n",
    "        if val_acc > best_val_acc:\n",
    "            best_val_acc = val_acc\n",
    "            torch.save(model.state_dict(), 'models/final_best.pth')\n",
    "            print(f\"Best model saved! (Val Acc: {val_acc*100:.2f}%)\")\n",
    "            # Save stage 2 logs to the disk\n",
    "            torch.save(history_stage2, 'models/history_stage2.pt')\n",
    "            patience_counter = 0\n",
    "        else:\n",
    "            patience_counter += 1\n",
    "        \n",
    "        if patience_counter >= PATIENCE:\n",
    "            print(f\"\\nEarly stopping triggered (patience={PATIENCE})\")\n",
    "            break\n",
    "    \n",
    "    print(\"\\nStage 2 fine-tuning complete!\")\n",
    "    \n",
    "    # Load best model\n",
    "    model.load_state_dict(torch.load('models/final_best.pth'))\n",
    "\n",
    "else:\n",
    "    history_stage2 = None\n",
    "\n",
    "print(\"=\" * 80)"
   ]
  },
  {
   "cell_type": "markdown",
   "id": "757d57d7",
   "metadata": {},
   "source": [
    "# End of notebook 5 - Training stage 2"
   ]
  }
 ],
 "metadata": {
  "kernelspec": {
   "display_name": "astro-ml",
   "language": "python",
   "name": "python3"
  },
  "language_info": {
   "codemirror_mode": {
    "name": "ipython",
    "version": 3
   },
   "file_extension": ".py",
   "mimetype": "text/x-python",
   "name": "python",
   "nbconvert_exporter": "python",
   "pygments_lexer": "ipython3",
   "version": "3.10.18"
  }
 },
 "nbformat": 4,
 "nbformat_minor": 5
}
