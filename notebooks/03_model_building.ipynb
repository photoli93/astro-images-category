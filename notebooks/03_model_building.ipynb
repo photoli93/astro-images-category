{
 "cells": [
  {
   "cell_type": "markdown",
   "id": "7036d689",
   "metadata": {},
   "source": [
    "# Space Images Classifier - Using Kaggle dataset\n",
    "\n",
    "https://www.kaggle.com/datasets/abhikalpsrivastava15/space-images-category?utm_source=chatgpt.com\n",
    "\n",
    "### Notebook 3 - Building Deep Learning Model"
   ]
  },
  {
   "cell_type": "markdown",
   "id": "255efa75",
   "metadata": {},
   "source": [
    "# Import librairies"
   ]
  },
  {
   "cell_type": "code",
   "execution_count": 1,
   "id": "937ec054",
   "metadata": {},
   "outputs": [],
   "source": [
    "import numpy as np\n",
    "import pandas as pd\n",
    "\n",
    "import matplotlib.pyplot as plt\n",
    "import seaborn as sns\n",
    "\n",
    "import sys\n",
    "import os\n",
    "import json\n",
    "# Add the root folder to Python's module search path\n",
    "sys.path.append(os.path.abspath(os.path.join(\"..\"))) \n",
    "# Import the project configuration\n",
    "from config import DEVICE, ORIGINAL_DATA_PATH, OUTPUT_PATH, IMG_SIZE, BATCH_SIZE, NUM_WORKERS, SEED, TRAIN_RATIO, VAL_RATIO, TEST_RATIO\n",
    "\n",
    "import shutil\n",
    "from pathlib import Path\n",
    "import cv2\n",
    "from tqdm import tqdm\n",
    "import random\n",
    "\n",
    "import warnings\n",
    "warnings.filterwarnings('ignore')\n",
    "\n",
    "import torch\n",
    "import torch.nn as nn\n",
    "import torch.optim as optim\n",
    "from torch.utils.data import Dataset, DataLoader\n",
    "from torchvision import transforms, models\n",
    "from torch.optim.lr_scheduler import ReduceLROnPlateau\n",
    "import torchvision.transforms.functional as TF\n",
    "\n",
    "from sklearn.model_selection import train_test_split\n",
    "from sklearn.metrics import classification_report, confusion_matrix, accuracy_score\n",
    "from sklearn.utils import class_weight"
   ]
  },
  {
   "cell_type": "markdown",
   "id": "58bc9a1b",
   "metadata": {},
   "source": [
    "# Building model (EfficientNet-B0)\n",
    "\n",
    "https://medium.com/image-processing-with-python/efficientnetb0-architecture-stem-layer-496c7911a62d\n",
    "\n",
    "https://medium.com/@kdk199604/efficientnet-smarter-not-just-bigger-neural-networks-94db3e2f8699\n",
    "\n"
   ]
  },
  {
   "cell_type": "code",
   "execution_count": null,
   "id": "02640134",
   "metadata": {},
   "outputs": [],
   "source": [
    "class SpaceClassifier(nn.Module):\n",
    "    \"\"\"EfficientNet-B0 based classifier for space images\"\"\"\n",
    "    \n",
    "    def __init__(self, num_classes, pretrained=True):\n",
    "        super(SpaceClassifier, self).__init__()\n",
    "        \n",
    "        # Load pre-trained EfficientNet-B0\n",
    "        self.backbone = models.efficientnet_b0(pretrained=pretrained)\n",
    "        \n",
    "        # Freeze backbone during the first stage to speed up the training (avoid replacing pretrained features)\n",
    "        for param in self.backbone.parameters():\n",
    "            param.requires_grad = False\n",
    "        \n",
    "        # Get the number of features output by the backbone before the original classifier\n",
    "        in_features = self.backbone.classifier[1].in_features\n",
    "        # Replace classifier default head\n",
    "        # Progressive reduction feature dimensionality (from 1280 default value to num_classes) and it helps for overfitting\n",
    "        # Introduction of non-linearity function between fully connected layers\n",
    "        # Use of higher dropout early and smaller later to help regularization of deeper layers and prevent overfitting as well\n",
    "        self.backbone.classifier = nn.Sequential(\n",
    "            nn.Dropout(p=0.4, inplace=True),\n",
    "            nn.Linear(in_features, 512),\n",
    "            nn.ReLU(inplace=True),\n",
    "            nn.Dropout(p=0.3, inplace=True),\n",
    "            nn.Linear(512, 256),\n",
    "            nn.ReLU(inplace=True),\n",
    "            nn.Dropout(p=0.2, inplace=True),\n",
    "            nn.Linear(256, num_classes)\n",
    "        )\n",
    "    \n",
    "    def forward(self, x):\n",
    "        return self.backbone(x)\n",
    "    \n",
    "    # Unfreeze backbone for fine-tuning\n",
    "    def unfreeze_backbone(self):\n",
    "        for param in self.backbone.parameters():\n",
    "            param.requires_grad = True"
   ]
  },
  {
   "cell_type": "code",
   "execution_count": 4,
   "id": "651f237f",
   "metadata": {},
   "outputs": [
    {
     "name": "stdout",
     "output_type": "stream",
     "text": [
      "================================================================================\n",
      "Model created: EfficientNet-B0\n",
      "Device: mps\n",
      "Total parameters: 4,796,290\n",
      "Trainable parameters: 788,742\n",
      "================================================================================\n"
     ]
    }
   ],
   "source": [
    "try:\n",
    "    with open(\"config_dynamic.json\") as f:\n",
    "        dynamic_config = json.load(f)\n",
    "except FileNotFoundError:\n",
    "    dynamic_config = {}\n",
    "    \n",
    "NUM_CLASSES = dynamic_config.get(\"NUM_CLASSES\", 0)\n",
    "class_names = dynamic_config.get(\"class_names\", [])\n",
    "\n",
    "# Create model\n",
    "model = SpaceClassifier(NUM_CLASSES, pretrained=True)\n",
    "model = model.to(DEVICE)\n",
    "\n",
    "print(\"=\" * 80)\n",
    "print(f\"Model created: EfficientNet-B0\")\n",
    "print(f\"Device: {DEVICE}\")\n",
    "\n",
    "# Count parameters\n",
    "total_params = sum(p.numel() for p in model.parameters())\n",
    "trainable_params = sum(p.numel() for p in model.parameters() if p.requires_grad)\n",
    "print(f\"Total parameters: {total_params:,}\")\n",
    "print(f\"Trainable parameters: {trainable_params:,}\")\n",
    "\n",
    "print(\"=\" * 80)"
   ]
  },
  {
   "cell_type": "code",
   "execution_count": 6,
   "id": "27350b3f",
   "metadata": {},
   "outputs": [
    {
     "name": "stdout",
     "output_type": "stream",
     "text": [
      "Sequential(\n",
      "  (0): Dropout(p=0.4, inplace=True)\n",
      "  (1): Linear(in_features=1280, out_features=512, bias=True)\n",
      "  (2): ReLU(inplace=True)\n",
      "  (3): Dropout(p=0.3, inplace=True)\n",
      "  (4): Linear(in_features=512, out_features=256, bias=True)\n",
      "  (5): ReLU(inplace=True)\n",
      "  (6): Dropout(p=0.2, inplace=True)\n",
      "  (7): Linear(in_features=256, out_features=6, bias=True)\n",
      ")\n"
     ]
    }
   ],
   "source": [
    "print(model.backbone.classifier)"
   ]
  },
  {
   "cell_type": "markdown",
   "id": "1067d789",
   "metadata": {},
   "source": [
    "# Training utilities"
   ]
  },
  {
   "cell_type": "code",
   "execution_count": null,
   "id": "2789d3ce",
   "metadata": {},
   "outputs": [],
   "source": []
  },
  {
   "cell_type": "code",
   "execution_count": null,
   "id": "8d1a1d3b",
   "metadata": {},
   "outputs": [],
   "source": []
  },
  {
   "cell_type": "code",
   "execution_count": null,
   "id": "4da0ef29",
   "metadata": {},
   "outputs": [],
   "source": []
  },
  {
   "cell_type": "markdown",
   "id": "757d57d7",
   "metadata": {},
   "source": [
    "# End of notebook 3 - Building Deep Learning model"
   ]
  }
 ],
 "metadata": {
  "kernelspec": {
   "display_name": "astro-ml",
   "language": "python",
   "name": "python3"
  },
  "language_info": {
   "codemirror_mode": {
    "name": "ipython",
    "version": 3
   },
   "file_extension": ".py",
   "mimetype": "text/x-python",
   "name": "python",
   "nbconvert_exporter": "python",
   "pygments_lexer": "ipython3",
   "version": "3.10.18"
  }
 },
 "nbformat": 4,
 "nbformat_minor": 5
}
