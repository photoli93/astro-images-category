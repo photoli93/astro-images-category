{
 "cells": [
  {
   "cell_type": "markdown",
   "id": "7036d689",
   "metadata": {},
   "source": [
    "# Space Images Classifier - Using Kaggle dataset\n",
    "\n",
    "https://www.kaggle.com/datasets/abhikalpsrivastava15/space-images-category?utm_source=chatgpt.com\n",
    "\n",
    "### Notebook 4 - Training stage 1 (Frozen backbone)"
   ]
  },
  {
   "cell_type": "markdown",
   "id": "255efa75",
   "metadata": {},
   "source": [
    "# Import librairies"
   ]
  },
  {
   "cell_type": "code",
   "execution_count": 1,
   "id": "937ec054",
   "metadata": {},
   "outputs": [],
   "source": [
    "import numpy as np\n",
    "import pandas as pd\n",
    "\n",
    "import matplotlib.pyplot as plt\n",
    "import seaborn as sns\n",
    "\n",
    "import sys\n",
    "import os\n",
    "import json\n",
    "\n",
    "# Add the root folder to Python's module search path\n",
    "sys.path.append(os.path.abspath(os.path.join(\"..\"))) \n",
    "# Import the project configuration\n",
    "from config import DEVICE, OUTPUT_PATH, BATCH_SIZE, NUM_WORKERS, EPOCHS_STAGE1, LEARNING_RATE_STAGE1\n",
    "from models import SpaceClassifier\n",
    "from train_utils import train_epoch, validate\n",
    "from datasets import SpaceImageDataset, train_transforms, val_test_transforms\n",
    "\n",
    "import shutil\n",
    "from pathlib import Path\n",
    "import cv2\n",
    "from tqdm import tqdm\n",
    "import random\n",
    "\n",
    "import warnings\n",
    "warnings.filterwarnings('ignore')\n",
    "\n",
    "import torch\n",
    "import torch.nn as nn\n",
    "import torch.optim as optim\n",
    "from torch.utils.data import Dataset, DataLoader\n",
    "from torchvision import transforms, models\n",
    "from torch.optim.lr_scheduler import ReduceLROnPlateau\n",
    "import torchvision.transforms.functional as TF\n",
    "\n",
    "from sklearn.model_selection import train_test_split\n",
    "from sklearn.metrics import classification_report, confusion_matrix, accuracy_score\n",
    "from sklearn.utils import class_weight"
   ]
  },
  {
   "cell_type": "markdown",
   "id": "b4f7aebf",
   "metadata": {},
   "source": [
    "# Load callback/config variables"
   ]
  },
  {
   "cell_type": "code",
   "execution_count": 2,
   "id": "5766abd9",
   "metadata": {},
   "outputs": [],
   "source": [
    "ROOT_PATH = Path(\"..\")\n",
    "# Path to load JSON\n",
    "CONFIG_JSON_PATH = ROOT_PATH / \"config_dynamic.json\"\n",
    "\n",
    "try:\n",
    "    with open(CONFIG_JSON_PATH) as f:\n",
    "        dynamic_config = json.load(f)\n",
    "except FileNotFoundError:\n",
    "    dynamic_config = {}\n",
    "    \n",
    "NUM_CLASSES = dynamic_config.get(\"NUM_CLASSES\", 0)\n",
    "class_names = dynamic_config.get(\"class_names\", [])\n",
    "split_success = dynamic_config.get(\"split_success\", 5)\n",
    "\n",
    "# Path to the saved tensor\n",
    "WEIGHTS_PATH = Path(\"models\") / \"class_weights_tensor.pth\"\n",
    "\n",
    "# Load the tensor\n",
    "class_weights_tensor = torch.load(WEIGHTS_PATH, map_location=DEVICE)"
   ]
  },
  {
   "cell_type": "code",
   "execution_count": 3,
   "id": "ec3f6ab2",
   "metadata": {},
   "outputs": [
    {
     "data": {
      "text/plain": [
       "tensor([1.0052, 1.1092, 0.7798, 1.0904, 1.0461, 1.0546], device='mps:0')"
      ]
     },
     "execution_count": 3,
     "metadata": {},
     "output_type": "execute_result"
    }
   ],
   "source": [
    "class_weights_tensor"
   ]
  },
  {
   "cell_type": "markdown",
   "id": "58bc9a1b",
   "metadata": {},
   "source": [
    "# Training stage 1 with frozen backbone"
   ]
  },
  {
   "cell_type": "markdown",
   "id": "fb148444",
   "metadata": {},
   "source": [
    "## Create EfficientNet-B0 model"
   ]
  },
  {
   "cell_type": "code",
   "execution_count": 4,
   "id": "02640134",
   "metadata": {},
   "outputs": [
    {
     "name": "stdout",
     "output_type": "stream",
     "text": [
      "================================================================================\n",
      "Model created: EfficientNet-B0\n",
      "Device: mps\n",
      "Total parameters: 4,796,290\n",
      "Trainable parameters: 788,742\n",
      "================================================================================\n"
     ]
    }
   ],
   "source": [
    "# Create model\n",
    "model = SpaceClassifier(NUM_CLASSES, pretrained=True)\n",
    "model = model.to(DEVICE)\n",
    "\n",
    "print(\"=\" * 80)\n",
    "print(f\"Model created: EfficientNet-B0\")\n",
    "print(f\"Device: {DEVICE}\")\n",
    "\n",
    "# Count parameters\n",
    "total_params = sum(p.numel() for p in model.parameters())\n",
    "trainable_params = sum(p.numel() for p in model.parameters() if p.requires_grad)\n",
    "print(f\"Total parameters: {total_params:,}\")\n",
    "print(f\"Trainable parameters: {trainable_params:,}\")\n",
    "\n",
    "print(\"=\" * 80)"
   ]
  },
  {
   "cell_type": "code",
   "execution_count": 5,
   "id": "651f237f",
   "metadata": {},
   "outputs": [
    {
     "name": "stdout",
     "output_type": "stream",
     "text": [
      "Sequential(\n",
      "  (0): Dropout(p=0.5, inplace=False)\n",
      "  (1): Linear(in_features=1280, out_features=512, bias=True)\n",
      "  (2): ReLU()\n",
      "  (3): Dropout(p=0.4, inplace=False)\n",
      "  (4): Linear(in_features=512, out_features=256, bias=True)\n",
      "  (5): ReLU()\n",
      "  (6): Dropout(p=0.3, inplace=False)\n",
      "  (7): Linear(in_features=256, out_features=6, bias=True)\n",
      ")\n"
     ]
    }
   ],
   "source": [
    "print(model.backbone.classifier)"
   ]
  },
  {
   "cell_type": "markdown",
   "id": "42f8dae4",
   "metadata": {},
   "source": [
    "## Create Dataset"
   ]
  },
  {
   "cell_type": "code",
   "execution_count": 6,
   "id": "50cf59ea",
   "metadata": {},
   "outputs": [
    {
     "name": "stderr",
     "output_type": "stream",
     "text": [
      "libpng warning: iCCP: known incorrect sRGB profile\n",
      "libpng warning: iCCP: known incorrect sRGB profile\n",
      "libpng warning: iCCP: known incorrect sRGB profile\n",
      "libpng warning: iCCP: known incorrect sRGB profile\n",
      "libpng warning: iCCP: known incorrect sRGB profile\n"
     ]
    },
    {
     "name": "stdout",
     "output_type": "stream",
     "text": [
      "Dataset created from ../space_images_split/train\n",
      "   -> 765 valid images\n",
      "7 images skipped (see ../space_images_split/train/skipped_images.txt)\n",
      "Dataset created from ../space_images_split/validation\n",
      "   -> 161 valid images\n",
      "2 images skipped (see ../space_images_split/validation/skipped_images.txt)\n"
     ]
    }
   ],
   "source": [
    "train_dataset = SpaceImageDataset(OUTPUT_PATH / \"train\", transform=train_transforms)\n",
    "val_dataset = SpaceImageDataset(OUTPUT_PATH / \"validation\", transform=val_test_transforms)"
   ]
  },
  {
   "cell_type": "markdown",
   "id": "5a4e3dbd",
   "metadata": {},
   "source": [
    "## Create Data loaders"
   ]
  },
  {
   "cell_type": "code",
   "execution_count": 7,
   "id": "668074ee",
   "metadata": {},
   "outputs": [],
   "source": [
    "train_loader = DataLoader(\n",
    "    train_dataset, \n",
    "    batch_size=BATCH_SIZE,\n",
    "    shuffle=True, \n",
    "    num_workers=NUM_WORKERS,\n",
    "    pin_memory=True if DEVICE.type == 'mps' else False\n",
    ")\n",
    "\n",
    "val_loader = DataLoader(\n",
    "    val_dataset, \n",
    "    batch_size=BATCH_SIZE, \n",
    "    shuffle=False, \n",
    "    num_workers=NUM_WORKERS,\n",
    "    pin_memory=True if DEVICE.type == 'mps' else False\n",
    ")"
   ]
  },
  {
   "cell_type": "markdown",
   "id": "c0963a13",
   "metadata": {},
   "source": [
    "## Training the model - Phase 1"
   ]
  },
  {
   "cell_type": "code",
   "execution_count": null,
   "id": "27350b3f",
   "metadata": {},
   "outputs": [
    {
     "name": "stdout",
     "output_type": "stream",
     "text": [
      "================================================================================\n",
      "Starting Stage 1 Training\n",
      "--------------------------------------------------------------------------------\n",
      "Estimated time on M1: 30-60 minutes\n",
      "\n",
      "================================================================================\n",
      "================================================================================\n",
      "Epoch 1/25\n",
      "------------------------------------------------------------\n"
     ]
    },
    {
     "name": "stderr",
     "output_type": "stream",
     "text": [
      "Training:   0%|          | 0/24 [00:00<?, ?it/s]libpng warning: iCCP: known incorrect sRGB profile\n",
      "Training:  46%|████▌     | 11/24 [00:05<00:03,  3.56it/s, loss=1.6648, acc=29.69%]libpng warning: iCCP: known incorrect sRGB profile\n",
      "libpng warning: iCCP: known incorrect sRGB profile\n",
      "libpng warning: iCCP: known incorrect sRGB profile\n",
      "Training:  88%|████████▊ | 21/24 [00:07<00:00,  4.67it/s, loss=1.4497, acc=34.67%]libpng warning: iCCP: known incorrect sRGB profile\n",
      "Training: 100%|██████████| 24/24 [00:29<00:00,  1.21s/it, loss=1.4653, acc=35.56%]\n",
      "Validation: 100%|██████████| 6/6 [00:24<00:00,  4.01s/it, loss=2.4556, acc=47.83%]\n"
     ]
    },
    {
     "name": "stdout",
     "output_type": "stream",
     "text": [
      "\n",
      "Train Loss: 1.6289 | Train Acc: 35.56%\n",
      "Val Loss:   1.2816 | Val Acc:   47.83%\n",
      "Best model saved! (Val Acc: 47.83%)\n",
      "================================================================================\n",
      "Epoch 2/25\n",
      "------------------------------------------------------------\n"
     ]
    },
    {
     "name": "stderr",
     "output_type": "stream",
     "text": [
      "Training:  12%|█▎        | 3/24 [00:03<00:17,  1.22it/s, loss=1.3054, acc=47.92%]libpng warning: iCCP: known incorrect sRGB profile\n",
      "Training:  29%|██▉       | 7/24 [00:03<00:06,  2.77it/s, loss=1.1496, acc=56.70%]libpng warning: iCCP: known incorrect sRGB profile\n",
      "Training:  33%|███▎      | 8/24 [00:04<00:05,  3.17it/s, loss=1.2244, acc=56.64%]libpng warning: iCCP: known incorrect sRGB profile\n",
      "Training:  46%|████▌     | 11/24 [00:05<00:03,  3.26it/s, loss=1.2818, acc=54.95%]libpng warning: iCCP: known incorrect sRGB profile\n",
      "libpng warning: iCCP: known incorrect sRGB profile\n",
      "Training: 100%|██████████| 24/24 [00:27<00:00,  1.17s/it, loss=0.8312, acc=51.24%]\n",
      "Validation: 100%|██████████| 6/6 [00:23<00:00,  3.90s/it, loss=3.1586, acc=54.04%]\n"
     ]
    },
    {
     "name": "stdout",
     "output_type": "stream",
     "text": [
      "\n",
      "Train Loss: 1.2509 | Train Acc: 51.24%\n",
      "Val Loss:   1.1691 | Val Acc:   54.04%\n",
      "Best model saved! (Val Acc: 54.04%)\n",
      "================================================================================\n",
      "Epoch 3/25\n",
      "------------------------------------------------------------\n"
     ]
    },
    {
     "name": "stderr",
     "output_type": "stream",
     "text": [
      "Training:   0%|          | 0/24 [00:00<?, ?it/s]libpng warning: iCCP: known incorrect sRGB profile\n",
      "Training:  38%|███▊      | 9/24 [00:04<00:04,  3.64it/s, loss=0.8669, acc=54.51%]libpng warning: iCCP: known incorrect sRGB profile\n",
      "libpng warning: iCCP: known incorrect sRGB profile\n",
      "Training:  67%|██████▋   | 16/24 [00:06<00:01,  4.37it/s, loss=1.4065, acc=54.96%]libpng warning: iCCP: known incorrect sRGB profile\n",
      "Training:  83%|████████▎ | 20/24 [00:07<00:00,  4.94it/s, loss=0.9737, acc=56.85%]libpng warning: iCCP: known incorrect sRGB profile\n",
      "Training: 100%|██████████| 24/24 [00:28<00:00,  1.17s/it, loss=1.5532, acc=55.69%]\n",
      "Validation: 100%|██████████| 6/6 [00:23<00:00,  3.89s/it, loss=2.7361, acc=54.66%]\n"
     ]
    },
    {
     "name": "stdout",
     "output_type": "stream",
     "text": [
      "\n",
      "Train Loss: 1.2045 | Train Acc: 55.69%\n",
      "Val Loss:   1.1057 | Val Acc:   54.66%\n",
      "Best model saved! (Val Acc: 54.66%)\n",
      "================================================================================\n",
      "Epoch 4/25\n",
      "------------------------------------------------------------\n"
     ]
    },
    {
     "name": "stderr",
     "output_type": "stream",
     "text": [
      "Training:   0%|          | 0/24 [00:00<?, ?it/s]libpng warning: iCCP: known incorrect sRGB profile\n",
      "Training:   4%|▍         | 1/24 [00:03<01:08,  2.96s/it, loss=0.8505, acc=70.31%]libpng warning: iCCP: known incorrect sRGB profile\n",
      "Training:  12%|█▎        | 3/24 [00:03<00:21,  1.01s/it, loss=1.0567, acc=67.19%]libpng warning: iCCP: known incorrect sRGB profile\n",
      "Training:  21%|██        | 5/24 [00:03<00:11,  1.71it/s, loss=0.9326, acc=66.88%]libpng warning: iCCP: known incorrect sRGB profile\n",
      "Training:  54%|█████▍    | 13/24 [00:05<00:03,  3.45it/s, loss=0.9405, acc=61.83%]libpng warning: iCCP: known incorrect sRGB profile\n",
      "Training: 100%|██████████| 24/24 [00:28<00:00,  1.19s/it, loss=0.9222, acc=58.56%]\n",
      "Validation: 100%|██████████| 6/6 [00:23<00:00,  3.89s/it, loss=2.8848, acc=63.35%]\n"
     ]
    },
    {
     "name": "stdout",
     "output_type": "stream",
     "text": [
      "\n",
      "Train Loss: 1.1029 | Train Acc: 58.56%\n",
      "Val Loss:   1.0657 | Val Acc:   63.35%\n",
      "Best model saved! (Val Acc: 63.35%)\n",
      "================================================================================\n",
      "Epoch 5/25\n",
      "------------------------------------------------------------\n"
     ]
    },
    {
     "name": "stderr",
     "output_type": "stream",
     "text": [
      "Training:   0%|          | 0/24 [00:00<?, ?it/s]libpng warning: iCCP: known incorrect sRGB profile\n",
      "Training:  21%|██        | 5/24 [00:03<00:10,  1.87it/s, loss=1.0010, acc=63.54%]libpng warning: iCCP: known incorrect sRGB profile\n",
      "Training:  46%|████▌     | 11/24 [00:05<00:03,  3.32it/s, loss=1.0586, acc=60.16%]libpng warning: iCCP: known incorrect sRGB profile\n",
      "Training:  62%|██████▎   | 15/24 [00:06<00:02,  3.34it/s, loss=1.0646, acc=59.38%]libpng warning: iCCP: known incorrect sRGB profile\n",
      "Training:  79%|███████▉  | 19/24 [00:07<00:01,  4.12it/s, loss=0.9879, acc=59.21%]libpng warning: iCCP: known incorrect sRGB profile\n",
      "Training: 100%|██████████| 24/24 [00:28<00:00,  1.18s/it, loss=0.8515, acc=60.92%]\n",
      "Validation: 100%|██████████| 6/6 [00:23<00:00,  3.89s/it, loss=2.6332, acc=60.87%]\n"
     ]
    },
    {
     "name": "stdout",
     "output_type": "stream",
     "text": [
      "\n",
      "Train Loss: 1.0172 | Train Acc: 60.92%\n",
      "Val Loss:   1.0463 | Val Acc:   60.87%\n",
      "================================================================================\n",
      "Epoch 6/25\n",
      "------------------------------------------------------------\n"
     ]
    },
    {
     "name": "stderr",
     "output_type": "stream",
     "text": [
      "Training:  33%|███▎      | 8/24 [00:04<00:05,  2.76it/s, loss=0.9398, acc=60.07%]libpng warning: iCCP: known incorrect sRGB profile\n",
      "Training:  42%|████▏     | 10/24 [00:05<00:04,  3.40it/s, loss=0.7862, acc=60.31%]libpng warning: iCCP: known incorrect sRGB profile\n",
      "Training:  58%|█████▊    | 14/24 [00:06<00:03,  3.24it/s, loss=1.0959, acc=60.27%]libpng warning: iCCP: known incorrect sRGB profile\n",
      "Training:  75%|███████▌  | 18/24 [00:06<00:01,  4.83it/s, loss=1.1158, acc=60.42%]libpng warning: iCCP: known incorrect sRGB profile\n",
      "Training:  92%|█████████▏| 22/24 [00:07<00:00,  6.63it/s, loss=0.6952, acc=60.51%]libpng warning: iCCP: known incorrect sRGB profile\n",
      "Training: 100%|██████████| 24/24 [00:27<00:00,  1.15s/it, loss=0.9101, acc=60.78%]\n",
      "Validation: 100%|██████████| 6/6 [00:24<00:00,  4.01s/it, loss=2.7932, acc=60.87%]\n"
     ]
    },
    {
     "name": "stdout",
     "output_type": "stream",
     "text": [
      "\n",
      "Train Loss: 1.0449 | Train Acc: 60.78%\n",
      "Val Loss:   1.0408 | Val Acc:   60.87%\n",
      "================================================================================\n",
      "Epoch 7/25\n",
      "------------------------------------------------------------\n"
     ]
    },
    {
     "name": "stderr",
     "output_type": "stream",
     "text": [
      "Training:   0%|          | 0/24 [00:00<?, ?it/s]libpng warning: iCCP: known incorrect sRGB profile\n",
      "libpng warning: iCCP: known incorrect sRGB profile\n",
      "Training:  38%|███▊      | 9/24 [00:04<00:04,  3.28it/s, loss=1.2662, acc=58.12%]libpng warning: iCCP: known incorrect sRGB profile\n",
      "libpng warning: iCCP: known incorrect sRGB profile\n",
      "Training:  67%|██████▋   | 16/24 [00:06<00:02,  3.75it/s, loss=1.3758, acc=57.42%]libpng warning: iCCP: known incorrect sRGB profile\n",
      "Training: 100%|██████████| 24/24 [00:28<00:00,  1.18s/it, loss=0.9872, acc=60.26%]\n",
      "Validation: 100%|██████████| 6/6 [00:23<00:00,  3.90s/it, loss=3.8262, acc=60.87%]\n"
     ]
    },
    {
     "name": "stdout",
     "output_type": "stream",
     "text": [
      "\n",
      "Train Loss: 0.9992 | Train Acc: 60.26%\n",
      "Val Loss:   1.0595 | Val Acc:   60.87%\n",
      "================================================================================\n",
      "Epoch 8/25\n",
      "------------------------------------------------------------\n"
     ]
    },
    {
     "name": "stderr",
     "output_type": "stream",
     "text": [
      "Training:   0%|          | 0/24 [00:00<?, ?it/s]libpng warning: iCCP: known incorrect sRGB profile\n",
      "Training:  38%|███▊      | 9/24 [00:04<00:04,  3.02it/s, loss=1.0953, acc=61.81%]libpng warning: iCCP: known incorrect sRGB profile\n",
      "libpng warning: iCCP: known incorrect sRGB profile\n",
      "Training:  67%|██████▋   | 16/24 [00:06<00:01,  4.86it/s, loss=1.3496, acc=60.16%]libpng warning: iCCP: known incorrect sRGB profile\n",
      "Training:  71%|███████   | 17/24 [00:06<00:02,  3.31it/s, loss=0.9936, acc=60.29%]libpng warning: iCCP: known incorrect sRGB profile\n",
      "Training: 100%|██████████| 24/24 [00:28<00:00,  1.17s/it, loss=1.0120, acc=60.13%]\n",
      "Validation: 100%|██████████| 6/6 [00:23<00:00,  3.90s/it, loss=2.9080, acc=63.98%]\n"
     ]
    },
    {
     "name": "stdout",
     "output_type": "stream",
     "text": [
      "\n",
      "Train Loss: 1.0369 | Train Acc: 60.13%\n",
      "Val Loss:   1.0156 | Val Acc:   63.98%\n",
      "Best model saved! (Val Acc: 63.98%)\n",
      "================================================================================\n",
      "Epoch 9/25\n",
      "------------------------------------------------------------\n"
     ]
    },
    {
     "name": "stderr",
     "output_type": "stream",
     "text": [
      "Training:   0%|          | 0/24 [00:00<?, ?it/s]libpng warning: iCCP: known incorrect sRGB profile\n",
      "Training:  29%|██▉       | 7/24 [00:05<00:07,  2.32it/s, loss=0.7898, acc=66.41%]libpng warning: iCCP: known incorrect sRGB profile\n",
      "Training:  46%|████▌     | 11/24 [00:05<00:03,  3.71it/s, loss=1.1865, acc=62.76%]libpng warning: iCCP: known incorrect sRGB profile\n",
      "Training:  62%|██████▎   | 15/24 [00:06<00:01,  4.63it/s, loss=0.8666, acc=62.29%]libpng warning: iCCP: known incorrect sRGB profile\n",
      "Training:  62%|██████▎   | 15/24 [00:06<00:01,  4.63it/s, loss=0.9197, acc=61.52%]libpng warning: iCCP: known incorrect sRGB profile\n",
      "Training: 100%|██████████| 24/24 [00:28<00:00,  1.17s/it, loss=0.9623, acc=60.92%]\n",
      "Validation: 100%|██████████| 6/6 [00:23<00:00,  3.98s/it, loss=3.6110, acc=62.11%]\n"
     ]
    },
    {
     "name": "stdout",
     "output_type": "stream",
     "text": [
      "\n",
      "Train Loss: 0.9683 | Train Acc: 60.92%\n",
      "Val Loss:   1.0016 | Val Acc:   62.11%\n",
      "================================================================================\n",
      "Epoch 10/25\n",
      "------------------------------------------------------------\n"
     ]
    },
    {
     "name": "stderr",
     "output_type": "stream",
     "text": [
      "Training:   0%|          | 0/24 [00:00<?, ?it/s]libpng warning: iCCP: known incorrect sRGB profile\n",
      "Training:  12%|█▎        | 3/24 [00:03<00:21,  1.01s/it, loss=1.1307, acc=57.03%]libpng warning: iCCP: known incorrect sRGB profile\n",
      "Training:  38%|███▊      | 9/24 [00:06<00:07,  2.02it/s, loss=0.7947, acc=63.54%]libpng warning: iCCP: known incorrect sRGB profile\n",
      "Training:  46%|████▌     | 11/24 [00:06<00:04,  2.86it/s, loss=1.0525, acc=63.54%]libpng warning: iCCP: known incorrect sRGB profile\n",
      "Training:  62%|██████▎   | 15/24 [00:07<00:02,  3.94it/s, loss=0.9031, acc=63.87%]libpng warning: iCCP: known incorrect sRGB profile\n",
      "Training: 100%|██████████| 24/24 [00:28<00:00,  1.20s/it, loss=1.1488, acc=61.96%]\n",
      "Validation: 100%|██████████| 6/6 [00:23<00:00,  3.91s/it, loss=3.2989, acc=63.35%]\n"
     ]
    },
    {
     "name": "stdout",
     "output_type": "stream",
     "text": [
      "\n",
      "Train Loss: 0.9988 | Train Acc: 61.96%\n",
      "Val Loss:   0.9971 | Val Acc:   63.35%\n",
      "================================================================================\n",
      "Epoch 11/25\n",
      "------------------------------------------------------------\n"
     ]
    },
    {
     "name": "stderr",
     "output_type": "stream",
     "text": [
      "Training:  21%|██        | 5/24 [00:03<00:10,  1.85it/s, loss=1.2004, acc=67.50%]libpng warning: iCCP: known incorrect sRGB profile\n",
      "Training:  38%|███▊      | 9/24 [00:05<00:05,  2.77it/s, loss=0.7372, acc=66.56%]libpng warning: iCCP: known incorrect sRGB profile\n",
      "Training:  46%|████▌     | 11/24 [00:06<00:05,  2.43it/s, loss=1.0773, acc=66.76%]libpng warning: iCCP: known incorrect sRGB profile\n",
      "Training:  54%|█████▍    | 13/24 [00:06<00:03,  3.42it/s, loss=0.7578, acc=66.29%]libpng warning: iCCP: known incorrect sRGB profile\n",
      "Training:  88%|████████▊ | 21/24 [00:07<00:00,  5.48it/s, loss=1.0243, acc=64.20%]libpng warning: iCCP: known incorrect sRGB profile\n",
      "Training: 100%|██████████| 24/24 [00:28<00:00,  1.19s/it, loss=0.9439, acc=63.01%]\n",
      "Validation: 100%|██████████| 6/6 [00:23<00:00,  3.89s/it, loss=2.9579, acc=57.14%]\n"
     ]
    },
    {
     "name": "stdout",
     "output_type": "stream",
     "text": [
      "\n",
      "Train Loss: 0.9957 | Train Acc: 63.01%\n",
      "Val Loss:   1.0452 | Val Acc:   57.14%\n",
      "================================================================================\n",
      "Epoch 12/25\n",
      "------------------------------------------------------------\n"
     ]
    },
    {
     "name": "stderr",
     "output_type": "stream",
     "text": [
      "Training:   0%|          | 0/24 [00:00<?, ?it/s]libpng warning: iCCP: known incorrect sRGB profile\n",
      "libpng warning: iCCP: known incorrect sRGB profile\n",
      "libpng warning: iCCP: known incorrect sRGB profile\n",
      "Training:  54%|█████▍    | 13/24 [00:05<00:03,  3.58it/s, loss=1.1346, acc=59.38%]libpng warning: iCCP: known incorrect sRGB profile\n",
      "Training:  62%|██████▎   | 15/24 [00:06<00:02,  4.12it/s, loss=1.0921, acc=60.35%]libpng warning: iCCP: known incorrect sRGB profile\n",
      "Training: 100%|██████████| 24/24 [00:27<00:00,  1.15s/it, loss=1.0456, acc=62.88%]\n",
      "Validation: 100%|██████████| 6/6 [00:23<00:00,  3.97s/it, loss=2.6211, acc=62.73%]\n"
     ]
    },
    {
     "name": "stdout",
     "output_type": "stream",
     "text": [
      "\n",
      "Train Loss: 0.9597 | Train Acc: 62.88%\n",
      "Val Loss:   1.0086 | Val Acc:   62.73%\n",
      "================================================================================\n",
      "Epoch 13/25\n",
      "------------------------------------------------------------\n"
     ]
    },
    {
     "name": "stderr",
     "output_type": "stream",
     "text": [
      "Training:   0%|          | 0/24 [00:00<?, ?it/s]libpng warning: iCCP: known incorrect sRGB profile\n",
      "Training:  21%|██        | 5/24 [00:03<00:10,  1.80it/s, loss=1.1871, acc=61.88%]libpng warning: iCCP: known incorrect sRGB profile\n",
      "Training:  42%|████▏     | 10/24 [00:05<00:04,  3.11it/s, loss=0.8621, acc=63.75%]libpng warning: iCCP: known incorrect sRGB profile\n",
      "Training:  67%|██████▋   | 16/24 [00:06<00:01,  4.30it/s, loss=0.6680, acc=65.62%]libpng warning: iCCP: known incorrect sRGB profile\n",
      "Training:  83%|████████▎ | 20/24 [00:07<00:00,  4.89it/s, loss=0.7675, acc=65.94%]libpng warning: iCCP: known incorrect sRGB profile\n",
      "Training: 100%|██████████| 24/24 [00:27<00:00,  1.17s/it, loss=1.1007, acc=65.75%]\n",
      "Validation: 100%|██████████| 6/6 [00:23<00:00,  3.94s/it, loss=3.2140, acc=66.46%]\n"
     ]
    },
    {
     "name": "stdout",
     "output_type": "stream",
     "text": [
      "\n",
      "Train Loss: 0.9382 | Train Acc: 65.75%\n",
      "Val Loss:   1.0056 | Val Acc:   66.46%\n",
      "Best model saved! (Val Acc: 66.46%)\n",
      "================================================================================\n",
      "Epoch 14/25\n",
      "------------------------------------------------------------\n"
     ]
    },
    {
     "name": "stderr",
     "output_type": "stream",
     "text": [
      "Training:  21%|██        | 5/24 [00:03<00:09,  2.07it/s, loss=0.8546, acc=69.38%]libpng warning: iCCP: known incorrect sRGB profile\n",
      "Training:  42%|████▏     | 10/24 [00:04<00:03,  3.77it/s, loss=1.0136, acc=62.50%]libpng warning: iCCP: known incorrect sRGB profile\n",
      "libpng warning: iCCP: known incorrect sRGB profile\n",
      "libpng warning: iCCP: known incorrect sRGB profile\n",
      "Training:  50%|█████     | 12/24 [00:05<00:03,  3.19it/s, loss=0.8561, acc=62.24%]libpng warning: iCCP: known incorrect sRGB profile\n",
      "Training: 100%|██████████| 24/24 [00:27<00:00,  1.15s/it, loss=0.9024, acc=64.05%]\n",
      "Validation: 100%|██████████| 6/6 [00:23<00:00,  3.89s/it, loss=2.7715, acc=63.35%]\n"
     ]
    },
    {
     "name": "stdout",
     "output_type": "stream",
     "text": [
      "\n",
      "Train Loss: 0.9128 | Train Acc: 64.05%\n",
      "Val Loss:   1.0336 | Val Acc:   63.35%\n",
      "================================================================================\n",
      "Epoch 15/25\n",
      "------------------------------------------------------------\n"
     ]
    },
    {
     "name": "stderr",
     "output_type": "stream",
     "text": [
      "Training:   0%|          | 0/24 [00:00<?, ?it/s]libpng warning: iCCP: known incorrect sRGB profile\n",
      "Training:  33%|███▎      | 8/24 [00:04<00:04,  3.65it/s, loss=0.9363, acc=62.89%]libpng warning: iCCP: known incorrect sRGB profile\n",
      "Training:  50%|█████     | 12/24 [00:05<00:03,  3.79it/s, loss=1.0588, acc=65.62%]libpng warning: iCCP: known incorrect sRGB profile\n",
      "libpng warning: iCCP: known incorrect sRGB profile\n",
      "Training:  79%|███████▉  | 19/24 [00:07<00:01,  3.69it/s, loss=0.6944, acc=66.94%]libpng warning: iCCP: known incorrect sRGB profile\n",
      "Training: 100%|██████████| 24/24 [00:28<00:00,  1.19s/it, loss=0.7568, acc=66.27%]\n",
      "Validation: 100%|██████████| 6/6 [00:23<00:00,  3.96s/it, loss=3.4995, acc=62.73%]\n"
     ]
    },
    {
     "name": "stdout",
     "output_type": "stream",
     "text": [
      "\n",
      "Train Loss: 0.9022 | Train Acc: 66.27%\n",
      "Val Loss:   0.9846 | Val Acc:   62.73%\n",
      "================================================================================\n",
      "Epoch 16/25\n",
      "------------------------------------------------------------\n"
     ]
    },
    {
     "name": "stderr",
     "output_type": "stream",
     "text": [
      "Training:   0%|          | 0/24 [00:00<?, ?it/s]libpng warning: iCCP: known incorrect sRGB profile\n",
      "Training:  42%|████▏     | 10/24 [00:04<00:03,  3.57it/s, loss=0.9788, acc=66.25%]libpng warning: iCCP: known incorrect sRGB profile\n",
      "Training:  42%|████▏     | 10/24 [00:04<00:03,  3.57it/s, loss=0.9601, acc=65.62%]libpng warning: iCCP: known incorrect sRGB profile\n",
      "Training:  58%|█████▊    | 14/24 [00:05<00:02,  4.05it/s, loss=0.7124, acc=66.04%]libpng warning: iCCP: known incorrect sRGB profile\n",
      "Training:  79%|███████▉  | 19/24 [00:06<00:00,  5.42it/s, loss=0.8460, acc=65.79%]libpng warning: iCCP: known incorrect sRGB profile\n",
      "Training: 100%|██████████| 24/24 [00:27<00:00,  1.15s/it, loss=1.0082, acc=65.23%]\n",
      "Validation: 100%|██████████| 6/6 [00:23<00:00,  3.96s/it, loss=3.1776, acc=65.84%]\n"
     ]
    },
    {
     "name": "stdout",
     "output_type": "stream",
     "text": [
      "\n",
      "Train Loss: 0.9268 | Train Acc: 65.23%\n",
      "Val Loss:   0.9971 | Val Acc:   65.84%\n",
      "================================================================================\n",
      "Epoch 17/25\n",
      "------------------------------------------------------------\n"
     ]
    },
    {
     "name": "stderr",
     "output_type": "stream",
     "text": [
      "Training:  21%|██        | 5/24 [00:04<00:11,  1.60it/s, loss=0.8558, acc=71.35%]libpng warning: iCCP: known incorrect sRGB profile\n",
      "Training:  29%|██▉       | 7/24 [00:04<00:06,  2.55it/s, loss=0.9026, acc=71.09%]libpng warning: iCCP: known incorrect sRGB profile\n",
      "Training:  46%|████▌     | 11/24 [00:05<00:03,  4.00it/s, loss=1.0135, acc=66.93%]libpng warning: iCCP: known incorrect sRGB profile\n",
      "libpng warning: iCCP: known incorrect sRGB profile\n",
      "Training:  54%|█████▍    | 13/24 [00:05<00:02,  4.16it/s, loss=0.7687, acc=68.30%]libpng warning: iCCP: known incorrect sRGB profile\n",
      "Training: 100%|██████████| 24/24 [00:28<00:00,  1.17s/it, loss=0.7814, acc=66.01%]\n",
      "Validation: 100%|██████████| 6/6 [00:23<00:00,  3.89s/it, loss=3.1234, acc=62.11%]\n"
     ]
    },
    {
     "name": "stdout",
     "output_type": "stream",
     "text": [
      "\n",
      "Train Loss: 0.8767 | Train Acc: 66.01%\n",
      "Val Loss:   1.0042 | Val Acc:   62.11%\n",
      "================================================================================\n",
      "Epoch 18/25\n",
      "------------------------------------------------------------\n"
     ]
    },
    {
     "name": "stderr",
     "output_type": "stream",
     "text": [
      "Training:  12%|█▎        | 3/24 [00:03<00:20,  1.03it/s, loss=0.9534, acc=55.47%]libpng warning: iCCP: known incorrect sRGB profile\n",
      "Training:  38%|███▊      | 9/24 [00:05<00:05,  2.67it/s, loss=0.7237, acc=63.54%]libpng warning: iCCP: known incorrect sRGB profile\n",
      "Training:  67%|██████▋   | 16/24 [00:06<00:01,  4.89it/s, loss=1.0363, acc=63.48%]libpng warning: iCCP: known incorrect sRGB profile\n",
      "libpng warning: iCCP: known incorrect sRGB profile\n",
      "libpng warning: iCCP: known incorrect sRGB profile\n",
      "Training: 100%|██████████| 24/24 [00:27<00:00,  1.15s/it, loss=0.6975, acc=64.44%]\n",
      "Validation: 100%|██████████| 6/6 [00:23<00:00,  3.94s/it, loss=3.6010, acc=65.84%]\n"
     ]
    },
    {
     "name": "stdout",
     "output_type": "stream",
     "text": [
      "\n",
      "Train Loss: 0.8953 | Train Acc: 64.44%\n",
      "Val Loss:   0.9645 | Val Acc:   65.84%\n",
      "================================================================================\n",
      "Epoch 19/25\n",
      "------------------------------------------------------------\n"
     ]
    },
    {
     "name": "stderr",
     "output_type": "stream",
     "text": [
      "Training:   0%|          | 0/24 [00:00<?, ?it/s]libpng warning: iCCP: known incorrect sRGB profile\n",
      "libpng warning: iCCP: known incorrect sRGB profile\n",
      "libpng warning: iCCP: known incorrect sRGB profile\n",
      "Training:   8%|▊         | 2/24 [00:04<00:39,  1.79s/it, loss=0.8572, acc=64.58%]libpng warning: iCCP: known incorrect sRGB profile\n",
      "Training:  46%|████▌     | 11/24 [00:05<00:03,  4.22it/s, loss=0.9109, acc=61.98%]libpng warning: iCCP: known incorrect sRGB profile\n",
      "Training: 100%|██████████| 24/24 [00:28<00:00,  1.19s/it, loss=0.9465, acc=66.93%]\n",
      "Validation: 100%|██████████| 6/6 [00:23<00:00,  3.91s/it, loss=3.4140, acc=63.35%]\n"
     ]
    },
    {
     "name": "stdout",
     "output_type": "stream",
     "text": [
      "\n",
      "Train Loss: 0.8487 | Train Acc: 66.93%\n",
      "Val Loss:   0.9851 | Val Acc:   63.35%\n",
      "================================================================================\n",
      "Epoch 20/25\n",
      "------------------------------------------------------------\n"
     ]
    },
    {
     "name": "stderr",
     "output_type": "stream",
     "text": [
      "Training:   0%|          | 0/24 [00:00<?, ?it/s]libpng warning: iCCP: known incorrect sRGB profile\n",
      "libpng warning: iCCP: known incorrect sRGB profile\n",
      "Training:  12%|█▎        | 3/24 [00:03<00:18,  1.14it/s, loss=0.8604, acc=69.79%]libpng warning: iCCP: known incorrect sRGB profile\n",
      "Training:  12%|█▎        | 3/24 [00:03<00:18,  1.14it/s, loss=0.6411, acc=72.66%]libpng warning: iCCP: known incorrect sRGB profile\n",
      "Training:  33%|███▎      | 8/24 [00:04<00:04,  3.27it/s, loss=0.6160, acc=70.70%]libpng warning: iCCP: known incorrect sRGB profile\n",
      "Training: 100%|██████████| 24/24 [00:27<00:00,  1.16s/it, loss=0.7136, acc=68.89%]\n",
      "Validation: 100%|██████████| 6/6 [00:23<00:00,  3.88s/it, loss=3.8031, acc=63.35%]\n"
     ]
    },
    {
     "name": "stdout",
     "output_type": "stream",
     "text": [
      "\n",
      "Train Loss: 0.8131 | Train Acc: 68.89%\n",
      "Val Loss:   0.9724 | Val Acc:   63.35%\n",
      "================================================================================\n",
      "Epoch 21/25\n",
      "------------------------------------------------------------\n"
     ]
    },
    {
     "name": "stderr",
     "output_type": "stream",
     "text": [
      "Training:  12%|█▎        | 3/24 [00:03<00:19,  1.07it/s, loss=0.8168, acc=72.66%]libpng warning: iCCP: known incorrect sRGB profile\n",
      "Training:  21%|██        | 5/24 [00:04<00:11,  1.65it/s, loss=0.8729, acc=73.44%]libpng warning: iCCP: known incorrect sRGB profile\n",
      "Training:  42%|████▏     | 10/24 [00:05<00:05,  2.79it/s, loss=0.8413, acc=70.31%]libpng warning: iCCP: known incorrect sRGB profile\n",
      "Training:  46%|████▌     | 11/24 [00:05<00:04,  2.74it/s, loss=1.0821, acc=68.75%]libpng warning: iCCP: known incorrect sRGB profile\n",
      "Training:  54%|█████▍    | 13/24 [00:06<00:03,  3.37it/s, loss=0.6245, acc=70.31%]libpng warning: iCCP: known incorrect sRGB profile\n",
      "Training: 100%|██████████| 24/24 [00:28<00:00,  1.19s/it, loss=0.8324, acc=68.10%]\n",
      "Validation: 100%|██████████| 6/6 [00:23<00:00,  3.99s/it, loss=3.3189, acc=63.35%]\n"
     ]
    },
    {
     "name": "stdout",
     "output_type": "stream",
     "text": [
      "\n",
      "Train Loss: 0.8261 | Train Acc: 68.10%\n",
      "Val Loss:   0.9978 | Val Acc:   63.35%\n",
      "================================================================================\n",
      "Epoch 22/25\n",
      "------------------------------------------------------------\n"
     ]
    },
    {
     "name": "stderr",
     "output_type": "stream",
     "text": [
      "Training:   0%|          | 0/24 [00:00<?, ?it/s]libpng warning: iCCP: known incorrect sRGB profile\n",
      "libpng warning: iCCP: known incorrect sRGB profile\n",
      "Training:  29%|██▉       | 7/24 [00:04<00:06,  2.48it/s, loss=0.6654, acc=69.20%]libpng warning: iCCP: known incorrect sRGB profile\n",
      "Training:  79%|███████▉  | 19/24 [00:08<00:01,  3.75it/s, loss=0.6928, acc=67.34%]libpng warning: iCCP: known incorrect sRGB profile\n",
      "libpng warning: iCCP: known incorrect sRGB profile\n",
      "Training: 100%|██████████| 24/24 [00:29<00:00,  1.23s/it, loss=1.0563, acc=67.45%]\n",
      "Validation: 100%|██████████| 6/6 [00:23<00:00,  3.95s/it, loss=3.3645, acc=63.98%]\n"
     ]
    },
    {
     "name": "stdout",
     "output_type": "stream",
     "text": [
      "\n",
      "Train Loss: 0.8774 | Train Acc: 67.45%\n",
      "Val Loss:   0.9644 | Val Acc:   63.98%\n",
      "================================================================================\n",
      "Epoch 23/25\n",
      "------------------------------------------------------------\n"
     ]
    },
    {
     "name": "stderr",
     "output_type": "stream",
     "text": [
      "Training:   0%|          | 0/24 [00:00<?, ?it/s]libpng warning: iCCP: known incorrect sRGB profile\n",
      "Training:  12%|█▎        | 3/24 [00:03<00:20,  1.01it/s, loss=0.7613, acc=60.94%]libpng warning: iCCP: known incorrect sRGB profile\n",
      "Training:  21%|██        | 5/24 [00:03<00:09,  1.92it/s, loss=0.7139, acc=62.50%]libpng warning: iCCP: known incorrect sRGB profile\n",
      "Training:  54%|█████▍    | 13/24 [00:05<00:03,  3.64it/s, loss=1.0572, acc=64.96%]libpng warning: iCCP: known incorrect sRGB profile\n",
      "Training:  71%|███████   | 17/24 [00:06<00:01,  3.78it/s, loss=0.6546, acc=65.62%]"
     ]
    }
   ],
   "source": [
    "if split_success:\n",
    "    # Loss and optimizer\n",
    "    criterion = nn.CrossEntropyLoss(weight=class_weights_tensor)\n",
    "    optimizer = optim.Adam(model.parameters(), lr=LEARNING_RATE_STAGE1)\n",
    "    # Automatically reduces the learning rate by 50% if validation loss stops improving for 3 epochs (for small datasets)\n",
    "    scheduler = ReduceLROnPlateau(optimizer, mode='min', factor=0.5, patience=3, verbose=True)\n",
    "\n",
    "    print(\"=\" * 80)\n",
    "    print(f\"Starting Stage 1 Training\")\n",
    "    print(\"-\" * 80)\n",
    "    print(f\"Estimated time on M1: 30-60 minutes\\n\")\n",
    "    print(\"=\" * 80)\n",
    "    \n",
    "    history_stage1 = {\n",
    "        'train_loss': [], 'train_acc': [],\n",
    "        'val_loss': [], 'val_acc': []\n",
    "    }\n",
    "    \n",
    "    best_val_acc = 0.0\n",
    "    patience_counter = 0\n",
    "    PATIENCE = 10\n",
    "    \n",
    "    for epoch in range(EPOCHS_STAGE1):\n",
    "        print(\"=\" * 80)\n",
    "        print(f\"Epoch {epoch+1}/{EPOCHS_STAGE1}\")\n",
    "        print(\"-\" * 60)\n",
    "        \n",
    "        # Train\n",
    "        train_loss, train_acc = train_epoch(model, train_loader, criterion, optimizer, DEVICE)\n",
    "        \n",
    "        # Validate\n",
    "        val_loss, val_acc, _, _ = validate(model, val_loader, criterion, DEVICE)\n",
    "        \n",
    "        # Scheduler step\n",
    "        scheduler.step(val_loss)\n",
    "        \n",
    "        # Save history\n",
    "        history_stage1['train_loss'].append(train_loss)\n",
    "        history_stage1['train_acc'].append(train_acc)\n",
    "        history_stage1['val_loss'].append(val_loss)\n",
    "        history_stage1['val_acc'].append(val_acc)\n",
    "        \n",
    "        print(f\"\\nTrain Loss: {train_loss:.4f} | Train Acc: {train_acc*100:.2f}%\")\n",
    "        print(f\"Val Loss:   {val_loss:.4f} | Val Acc:   {val_acc*100:.2f}%\")\n",
    "        \n",
    "        # Save best model\n",
    "        if val_acc > best_val_acc:\n",
    "            best_val_acc = val_acc\n",
    "            torch.save(model.state_dict(), 'models/stage1_best.pth')\n",
    "            print(f\"Best model saved! (Val Acc: {val_acc*100:.2f}%)\")\n",
    "            # Save stage 1 logs to the disk\n",
    "            torch.save(history_stage1, 'models/history_stage1_del_img.pt')\n",
    "            patience_counter = 0\n",
    "        else:\n",
    "            patience_counter += 1\n",
    "        \n",
    "        # Early stopping\n",
    "        if patience_counter >= PATIENCE:\n",
    "            print(f\"\\nEarly stopping triggered (patience={PATIENCE})\")\n",
    "            break\n",
    "\n",
    "    print(\"\\nStage 1 training complete!\")\n",
    "\n",
    "else:\n",
    "    history_stage1 = None\n",
    "\n",
    "print(\"=\" * 80)"
   ]
  },
  {
   "cell_type": "markdown",
   "id": "619f40b3",
   "metadata": {},
   "source": [
    "# Comparison between skipping images or deleting images methods"
   ]
  },
  {
   "cell_type": "code",
   "execution_count": null,
   "id": "2fe696cd",
   "metadata": {},
   "outputs": [],
   "source": [
    "import torch\n",
    "import matplotlib.pyplot as plt\n",
    "\n",
    "# Load both histories\n",
    "history_skp = torch.load(\"models/history_stage1_skp_img.pt\")\n",
    "history_del = torch.load(\"models/history_stage1_del_img.pt\")\n",
    "\n",
    "# Ensure they have the same keys\n",
    "print(\"Keys in history:\", history_skp.keys())\n",
    "\n",
    "# Quick numeric comparison\n",
    "for key in history_skp.keys():\n",
    "    skp_vals = history_skp[key]\n",
    "    del_vals = history_del[key]\n",
    "    \n",
    "    print(f\"\\n=== {key.upper()} ===\")\n",
    "    print(f\"Last (skp): {skp_vals[-1]:.4f}\")\n",
    "    print(f\"Last (del): {del_vals[-1]:.4f}\")\n",
    "    print(f\"Best (skp): {max(skp_vals) if 'acc' in key else min(skp_vals):.4f}\")\n",
    "    print(f\"Best (del): {max(del_vals) if 'acc' in key else min(del_vals):.4f}\")\n"
   ]
  },
  {
   "cell_type": "code",
   "execution_count": null,
   "id": "52d32eaa",
   "metadata": {},
   "outputs": [],
   "source": [
    "epochs_skp = range(1, len(history_skp['train_loss']) + 1)\n",
    "epochs_del = range(1, len(history_del['train_loss']) + 1)\n",
    "\n",
    "plt.figure(figsize=(12, 6))\n",
    "\n",
    "# --- Training Loss ---\n",
    "plt.subplot(1, 2, 1)\n",
    "plt.plot(epochs_skp, history_skp['train_loss'], 'b-', label='SKP Train Loss')\n",
    "plt.plot(epochs_skp, history_skp['val_loss'], 'b--', label='SKP Val Loss')\n",
    "plt.plot(epochs_del, history_del['train_loss'], 'r-', label='DEL Train Loss')\n",
    "plt.plot(epochs_del, history_del['val_loss'], 'r--', label='DEL Val Loss')\n",
    "plt.title(\"Loss Comparison\")\n",
    "plt.xlabel(\"Epoch\")\n",
    "plt.ylabel(\"Loss\")\n",
    "plt.legend()\n",
    "plt.grid(True)\n",
    "\n",
    "# --- Accuracy ---\n",
    "plt.subplot(1, 2, 2)\n",
    "plt.plot(epochs_skp, history_skp['train_acc'], 'b-', label='SKP Train Acc')\n",
    "plt.plot(epochs_skp, history_skp['val_acc'], 'b--', label='SKP Val Acc')\n",
    "plt.plot(epochs_del, history_del['train_acc'], 'r-', label='DEL Train Acc')\n",
    "plt.plot(epochs_del, history_del['val_acc'], 'r--', label='DEL Val Acc')\n",
    "plt.title(\"Accuracy Comparison\")\n",
    "plt.xlabel(\"Epoch\")\n",
    "plt.ylabel(\"Accuracy\")\n",
    "plt.legend()\n",
    "plt.grid(True)\n",
    "\n",
    "plt.tight_layout()\n",
    "plt.show()\n"
   ]
  },
  {
   "cell_type": "markdown",
   "id": "086b3989",
   "metadata": {},
   "source": [
    "- Left plot : DEL method has a more stable val loss curve, slightly lower overall > good sign of better generalization\n",
    "\n",
    "- For training accuracy, both methods reach ~70–73%, with DEL slightly ahead at some points and same for the validation accuracy, DEL consistently stays above SKP for most epochs. Moreover, SKP method seems to plateau around 55–60%, while DEL reaches ~61–63%. Overall the DEL method tends to be more stable (right plot) suggesting better generalization\n",
    "\n",
    "- DEL seems to be a better method with :\n",
    "    1. Slightly lower train/val loss.\n",
    "    2. Higher and more stable validation accuracy.\n",
    "    3. Less overfitting behavior."
   ]
  },
  {
   "cell_type": "markdown",
   "id": "757d57d7",
   "metadata": {},
   "source": [
    "# End of notebook 4 - Training stage 1"
   ]
  }
 ],
 "metadata": {
  "kernelspec": {
   "display_name": "astro-ml",
   "language": "python",
   "name": "python3"
  },
  "language_info": {
   "codemirror_mode": {
    "name": "ipython",
    "version": 3
   },
   "file_extension": ".py",
   "mimetype": "text/x-python",
   "name": "python",
   "nbconvert_exporter": "python",
   "pygments_lexer": "ipython3",
   "version": "3.10.18"
  }
 },
 "nbformat": 4,
 "nbformat_minor": 5
}
