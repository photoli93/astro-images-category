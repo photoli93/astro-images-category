{
 "cells": [
  {
   "cell_type": "markdown",
   "id": "7036d689",
   "metadata": {},
   "source": [
    "# Space Images Classifier - Using Kaggle dataset\n",
    "\n",
    "https://www.kaggle.com/datasets/abhikalpsrivastava15/space-images-category?utm_source=chatgpt.com\n",
    "\n",
    "### Notebook 4 - Training stage 1 (Frozen backbone)"
   ]
  },
  {
   "cell_type": "markdown",
   "id": "255efa75",
   "metadata": {},
   "source": [
    "# Import librairies"
   ]
  },
  {
   "cell_type": "code",
   "execution_count": 1,
   "id": "937ec054",
   "metadata": {},
   "outputs": [],
   "source": [
    "import numpy as np\n",
    "import pandas as pd\n",
    "\n",
    "import matplotlib.pyplot as plt\n",
    "import seaborn as sns\n",
    "\n",
    "import sys\n",
    "import os\n",
    "import json\n",
    "\n",
    "# Add the root folder to Python's module search path\n",
    "sys.path.append(os.path.abspath(os.path.join(\"..\"))) \n",
    "# Import the project configuration\n",
    "from config import DEVICE, OUTPUT_PATH, BATCH_SIZE, NUM_WORKERS, EPOCHS_STAGE1, LEARNING_RATE_STAGE1\n",
    "from models import SpaceClassifier\n",
    "from train_utils import train_epoch, validate\n",
    "from datasets import SpaceImageDataset, train_transforms, val_test_transforms\n",
    "\n",
    "import shutil\n",
    "from pathlib import Path\n",
    "import cv2\n",
    "from tqdm import tqdm\n",
    "import random\n",
    "\n",
    "import warnings\n",
    "warnings.filterwarnings('ignore')\n",
    "\n",
    "import torch\n",
    "import torch.nn as nn\n",
    "import torch.optim as optim\n",
    "from torch.utils.data import Dataset, DataLoader\n",
    "from torchvision import transforms, models\n",
    "from torch.optim.lr_scheduler import ReduceLROnPlateau\n",
    "import torchvision.transforms.functional as TF\n",
    "\n",
    "from sklearn.model_selection import train_test_split\n",
    "from sklearn.metrics import classification_report, confusion_matrix, accuracy_score\n",
    "from sklearn.utils import class_weight"
   ]
  },
  {
   "cell_type": "markdown",
   "id": "b4f7aebf",
   "metadata": {},
   "source": [
    "# Load callback/config variables"
   ]
  },
  {
   "cell_type": "code",
   "execution_count": 2,
   "id": "5766abd9",
   "metadata": {},
   "outputs": [],
   "source": [
    "ROOT_PATH = Path(\"..\")\n",
    "# Path to load JSON\n",
    "CONFIG_JSON_PATH = ROOT_PATH / \"config_dynamic.json\"\n",
    "\n",
    "try:\n",
    "    with open(CONFIG_JSON_PATH) as f:\n",
    "        dynamic_config = json.load(f)\n",
    "except FileNotFoundError:\n",
    "    dynamic_config = {}\n",
    "    \n",
    "NUM_CLASSES = dynamic_config.get(\"NUM_CLASSES\", 0)\n",
    "class_names = dynamic_config.get(\"class_names\", [])\n",
    "split_success = dynamic_config.get(\"split_success\", 5)\n",
    "\n",
    "# Path to the saved tensor\n",
    "WEIGHTS_PATH = Path(\"models\") / \"class_weights_tensor.pth\"\n",
    "\n",
    "# Load the tensor\n",
    "class_weights_tensor = torch.load(WEIGHTS_PATH, map_location=DEVICE)"
   ]
  },
  {
   "cell_type": "code",
   "execution_count": 3,
   "id": "ec3f6ab2",
   "metadata": {},
   "outputs": [
    {
     "data": {
      "text/plain": [
       "tensor([1.0052, 1.1092, 0.7798, 1.0904, 1.0461, 1.0546], device='mps:0')"
      ]
     },
     "execution_count": 3,
     "metadata": {},
     "output_type": "execute_result"
    }
   ],
   "source": [
    "class_weights_tensor"
   ]
  },
  {
   "cell_type": "markdown",
   "id": "58bc9a1b",
   "metadata": {},
   "source": [
    "# Training stage 1 with frozen backbone"
   ]
  },
  {
   "cell_type": "markdown",
   "id": "fb148444",
   "metadata": {},
   "source": [
    "## Create EfficientNet-B0 model"
   ]
  },
  {
   "cell_type": "code",
   "execution_count": 4,
   "id": "02640134",
   "metadata": {},
   "outputs": [
    {
     "name": "stdout",
     "output_type": "stream",
     "text": [
      "================================================================================\n",
      "Model created: EfficientNet-B0\n",
      "Device: mps\n",
      "Total parameters: 4,796,290\n",
      "Trainable parameters: 788,742\n",
      "================================================================================\n"
     ]
    }
   ],
   "source": [
    "# Create model\n",
    "model = SpaceClassifier(NUM_CLASSES, pretrained=True)\n",
    "model = model.to(DEVICE)\n",
    "\n",
    "print(\"=\" * 80)\n",
    "print(f\"Model created: EfficientNet-B0\")\n",
    "print(f\"Device: {DEVICE}\")\n",
    "\n",
    "# Count parameters\n",
    "total_params = sum(p.numel() for p in model.parameters())\n",
    "trainable_params = sum(p.numel() for p in model.parameters() if p.requires_grad)\n",
    "print(f\"Total parameters: {total_params:,}\")\n",
    "print(f\"Trainable parameters: {trainable_params:,}\")\n",
    "\n",
    "print(\"=\" * 80)"
   ]
  },
  {
   "cell_type": "code",
   "execution_count": 5,
   "id": "651f237f",
   "metadata": {},
   "outputs": [
    {
     "name": "stdout",
     "output_type": "stream",
     "text": [
      "Sequential(\n",
      "  (0): Dropout(p=0.4, inplace=False)\n",
      "  (1): Linear(in_features=1280, out_features=512, bias=True)\n",
      "  (2): ReLU()\n",
      "  (3): Dropout(p=0.3, inplace=False)\n",
      "  (4): Linear(in_features=512, out_features=256, bias=True)\n",
      "  (5): ReLU()\n",
      "  (6): Dropout(p=0.2, inplace=False)\n",
      "  (7): Linear(in_features=256, out_features=6, bias=True)\n",
      ")\n"
     ]
    }
   ],
   "source": [
    "print(model.backbone.classifier)"
   ]
  },
  {
   "cell_type": "markdown",
   "id": "42f8dae4",
   "metadata": {},
   "source": [
    "## Create Dataset"
   ]
  },
  {
   "cell_type": "code",
   "execution_count": 6,
   "id": "50cf59ea",
   "metadata": {},
   "outputs": [
    {
     "name": "stderr",
     "output_type": "stream",
     "text": [
      "libpng warning: iCCP: known incorrect sRGB profile\n",
      "libpng warning: iCCP: known incorrect sRGB profile\n",
      "libpng warning: iCCP: known incorrect sRGB profile\n",
      "libpng warning: iCCP: known incorrect sRGB profile\n",
      "libpng warning: iCCP: known incorrect sRGB profile\n"
     ]
    },
    {
     "name": "stdout",
     "output_type": "stream",
     "text": [
      "Dataset created from ../space_images_split/train\n",
      "   -> 765 valid images\n",
      "7 images skipped (see ../space_images_split/train/skipped_images.txt)\n",
      "Dataset created from ../space_images_split/validation\n",
      "   -> 161 valid images\n",
      "2 images skipped (see ../space_images_split/validation/skipped_images.txt)\n"
     ]
    }
   ],
   "source": [
    "train_dataset = SpaceImageDataset(OUTPUT_PATH / \"train\", transform=train_transforms)\n",
    "val_dataset = SpaceImageDataset(OUTPUT_PATH / \"validation\", transform=val_test_transforms)"
   ]
  },
  {
   "cell_type": "markdown",
   "id": "5a4e3dbd",
   "metadata": {},
   "source": [
    "## Create Data loaders"
   ]
  },
  {
   "cell_type": "code",
   "execution_count": 7,
   "id": "668074ee",
   "metadata": {},
   "outputs": [],
   "source": [
    "train_loader = DataLoader(\n",
    "    train_dataset, \n",
    "    batch_size=BATCH_SIZE,\n",
    "    shuffle=True, \n",
    "    num_workers=NUM_WORKERS,\n",
    "    pin_memory=True if DEVICE.type == 'mps' else False\n",
    ")\n",
    "\n",
    "val_loader = DataLoader(\n",
    "    val_dataset, \n",
    "    batch_size=BATCH_SIZE, \n",
    "    shuffle=False, \n",
    "    num_workers=NUM_WORKERS,\n",
    "    pin_memory=True if DEVICE.type == 'mps' else False\n",
    ")"
   ]
  },
  {
   "cell_type": "markdown",
   "id": "c0963a13",
   "metadata": {},
   "source": [
    "## Training the model - Phase 1"
   ]
  },
  {
   "cell_type": "code",
   "execution_count": 8,
   "id": "27350b3f",
   "metadata": {},
   "outputs": [
    {
     "name": "stdout",
     "output_type": "stream",
     "text": [
      "================================================================================\n",
      "Starting Stage 1 Training\n",
      "--------------------------------------------------------------------------------\n",
      "Estimated time on M1: 30-60 minutes\n",
      "\n",
      "================================================================================\n",
      "================================================================================\n",
      "Epoch 1/25\n",
      "------------------------------------------------------------\n"
     ]
    },
    {
     "name": "stderr",
     "output_type": "stream",
     "text": [
      "Training:   0%|          | 0/24 [00:00<?, ?it/s]libpng warning: iCCP: known incorrect sRGB profile\n",
      "Training:  46%|████▌     | 11/24 [00:05<00:03,  3.67it/s, loss=1.5551, acc=29.17%]libpng warning: iCCP: known incorrect sRGB profile\n",
      "libpng warning: iCCP: known incorrect sRGB profile\n",
      "libpng warning: iCCP: known incorrect sRGB profile\n",
      "Training:  79%|███████▉  | 19/24 [00:07<00:00,  5.28it/s, loss=1.5289, acc=37.97%]libpng warning: iCCP: known incorrect sRGB profile\n",
      "Training: 100%|██████████| 24/24 [00:28<00:00,  1.19s/it, loss=1.4304, acc=40.78%]\n",
      "Validation: 100%|██████████| 6/6 [00:23<00:00,  3.97s/it, loss=2.8037, acc=46.58%]\n"
     ]
    },
    {
     "name": "stdout",
     "output_type": "stream",
     "text": [
      "\n",
      "Train Loss: 1.5589 | Train Acc: 40.78%\n",
      "Val Loss:   1.2414 | Val Acc:   46.58%\n",
      "Best model saved! (Val Acc: 46.58%)\n",
      "================================================================================\n",
      "Epoch 2/25\n",
      "------------------------------------------------------------\n"
     ]
    },
    {
     "name": "stderr",
     "output_type": "stream",
     "text": [
      "Training:  12%|█▎        | 3/24 [00:02<00:15,  1.33it/s, loss=1.1576, acc=56.25%]libpng warning: iCCP: known incorrect sRGB profile\n",
      "Training:  29%|██▉       | 7/24 [00:03<00:05,  2.90it/s, loss=1.0612, acc=60.27%]libpng warning: iCCP: known incorrect sRGB profile\n",
      "Training:  33%|███▎      | 8/24 [00:03<00:05,  3.17it/s, loss=1.1582, acc=60.55%]libpng warning: iCCP: known incorrect sRGB profile\n",
      "Training:  46%|████▌     | 11/24 [00:04<00:03,  3.34it/s, loss=1.1391, acc=57.55%]libpng warning: iCCP: known incorrect sRGB profile\n",
      "libpng warning: iCCP: known incorrect sRGB profile\n",
      "Training: 100%|██████████| 24/24 [00:27<00:00,  1.16s/it, loss=0.8226, acc=55.56%]\n",
      "Validation: 100%|██████████| 6/6 [00:23<00:00,  3.87s/it, loss=2.8446, acc=52.17%]\n"
     ]
    },
    {
     "name": "stdout",
     "output_type": "stream",
     "text": [
      "\n",
      "Train Loss: 1.1498 | Train Acc: 55.56%\n",
      "Val Loss:   1.1593 | Val Acc:   52.17%\n",
      "Best model saved! (Val Acc: 52.17%)\n",
      "================================================================================\n",
      "Epoch 3/25\n",
      "------------------------------------------------------------\n"
     ]
    },
    {
     "name": "stderr",
     "output_type": "stream",
     "text": [
      "Training:  12%|█▎        | 3/24 [00:02<00:15,  1.38it/s, loss=1.2929, acc=57.29%]libpng warning: iCCP: known incorrect sRGB profile\n",
      "Training:  38%|███▊      | 9/24 [00:04<00:04,  3.56it/s, loss=0.8638, acc=60.07%]libpng warning: iCCP: known incorrect sRGB profile\n",
      "libpng warning: iCCP: known incorrect sRGB profile\n",
      "Training:  67%|██████▋   | 16/24 [00:06<00:01,  4.50it/s, loss=0.9639, acc=59.19%]libpng warning: iCCP: known incorrect sRGB profile\n",
      "Training:  83%|████████▎ | 20/24 [00:06<00:00,  5.02it/s, loss=0.9303, acc=59.38%]libpng warning: iCCP: known incorrect sRGB profile\n",
      "Training: 100%|██████████| 24/24 [00:27<00:00,  1.15s/it, loss=1.4780, acc=59.08%]\n",
      "Validation: 100%|██████████| 6/6 [00:23<00:00,  3.87s/it, loss=2.3233, acc=56.52%]\n"
     ]
    },
    {
     "name": "stdout",
     "output_type": "stream",
     "text": [
      "\n",
      "Train Loss: 1.0751 | Train Acc: 59.08%\n",
      "Val Loss:   1.1082 | Val Acc:   56.52%\n",
      "Best model saved! (Val Acc: 56.52%)\n",
      "================================================================================\n",
      "Epoch 4/25\n",
      "------------------------------------------------------------\n"
     ]
    },
    {
     "name": "stderr",
     "output_type": "stream",
     "text": [
      "Training:   0%|          | 0/24 [00:00<?, ?it/s]libpng warning: iCCP: known incorrect sRGB profile\n",
      "Training:   4%|▍         | 1/24 [00:02<01:01,  2.67s/it, loss=0.8897, acc=65.62%]libpng warning: iCCP: known incorrect sRGB profile\n",
      "Training:  12%|█▎        | 3/24 [00:03<00:20,  1.00it/s, loss=1.1450, acc=62.50%]libpng warning: iCCP: known incorrect sRGB profile\n",
      "Training:  21%|██        | 5/24 [00:03<00:11,  1.71it/s, loss=0.8684, acc=62.50%]libpng warning: iCCP: known incorrect sRGB profile\n",
      "Training:  54%|█████▍    | 13/24 [00:05<00:03,  3.50it/s, loss=0.7761, acc=61.38%]libpng warning: iCCP: known incorrect sRGB profile\n",
      "Training: 100%|██████████| 24/24 [00:28<00:00,  1.18s/it, loss=0.8147, acc=59.08%]\n",
      "Validation: 100%|██████████| 6/6 [00:23<00:00,  3.99s/it, loss=2.5571, acc=59.63%]\n"
     ]
    },
    {
     "name": "stdout",
     "output_type": "stream",
     "text": [
      "\n",
      "Train Loss: 1.0461 | Train Acc: 59.08%\n",
      "Val Loss:   1.0993 | Val Acc:   59.63%\n",
      "Best model saved! (Val Acc: 59.63%)\n",
      "================================================================================\n",
      "Epoch 5/25\n",
      "------------------------------------------------------------\n"
     ]
    },
    {
     "name": "stderr",
     "output_type": "stream",
     "text": [
      "Training:   0%|          | 0/24 [00:00<?, ?it/s]libpng warning: iCCP: known incorrect sRGB profile\n",
      "Training:  21%|██        | 5/24 [00:03<00:09,  1.91it/s, loss=0.7623, acc=67.19%]libpng warning: iCCP: known incorrect sRGB profile\n",
      "Training:  46%|████▌     | 11/24 [00:05<00:03,  3.26it/s, loss=0.8065, acc=64.84%]libpng warning: iCCP: known incorrect sRGB profile\n",
      "Training:  62%|██████▎   | 15/24 [00:06<00:02,  3.37it/s, loss=0.7006, acc=64.65%]libpng warning: iCCP: known incorrect sRGB profile\n",
      "Training:  71%|███████   | 17/24 [00:07<00:02,  3.10it/s, loss=1.0504, acc=64.76%]libpng warning: iCCP: known incorrect sRGB profile\n",
      "Training: 100%|██████████| 24/24 [00:28<00:00,  1.19s/it, loss=0.6549, acc=65.62%]\n",
      "Validation: 100%|██████████| 6/6 [00:23<00:00,  3.91s/it, loss=2.6095, acc=54.66%]\n"
     ]
    },
    {
     "name": "stdout",
     "output_type": "stream",
     "text": [
      "\n",
      "Train Loss: 0.9128 | Train Acc: 65.62%\n",
      "Val Loss:   1.1217 | Val Acc:   54.66%\n",
      "================================================================================\n",
      "Epoch 6/25\n",
      "------------------------------------------------------------\n"
     ]
    },
    {
     "name": "stderr",
     "output_type": "stream",
     "text": [
      "Training:  33%|███▎      | 8/24 [00:05<00:06,  2.62it/s, loss=0.8305, acc=65.62%]libpng warning: iCCP: known incorrect sRGB profile\n",
      "Training:  42%|████▏     | 10/24 [00:05<00:04,  3.22it/s, loss=0.7019, acc=67.19%]libpng warning: iCCP: known incorrect sRGB profile\n",
      "Training:  58%|█████▊    | 14/24 [00:06<00:03,  3.10it/s, loss=0.7622, acc=67.86%]libpng warning: iCCP: known incorrect sRGB profile\n",
      "Training:  75%|███████▌  | 18/24 [00:07<00:01,  4.48it/s, loss=1.0145, acc=67.27%]libpng warning: iCCP: known incorrect sRGB profile\n",
      "Training:  92%|█████████▏| 22/24 [00:07<00:00,  5.91it/s, loss=0.7777, acc=67.61%]libpng warning: iCCP: known incorrect sRGB profile\n",
      "Training: 100%|██████████| 24/24 [00:28<00:00,  1.17s/it, loss=0.7448, acc=67.45%]\n",
      "Validation: 100%|██████████| 6/6 [00:23<00:00,  3.90s/it, loss=3.0375, acc=56.52%]\n"
     ]
    },
    {
     "name": "stdout",
     "output_type": "stream",
     "text": [
      "\n",
      "Train Loss: 0.9030 | Train Acc: 67.45%\n",
      "Val Loss:   1.0757 | Val Acc:   56.52%\n",
      "================================================================================\n",
      "Epoch 7/25\n",
      "------------------------------------------------------------\n"
     ]
    },
    {
     "name": "stderr",
     "output_type": "stream",
     "text": [
      "Training:   0%|          | 0/24 [00:00<?, ?it/s]libpng warning: iCCP: known incorrect sRGB profile\n",
      "libpng warning: iCCP: known incorrect sRGB profile\n",
      "Training:  38%|███▊      | 9/24 [00:04<00:04,  3.19it/s, loss=1.0288, acc=63.44%]libpng warning: iCCP: known incorrect sRGB profile\n",
      "Training:  46%|████▌     | 11/24 [00:04<00:02,  4.43it/s, loss=0.8343, acc=63.92%]libpng warning: iCCP: known incorrect sRGB profile\n",
      "Training:  67%|██████▋   | 16/24 [00:06<00:02,  3.61it/s, loss=0.9682, acc=64.45%]libpng warning: iCCP: known incorrect sRGB profile\n",
      "Training: 100%|██████████| 24/24 [00:28<00:00,  1.17s/it, loss=0.6388, acc=67.19%]\n",
      "Validation: 100%|██████████| 6/6 [00:23<00:00,  3.91s/it, loss=3.9518, acc=54.66%]\n"
     ]
    },
    {
     "name": "stdout",
     "output_type": "stream",
     "text": [
      "\n",
      "Train Loss: 0.8627 | Train Acc: 67.19%\n",
      "Val Loss:   1.1207 | Val Acc:   54.66%\n",
      "================================================================================\n",
      "Epoch 8/25\n",
      "------------------------------------------------------------\n"
     ]
    },
    {
     "name": "stderr",
     "output_type": "stream",
     "text": [
      "Training:   0%|          | 0/24 [00:00<?, ?it/s]libpng warning: iCCP: known incorrect sRGB profile\n",
      "Training:  38%|███▊      | 9/24 [00:04<00:05,  2.76it/s, loss=0.8158, acc=63.89%]libpng warning: iCCP: known incorrect sRGB profile\n",
      "libpng warning: iCCP: known incorrect sRGB profile\n",
      "Training:  67%|██████▋   | 16/24 [00:06<00:01,  4.75it/s, loss=0.9203, acc=67.77%]libpng warning: iCCP: known incorrect sRGB profile\n",
      "Training:  71%|███████   | 17/24 [00:06<00:02,  3.21it/s, loss=1.0858, acc=67.28%]libpng warning: iCCP: known incorrect sRGB profile\n",
      "Training: 100%|██████████| 24/24 [00:27<00:00,  1.16s/it, loss=0.8278, acc=67.45%]\n",
      "Validation: 100%|██████████| 6/6 [00:23<00:00,  3.91s/it, loss=3.6251, acc=57.76%]\n"
     ]
    },
    {
     "name": "stdout",
     "output_type": "stream",
     "text": [
      "\n",
      "Train Loss: 0.8712 | Train Acc: 67.45%\n",
      "Val Loss:   1.0822 | Val Acc:   57.76%\n",
      "================================================================================\n",
      "Epoch 9/25\n",
      "------------------------------------------------------------\n"
     ]
    },
    {
     "name": "stderr",
     "output_type": "stream",
     "text": [
      "Training:   0%|          | 0/24 [00:00<?, ?it/s]libpng warning: iCCP: known incorrect sRGB profile\n",
      "Training:  29%|██▉       | 7/24 [00:04<00:07,  2.41it/s, loss=0.5732, acc=67.19%]libpng warning: iCCP: known incorrect sRGB profile\n",
      "Training:  46%|████▌     | 11/24 [00:05<00:03,  3.77it/s, loss=1.0181, acc=66.93%]libpng warning: iCCP: known incorrect sRGB profile\n",
      "Training:  62%|██████▎   | 15/24 [00:06<00:01,  4.52it/s, loss=0.7746, acc=67.29%]libpng warning: iCCP: known incorrect sRGB profile\n",
      "Training:  62%|██████▎   | 15/24 [00:06<00:01,  4.52it/s, loss=0.7742, acc=67.58%]libpng warning: iCCP: known incorrect sRGB profile\n",
      "Training: 100%|██████████| 24/24 [00:27<00:00,  1.17s/it, loss=0.7788, acc=66.67%]\n",
      "Validation: 100%|██████████| 6/6 [00:23<00:00,  3.90s/it, loss=3.1687, acc=57.76%]\n"
     ]
    },
    {
     "name": "stdout",
     "output_type": "stream",
     "text": [
      "\n",
      "Train Loss: 0.8405 | Train Acc: 66.67%\n",
      "Val Loss:   1.0741 | Val Acc:   57.76%\n",
      "================================================================================\n",
      "Epoch 10/25\n",
      "------------------------------------------------------------\n"
     ]
    },
    {
     "name": "stderr",
     "output_type": "stream",
     "text": [
      "Training:   0%|          | 0/24 [00:00<?, ?it/s]libpng warning: iCCP: known incorrect sRGB profile\n",
      "Training:  12%|█▎        | 3/24 [00:03<00:20,  1.02it/s, loss=1.0930, acc=64.06%]libpng warning: iCCP: known incorrect sRGB profile\n",
      "Training:  38%|███▊      | 9/24 [00:06<00:07,  2.01it/s, loss=0.6397, acc=67.01%]libpng warning: iCCP: known incorrect sRGB profile\n",
      "Training:  46%|████▌     | 11/24 [00:06<00:04,  2.85it/s, loss=0.7820, acc=67.45%]libpng warning: iCCP: known incorrect sRGB profile\n",
      "Training:  62%|██████▎   | 15/24 [00:07<00:02,  3.88it/s, loss=0.8512, acc=67.58%]libpng warning: iCCP: known incorrect sRGB profile\n",
      "Training: 100%|██████████| 24/24 [00:28<00:00,  1.20s/it, loss=1.0787, acc=66.54%]\n",
      "Validation: 100%|██████████| 6/6 [00:23<00:00,  3.92s/it, loss=3.0414, acc=62.11%]\n"
     ]
    },
    {
     "name": "stdout",
     "output_type": "stream",
     "text": [
      "\n",
      "Train Loss: 0.8443 | Train Acc: 66.54%\n",
      "Val Loss:   1.0855 | Val Acc:   62.11%\n",
      "Best model saved! (Val Acc: 62.11%)\n",
      "================================================================================\n",
      "Epoch 11/25\n",
      "------------------------------------------------------------\n"
     ]
    },
    {
     "name": "stderr",
     "output_type": "stream",
     "text": [
      "Training:  21%|██        | 5/24 [00:04<00:11,  1.70it/s, loss=0.9488, acc=66.88%]libpng warning: iCCP: known incorrect sRGB profile\n",
      "Training:  38%|███▊      | 9/24 [00:05<00:05,  2.62it/s, loss=0.6223, acc=68.12%]libpng warning: iCCP: known incorrect sRGB profile\n",
      "Training:  46%|████▌     | 11/24 [00:06<00:05,  2.41it/s, loss=1.0261, acc=67.90%]libpng warning: iCCP: known incorrect sRGB profile\n",
      "Training:  54%|█████▍    | 13/24 [00:06<00:03,  3.38it/s, loss=0.6351, acc=67.41%]libpng warning: iCCP: known incorrect sRGB profile\n",
      "Training:  88%|████████▊ | 21/24 [00:08<00:00,  5.42it/s, loss=0.7555, acc=70.31%]libpng warning: iCCP: known incorrect sRGB profile\n",
      "Training: 100%|██████████| 24/24 [00:28<00:00,  1.21s/it, loss=0.6946, acc=70.33%]\n",
      "Validation: 100%|██████████| 6/6 [00:23<00:00,  3.93s/it, loss=3.0709, acc=57.76%]\n"
     ]
    },
    {
     "name": "stdout",
     "output_type": "stream",
     "text": [
      "\n",
      "Train Loss: 0.8060 | Train Acc: 70.33%\n",
      "Val Loss:   1.1047 | Val Acc:   57.76%\n",
      "================================================================================\n",
      "Epoch 12/25\n",
      "------------------------------------------------------------\n"
     ]
    },
    {
     "name": "stderr",
     "output_type": "stream",
     "text": [
      "Training:   0%|          | 0/24 [00:00<?, ?it/s]libpng warning: iCCP: known incorrect sRGB profile\n",
      "libpng warning: iCCP: known incorrect sRGB profile\n",
      "libpng warning: iCCP: known incorrect sRGB profile\n",
      "Training:  54%|█████▍    | 13/24 [00:06<00:03,  3.44it/s, loss=0.8278, acc=70.54%]libpng warning: iCCP: known incorrect sRGB profile\n",
      "Training:  62%|██████▎   | 15/24 [00:06<00:02,  3.70it/s, loss=0.8597, acc=71.29%]libpng warning: iCCP: known incorrect sRGB profile\n",
      "Training: 100%|██████████| 24/24 [00:28<00:00,  1.18s/it, loss=0.4748, acc=71.63%]\n",
      "Validation: 100%|██████████| 6/6 [00:23<00:00,  4.00s/it, loss=2.2528, acc=60.25%]\n"
     ]
    },
    {
     "name": "stdout",
     "output_type": "stream",
     "text": [
      "\n",
      "Train Loss: 0.7495 | Train Acc: 71.63%\n",
      "Val Loss:   1.0869 | Val Acc:   60.25%\n",
      "================================================================================\n",
      "Epoch 13/25\n",
      "------------------------------------------------------------\n"
     ]
    },
    {
     "name": "stderr",
     "output_type": "stream",
     "text": [
      "Training:   0%|          | 0/24 [00:00<?, ?it/s]libpng warning: iCCP: known incorrect sRGB profile\n",
      "Training:  21%|██        | 5/24 [00:04<00:10,  1.75it/s, loss=0.9550, acc=67.50%]libpng warning: iCCP: known incorrect sRGB profile\n",
      "Training:  42%|████▏     | 10/24 [00:05<00:04,  2.96it/s, loss=0.9053, acc=68.12%]libpng warning: iCCP: known incorrect sRGB profile\n",
      "Training:  67%|██████▋   | 16/24 [00:06<00:01,  4.28it/s, loss=0.5802, acc=70.40%]libpng warning: iCCP: known incorrect sRGB profile\n",
      "Training:  83%|████████▎ | 20/24 [00:07<00:00,  5.15it/s, loss=0.9704, acc=70.47%]libpng warning: iCCP: known incorrect sRGB profile\n",
      "Training: 100%|██████████| 24/24 [00:28<00:00,  1.17s/it, loss=1.2803, acc=69.80%]\n",
      "Validation: 100%|██████████| 6/6 [00:23<00:00,  3.91s/it, loss=3.3541, acc=58.39%]\n"
     ]
    },
    {
     "name": "stdout",
     "output_type": "stream",
     "text": [
      "\n",
      "Train Loss: 0.8058 | Train Acc: 69.80%\n",
      "Val Loss:   1.1074 | Val Acc:   58.39%\n",
      "================================================================================\n",
      "Epoch 14/25\n",
      "------------------------------------------------------------\n"
     ]
    },
    {
     "name": "stderr",
     "output_type": "stream",
     "text": [
      "Training:  21%|██        | 5/24 [00:03<00:09,  2.07it/s, loss=0.7585, acc=68.75%]libpng warning: iCCP: known incorrect sRGB profile\n",
      "Training:  42%|████▏     | 10/24 [00:04<00:03,  3.76it/s, loss=1.0527, acc=69.03%]libpng warning: iCCP: known incorrect sRGB profile\n",
      "libpng warning: iCCP: known incorrect sRGB profile\n",
      "libpng warning: iCCP: known incorrect sRGB profile\n",
      "Training:  50%|█████     | 12/24 [00:05<00:03,  3.15it/s, loss=0.9524, acc=68.75%]libpng warning: iCCP: known incorrect sRGB profile\n",
      "Training: 100%|██████████| 24/24 [00:27<00:00,  1.15s/it, loss=0.7332, acc=70.07%]\n",
      "Validation: 100%|██████████| 6/6 [00:23<00:00,  3.88s/it, loss=2.5143, acc=57.14%]\n"
     ]
    },
    {
     "name": "stdout",
     "output_type": "stream",
     "text": [
      "\n",
      "Train Loss: 0.8046 | Train Acc: 70.07%\n",
      "Val Loss:   1.1273 | Val Acc:   57.14%\n",
      "================================================================================\n",
      "Epoch 15/25\n",
      "------------------------------------------------------------\n"
     ]
    },
    {
     "name": "stderr",
     "output_type": "stream",
     "text": [
      "Training:   0%|          | 0/24 [00:00<?, ?it/s]libpng warning: iCCP: known incorrect sRGB profile\n",
      "Training:  33%|███▎      | 8/24 [00:03<00:04,  3.30it/s, loss=0.7461, acc=67.97%]libpng warning: iCCP: known incorrect sRGB profile\n",
      "Training:  50%|█████     | 12/24 [00:04<00:03,  3.81it/s, loss=0.7332, acc=68.99%]libpng warning: iCCP: known incorrect sRGB profile\n",
      "libpng warning: iCCP: known incorrect sRGB profile\n",
      "Training:  79%|███████▉  | 19/24 [00:06<00:01,  3.99it/s, loss=0.9114, acc=70.56%]libpng warning: iCCP: known incorrect sRGB profile\n",
      "Training: 100%|██████████| 24/24 [00:28<00:00,  1.17s/it, loss=0.4759, acc=71.37%]\n",
      "Validation: 100%|██████████| 6/6 [00:23<00:00,  3.91s/it, loss=3.4827, acc=63.35%]\n"
     ]
    },
    {
     "name": "stdout",
     "output_type": "stream",
     "text": [
      "\n",
      "Train Loss: 0.7696 | Train Acc: 71.37%\n",
      "Val Loss:   1.0582 | Val Acc:   63.35%\n",
      "Best model saved! (Val Acc: 63.35%)\n",
      "================================================================================\n",
      "Epoch 16/25\n",
      "------------------------------------------------------------\n"
     ]
    },
    {
     "name": "stderr",
     "output_type": "stream",
     "text": [
      "Training:   0%|          | 0/24 [00:00<?, ?it/s]libpng warning: iCCP: known incorrect sRGB profile\n",
      "Training:  42%|████▏     | 10/24 [00:05<00:04,  3.46it/s, loss=1.1407, acc=73.75%]libpng warning: iCCP: known incorrect sRGB profile\n",
      "Training:  42%|████▏     | 10/24 [00:05<00:04,  3.46it/s, loss=0.6887, acc=74.15%]libpng warning: iCCP: known incorrect sRGB profile\n",
      "Training:  67%|██████▋   | 16/24 [00:06<00:01,  4.55it/s, loss=0.5429, acc=75.78%]libpng warning: iCCP: known incorrect sRGB profile\n",
      "Training:  79%|███████▉  | 19/24 [00:06<00:00,  5.36it/s, loss=0.6533, acc=74.51%]libpng warning: iCCP: known incorrect sRGB profile\n",
      "Training: 100%|██████████| 24/24 [00:27<00:00,  1.17s/it, loss=0.7533, acc=74.25%]\n",
      "Validation: 100%|██████████| 6/6 [00:23<00:00,  3.89s/it, loss=3.1909, acc=62.11%]\n"
     ]
    },
    {
     "name": "stdout",
     "output_type": "stream",
     "text": [
      "\n",
      "Train Loss: 0.7100 | Train Acc: 74.25%\n",
      "Val Loss:   1.1401 | Val Acc:   62.11%\n",
      "================================================================================\n",
      "Epoch 17/25\n",
      "------------------------------------------------------------\n"
     ]
    },
    {
     "name": "stderr",
     "output_type": "stream",
     "text": [
      "Training:  21%|██        | 5/24 [00:04<00:12,  1.50it/s, loss=0.8465, acc=73.44%]libpng warning: iCCP: known incorrect sRGB profile\n",
      "Training:  29%|██▉       | 7/24 [00:04<00:07,  2.39it/s, loss=0.8005, acc=73.44%]libpng warning: iCCP: known incorrect sRGB profile\n",
      "Training:  46%|████▌     | 11/24 [00:05<00:03,  3.70it/s, loss=0.7890, acc=71.35%]libpng warning: iCCP: known incorrect sRGB profile\n",
      "libpng warning: iCCP: known incorrect sRGB profile\n",
      "Training:  54%|█████▍    | 13/24 [00:06<00:02,  3.81it/s, loss=0.4182, acc=72.77%]libpng warning: iCCP: known incorrect sRGB profile\n",
      "Training: 100%|██████████| 24/24 [00:28<00:00,  1.18s/it, loss=0.6415, acc=72.03%]\n",
      "Validation: 100%|██████████| 6/6 [00:23<00:00,  3.89s/it, loss=2.8808, acc=58.39%]\n"
     ]
    },
    {
     "name": "stdout",
     "output_type": "stream",
     "text": [
      "\n",
      "Train Loss: 0.7411 | Train Acc: 72.03%\n",
      "Val Loss:   1.1200 | Val Acc:   58.39%\n",
      "================================================================================\n",
      "Epoch 18/25\n",
      "------------------------------------------------------------\n"
     ]
    },
    {
     "name": "stderr",
     "output_type": "stream",
     "text": [
      "Training:  12%|█▎        | 3/24 [00:04<00:22,  1.05s/it, loss=0.8215, acc=71.88%]libpng warning: iCCP: known incorrect sRGB profile\n",
      "Training:  38%|███▊      | 9/24 [00:05<00:05,  2.55it/s, loss=0.7799, acc=73.26%]libpng warning: iCCP: known incorrect sRGB profile\n",
      "Training:  67%|██████▋   | 16/24 [00:06<00:01,  4.69it/s, loss=0.7931, acc=72.85%]libpng warning: iCCP: known incorrect sRGB profile\n",
      "libpng warning: iCCP: known incorrect sRGB profile\n",
      "libpng warning: iCCP: known incorrect sRGB profile\n",
      "Training: 100%|██████████| 24/24 [00:28<00:00,  1.18s/it, loss=0.5571, acc=72.68%]\n",
      "Validation: 100%|██████████| 6/6 [00:23<00:00,  3.89s/it, loss=3.3419, acc=61.49%]\n"
     ]
    },
    {
     "name": "stdout",
     "output_type": "stream",
     "text": [
      "\n",
      "Train Loss: 0.7013 | Train Acc: 72.68%\n",
      "Val Loss:   1.0679 | Val Acc:   61.49%\n",
      "================================================================================\n",
      "Epoch 19/25\n",
      "------------------------------------------------------------\n"
     ]
    },
    {
     "name": "stderr",
     "output_type": "stream",
     "text": [
      "Training:   0%|          | 0/24 [00:00<?, ?it/s]libpng warning: iCCP: known incorrect sRGB profile\n",
      "libpng warning: iCCP: known incorrect sRGB profile\n",
      "Training:   4%|▍         | 1/24 [00:03<01:09,  3.01s/it, loss=0.5819, acc=75.00%]libpng warning: iCCP: known incorrect sRGB profile\n",
      "Training:   8%|▊         | 2/24 [00:03<00:34,  1.58s/it, loss=0.8538, acc=75.00%]libpng warning: iCCP: known incorrect sRGB profile\n",
      "Training:  46%|████▌     | 11/24 [00:04<00:02,  4.43it/s, loss=0.7882, acc=71.09%]libpng warning: iCCP: known incorrect sRGB profile\n",
      "Training: 100%|██████████| 24/24 [00:28<00:00,  1.17s/it, loss=0.7863, acc=71.37%]\n",
      "Validation: 100%|██████████| 6/6 [00:23<00:00,  3.88s/it, loss=4.0128, acc=59.01%]\n"
     ]
    },
    {
     "name": "stdout",
     "output_type": "stream",
     "text": [
      "\n",
      "Train Loss: 0.7205 | Train Acc: 71.37%\n",
      "Val Loss:   1.0628 | Val Acc:   59.01%\n",
      "================================================================================\n",
      "Epoch 20/25\n",
      "------------------------------------------------------------\n"
     ]
    },
    {
     "name": "stderr",
     "output_type": "stream",
     "text": [
      "Training:   0%|          | 0/24 [00:00<?, ?it/s]libpng warning: iCCP: known incorrect sRGB profile\n",
      "libpng warning: iCCP: known incorrect sRGB profile\n",
      "Training:  12%|█▎        | 3/24 [00:03<00:17,  1.22it/s, loss=0.6495, acc=77.34%]libpng warning: iCCP: known incorrect sRGB profile\n",
      "libpng warning: iCCP: known incorrect sRGB profile\n",
      "Training:  33%|███▎      | 8/24 [00:04<00:04,  3.36it/s, loss=0.6073, acc=75.78%]libpng warning: iCCP: known incorrect sRGB profile\n",
      "Training: 100%|██████████| 24/24 [00:27<00:00,  1.15s/it, loss=0.6772, acc=73.99%]\n",
      "Validation: 100%|██████████| 6/6 [00:24<00:00,  4.03s/it, loss=3.9653, acc=54.66%]\n"
     ]
    },
    {
     "name": "stdout",
     "output_type": "stream",
     "text": [
      "\n",
      "Train Loss: 0.6598 | Train Acc: 73.99%\n",
      "Val Loss:   1.1535 | Val Acc:   54.66%\n",
      "================================================================================\n",
      "Epoch 21/25\n",
      "------------------------------------------------------------\n"
     ]
    },
    {
     "name": "stderr",
     "output_type": "stream",
     "text": [
      "Training:  12%|█▎        | 3/24 [00:04<00:24,  1.15s/it, loss=0.5802, acc=72.66%]libpng warning: iCCP: known incorrect sRGB profile\n",
      "Training:  21%|██        | 5/24 [00:05<00:13,  1.40it/s, loss=0.7872, acc=73.96%]libpng warning: iCCP: known incorrect sRGB profile\n",
      "Training:  42%|████▏     | 10/24 [00:06<00:06,  2.33it/s, loss=0.5427, acc=74.06%]libpng warning: iCCP: known incorrect sRGB profile\n",
      "Training:  46%|████▌     | 11/24 [00:07<00:05,  2.36it/s, loss=0.6064, acc=74.74%]libpng warning: iCCP: known incorrect sRGB profile\n",
      "Training:  54%|█████▍    | 13/24 [00:07<00:03,  2.95it/s, loss=0.6169, acc=74.55%]libpng warning: iCCP: known incorrect sRGB profile\n",
      "Training: 100%|██████████| 24/24 [00:29<00:00,  1.24s/it, loss=0.4173, acc=74.12%]\n",
      "Validation: 100%|██████████| 6/6 [00:23<00:00,  3.96s/it, loss=2.8181, acc=59.01%]\n"
     ]
    },
    {
     "name": "stdout",
     "output_type": "stream",
     "text": [
      "\n",
      "Train Loss: 0.6955 | Train Acc: 74.12%\n",
      "Val Loss:   1.1024 | Val Acc:   59.01%\n",
      "================================================================================\n",
      "Epoch 22/25\n",
      "------------------------------------------------------------\n"
     ]
    },
    {
     "name": "stderr",
     "output_type": "stream",
     "text": [
      "Training:   0%|          | 0/24 [00:00<?, ?it/s]libpng warning: iCCP: known incorrect sRGB profile\n",
      "libpng warning: iCCP: known incorrect sRGB profile\n",
      "Training:  29%|██▉       | 7/24 [00:04<00:06,  2.60it/s, loss=0.3516, acc=79.02%]libpng warning: iCCP: known incorrect sRGB profile\n",
      "Training:  79%|███████▉  | 19/24 [00:07<00:01,  4.49it/s, loss=0.3946, acc=75.00%]libpng warning: iCCP: known incorrect sRGB profile\n",
      "libpng warning: iCCP: known incorrect sRGB profile\n",
      "Training: 100%|██████████| 24/24 [00:28<00:00,  1.20s/it, loss=0.5317, acc=75.16%]\n",
      "Validation: 100%|██████████| 6/6 [00:23<00:00,  3.94s/it, loss=2.5981, acc=56.52%]\n"
     ]
    },
    {
     "name": "stdout",
     "output_type": "stream",
     "text": [
      "\n",
      "Train Loss: 0.6269 | Train Acc: 75.16%\n",
      "Val Loss:   1.1059 | Val Acc:   56.52%\n",
      "================================================================================\n",
      "Epoch 23/25\n",
      "------------------------------------------------------------\n"
     ]
    },
    {
     "name": "stderr",
     "output_type": "stream",
     "text": [
      "Training:   0%|          | 0/24 [00:00<?, ?it/s]libpng warning: iCCP: known incorrect sRGB profile\n",
      "Training:  12%|█▎        | 3/24 [00:03<00:19,  1.10it/s, loss=0.3542, acc=84.38%]libpng warning: iCCP: known incorrect sRGB profile\n",
      "Training:  21%|██        | 5/24 [00:03<00:09,  1.90it/s, loss=0.5225, acc=82.50%]libpng warning: iCCP: known incorrect sRGB profile\n",
      "Training:  54%|█████▍    | 13/24 [00:05<00:03,  3.65it/s, loss=0.8982, acc=76.56%]libpng warning: iCCP: known incorrect sRGB profile\n",
      "Training:  75%|███████▌  | 18/24 [00:06<00:01,  3.93it/s, loss=0.4270, acc=76.97%]libpng warning: iCCP: known incorrect sRGB profile\n",
      "Training: 100%|██████████| 24/24 [00:28<00:00,  1.18s/it, loss=0.5284, acc=77.25%]\n",
      "Validation: 100%|██████████| 6/6 [00:23<00:00,  3.88s/it, loss=2.9400, acc=57.14%]\n"
     ]
    },
    {
     "name": "stdout",
     "output_type": "stream",
     "text": [
      "\n",
      "Train Loss: 0.6055 | Train Acc: 77.25%\n",
      "Val Loss:   1.1251 | Val Acc:   57.14%\n",
      "================================================================================\n",
      "Epoch 24/25\n",
      "------------------------------------------------------------\n"
     ]
    },
    {
     "name": "stderr",
     "output_type": "stream",
     "text": [
      "Training:   0%|          | 0/24 [00:00<?, ?it/s]libpng warning: iCCP: known incorrect sRGB profile\n",
      "Training:  17%|█▋        | 4/24 [00:03<00:12,  1.56it/s, loss=0.6749, acc=75.00%]libpng warning: iCCP: known incorrect sRGB profile\n",
      "Training:  54%|█████▍    | 13/24 [00:06<00:02,  4.11it/s, loss=0.7214, acc=77.46%]libpng warning: iCCP: known incorrect sRGB profile\n",
      "Training:  62%|██████▎   | 15/24 [00:06<00:02,  3.37it/s, loss=0.6029, acc=77.50%]libpng warning: iCCP: known incorrect sRGB profile\n",
      "Training:  62%|██████▎   | 15/24 [00:07<00:02,  3.37it/s, loss=0.5742, acc=76.95%]libpng warning: iCCP: known incorrect sRGB profile\n",
      "Training: 100%|██████████| 24/24 [00:28<00:00,  1.19s/it, loss=0.4414, acc=78.17%]\n",
      "Validation: 100%|██████████| 6/6 [00:23<00:00,  3.93s/it, loss=2.9062, acc=57.14%]\n"
     ]
    },
    {
     "name": "stdout",
     "output_type": "stream",
     "text": [
      "\n",
      "Train Loss: 0.6103 | Train Acc: 78.17%\n",
      "Val Loss:   1.1318 | Val Acc:   57.14%\n",
      "================================================================================\n",
      "Epoch 25/25\n",
      "------------------------------------------------------------\n"
     ]
    },
    {
     "name": "stderr",
     "output_type": "stream",
     "text": [
      "Training:   0%|          | 0/24 [00:00<?, ?it/s]libpng warning: iCCP: known incorrect sRGB profile\n",
      "libpng warning: iCCP: known incorrect sRGB profile\n",
      "Training:  46%|████▌     | 11/24 [00:05<00:03,  3.32it/s, loss=0.4960, acc=78.91%]libpng warning: iCCP: known incorrect sRGB profile\n",
      "Training:  62%|██████▎   | 15/24 [00:06<00:01,  4.60it/s, loss=0.8182, acc=77.34%]libpng warning: iCCP: known incorrect sRGB profile\n",
      "Training:  79%|███████▉  | 19/24 [00:07<00:00,  5.12it/s, loss=0.8235, acc=75.66%]libpng warning: iCCP: known incorrect sRGB profile\n",
      "Training: 100%|██████████| 24/24 [00:28<00:00,  1.20s/it, loss=0.4519, acc=76.47%]\n",
      "Validation: 100%|██████████| 6/6 [00:23<00:00,  3.98s/it, loss=2.8722, acc=56.52%]"
     ]
    },
    {
     "name": "stdout",
     "output_type": "stream",
     "text": [
      "\n",
      "Train Loss: 0.6048 | Train Acc: 76.47%\n",
      "Val Loss:   1.1419 | Val Acc:   56.52%\n",
      "\n",
      "Early stopping triggered (patience=10)\n",
      "\n",
      "Stage 1 training complete!\n",
      "================================================================================\n"
     ]
    },
    {
     "name": "stderr",
     "output_type": "stream",
     "text": [
      "\n"
     ]
    }
   ],
   "source": [
    "if split_success:\n",
    "    # Loss and optimizer\n",
    "    criterion = nn.CrossEntropyLoss(weight=class_weights_tensor)\n",
    "    optimizer = optim.Adam(model.parameters(), lr=LEARNING_RATE_STAGE1)\n",
    "    # Automatically reduces the learning rate by 50% if validation loss stops improving for 5 epochs\n",
    "    scheduler = ReduceLROnPlateau(optimizer, mode='min', factor=0.5, patience=5, verbose=True)\n",
    "\n",
    "    print(\"=\" * 80)\n",
    "    print(f\"Starting Stage 1 Training\")\n",
    "    print(\"-\" * 80)\n",
    "    print(f\"Estimated time on M1: 30-60 minutes\\n\")\n",
    "    print(\"=\" * 80)\n",
    "    \n",
    "    history_stage1 = {\n",
    "        'train_loss': [], 'train_acc': [],\n",
    "        'val_loss': [], 'val_acc': []\n",
    "    }\n",
    "    \n",
    "    best_val_acc = 0.0\n",
    "    patience_counter = 0\n",
    "    PATIENCE = 10\n",
    "    \n",
    "    for epoch in range(EPOCHS_STAGE1):\n",
    "        print(\"=\" * 80)\n",
    "        print(f\"Epoch {epoch+1}/{EPOCHS_STAGE1}\")\n",
    "        print(\"-\" * 60)\n",
    "        \n",
    "        # Train\n",
    "        train_loss, train_acc = train_epoch(model, train_loader, criterion, optimizer, DEVICE)\n",
    "        \n",
    "        # Validate\n",
    "        val_loss, val_acc, _, _ = validate(model, val_loader, criterion, DEVICE)\n",
    "        \n",
    "        # Scheduler step\n",
    "        scheduler.step(val_loss)\n",
    "        \n",
    "        # Save history\n",
    "        history_stage1['train_loss'].append(train_loss)\n",
    "        history_stage1['train_acc'].append(train_acc)\n",
    "        history_stage1['val_loss'].append(val_loss)\n",
    "        history_stage1['val_acc'].append(val_acc)\n",
    "        \n",
    "        print(f\"\\nTrain Loss: {train_loss:.4f} | Train Acc: {train_acc*100:.2f}%\")\n",
    "        print(f\"Val Loss:   {val_loss:.4f} | Val Acc:   {val_acc*100:.2f}%\")\n",
    "        \n",
    "        # Save best model\n",
    "        if val_acc > best_val_acc:\n",
    "            best_val_acc = val_acc\n",
    "            torch.save(model.state_dict(), 'models/stage1_best.pth')\n",
    "            print(f\"Best model saved! (Val Acc: {val_acc*100:.2f}%)\")\n",
    "            # Save stage 1 logs to the disk\n",
    "            torch.save(history_stage1, 'models/history_stage1_del_img.pt')\n",
    "            patience_counter = 0\n",
    "        else:\n",
    "            patience_counter += 1\n",
    "        \n",
    "        # Early stopping\n",
    "        if patience_counter >= PATIENCE:\n",
    "            print(f\"\\nEarly stopping triggered (patience={PATIENCE})\")\n",
    "            break\n",
    "\n",
    "    print(\"\\nStage 1 training complete!\")\n",
    "\n",
    "else:\n",
    "    history_stage1 = None\n",
    "\n",
    "print(\"=\" * 80)"
   ]
  },
  {
   "cell_type": "markdown",
   "id": "619f40b3",
   "metadata": {},
   "source": [
    "# Comparison between skipping images or deleting images methods"
   ]
  },
  {
   "cell_type": "code",
   "execution_count": 9,
   "id": "2fe696cd",
   "metadata": {},
   "outputs": [
    {
     "name": "stdout",
     "output_type": "stream",
     "text": [
      "Keys in history: dict_keys(['train_loss', 'train_acc', 'val_loss', 'val_acc'])\n",
      "\n",
      "=== TRAIN_LOSS ===\n",
      "Last (skp): 0.8429\n",
      "Last (del): 0.7696\n",
      "Best (skp): 0.8429\n",
      "Best (del): 0.7495\n",
      "\n",
      "=== TRAIN_ACC ===\n",
      "Last (skp): 0.6839\n",
      "Last (del): 0.7137\n",
      "Best (skp): 0.6839\n",
      "Best (del): 0.7163\n",
      "\n",
      "=== VAL_LOSS ===\n",
      "Last (skp): 1.0875\n",
      "Last (del): 1.0582\n",
      "Best (skp): 1.0689\n",
      "Best (del): 1.0582\n",
      "\n",
      "=== VAL_ACC ===\n",
      "Last (skp): 0.6074\n",
      "Last (del): 0.6335\n",
      "Best (skp): 0.6074\n",
      "Best (del): 0.6335\n"
     ]
    }
   ],
   "source": [
    "import torch\n",
    "import matplotlib.pyplot as plt\n",
    "\n",
    "# Load both histories\n",
    "history_skp = torch.load(\"models/history_stage1_skp_img.pt\")\n",
    "history_del = torch.load(\"models/history_stage1_del_img.pt\")\n",
    "\n",
    "# Ensure they have the same keys\n",
    "print(\"Keys in history:\", history_skp.keys())\n",
    "\n",
    "# Quick numeric comparison\n",
    "for key in history_skp.keys():\n",
    "    skp_vals = history_skp[key]\n",
    "    del_vals = history_del[key]\n",
    "    \n",
    "    print(f\"\\n=== {key.upper()} ===\")\n",
    "    print(f\"Last (skp): {skp_vals[-1]:.4f}\")\n",
    "    print(f\"Last (del): {del_vals[-1]:.4f}\")\n",
    "    print(f\"Best (skp): {max(skp_vals) if 'acc' in key else min(skp_vals):.4f}\")\n",
    "    print(f\"Best (del): {max(del_vals) if 'acc' in key else min(del_vals):.4f}\")\n"
   ]
  },
  {
   "cell_type": "code",
   "execution_count": 10,
   "id": "52d32eaa",
   "metadata": {},
   "outputs": [
    {
     "data": {
      "image/png": "[encoded data removed]",
      "text/plain": [
       "<Figure size 1200x600 with 2 Axes>"
      ]
     },
     "metadata": {},
     "output_type": "display_data"
    }
   ],
   "source": [
    "epochs_skp = range(1, len(history_skp['train_loss']) + 1)\n",
    "epochs_del = range(1, len(history_del['train_loss']) + 1)\n",
    "\n",
    "plt.figure(figsize=(12, 6))\n",
    "\n",
    "# --- Training Loss ---\n",
    "plt.subplot(1, 2, 1)\n",
    "plt.plot(epochs_skp, history_skp['train_loss'], 'b-', label='SKP Train Loss')\n",
    "plt.plot(epochs_skp, history_skp['val_loss'], 'b--', label='SKP Val Loss')\n",
    "plt.plot(epochs_del, history_del['train_loss'], 'r-', label='DEL Train Loss')\n",
    "plt.plot(epochs_del, history_del['val_loss'], 'r--', label='DEL Val Loss')\n",
    "plt.title(\"Loss Comparison\")\n",
    "plt.xlabel(\"Epoch\")\n",
    "plt.ylabel(\"Loss\")\n",
    "plt.legend()\n",
    "plt.grid(True)\n",
    "\n",
    "# --- Accuracy ---\n",
    "plt.subplot(1, 2, 2)\n",
    "plt.plot(epochs_skp, history_skp['train_acc'], 'b-', label='SKP Train Acc')\n",
    "plt.plot(epochs_skp, history_skp['val_acc'], 'b--', label='SKP Val Acc')\n",
    "plt.plot(epochs_del, history_del['train_acc'], 'r-', label='DEL Train Acc')\n",
    "plt.plot(epochs_del, history_del['val_acc'], 'r--', label='DEL Val Acc')\n",
    "plt.title(\"Accuracy Comparison\")\n",
    "plt.xlabel(\"Epoch\")\n",
    "plt.ylabel(\"Accuracy\")\n",
    "plt.legend()\n",
    "plt.grid(True)\n",
    "\n",
    "plt.tight_layout()\n",
    "plt.show()\n"
   ]
  },
  {
   "cell_type": "markdown",
   "id": "086b3989",
   "metadata": {},
   "source": [
    "- Left plot : DEL method has a more stable val loss curve, slightly lower overall > good sign of better generalization\n",
    "\n",
    "- For training accuracy, both methods reach ~70–73%, with DEL slightly ahead at some points and same for the validation accuracy, DEL consistently stays above SKP for most epochs. Moreover, SKP method seems to plateau around 55–60%, while DEL reaches ~61–63%. Overall the DEL method tends to be more stable (right plot) suggesting better generalization\n",
    "\n",
    "- DEL seems to be a better method with :\n",
    "    1. Slightly lower train/val loss.\n",
    "    2. Higher and more stable validation accuracy.\n",
    "    3. Less overfitting behavior."
   ]
  },
  {
   "cell_type": "markdown",
   "id": "757d57d7",
   "metadata": {},
   "source": [
    "# End of notebook 4 - Training stage 1"
   ]
  }
 ],
 "metadata": {
  "kernelspec": {
   "display_name": "astro-ml",
   "language": "python",
   "name": "python3"
  },
  "language_info": {
   "codemirror_mode": {
    "name": "ipython",
    "version": 3
   },
   "file_extension": ".py",
   "mimetype": "text/x-python",
   "name": "python",
   "nbconvert_exporter": "python",
   "pygments_lexer": "ipython3",
   "version": "3.10.18"
  }
 },
 "nbformat": 4,
 "nbformat_minor": 5
}
