{
 "cells": [
  {
   "cell_type": "markdown",
   "id": "7036d689",
   "metadata": {},
   "source": [
    "# Space Images Classifier - Using Kaggle dataset\n",
    "\n",
    "https://www.kaggle.com/datasets/abhikalpsrivastava15/space-images-category?utm_source=chatgpt.com\n",
    "\n",
    "### Notebook 4 - Training stage 1 (Frozen backbone)"
   ]
  },
  {
   "cell_type": "markdown",
   "id": "255efa75",
   "metadata": {},
   "source": [
    "# Import librairies"
   ]
  },
  {
   "cell_type": "code",
   "execution_count": 1,
   "id": "937ec054",
   "metadata": {},
   "outputs": [],
   "source": [
    "import numpy as np\n",
    "import pandas as pd\n",
    "\n",
    "import matplotlib.pyplot as plt\n",
    "import seaborn as sns\n",
    "\n",
    "import sys\n",
    "import os\n",
    "import json\n",
    "\n",
    "# Add the root folder to Python's module search path\n",
    "sys.path.append(os.path.abspath(os.path.join(\"..\"))) \n",
    "# Import the project configuration\n",
    "from config import DEVICE, OUTPUT_PATH, BATCH_SIZE, NUM_WORKERS, EPOCHS_STAGE1, LEARNING_RATE_STAGE1\n",
    "from models import SpaceClassifier\n",
    "from train_utils import train_epoch, validate\n",
    "from datasets import SpaceImageDataset, train_transforms, val_test_transforms\n",
    "\n",
    "import shutil\n",
    "from pathlib import Path\n",
    "import cv2\n",
    "from tqdm import tqdm\n",
    "import random\n",
    "\n",
    "import warnings\n",
    "warnings.filterwarnings('ignore')\n",
    "\n",
    "import torch\n",
    "import torch.nn as nn\n",
    "import torch.optim as optim\n",
    "from torch.utils.data import Dataset, DataLoader\n",
    "from torchvision import transforms, models\n",
    "from torch.optim.lr_scheduler import ReduceLROnPlateau\n",
    "import torchvision.transforms.functional as TF\n",
    "\n",
    "from sklearn.model_selection import train_test_split\n",
    "from sklearn.metrics import classification_report, confusion_matrix, accuracy_score\n",
    "from sklearn.utils import class_weight"
   ]
  },
  {
   "cell_type": "markdown",
   "id": "b4f7aebf",
   "metadata": {},
   "source": [
    "# Load callback/config variables"
   ]
  },
  {
   "cell_type": "code",
   "execution_count": 2,
   "id": "5766abd9",
   "metadata": {},
   "outputs": [],
   "source": [
    "ROOT_PATH = Path(\"..\")\n",
    "# Path to load JSON\n",
    "CONFIG_JSON_PATH = ROOT_PATH / \"config_dynamic.json\"\n",
    "\n",
    "try:\n",
    "    with open(CONFIG_JSON_PATH) as f:\n",
    "        dynamic_config = json.load(f)\n",
    "except FileNotFoundError:\n",
    "    dynamic_config = {}\n",
    "    \n",
    "NUM_CLASSES = dynamic_config.get(\"NUM_CLASSES\", 0)\n",
    "class_names = dynamic_config.get(\"class_names\", [])\n",
    "split_success = dynamic_config.get(\"split_success\", 5)\n",
    "\n",
    "# Path to the saved tensor\n",
    "WEIGHTS_PATH = Path(\"models\") / \"class_weights_tensor.pth\"\n",
    "\n",
    "# Load the tensor\n",
    "class_weights_tensor = torch.load(WEIGHTS_PATH, map_location=DEVICE)"
   ]
  },
  {
   "cell_type": "code",
   "execution_count": 3,
   "id": "ec3f6ab2",
   "metadata": {},
   "outputs": [
    {
     "data": {
      "text/plain": [
       "tensor([1.0052, 1.1092, 0.7798, 1.0904, 1.0461, 1.0546], device='mps:0')"
      ]
     },
     "execution_count": 3,
     "metadata": {},
     "output_type": "execute_result"
    }
   ],
   "source": [
    "class_weights_tensor"
   ]
  },
  {
   "cell_type": "markdown",
   "id": "58bc9a1b",
   "metadata": {},
   "source": [
    "# Training stage 1 with frozen backbone"
   ]
  },
  {
   "cell_type": "markdown",
   "id": "fb148444",
   "metadata": {},
   "source": [
    "## Create EfficientNet-B0 model"
   ]
  },
  {
   "cell_type": "code",
   "execution_count": 4,
   "id": "02640134",
   "metadata": {},
   "outputs": [
    {
     "name": "stdout",
     "output_type": "stream",
     "text": [
      "================================================================================\n",
      "Model created: EfficientNet-B0\n",
      "Device: mps\n",
      "Total parameters: 4,796,290\n",
      "Trainable parameters: 788,742\n",
      "================================================================================\n"
     ]
    }
   ],
   "source": [
    "# Create model\n",
    "model = SpaceClassifier(NUM_CLASSES, pretrained=True)\n",
    "model = model.to(DEVICE)\n",
    "\n",
    "print(\"=\" * 80)\n",
    "print(f\"Model created: EfficientNet-B0\")\n",
    "print(f\"Device: {DEVICE}\")\n",
    "\n",
    "# Count parameters\n",
    "total_params = sum(p.numel() for p in model.parameters())\n",
    "trainable_params = sum(p.numel() for p in model.parameters() if p.requires_grad)\n",
    "print(f\"Total parameters: {total_params:,}\")\n",
    "print(f\"Trainable parameters: {trainable_params:,}\")\n",
    "\n",
    "print(\"=\" * 80)"
   ]
  },
  {
   "cell_type": "code",
   "execution_count": 5,
   "id": "651f237f",
   "metadata": {},
   "outputs": [
    {
     "name": "stdout",
     "output_type": "stream",
     "text": [
      "Sequential(\n",
      "  (0): Dropout(p=0.4, inplace=False)\n",
      "  (1): Linear(in_features=1280, out_features=512, bias=True)\n",
      "  (2): ReLU()\n",
      "  (3): Dropout(p=0.3, inplace=False)\n",
      "  (4): Linear(in_features=512, out_features=256, bias=True)\n",
      "  (5): ReLU()\n",
      "  (6): Dropout(p=0.2, inplace=False)\n",
      "  (7): Linear(in_features=256, out_features=6, bias=True)\n",
      ")\n"
     ]
    }
   ],
   "source": [
    "print(model.backbone.classifier)"
   ]
  },
  {
   "cell_type": "markdown",
   "id": "42f8dae4",
   "metadata": {},
   "source": [
    "## Create Dataset"
   ]
  },
  {
   "cell_type": "code",
   "execution_count": 6,
   "id": "50cf59ea",
   "metadata": {},
   "outputs": [],
   "source": [
    "train_dataset = SpaceImageDataset(OUTPUT_PATH / \"train\", transform=train_transforms)\n",
    "val_dataset = SpaceImageDataset(OUTPUT_PATH / \"validation\", transform=val_test_transforms)"
   ]
  },
  {
   "cell_type": "markdown",
   "id": "5a4e3dbd",
   "metadata": {},
   "source": [
    "## Create Data loaders"
   ]
  },
  {
   "cell_type": "code",
   "execution_count": 7,
   "id": "668074ee",
   "metadata": {},
   "outputs": [],
   "source": [
    "train_loader = DataLoader(\n",
    "    train_dataset, \n",
    "    batch_size=BATCH_SIZE,\n",
    "    shuffle=True, \n",
    "    num_workers=NUM_WORKERS,\n",
    "    pin_memory=True if DEVICE.type == 'mps' else False\n",
    ")\n",
    "\n",
    "val_loader = DataLoader(\n",
    "    val_dataset, \n",
    "    batch_size=BATCH_SIZE, \n",
    "    shuffle=False, \n",
    "    num_workers=NUM_WORKERS,\n",
    "    pin_memory=True if DEVICE.type == 'mps' else False\n",
    ")"
   ]
  },
  {
   "cell_type": "markdown",
   "id": "c0963a13",
   "metadata": {},
   "source": [
    "## Training the model - Phase 1"
   ]
  },
  {
   "cell_type": "code",
   "execution_count": 8,
   "id": "27350b3f",
   "metadata": {},
   "outputs": [
    {
     "name": "stdout",
     "output_type": "stream",
     "text": [
      "================================================================================\n",
      "Starting Stage 1 Training\n",
      "--------------------------------------------------------------------------------\n",
      "Estimated time on M1: 30-60 minutes\n",
      "\n",
      "================================================================================\n",
      "================================================================================\n",
      "Epoch 1/25\n",
      "------------------------------------------------------------\n"
     ]
    },
    {
     "name": "stderr",
     "output_type": "stream",
     "text": [
      "Training:   0%|          | 0/25 [00:00<?, ?it/s]libpng warning: iCCP: known incorrect sRGB profile\n",
      "Training:  12%|█▏        | 3/25 [00:03<00:22,  1.03s/it, loss=1.8026, acc=21.88%]libpng warning: iCCP: known incorrect sRGB profile\n",
      "Training:  36%|███▌      | 9/25 [00:04<00:03,  4.10it/s, loss=1.7244, acc=27.43%]libpng warning: iCCP: known incorrect sRGB profile\n",
      "libpng warning: iCCP: known incorrect sRGB profile\n",
      "Training:  52%|█████▏    | 13/25 [00:05<00:02,  4.68it/s, loss=1.5246, acc=32.21%]libpng warning: iCCP: known incorrect sRGB profile\n",
      "Training: 100%|██████████| 25/25 [00:28<00:00,  1.14s/it, loss=0.8966, acc=38.47%]\n",
      "Validation: 100%|██████████| 6/6 [00:23<00:00,  3.97s/it, loss=2.1977, acc=48.47%]\n"
     ]
    },
    {
     "name": "stdout",
     "output_type": "stream",
     "text": [
      "\n",
      "Train Loss: 1.5849 | Train Acc: 38.47%\n",
      "Val Loss:   1.2901 | Val Acc:   48.47%\n",
      "Best model saved! (Val Acc: 48.47%)\n",
      "================================================================================\n",
      "Epoch 2/25\n",
      "------------------------------------------------------------\n"
     ]
    },
    {
     "name": "stderr",
     "output_type": "stream",
     "text": [
      "Training:   0%|          | 0/25 [00:00<?, ?it/s]libpng warning: iCCP: known incorrect sRGB profile\n",
      "Training:  20%|██        | 5/25 [00:03<00:10,  1.94it/s, loss=1.4904, acc=58.75%]libpng warning: iCCP: known incorrect sRGB profile\n",
      "Training:  28%|██▊       | 7/25 [00:04<00:07,  2.32it/s, loss=1.2554, acc=54.69%]libpng warning: iCCP: known incorrect sRGB profile\n",
      "libpng warning: iCCP: known incorrect sRGB profile\n",
      "Training:  68%|██████▊   | 17/25 [00:06<00:01,  5.17it/s, loss=1.0321, acc=56.43%]libpng warning: iCCP: known incorrect sRGB profile\n",
      "Training: 100%|██████████| 25/25 [00:27<00:00,  1.11s/it, loss=1.0217, acc=55.96%]\n",
      "Validation: 100%|██████████| 6/6 [00:23<00:00,  3.89s/it, loss=2.1168, acc=50.31%]\n"
     ]
    },
    {
     "name": "stdout",
     "output_type": "stream",
     "text": [
      "\n",
      "Train Loss: 1.1535 | Train Acc: 55.96%\n",
      "Val Loss:   1.2116 | Val Acc:   50.31%\n",
      "Best model saved! (Val Acc: 50.31%)\n",
      "================================================================================\n",
      "Epoch 3/25\n",
      "------------------------------------------------------------\n"
     ]
    },
    {
     "name": "stderr",
     "output_type": "stream",
     "text": [
      "Training:   0%|          | 0/25 [00:00<?, ?it/s]libpng warning: iCCP: known incorrect sRGB profile\n",
      "Training:  20%|██        | 5/25 [00:03<00:11,  1.75it/s, loss=1.4465, acc=58.12%]libpng warning: iCCP: known incorrect sRGB profile\n",
      "libpng warning: iCCP: known incorrect sRGB profile\n",
      "Training:  52%|█████▏    | 13/25 [00:05<00:03,  4.00it/s, loss=1.0670, acc=58.41%]libpng warning: iCCP: known incorrect sRGB profile\n",
      "Training:  72%|███████▏  | 18/25 [00:06<00:01,  4.88it/s, loss=0.9009, acc=61.18%]libpng warning: iCCP: known incorrect sRGB profile\n",
      "Training: 100%|██████████| 25/25 [00:27<00:00,  1.11s/it, loss=1.2719, acc=59.59%]\n",
      "Validation: 100%|██████████| 6/6 [00:23<00:00,  3.88s/it, loss=2.4240, acc=51.53%]\n"
     ]
    },
    {
     "name": "stdout",
     "output_type": "stream",
     "text": [
      "\n",
      "Train Loss: 1.0511 | Train Acc: 59.59%\n",
      "Val Loss:   1.2189 | Val Acc:   51.53%\n",
      "Best model saved! (Val Acc: 51.53%)\n",
      "================================================================================\n",
      "Epoch 4/25\n",
      "------------------------------------------------------------\n"
     ]
    },
    {
     "name": "stderr",
     "output_type": "stream",
     "text": [
      "Training:   0%|          | 0/25 [00:00<?, ?it/s]libpng warning: iCCP: known incorrect sRGB profile\n",
      "Training:  36%|███▌      | 9/25 [00:04<00:05,  3.11it/s, loss=0.9900, acc=59.38%]libpng warning: iCCP: known incorrect sRGB profile\n",
      "Training:  60%|██████    | 15/25 [00:05<00:01,  5.49it/s, loss=1.2943, acc=60.00%]libpng warning: iCCP: known incorrect sRGB profile\n",
      "Training:  64%|██████▍   | 16/25 [00:06<00:02,  3.57it/s, loss=1.2420, acc=59.77%]libpng warning: iCCP: known incorrect sRGB profile\n",
      "Training:  84%|████████▍ | 21/25 [00:06<00:00,  5.60it/s, loss=1.0357, acc=59.97%]libpng warning: iCCP: known incorrect sRGB profile\n",
      "Training: 100%|██████████| 25/25 [00:27<00:00,  1.12s/it, loss=1.6481, acc=60.75%]\n",
      "Validation: 100%|██████████| 6/6 [00:23<00:00,  3.90s/it, loss=2.5256, acc=50.92%]\n"
     ]
    },
    {
     "name": "stdout",
     "output_type": "stream",
     "text": [
      "\n",
      "Train Loss: 0.9989 | Train Acc: 60.75%\n",
      "Val Loss:   1.1723 | Val Acc:   50.92%\n",
      "================================================================================\n",
      "Epoch 5/25\n",
      "------------------------------------------------------------\n"
     ]
    },
    {
     "name": "stderr",
     "output_type": "stream",
     "text": [
      "Training:   0%|          | 0/25 [00:00<?, ?it/s]libpng warning: iCCP: known incorrect sRGB profile\n",
      "Training:  28%|██▊       | 7/25 [00:04<00:06,  2.73it/s, loss=0.8989, acc=67.19%]libpng warning: iCCP: known incorrect sRGB profile\n",
      "Training:  44%|████▍     | 11/25 [00:05<00:03,  3.74it/s, loss=0.9992, acc=66.41%]libpng warning: iCCP: known incorrect sRGB profile\n",
      "libpng warning: iCCP: known incorrect sRGB profile\n",
      "Training:  76%|███████▌  | 19/25 [00:06<00:01,  4.56it/s, loss=0.5806, acc=65.62%]libpng warning: iCCP: known incorrect sRGB profile\n",
      "Training: 100%|██████████| 25/25 [00:27<00:00,  1.10s/it, loss=2.3716, acc=65.54%]\n",
      "Validation: 100%|██████████| 6/6 [00:23<00:00,  3.90s/it, loss=1.3650, acc=53.37%]\n"
     ]
    },
    {
     "name": "stdout",
     "output_type": "stream",
     "text": [
      "\n",
      "Train Loss: 0.9495 | Train Acc: 65.54%\n",
      "Val Loss:   1.1528 | Val Acc:   53.37%\n",
      "Best model saved! (Val Acc: 53.37%)\n",
      "================================================================================\n",
      "Epoch 6/25\n",
      "------------------------------------------------------------\n"
     ]
    },
    {
     "name": "stderr",
     "output_type": "stream",
     "text": [
      "Training:   0%|          | 0/25 [00:00<?, ?it/s]libpng warning: iCCP: known incorrect sRGB profile\n",
      "libpng warning: iCCP: known incorrect sRGB profile\n",
      "libpng warning: iCCP: known incorrect sRGB profile\n",
      "Training:  12%|█▏        | 3/25 [00:03<00:21,  1.04it/s, loss=0.7590, acc=73.44%]libpng warning: iCCP: known incorrect sRGB profile\n",
      "Training:  56%|█████▌    | 14/25 [00:05<00:02,  5.00it/s, loss=0.9387, acc=67.86%]libpng warning: iCCP: known incorrect sRGB profile\n",
      "Training: 100%|██████████| 25/25 [00:27<00:00,  1.11s/it, loss=0.7461, acc=65.41%]\n",
      "Validation: 100%|██████████| 6/6 [00:23<00:00,  3.89s/it, loss=1.7410, acc=56.44%]\n"
     ]
    },
    {
     "name": "stdout",
     "output_type": "stream",
     "text": [
      "\n",
      "Train Loss: 0.9164 | Train Acc: 65.41%\n",
      "Val Loss:   1.1137 | Val Acc:   56.44%\n",
      "Best model saved! (Val Acc: 56.44%)\n",
      "================================================================================\n",
      "Epoch 7/25\n",
      "------------------------------------------------------------\n"
     ]
    },
    {
     "name": "stderr",
     "output_type": "stream",
     "text": [
      "Training:   0%|          | 0/25 [00:00<?, ?it/s]libpng warning: iCCP: known incorrect sRGB profile\n",
      "Training:  28%|██▊       | 7/25 [00:04<00:06,  2.82it/s, loss=0.8302, acc=70.31%]libpng warning: iCCP: known incorrect sRGB profile\n",
      "libpng warning: iCCP: known incorrect sRGB profile\n",
      "Training:  60%|██████    | 15/25 [00:06<00:02,  4.14it/s, loss=0.8300, acc=68.55%]libpng warning: iCCP: known incorrect sRGB profile\n",
      "Training:  76%|███████▌  | 19/25 [00:07<00:01,  4.39it/s, loss=0.9350, acc=68.44%]libpng warning: iCCP: known incorrect sRGB profile\n",
      "Training: 100%|██████████| 25/25 [00:28<00:00,  1.14s/it, loss=1.9419, acc=67.75%]\n",
      "Validation: 100%|██████████| 6/6 [00:23<00:00,  3.91s/it, loss=2.1232, acc=57.06%]\n"
     ]
    },
    {
     "name": "stdout",
     "output_type": "stream",
     "text": [
      "\n",
      "Train Loss: 0.9010 | Train Acc: 67.75%\n",
      "Val Loss:   1.1073 | Val Acc:   57.06%\n",
      "Best model saved! (Val Acc: 57.06%)\n",
      "================================================================================\n",
      "Epoch 8/25\n",
      "------------------------------------------------------------\n"
     ]
    },
    {
     "name": "stderr",
     "output_type": "stream",
     "text": [
      "Training:  12%|█▏        | 3/25 [00:03<00:19,  1.16it/s, loss=0.8581, acc=69.53%]libpng warning: iCCP: known incorrect sRGB profile\n",
      "libpng warning: iCCP: known incorrect sRGB profile\n",
      "Training:  60%|██████    | 15/25 [00:06<00:02,  4.28it/s, loss=0.9782, acc=68.36%]libpng warning: iCCP: known incorrect sRGB profile\n",
      "Training:  76%|███████▌  | 19/25 [00:06<00:01,  5.73it/s, loss=0.6906, acc=68.12%]libpng warning: iCCP: known incorrect sRGB profile\n",
      "libpng warning: iCCP: known incorrect sRGB profile\n",
      "Training: 100%|██████████| 25/25 [00:27<00:00,  1.11s/it, loss=1.4759, acc=68.01%]\n",
      "Validation: 100%|██████████| 6/6 [00:23<00:00,  3.92s/it, loss=2.0145, acc=55.83%]\n"
     ]
    },
    {
     "name": "stdout",
     "output_type": "stream",
     "text": [
      "\n",
      "Train Loss: 0.8845 | Train Acc: 68.01%\n",
      "Val Loss:   1.1331 | Val Acc:   55.83%\n",
      "================================================================================\n",
      "Epoch 9/25\n",
      "------------------------------------------------------------\n"
     ]
    },
    {
     "name": "stderr",
     "output_type": "stream",
     "text": [
      "Training:   0%|          | 0/25 [00:00<?, ?it/s]libpng warning: iCCP: known incorrect sRGB profile\n",
      "Training:  52%|█████▏    | 13/25 [00:05<00:03,  3.83it/s, loss=0.5228, acc=69.23%]libpng warning: iCCP: known incorrect sRGB profile\n",
      "Training:  64%|██████▍   | 16/25 [00:06<00:02,  3.70it/s, loss=0.9661, acc=66.91%]libpng warning: iCCP: known incorrect sRGB profile\n",
      "Training:  72%|███████▏  | 18/25 [00:07<00:01,  3.79it/s, loss=1.0365, acc=65.95%]libpng warning: iCCP: known incorrect sRGB profile\n",
      "Training:  80%|████████  | 20/25 [00:07<00:00,  5.00it/s, loss=1.0650, acc=65.00%]libpng warning: iCCP: known incorrect sRGB profile\n",
      "Training: 100%|██████████| 25/25 [00:28<00:00,  1.12s/it, loss=2.0547, acc=65.67%]\n",
      "Validation: 100%|██████████| 6/6 [00:23<00:00,  3.90s/it, loss=1.8932, acc=57.06%]\n"
     ]
    },
    {
     "name": "stdout",
     "output_type": "stream",
     "text": [
      "\n",
      "Train Loss: 0.8715 | Train Acc: 65.67%\n",
      "Val Loss:   1.1153 | Val Acc:   57.06%\n",
      "================================================================================\n",
      "Epoch 10/25\n",
      "------------------------------------------------------------\n"
     ]
    },
    {
     "name": "stderr",
     "output_type": "stream",
     "text": [
      "Training:   0%|          | 0/25 [00:00<?, ?it/s]libpng warning: iCCP: known incorrect sRGB profile\n",
      "libpng warning: iCCP: known incorrect sRGB profile\n",
      "Training:  24%|██▍       | 6/25 [00:04<00:09,  1.99it/s, loss=0.6885, acc=70.83%]libpng warning: iCCP: known incorrect sRGB profile\n",
      "Training:  52%|█████▏    | 13/25 [00:05<00:03,  3.99it/s, loss=0.7438, acc=69.87%]libpng warning: iCCP: known incorrect sRGB profile\n",
      "Training:  68%|██████▊   | 17/25 [00:06<00:01,  4.47it/s, loss=0.9541, acc=70.40%]libpng warning: iCCP: known incorrect sRGB profile\n",
      "Training: 100%|██████████| 25/25 [00:28<00:00,  1.13s/it, loss=1.5913, acc=70.98%]\n",
      "Validation: 100%|██████████| 6/6 [00:23<00:00,  3.94s/it, loss=1.3646, acc=59.51%]\n"
     ]
    },
    {
     "name": "stdout",
     "output_type": "stream",
     "text": [
      "\n",
      "Train Loss: 0.8393 | Train Acc: 70.98%\n",
      "Val Loss:   1.1237 | Val Acc:   59.51%\n",
      "Best model saved! (Val Acc: 59.51%)\n",
      "================================================================================\n",
      "Epoch 11/25\n",
      "------------------------------------------------------------\n"
     ]
    },
    {
     "name": "stderr",
     "output_type": "stream",
     "text": [
      "Training:   0%|          | 0/25 [00:00<?, ?it/s]libpng warning: iCCP: known incorrect sRGB profile\n",
      "libpng warning: iCCP: known incorrect sRGB profile\n",
      "Training:  40%|████      | 10/25 [00:05<00:04,  3.47it/s, loss=0.6869, acc=73.12%]libpng warning: iCCP: known incorrect sRGB profile\n",
      "Training:  56%|█████▌    | 14/25 [00:06<00:02,  3.73it/s, loss=1.1468, acc=71.04%]libpng warning: iCCP: known incorrect sRGB profile\n",
      "Training:  76%|███████▌  | 19/25 [00:07<00:01,  4.10it/s, loss=0.6065, acc=71.22%]libpng warning: iCCP: known incorrect sRGB profile\n",
      "Training: 100%|██████████| 25/25 [00:28<00:00,  1.13s/it, loss=1.0052, acc=70.85%]\n",
      "Validation: 100%|██████████| 6/6 [00:23<00:00,  3.96s/it, loss=1.5138, acc=58.90%]\n"
     ]
    },
    {
     "name": "stdout",
     "output_type": "stream",
     "text": [
      "\n",
      "Train Loss: 0.8224 | Train Acc: 70.85%\n",
      "Val Loss:   1.1501 | Val Acc:   58.90%\n",
      "================================================================================\n",
      "Epoch 12/25\n",
      "------------------------------------------------------------\n"
     ]
    },
    {
     "name": "stderr",
     "output_type": "stream",
     "text": [
      "Training:   0%|          | 0/25 [00:00<?, ?it/s]libpng warning: iCCP: known incorrect sRGB profile\n",
      "libpng warning: iCCP: known incorrect sRGB profile\n",
      "Training:   4%|▍         | 1/25 [00:03<01:13,  3.08s/it, loss=0.5571, acc=70.31%]libpng warning: iCCP: known incorrect sRGB profile\n",
      "Training:  60%|██████    | 15/25 [00:06<00:02,  3.80it/s, loss=0.6776, acc=72.85%]libpng warning: iCCP: known incorrect sRGB profile\n",
      "Training:  76%|███████▌  | 19/25 [00:07<00:01,  3.95it/s, loss=0.8660, acc=71.72%]libpng warning: iCCP: known incorrect sRGB profile\n",
      "Training: 100%|██████████| 25/25 [00:28<00:00,  1.13s/it, loss=1.2525, acc=70.98%]\n",
      "Validation: 100%|██████████| 6/6 [00:23<00:00,  3.88s/it, loss=1.6903, acc=57.06%]\n"
     ]
    },
    {
     "name": "stdout",
     "output_type": "stream",
     "text": [
      "\n",
      "Train Loss: 0.7310 | Train Acc: 70.98%\n",
      "Val Loss:   1.2197 | Val Acc:   57.06%\n",
      "================================================================================\n",
      "Epoch 13/25\n",
      "------------------------------------------------------------\n"
     ]
    },
    {
     "name": "stderr",
     "output_type": "stream",
     "text": [
      "Training:   0%|          | 0/25 [00:00<?, ?it/s]libpng warning: iCCP: known incorrect sRGB profile\n",
      "libpng warning: iCCP: known incorrect sRGB profile\n",
      "Training:  28%|██▊       | 7/25 [00:04<00:06,  2.58it/s, loss=0.6784, acc=69.20%]libpng warning: iCCP: known incorrect sRGB profile\n",
      "Training:  60%|██████    | 15/25 [00:06<00:02,  3.68it/s, loss=0.8341, acc=67.97%]libpng warning: iCCP: known incorrect sRGB profile\n",
      "Training:  80%|████████  | 20/25 [00:07<00:01,  4.79it/s, loss=0.6052, acc=69.22%]libpng warning: iCCP: known incorrect sRGB profile\n",
      "Training: 100%|██████████| 25/25 [00:28<00:00,  1.12s/it, loss=0.8887, acc=68.26%]\n",
      "Validation: 100%|██████████| 6/6 [00:23<00:00,  3.87s/it, loss=1.6152, acc=54.60%]\n"
     ]
    },
    {
     "name": "stdout",
     "output_type": "stream",
     "text": [
      "\n",
      "Train Loss: 0.7791 | Train Acc: 68.26%\n",
      "Val Loss:   1.2065 | Val Acc:   54.60%\n",
      "================================================================================\n",
      "Epoch 14/25\n",
      "------------------------------------------------------------\n"
     ]
    },
    {
     "name": "stderr",
     "output_type": "stream",
     "text": [
      "Training:   0%|          | 0/25 [00:00<?, ?it/s]libpng warning: iCCP: known incorrect sRGB profile\n",
      "Training:  16%|█▌        | 4/25 [00:03<00:10,  1.91it/s, loss=0.7391, acc=65.62%]libpng warning: iCCP: known incorrect sRGB profile\n",
      "Training:  16%|█▌        | 4/25 [00:03<00:10,  1.91it/s, loss=0.7392, acc=65.00%]libpng warning: iCCP: known incorrect sRGB profile\n",
      "Training:  48%|████▊     | 12/25 [00:05<00:03,  3.40it/s, loss=0.5206, acc=68.75%]libpng warning: iCCP: known incorrect sRGB profile\n",
      "Training:  48%|████▊     | 12/25 [00:05<00:03,  3.40it/s, loss=0.5240, acc=69.47%]libpng warning: iCCP: known incorrect sRGB profile\n",
      "Training: 100%|██████████| 25/25 [00:28<00:00,  1.14s/it, loss=0.9720, acc=69.95%]\n",
      "Validation: 100%|██████████| 6/6 [00:23<00:00,  3.87s/it, loss=1.4256, acc=58.28%]\n"
     ]
    },
    {
     "name": "stdout",
     "output_type": "stream",
     "text": [
      "\n",
      "Train Loss: 0.7740 | Train Acc: 69.95%\n",
      "Val Loss:   1.1499 | Val Acc:   58.28%\n",
      "================================================================================\n",
      "Epoch 15/25\n",
      "------------------------------------------------------------\n"
     ]
    },
    {
     "name": "stderr",
     "output_type": "stream",
     "text": [
      "Training:   0%|          | 0/25 [00:00<?, ?it/s]libpng warning: iCCP: known incorrect sRGB profile\n",
      "Training:  32%|███▏      | 8/25 [00:04<00:05,  3.09it/s, loss=0.7738, acc=73.96%]libpng warning: iCCP: known incorrect sRGB profile\n",
      "Training:  48%|████▊     | 12/25 [00:05<00:03,  4.18it/s, loss=0.9312, acc=71.39%]libpng warning: iCCP: known incorrect sRGB profile\n",
      "libpng warning: iCCP: known incorrect sRGB profile\n",
      "Training:  72%|███████▏  | 18/25 [00:07<00:01,  4.21it/s, loss=0.7038, acc=72.37%]libpng warning: iCCP: known incorrect sRGB profile\n",
      "Training: 100%|██████████| 25/25 [00:27<00:00,  1.12s/it, loss=1.1144, acc=72.28%]\n",
      "Validation: 100%|██████████| 6/6 [00:24<00:00,  4.02s/it, loss=1.4179, acc=57.67%]\n"
     ]
    },
    {
     "name": "stdout",
     "output_type": "stream",
     "text": [
      "\n",
      "Train Loss: 0.7312 | Train Acc: 72.28%\n",
      "Val Loss:   1.1310 | Val Acc:   57.67%\n",
      "================================================================================\n",
      "Epoch 16/25\n",
      "------------------------------------------------------------\n"
     ]
    },
    {
     "name": "stderr",
     "output_type": "stream",
     "text": [
      "Training:   0%|          | 0/25 [00:00<?, ?it/s]libpng warning: iCCP: known incorrect sRGB profile\n",
      "Training:  36%|███▌      | 9/25 [00:05<00:05,  2.92it/s, loss=0.7308, acc=70.62%]libpng warning: iCCP: known incorrect sRGB profile\n",
      "Training:  44%|████▍     | 11/25 [00:06<00:04,  3.02it/s, loss=0.9265, acc=70.31%]libpng warning: iCCP: known incorrect sRGB profile\n",
      "Training:  80%|████████  | 20/25 [00:07<00:00,  5.78it/s, loss=0.9127, acc=70.16%]libpng warning: iCCP: known incorrect sRGB profile\n",
      "Training:  84%|████████▍ | 21/25 [00:07<00:00,  5.29it/s, loss=0.7095, acc=70.54%]libpng warning: iCCP: known incorrect sRGB profile\n",
      "Training: 100%|██████████| 25/25 [00:28<00:00,  1.15s/it, loss=1.7703, acc=70.60%]\n",
      "Validation: 100%|██████████| 6/6 [00:23<00:00,  3.94s/it, loss=1.7114, acc=58.90%]\n"
     ]
    },
    {
     "name": "stdout",
     "output_type": "stream",
     "text": [
      "\n",
      "Train Loss: 0.7802 | Train Acc: 70.60%\n",
      "Val Loss:   1.1262 | Val Acc:   58.90%\n",
      "================================================================================\n",
      "Epoch 17/25\n",
      "------------------------------------------------------------\n"
     ]
    },
    {
     "name": "stderr",
     "output_type": "stream",
     "text": [
      "Training:   0%|          | 0/25 [00:00<?, ?it/s]libpng warning: iCCP: known incorrect sRGB profile\n",
      "Training:  24%|██▍       | 6/25 [00:04<00:08,  2.20it/s, loss=0.8584, acc=74.55%]libpng warning: iCCP: known incorrect sRGB profile\n",
      "Training:  52%|█████▏    | 13/25 [00:05<00:03,  3.35it/s, loss=0.6850, acc=75.72%]libpng warning: iCCP: known incorrect sRGB profile\n",
      "libpng warning: iCCP: known incorrect sRGB profile\n",
      "Training:  68%|██████▊   | 17/25 [00:06<00:01,  4.34it/s, loss=0.6052, acc=75.18%]libpng warning: iCCP: known incorrect sRGB profile\n",
      "Training: 100%|██████████| 25/25 [00:28<00:00,  1.13s/it, loss=1.3745, acc=74.09%]\n",
      "Validation: 100%|██████████| 6/6 [00:23<00:00,  3.90s/it, loss=1.6769, acc=55.83%]\n"
     ]
    },
    {
     "name": "stdout",
     "output_type": "stream",
     "text": [
      "\n",
      "Train Loss: 0.7381 | Train Acc: 74.09%\n",
      "Val Loss:   1.1937 | Val Acc:   55.83%\n",
      "================================================================================\n",
      "Epoch 18/25\n",
      "------------------------------------------------------------\n"
     ]
    },
    {
     "name": "stderr",
     "output_type": "stream",
     "text": [
      "Training:   0%|          | 0/25 [00:00<?, ?it/s]libpng warning: iCCP: known incorrect sRGB profile\n",
      "Training:   4%|▍         | 1/25 [00:03<01:20,  3.35s/it, loss=0.8477, acc=68.75%]libpng warning: iCCP: known incorrect sRGB profile\n",
      "Training:  24%|██▍       | 6/25 [00:04<00:09,  1.91it/s, loss=0.5671, acc=74.11%]libpng warning: iCCP: known incorrect sRGB profile\n",
      "Training:  52%|█████▏    | 13/25 [00:05<00:02,  5.10it/s, loss=0.6227, acc=74.28%]libpng warning: iCCP: known incorrect sRGB profile\n",
      "Training:  80%|████████  | 20/25 [00:07<00:01,  4.72it/s, loss=0.6458, acc=73.36%]libpng warning: iCCP: known incorrect sRGB profile\n",
      "Training: 100%|██████████| 25/25 [00:28<00:00,  1.13s/it, loss=0.6238, acc=72.41%]\n",
      "Validation: 100%|██████████| 6/6 [00:23<00:00,  3.90s/it, loss=1.7710, acc=57.67%]\n"
     ]
    },
    {
     "name": "stdout",
     "output_type": "stream",
     "text": [
      "\n",
      "Train Loss: 0.7039 | Train Acc: 72.41%\n",
      "Val Loss:   1.1546 | Val Acc:   57.67%\n",
      "================================================================================\n",
      "Epoch 19/25\n",
      "------------------------------------------------------------\n"
     ]
    },
    {
     "name": "stderr",
     "output_type": "stream",
     "text": [
      "Training:  36%|███▌      | 9/25 [00:05<00:05,  2.98it/s, loss=0.9103, acc=69.79%]libpng warning: iCCP: known incorrect sRGB profile\n",
      "Training:  48%|████▊     | 12/25 [00:05<00:03,  3.97it/s, loss=0.4258, acc=72.14%]libpng warning: iCCP: known incorrect sRGB profile\n",
      "Training:  52%|█████▏    | 13/25 [00:06<00:03,  3.29it/s, loss=0.5840, acc=72.32%]libpng warning: iCCP: known incorrect sRGB profile\n",
      "Training:  60%|██████    | 15/25 [00:06<00:02,  4.38it/s, loss=0.6438, acc=73.44%]libpng warning: iCCP: known incorrect sRGB profile\n",
      "libpng warning: iCCP: known incorrect sRGB profile\n",
      "Training: 100%|██████████| 25/25 [00:28<00:00,  1.13s/it, loss=0.6617, acc=71.76%]\n",
      "Validation: 100%|██████████| 6/6 [00:23<00:00,  3.89s/it, loss=1.5408, acc=57.67%]\n"
     ]
    },
    {
     "name": "stdout",
     "output_type": "stream",
     "text": [
      "\n",
      "Train Loss: 0.7008 | Train Acc: 71.76%\n",
      "Val Loss:   1.1522 | Val Acc:   57.67%\n",
      "================================================================================\n",
      "Epoch 20/25\n",
      "------------------------------------------------------------\n"
     ]
    },
    {
     "name": "stderr",
     "output_type": "stream",
     "text": [
      "Training:   0%|          | 0/25 [00:00<?, ?it/s]libpng warning: iCCP: known incorrect sRGB profile\n",
      "Training:  36%|███▌      | 9/25 [00:04<00:04,  3.63it/s, loss=0.7329, acc=75.00%]libpng warning: iCCP: known incorrect sRGB profile\n",
      "Training:  52%|█████▏    | 13/25 [00:05<00:02,  5.33it/s, loss=0.8770, acc=75.96%]libpng warning: iCCP: known incorrect sRGB profile\n",
      "Training:  64%|██████▍   | 16/25 [00:06<00:02,  4.03it/s, loss=0.4197, acc=77.76%]libpng warning: iCCP: known incorrect sRGB profile\n",
      "libpng warning: iCCP: known incorrect sRGB profile\n",
      "Training: 100%|██████████| 25/25 [00:28<00:00,  1.13s/it, loss=0.5674, acc=77.46%]\n",
      "Validation: 100%|██████████| 6/6 [00:23<00:00,  3.89s/it, loss=1.2391, acc=57.67%]"
     ]
    },
    {
     "name": "stdout",
     "output_type": "stream",
     "text": [
      "\n",
      "Train Loss: 0.6483 | Train Acc: 77.46%\n",
      "Val Loss:   1.1503 | Val Acc:   57.67%\n",
      "\n",
      "Early stopping triggered (patience=10)\n",
      "\n",
      "Stage 1 training complete!\n",
      "================================================================================\n"
     ]
    },
    {
     "name": "stderr",
     "output_type": "stream",
     "text": [
      "\n"
     ]
    }
   ],
   "source": [
    "if split_success:\n",
    "    # Loss and optimizer\n",
    "    criterion = nn.CrossEntropyLoss(weight=class_weights_tensor)\n",
    "    optimizer = optim.Adam(model.parameters(), lr=LEARNING_RATE_STAGE1)\n",
    "    scheduler = ReduceLROnPlateau(optimizer, mode='min', factor=0.5, patience=5, verbose=True)\n",
    "\n",
    "    print(\"=\" * 80)\n",
    "    print(f\"Starting Stage 1 Training\")\n",
    "    print(\"-\" * 80)\n",
    "    print(f\"Estimated time on M1: 30-60 minutes\\n\")\n",
    "    print(\"=\" * 80)\n",
    "    \n",
    "    history_stage1 = {\n",
    "        'train_loss': [], 'train_acc': [],\n",
    "        'val_loss': [], 'val_acc': []\n",
    "    }\n",
    "    \n",
    "    best_val_acc = 0.0\n",
    "    patience_counter = 0\n",
    "    PATIENCE = 10\n",
    "    \n",
    "    for epoch in range(EPOCHS_STAGE1):\n",
    "        print(\"=\" * 80)\n",
    "        print(f\"Epoch {epoch+1}/{EPOCHS_STAGE1}\")\n",
    "        print(\"-\" * 60)\n",
    "        \n",
    "        # Train\n",
    "        train_loss, train_acc = train_epoch(model, train_loader, criterion, optimizer, DEVICE)\n",
    "        \n",
    "        # Validate\n",
    "        val_loss, val_acc, _, _ = validate(model, val_loader, criterion, DEVICE)\n",
    "        \n",
    "        # Scheduler step\n",
    "        scheduler.step(val_loss)\n",
    "        \n",
    "        # Save history\n",
    "        history_stage1['train_loss'].append(train_loss)\n",
    "        history_stage1['train_acc'].append(train_acc)\n",
    "        history_stage1['val_loss'].append(val_loss)\n",
    "        history_stage1['val_acc'].append(val_acc)\n",
    "        \n",
    "        print(f\"\\nTrain Loss: {train_loss:.4f} | Train Acc: {train_acc*100:.2f}%\")\n",
    "        print(f\"Val Loss:   {val_loss:.4f} | Val Acc:   {val_acc*100:.2f}%\")\n",
    "        \n",
    "        # Save best model\n",
    "        if val_acc > best_val_acc:\n",
    "            best_val_acc = val_acc\n",
    "            torch.save(model.state_dict(), 'models/stage1_best.pth')\n",
    "            print(f\"Best model saved! (Val Acc: {val_acc*100:.2f}%)\")\n",
    "            patience_counter = 0\n",
    "        else:\n",
    "            patience_counter += 1\n",
    "        \n",
    "        # Early stopping\n",
    "        if patience_counter >= PATIENCE:\n",
    "            print(f\"\\nEarly stopping triggered (patience={PATIENCE})\")\n",
    "            break\n",
    "    \n",
    "    print(\"\\nStage 1 training complete!\")\n",
    "    \n",
    "    # Load best model\n",
    "    model.load_state_dict(torch.load('models/stage1_best.pth'))\n",
    "\n",
    "else:\n",
    "    history_stage1 = None\n",
    "\n",
    "print(\"=\" * 80)"
   ]
  },
  {
   "cell_type": "markdown",
   "id": "757d57d7",
   "metadata": {},
   "source": [
    "# End of notebook 4 - Training stage 1"
   ]
  }
 ],
 "metadata": {
  "kernelspec": {
   "display_name": "astro-ml",
   "language": "python",
   "name": "python3"
  },
  "language_info": {
   "codemirror_mode": {
    "name": "ipython",
    "version": 3
   },
   "file_extension": ".py",
   "mimetype": "text/x-python",
   "name": "python",
   "nbconvert_exporter": "python",
   "pygments_lexer": "ipython3",
   "version": "3.10.18"
  }
 },
 "nbformat": 4,
 "nbformat_minor": 5
}
