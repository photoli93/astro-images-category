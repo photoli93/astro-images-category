{
 "cells": [
  {
   "cell_type": "markdown",
   "id": "7036d689",
   "metadata": {},
   "source": [
    "# Space Images Classifier - Using Kaggle dataset\n",
    "\n",
    "https://www.kaggle.com/datasets/abhikalpsrivastava15/space-images-category?utm_source=chatgpt.com\n",
    "\n",
    "### Notebook 4 - Training stage 1 (Frozen backbone)"
   ]
  },
  {
   "cell_type": "markdown",
   "id": "255efa75",
   "metadata": {},
   "source": [
    "# Import librairies"
   ]
  },
  {
   "cell_type": "code",
   "execution_count": 1,
   "id": "937ec054",
   "metadata": {},
   "outputs": [],
   "source": [
    "import numpy as np\n",
    "import pandas as pd\n",
    "\n",
    "import matplotlib.pyplot as plt\n",
    "import seaborn as sns\n",
    "\n",
    "import sys\n",
    "import os\n",
    "import json\n",
    "\n",
    "# Add the root folder to Python's module search path\n",
    "sys.path.append(os.path.abspath(os.path.join(\"..\"))) \n",
    "# Import the project configuration\n",
    "from config import DEVICE, OUTPUT_PATH, BATCH_SIZE, NUM_WORKERS, EPOCHS_STAGE1, LEARNING_RATE_STAGE1\n",
    "from models import SpaceClassifier\n",
    "from train_utils import train_epoch, validate\n",
    "from datasets import SpaceImageDataset, train_transforms, val_test_transforms\n",
    "\n",
    "import shutil\n",
    "from pathlib import Path\n",
    "import cv2\n",
    "from tqdm import tqdm\n",
    "import random\n",
    "\n",
    "import warnings\n",
    "warnings.filterwarnings('ignore')\n",
    "\n",
    "import torch\n",
    "import torch.nn as nn\n",
    "import torch.optim as optim\n",
    "from torch.utils.data import Dataset, DataLoader\n",
    "from torchvision import transforms, models\n",
    "from torch.optim.lr_scheduler import ReduceLROnPlateau\n",
    "import torchvision.transforms.functional as TF\n",
    "\n",
    "from sklearn.model_selection import train_test_split\n",
    "from sklearn.metrics import classification_report, confusion_matrix, accuracy_score\n",
    "from sklearn.utils import class_weight"
   ]
  },
  {
   "cell_type": "markdown",
   "id": "b4f7aebf",
   "metadata": {},
   "source": [
    "# Load callback/config variables"
   ]
  },
  {
   "cell_type": "code",
   "execution_count": 2,
   "id": "5766abd9",
   "metadata": {},
   "outputs": [],
   "source": [
    "ROOT_PATH = Path(\"..\")\n",
    "# Path to load JSON\n",
    "CONFIG_JSON_PATH = ROOT_PATH / \"config_dynamic.json\"\n",
    "\n",
    "try:\n",
    "    with open(CONFIG_JSON_PATH) as f:\n",
    "        dynamic_config = json.load(f)\n",
    "except FileNotFoundError:\n",
    "    dynamic_config = {}\n",
    "    \n",
    "NUM_CLASSES = dynamic_config.get(\"NUM_CLASSES\", 0)\n",
    "class_names = dynamic_config.get(\"class_names\", [])\n",
    "split_success = dynamic_config.get(\"split_success\", 5)\n",
    "\n",
    "# Path to the saved tensor\n",
    "WEIGHTS_PATH = Path(\"models\") / \"class_weights_tensor.pth\"\n",
    "\n",
    "# Load the tensor\n",
    "class_weights_tensor = torch.load(WEIGHTS_PATH, map_location=DEVICE)"
   ]
  },
  {
   "cell_type": "code",
   "execution_count": 3,
   "id": "ec3f6ab2",
   "metadata": {},
   "outputs": [
    {
     "data": {
      "text/plain": [
       "tensor([1.0052, 1.1092, 0.7798, 1.0904, 1.0461, 1.0546], device='mps:0')"
      ]
     },
     "execution_count": 3,
     "metadata": {},
     "output_type": "execute_result"
    }
   ],
   "source": [
    "class_weights_tensor"
   ]
  },
  {
   "cell_type": "markdown",
   "id": "58bc9a1b",
   "metadata": {},
   "source": [
    "# Training stage 1 with frozen backbone"
   ]
  },
  {
   "cell_type": "markdown",
   "id": "fb148444",
   "metadata": {},
   "source": [
    "## Create EfficientNet-B0 model"
   ]
  },
  {
   "cell_type": "code",
   "execution_count": 4,
   "id": "02640134",
   "metadata": {},
   "outputs": [
    {
     "name": "stdout",
     "output_type": "stream",
     "text": [
      "================================================================================\n",
      "Model created: EfficientNet-B0\n",
      "Device: mps\n",
      "Total parameters: 4,796,290\n",
      "Trainable parameters: 788,742\n",
      "================================================================================\n"
     ]
    }
   ],
   "source": [
    "# Create model\n",
    "model = SpaceClassifier(NUM_CLASSES, pretrained=True)\n",
    "model = model.to(DEVICE)\n",
    "\n",
    "print(\"=\" * 80)\n",
    "print(f\"Model created: EfficientNet-B0\")\n",
    "print(f\"Device: {DEVICE}\")\n",
    "\n",
    "# Count parameters\n",
    "total_params = sum(p.numel() for p in model.parameters())\n",
    "trainable_params = sum(p.numel() for p in model.parameters() if p.requires_grad)\n",
    "print(f\"Total parameters: {total_params:,}\")\n",
    "print(f\"Trainable parameters: {trainable_params:,}\")\n",
    "\n",
    "print(\"=\" * 80)"
   ]
  },
  {
   "cell_type": "code",
   "execution_count": 5,
   "id": "651f237f",
   "metadata": {},
   "outputs": [
    {
     "name": "stdout",
     "output_type": "stream",
     "text": [
      "Sequential(\n",
      "  (0): Dropout(p=0.4, inplace=False)\n",
      "  (1): Linear(in_features=1280, out_features=512, bias=True)\n",
      "  (2): ReLU()\n",
      "  (3): Dropout(p=0.3, inplace=False)\n",
      "  (4): Linear(in_features=512, out_features=256, bias=True)\n",
      "  (5): ReLU()\n",
      "  (6): Dropout(p=0.2, inplace=False)\n",
      "  (7): Linear(in_features=256, out_features=6, bias=True)\n",
      ")\n"
     ]
    }
   ],
   "source": [
    "print(model.backbone.classifier)"
   ]
  },
  {
   "cell_type": "markdown",
   "id": "42f8dae4",
   "metadata": {},
   "source": [
    "## Create Dataset"
   ]
  },
  {
   "cell_type": "code",
   "execution_count": 6,
   "id": "50cf59ea",
   "metadata": {},
   "outputs": [],
   "source": [
    "train_dataset = SpaceImageDataset(OUTPUT_PATH / \"train\", transform=train_transforms)\n",
    "val_dataset = SpaceImageDataset(OUTPUT_PATH / \"validation\", transform=val_test_transforms)"
   ]
  },
  {
   "cell_type": "markdown",
   "id": "5a4e3dbd",
   "metadata": {},
   "source": [
    "## Create Data loaders"
   ]
  },
  {
   "cell_type": "code",
   "execution_count": 7,
   "id": "668074ee",
   "metadata": {},
   "outputs": [],
   "source": [
    "train_loader = DataLoader(\n",
    "    train_dataset, \n",
    "    batch_size=BATCH_SIZE,\n",
    "    shuffle=True, \n",
    "    num_workers=NUM_WORKERS,\n",
    "    pin_memory=True if DEVICE.type == 'mps' else False\n",
    ")\n",
    "\n",
    "val_loader = DataLoader(\n",
    "    val_dataset, \n",
    "    batch_size=BATCH_SIZE, \n",
    "    shuffle=False, \n",
    "    num_workers=NUM_WORKERS,\n",
    "    pin_memory=True if DEVICE.type == 'mps' else False\n",
    ")"
   ]
  },
  {
   "cell_type": "markdown",
   "id": "c0963a13",
   "metadata": {},
   "source": [
    "## Training the model - Phase 1"
   ]
  },
  {
   "cell_type": "code",
   "execution_count": 8,
   "id": "27350b3f",
   "metadata": {},
   "outputs": [
    {
     "name": "stdout",
     "output_type": "stream",
     "text": [
      "================================================================================\n",
      "Starting Stage 1 Training\n",
      "--------------------------------------------------------------------------------\n",
      "Estimated time on M1: 30-60 minutes\n",
      "\n",
      "================================================================================\n",
      "================================================================================\n",
      "Epoch 1/25\n",
      "------------------------------------------------------------\n"
     ]
    },
    {
     "name": "stderr",
     "output_type": "stream",
     "text": [
      "Training:   0%|          | 0/25 [00:00<?, ?it/s]"
     ]
    },
    {
     "name": "stdout",
     "output_type": "stream",
     "text": [
      "Skipping unreadable image: ../space_images_split/train/galaxies/41.jpg\n",
      "Skipping unreadable image: ../space_images_split/train/constellation/9.jpg\n"
     ]
    },
    {
     "name": "stderr",
     "output_type": "stream",
     "text": [
      "libpng warning: iCCP: known incorrect sRGB profile\n"
     ]
    },
    {
     "name": "stdout",
     "output_type": "stream",
     "text": [
      "Skipping unreadable image: ../space_images_split/train/galaxies/167.jpg\n",
      "Skipping unreadable image: ../space_images_split/train/cosmos space/5.jpg\n"
     ]
    },
    {
     "name": "stderr",
     "output_type": "stream",
     "text": [
      "Training:  12%|█▏        | 3/25 [00:04<00:27,  1.24s/it, loss=1.7998, acc=21.88%]libpng warning: iCCP: known incorrect sRGB profile\n",
      "Training:  28%|██▊       | 7/25 [00:05<00:06,  2.75it/s, loss=1.7257, acc=25.45%]"
     ]
    },
    {
     "name": "stdout",
     "output_type": "stream",
     "text": [
      "Skipping unreadable image: ../space_images_split/train/constellation/53.jpg\n"
     ]
    },
    {
     "name": "stderr",
     "output_type": "stream",
     "text": [
      "Training:  36%|███▌      | 9/25 [00:05<00:04,  4.00it/s, loss=1.7210, acc=28.47%]libpng warning: iCCP: known incorrect sRGB profile\n",
      "libpng warning: iCCP: known incorrect sRGB profile\n",
      "Training:  52%|█████▏    | 13/25 [00:06<00:02,  4.50it/s, loss=1.5139, acc=32.45%]"
     ]
    },
    {
     "name": "stdout",
     "output_type": "stream",
     "text": [
      "Skipping unreadable image: ../space_images_split/train/planets/11.jpg\n"
     ]
    },
    {
     "name": "stderr",
     "output_type": "stream",
     "text": [
      "libpng warning: iCCP: known incorrect sRGB profile\n",
      "Training:  68%|██████▊   | 17/25 [00:07<00:02,  3.57it/s, loss=1.5283, acc=34.19%]"
     ]
    },
    {
     "name": "stdout",
     "output_type": "stream",
     "text": [
      "Skipping unreadable image: ../space_images_split/train/stars/1.jpg\n"
     ]
    },
    {
     "name": "stderr",
     "output_type": "stream",
     "text": [
      "Training: 100%|██████████| 25/25 [00:30<00:00,  1.23s/it, loss=0.8752, acc=38.86%]\n",
      "Validation:   0%|          | 0/6 [00:00<?, ?it/s]"
     ]
    },
    {
     "name": "stdout",
     "output_type": "stream",
     "text": [
      "Skipping unreadable image: ../space_images_split/validation/constellation/8.jpg\n",
      "Skipping unreadable image: ../space_images_split/validation/galaxies/7.jpg\n"
     ]
    },
    {
     "name": "stderr",
     "output_type": "stream",
     "text": [
      "Validation: 100%|██████████| 6/6 [00:24<00:00,  4.09s/it, loss=2.0459, acc=49.08%]\n"
     ]
    },
    {
     "name": "stdout",
     "output_type": "stream",
     "text": [
      "\n",
      "Train Loss: 1.5842 | Train Acc: 38.86%\n",
      "Val Loss:   1.2869 | Val Acc:   49.08%\n",
      "Best model saved! (Val Acc: 49.08%)\n",
      "================================================================================\n",
      "Epoch 2/25\n",
      "------------------------------------------------------------\n"
     ]
    },
    {
     "name": "stderr",
     "output_type": "stream",
     "text": [
      "Training:   0%|          | 0/25 [00:00<?, ?it/s]libpng warning: iCCP: known incorrect sRGB profile\n"
     ]
    },
    {
     "name": "stdout",
     "output_type": "stream",
     "text": [
      "Skipping unreadable image: ../space_images_split/train/galaxies/167.jpg\n"
     ]
    },
    {
     "name": "stderr",
     "output_type": "stream",
     "text": [
      "Training:  20%|██        | 5/25 [00:04<00:12,  1.54it/s, loss=1.4945, acc=60.62%]libpng warning: iCCP: known incorrect sRGB profile\n",
      "Training:  24%|██▍       | 6/25 [00:04<00:10,  1.83it/s, loss=1.0690, acc=60.42%]"
     ]
    },
    {
     "name": "stdout",
     "output_type": "stream",
     "text": [
      "Skipping unreadable image: ../space_images_split/train/galaxies/41.jpg\n"
     ]
    },
    {
     "name": "stderr",
     "output_type": "stream",
     "text": [
      "Training:  32%|███▏      | 8/25 [00:05<00:06,  2.53it/s, loss=1.2518, acc=56.64%]libpng warning: iCCP: known incorrect sRGB profile\n"
     ]
    },
    {
     "name": "stdout",
     "output_type": "stream",
     "text": [
      "Skipping unreadable image: ../space_images_split/train/cosmos space/5.jpg\n",
      "Skipping unreadable image: ../space_images_split/train/constellation/53.jpg\n"
     ]
    },
    {
     "name": "stderr",
     "output_type": "stream",
     "text": [
      "libpng warning: iCCP: known incorrect sRGB profile\n",
      "Training:  44%|████▍     | 11/25 [00:06<00:04,  3.36it/s, loss=1.1146, acc=56.25%]"
     ]
    },
    {
     "name": "stdout",
     "output_type": "stream",
     "text": [
      "Skipping unreadable image: ../space_images_split/train/constellation/9.jpg\n"
     ]
    },
    {
     "name": "stderr",
     "output_type": "stream",
     "text": [
      "Training:  68%|██████▊   | 17/25 [00:07<00:01,  4.50it/s, loss=1.1914, acc=57.29%]libpng warning: iCCP: known incorrect sRGB profile\n"
     ]
    },
    {
     "name": "stdout",
     "output_type": "stream",
     "text": [
      "Skipping unreadable image: ../space_images_split/train/planets/11.jpg\n",
      "Skipping unreadable image: ../space_images_split/train/stars/1.jpg\n"
     ]
    },
    {
     "name": "stderr",
     "output_type": "stream",
     "text": [
      "Training: 100%|██████████| 25/25 [00:29<00:00,  1.18s/it, loss=1.0011, acc=56.09%]\n",
      "Validation:   0%|          | 0/6 [00:00<?, ?it/s]"
     ]
    },
    {
     "name": "stdout",
     "output_type": "stream",
     "text": [
      "Skipping unreadable image: ../space_images_split/validation/constellation/8.jpg\n",
      "Skipping unreadable image: ../space_images_split/validation/galaxies/7.jpg\n"
     ]
    },
    {
     "name": "stderr",
     "output_type": "stream",
     "text": [
      "Validation: 100%|██████████| 6/6 [00:24<00:00,  4.00s/it, loss=1.9841, acc=50.92%]\n"
     ]
    },
    {
     "name": "stdout",
     "output_type": "stream",
     "text": [
      "\n",
      "Train Loss: 1.1422 | Train Acc: 56.09%\n",
      "Val Loss:   1.2160 | Val Acc:   50.92%\n",
      "Best model saved! (Val Acc: 50.92%)\n",
      "================================================================================\n",
      "Epoch 3/25\n",
      "------------------------------------------------------------\n"
     ]
    },
    {
     "name": "stderr",
     "output_type": "stream",
     "text": [
      "Training:   0%|          | 0/25 [00:00<?, ?it/s]libpng warning: iCCP: known incorrect sRGB profile\n"
     ]
    },
    {
     "name": "stdout",
     "output_type": "stream",
     "text": [
      "Skipping unreadable image: ../space_images_split/train/galaxies/167.jpg\n"
     ]
    },
    {
     "name": "stderr",
     "output_type": "stream",
     "text": [
      "Training:  12%|█▏        | 3/25 [00:04<00:23,  1.08s/it, loss=1.1369, acc=58.59%]"
     ]
    },
    {
     "name": "stdout",
     "output_type": "stream",
     "text": [
      "Skipping unreadable image: ../space_images_split/train/constellation/9.jpg\n"
     ]
    },
    {
     "name": "stderr",
     "output_type": "stream",
     "text": [
      "Training:  20%|██        | 5/25 [00:04<00:12,  1.60it/s, loss=1.4559, acc=58.75%]libpng warning: iCCP: known incorrect sRGB profile\n",
      "libpng warning: iCCP: known incorrect sRGB profile\n",
      "Training:  40%|████      | 10/25 [00:05<00:04,  3.09it/s, loss=1.1000, acc=57.67%]"
     ]
    },
    {
     "name": "stdout",
     "output_type": "stream",
     "text": [
      "Skipping unreadable image: ../space_images_split/train/planets/11.jpg\n",
      "Skipping unreadable image: ../space_images_split/train/stars/1.jpg\n"
     ]
    },
    {
     "name": "stderr",
     "output_type": "stream",
     "text": [
      "Training:  48%|████▊     | 12/25 [00:05<00:03,  3.91it/s, loss=0.8605, acc=58.85%]"
     ]
    },
    {
     "name": "stdout",
     "output_type": "stream",
     "text": [
      "Skipping unreadable image: ../space_images_split/train/galaxies/41.jpg\n"
     ]
    },
    {
     "name": "stderr",
     "output_type": "stream",
     "text": [
      "Training:  52%|█████▏    | 13/25 [00:06<00:03,  3.36it/s, loss=1.0649, acc=59.62%]libpng warning: iCCP: known incorrect sRGB profile\n",
      "Training:  72%|███████▏  | 18/25 [00:07<00:01,  4.31it/s, loss=0.8907, acc=61.51%]"
     ]
    },
    {
     "name": "stdout",
     "output_type": "stream",
     "text": [
      "Skipping unreadable image: ../space_images_split/train/constellation/53.jpg\n"
     ]
    },
    {
     "name": "stderr",
     "output_type": "stream",
     "text": [
      "libpng warning: iCCP: known incorrect sRGB profile\n",
      "Training:  80%|████████  | 20/25 [00:07<00:01,  4.42it/s, loss=0.9950, acc=61.01%]"
     ]
    },
    {
     "name": "stdout",
     "output_type": "stream",
     "text": [
      "Skipping unreadable image: ../space_images_split/train/cosmos space/5.jpg\n"
     ]
    },
    {
     "name": "stderr",
     "output_type": "stream",
     "text": [
      "Training: 100%|██████████| 25/25 [00:28<00:00,  1.16s/it, loss=1.2741, acc=60.23%]\n",
      "Validation:   0%|          | 0/6 [00:00<?, ?it/s]"
     ]
    },
    {
     "name": "stdout",
     "output_type": "stream",
     "text": [
      "Skipping unreadable image: ../space_images_split/validation/constellation/8.jpg\n",
      "Skipping unreadable image: ../space_images_split/validation/galaxies/7.jpg\n"
     ]
    },
    {
     "name": "stderr",
     "output_type": "stream",
     "text": [
      "Validation: 100%|██████████| 6/6 [00:24<00:00,  4.02s/it, loss=2.2684, acc=50.92%]\n"
     ]
    },
    {
     "name": "stdout",
     "output_type": "stream",
     "text": [
      "\n",
      "Train Loss: 1.0405 | Train Acc: 60.23%\n",
      "Val Loss:   1.2149 | Val Acc:   50.92%\n",
      "================================================================================\n",
      "Epoch 4/25\n",
      "------------------------------------------------------------\n"
     ]
    },
    {
     "name": "stderr",
     "output_type": "stream",
     "text": [
      "Training:   0%|          | 0/25 [00:00<?, ?it/s]libpng warning: iCCP: known incorrect sRGB profile\n"
     ]
    },
    {
     "name": "stdout",
     "output_type": "stream",
     "text": [
      "Skipping unreadable image: ../space_images_split/train/constellation/53.jpg\n",
      "Skipping unreadable image: ../space_images_split/train/planets/11.jpg\n",
      "Skipping unreadable image: ../space_images_split/train/galaxies/167.jpg\n"
     ]
    },
    {
     "name": "stderr",
     "output_type": "stream",
     "text": [
      "Training:   4%|▍         | 1/25 [00:04<01:49,  4.55s/it, loss=0.9635, acc=62.50%]"
     ]
    },
    {
     "name": "stdout",
     "output_type": "stream",
     "text": [
      "Skipping unreadable image: ../space_images_split/train/constellation/9.jpg\n"
     ]
    },
    {
     "name": "stderr",
     "output_type": "stream",
     "text": [
      "Training:  28%|██▊       | 7/25 [00:05<00:07,  2.42it/s, loss=0.8776, acc=61.33%]"
     ]
    },
    {
     "name": "stdout",
     "output_type": "stream",
     "text": [
      "Skipping unreadable image: ../space_images_split/train/stars/1.jpg\n"
     ]
    },
    {
     "name": "stderr",
     "output_type": "stream",
     "text": [
      "Training:  44%|████▍     | 11/25 [00:06<00:03,  4.35it/s, loss=1.1172, acc=60.23%]libpng warning: iCCP: known incorrect sRGB profile\n",
      "Training:  56%|█████▌    | 14/25 [00:06<00:02,  4.46it/s, loss=1.2947, acc=61.46%]"
     ]
    },
    {
     "name": "stdout",
     "output_type": "stream",
     "text": [
      "Skipping unreadable image: ../space_images_split/train/cosmos space/5.jpg\n"
     ]
    },
    {
     "name": "stderr",
     "output_type": "stream",
     "text": [
      "libpng warning: iCCP: known incorrect sRGB profile\n"
     ]
    },
    {
     "name": "stdout",
     "output_type": "stream",
     "text": [
      "Skipping unreadable image: ../space_images_split/train/galaxies/41.jpg\n"
     ]
    },
    {
     "name": "stderr",
     "output_type": "stream",
     "text": [
      "Training:  64%|██████▍   | 16/25 [00:07<00:02,  3.54it/s, loss=1.2864, acc=60.55%]libpng warning: iCCP: known incorrect sRGB profile\n",
      "Training:  80%|████████  | 20/25 [00:08<00:01,  4.69it/s, loss=1.0382, acc=60.42%]libpng warning: iCCP: known incorrect sRGB profile\n",
      "Training: 100%|██████████| 25/25 [00:29<00:00,  1.17s/it, loss=1.5653, acc=61.40%]\n",
      "Validation:   0%|          | 0/6 [00:00<?, ?it/s]"
     ]
    },
    {
     "name": "stdout",
     "output_type": "stream",
     "text": [
      "Skipping unreadable image: ../space_images_split/validation/constellation/8.jpg\n",
      "Skipping unreadable image: ../space_images_split/validation/galaxies/7.jpg\n"
     ]
    },
    {
     "name": "stderr",
     "output_type": "stream",
     "text": [
      "Validation: 100%|██████████| 6/6 [00:23<00:00,  3.99s/it, loss=2.5893, acc=50.31%]\n"
     ]
    },
    {
     "name": "stdout",
     "output_type": "stream",
     "text": [
      "\n",
      "Train Loss: 0.9818 | Train Acc: 61.40%\n",
      "Val Loss:   1.1763 | Val Acc:   50.31%\n",
      "================================================================================\n",
      "Epoch 5/25\n",
      "------------------------------------------------------------\n"
     ]
    },
    {
     "name": "stderr",
     "output_type": "stream",
     "text": [
      "Training:   0%|          | 0/25 [00:00<?, ?it/s]libpng warning: iCCP: known incorrect sRGB profile\n"
     ]
    },
    {
     "name": "stdout",
     "output_type": "stream",
     "text": [
      "Skipping unreadable image: ../space_images_split/train/stars/1.jpg\n",
      "Skipping unreadable image: ../space_images_split/train/galaxies/41.jpg\n"
     ]
    },
    {
     "name": "stderr",
     "output_type": "stream",
     "text": [
      "Training:  12%|█▏        | 3/25 [00:04<00:25,  1.16s/it, loss=0.9254, acc=67.97%]"
     ]
    },
    {
     "name": "stdout",
     "output_type": "stream",
     "text": [
      "Skipping unreadable image: ../space_images_split/train/constellation/9.jpg\n"
     ]
    },
    {
     "name": "stderr",
     "output_type": "stream",
     "text": [
      "Training:  28%|██▊       | 7/25 [00:04<00:07,  2.44it/s, loss=0.8830, acc=67.58%]libpng warning: iCCP: known incorrect sRGB profile\n",
      "Training:  44%|████▍     | 11/25 [00:05<00:03,  3.58it/s, loss=0.9822, acc=66.93%]libpng warning: iCCP: known incorrect sRGB profile\n",
      "libpng warning: iCCP: known incorrect sRGB profile\n"
     ]
    },
    {
     "name": "stdout",
     "output_type": "stream",
     "text": [
      "Skipping unreadable image: ../space_images_split/train/planets/11.jpg\n",
      "Skipping unreadable image: ../space_images_split/train/galaxies/167.jpg\n"
     ]
    },
    {
     "name": "stderr",
     "output_type": "stream",
     "text": [
      "Training:  68%|██████▊   | 17/25 [00:07<00:02,  3.24it/s, loss=1.1442, acc=65.26%]"
     ]
    },
    {
     "name": "stdout",
     "output_type": "stream",
     "text": [
      "Skipping unreadable image: ../space_images_split/train/constellation/53.jpg\n"
     ]
    },
    {
     "name": "stderr",
     "output_type": "stream",
     "text": [
      "Training:  76%|███████▌  | 19/25 [00:07<00:01,  4.20it/s, loss=0.5551, acc=65.62%]libpng warning: iCCP: known incorrect sRGB profile\n",
      "Training:  84%|████████▍ | 21/25 [00:08<00:00,  4.50it/s, loss=0.9278, acc=65.62%]"
     ]
    },
    {
     "name": "stdout",
     "output_type": "stream",
     "text": [
      "Skipping unreadable image: ../space_images_split/train/cosmos space/5.jpg\n"
     ]
    },
    {
     "name": "stderr",
     "output_type": "stream",
     "text": [
      "Training: 100%|██████████| 25/25 [00:28<00:00,  1.15s/it, loss=1.0874, acc=65.93%]\n",
      "Validation:   0%|          | 0/6 [00:00<?, ?it/s]"
     ]
    },
    {
     "name": "stdout",
     "output_type": "stream",
     "text": [
      "Skipping unreadable image: ../space_images_split/validation/constellation/8.jpg\n",
      "Skipping unreadable image: ../space_images_split/validation/galaxies/7.jpg\n"
     ]
    },
    {
     "name": "stderr",
     "output_type": "stream",
     "text": [
      "Validation: 100%|██████████| 6/6 [00:23<00:00,  3.92s/it, loss=1.4552, acc=53.99%]\n"
     ]
    },
    {
     "name": "stdout",
     "output_type": "stream",
     "text": [
      "\n",
      "Train Loss: 0.9303 | Train Acc: 65.93%\n",
      "Val Loss:   1.1660 | Val Acc:   53.99%\n",
      "Best model saved! (Val Acc: 53.99%)\n",
      "================================================================================\n",
      "Epoch 6/25\n",
      "------------------------------------------------------------\n"
     ]
    },
    {
     "name": "stderr",
     "output_type": "stream",
     "text": [
      "Training:   0%|          | 0/25 [00:00<?, ?it/s]libpng warning: iCCP: known incorrect sRGB profile\n"
     ]
    },
    {
     "name": "stdout",
     "output_type": "stream",
     "text": [
      "Skipping unreadable image: ../space_images_split/train/cosmos space/5.jpg\n"
     ]
    },
    {
     "name": "stderr",
     "output_type": "stream",
     "text": [
      "libpng warning: iCCP: known incorrect sRGB profile\n",
      "libpng warning: iCCP: known incorrect sRGB profile\n",
      "Training:  12%|█▏        | 3/25 [00:04<00:27,  1.25s/it, loss=0.7518, acc=74.22%]libpng warning: iCCP: known incorrect sRGB profile\n",
      "Training:  44%|████▍     | 11/25 [00:06<00:03,  3.65it/s, loss=0.6942, acc=69.79%]"
     ]
    },
    {
     "name": "stdout",
     "output_type": "stream",
     "text": [
      "Skipping unreadable image: ../space_images_split/train/constellation/53.jpg\n"
     ]
    },
    {
     "name": "stderr",
     "output_type": "stream",
     "text": [
      "Training:  56%|█████▌    | 14/25 [00:06<00:02,  4.21it/s, loss=0.9882, acc=69.42%]"
     ]
    },
    {
     "name": "stdout",
     "output_type": "stream",
     "text": [
      "Skipping unreadable image: ../space_images_split/train/stars/1.jpg\n"
     ]
    },
    {
     "name": "stderr",
     "output_type": "stream",
     "text": [
      "Training:  64%|██████▍   | 16/25 [00:07<00:01,  4.83it/s, loss=0.9084, acc=68.55%]"
     ]
    },
    {
     "name": "stdout",
     "output_type": "stream",
     "text": [
      "Skipping unreadable image: ../space_images_split/train/planets/11.jpg\n"
     ]
    },
    {
     "name": "stderr",
     "output_type": "stream",
     "text": [
      "libpng warning: iCCP: known incorrect sRGB profile\n",
      "Training:  72%|███████▏  | 18/25 [00:07<00:01,  3.97it/s, loss=0.6823, acc=68.40%]"
     ]
    },
    {
     "name": "stdout",
     "output_type": "stream",
     "text": [
      "Skipping unreadable image: ../space_images_split/train/constellation/9.jpg\n"
     ]
    },
    {
     "name": "stderr",
     "output_type": "stream",
     "text": [
      "Training:  76%|███████▌  | 19/25 [00:08<00:01,  3.65it/s, loss=1.0149, acc=68.42%]"
     ]
    },
    {
     "name": "stdout",
     "output_type": "stream",
     "text": [
      "Skipping unreadable image: ../space_images_split/train/galaxies/41.jpg\n"
     ]
    },
    {
     "name": "stderr",
     "output_type": "stream",
     "text": [
      "Training:  76%|███████▌  | 19/25 [00:08<00:01,  3.65it/s, loss=0.9556, acc=68.28%]"
     ]
    },
    {
     "name": "stdout",
     "output_type": "stream",
     "text": [
      "Skipping unreadable image: ../space_images_split/train/galaxies/167.jpg\n"
     ]
    },
    {
     "name": "stderr",
     "output_type": "stream",
     "text": [
      "Training: 100%|██████████| 25/25 [00:29<00:00,  1.19s/it, loss=0.8474, acc=65.93%]\n",
      "Validation:   0%|          | 0/6 [00:00<?, ?it/s]"
     ]
    },
    {
     "name": "stdout",
     "output_type": "stream",
     "text": [
      "Skipping unreadable image: ../space_images_split/validation/constellation/8.jpg\n",
      "Skipping unreadable image: ../space_images_split/validation/galaxies/7.jpg\n"
     ]
    },
    {
     "name": "stderr",
     "output_type": "stream",
     "text": [
      "Validation: 100%|██████████| 6/6 [00:23<00:00,  3.99s/it, loss=1.6409, acc=57.06%]\n"
     ]
    },
    {
     "name": "stdout",
     "output_type": "stream",
     "text": [
      "\n",
      "Train Loss: 0.8990 | Train Acc: 65.93%\n",
      "Val Loss:   1.1113 | Val Acc:   57.06%\n",
      "Best model saved! (Val Acc: 57.06%)\n",
      "================================================================================\n",
      "Epoch 7/25\n",
      "------------------------------------------------------------\n"
     ]
    },
    {
     "name": "stderr",
     "output_type": "stream",
     "text": [
      "Training:   0%|          | 0/25 [00:00<?, ?it/s]libpng warning: iCCP: known incorrect sRGB profile\n"
     ]
    },
    {
     "name": "stdout",
     "output_type": "stream",
     "text": [
      "Skipping unreadable image: ../space_images_split/train/cosmos space/5.jpg\n",
      "Skipping unreadable image: ../space_images_split/train/stars/1.jpg\n"
     ]
    },
    {
     "name": "stderr",
     "output_type": "stream",
     "text": [
      "Training:  12%|█▏        | 3/25 [00:04<00:23,  1.06s/it, loss=1.1025, acc=64.58%]"
     ]
    },
    {
     "name": "stdout",
     "output_type": "stream",
     "text": [
      "Skipping unreadable image: ../space_images_split/train/planets/11.jpg\n"
     ]
    },
    {
     "name": "stderr",
     "output_type": "stream",
     "text": [
      "Training:  12%|█▏        | 3/25 [00:04<00:23,  1.06s/it, loss=1.0046, acc=64.06%]"
     ]
    },
    {
     "name": "stdout",
     "output_type": "stream",
     "text": [
      "Skipping unreadable image: ../space_images_split/train/galaxies/41.jpg\n"
     ]
    },
    {
     "name": "stderr",
     "output_type": "stream",
     "text": [
      "Training:  28%|██▊       | 7/25 [00:04<00:07,  2.53it/s, loss=0.7764, acc=67.58%]libpng warning: iCCP: known incorrect sRGB profile\n",
      "libpng warning: iCCP: known incorrect sRGB profile\n",
      "Training:  44%|████▍     | 11/25 [00:05<00:04,  3.27it/s, loss=1.0759, acc=65.62%]"
     ]
    },
    {
     "name": "stdout",
     "output_type": "stream",
     "text": [
      "Skipping unreadable image: ../space_images_split/train/constellation/53.jpg\n",
      "Skipping unreadable image: ../space_images_split/train/galaxies/167.jpg\n"
     ]
    },
    {
     "name": "stderr",
     "output_type": "stream",
     "text": [
      "Training:  60%|██████    | 15/25 [00:06<00:02,  3.73it/s, loss=0.7997, acc=67.38%]libpng warning: iCCP: known incorrect sRGB profile\n",
      "Training:  76%|███████▌  | 19/25 [00:07<00:01,  4.12it/s, loss=0.7392, acc=68.12%]libpng warning: iCCP: known incorrect sRGB profile\n"
     ]
    },
    {
     "name": "stdout",
     "output_type": "stream",
     "text": [
      "Skipping unreadable image: ../space_images_split/train/constellation/9.jpg\n"
     ]
    },
    {
     "name": "stderr",
     "output_type": "stream",
     "text": [
      "Training: 100%|██████████| 25/25 [00:29<00:00,  1.18s/it, loss=1.8786, acc=67.75%]\n",
      "Validation:   0%|          | 0/6 [00:00<?, ?it/s]"
     ]
    },
    {
     "name": "stdout",
     "output_type": "stream",
     "text": [
      "Skipping unreadable image: ../space_images_split/validation/constellation/8.jpg\n",
      "Skipping unreadable image: ../space_images_split/validation/galaxies/7.jpg\n"
     ]
    },
    {
     "name": "stderr",
     "output_type": "stream",
     "text": [
      "Validation: 100%|██████████| 6/6 [00:24<00:00,  4.03s/it, loss=1.8966, acc=57.67%]\n"
     ]
    },
    {
     "name": "stdout",
     "output_type": "stream",
     "text": [
      "\n",
      "Train Loss: 0.8749 | Train Acc: 67.75%\n",
      "Val Loss:   1.0913 | Val Acc:   57.67%\n",
      "Best model saved! (Val Acc: 57.67%)\n",
      "================================================================================\n",
      "Epoch 8/25\n",
      "------------------------------------------------------------\n"
     ]
    },
    {
     "name": "stderr",
     "output_type": "stream",
     "text": [
      "Training:   0%|          | 0/25 [00:00<?, ?it/s]"
     ]
    },
    {
     "name": "stdout",
     "output_type": "stream",
     "text": [
      "Skipping unreadable image: ../space_images_split/train/galaxies/41.jpg\n",
      "Skipping unreadable image: ../space_images_split/train/constellation/53.jpg\n"
     ]
    },
    {
     "name": "stderr",
     "output_type": "stream",
     "text": [
      "Training:  12%|█▏        | 3/25 [00:04<00:23,  1.06s/it, loss=0.9151, acc=70.31%]libpng warning: iCCP: known incorrect sRGB profile\n"
     ]
    },
    {
     "name": "stdout",
     "output_type": "stream",
     "text": [
      "Skipping unreadable image: ../space_images_split/train/planets/11.jpg\n"
     ]
    },
    {
     "name": "stderr",
     "output_type": "stream",
     "text": [
      "libpng warning: iCCP: known incorrect sRGB profile\n",
      "Training:  20%|██        | 5/25 [00:04<00:14,  1.36it/s, loss=0.7505, acc=68.23%]"
     ]
    },
    {
     "name": "stdout",
     "output_type": "stream",
     "text": [
      "Skipping unreadable image: ../space_images_split/train/stars/1.jpg\n"
     ]
    },
    {
     "name": "stderr",
     "output_type": "stream",
     "text": [
      "Training:  32%|███▏      | 8/25 [00:05<00:06,  2.60it/s, loss=0.7593, acc=67.19%]"
     ]
    },
    {
     "name": "stdout",
     "output_type": "stream",
     "text": [
      "Skipping unreadable image: ../space_images_split/train/galaxies/167.jpg\n"
     ]
    },
    {
     "name": "stderr",
     "output_type": "stream",
     "text": [
      "Training:  52%|█████▏    | 13/25 [00:06<00:04,  2.93it/s, loss=0.8425, acc=70.31%]"
     ]
    },
    {
     "name": "stdout",
     "output_type": "stream",
     "text": [
      "Skipping unreadable image: ../space_images_split/train/constellation/9.jpg\n"
     ]
    },
    {
     "name": "stderr",
     "output_type": "stream",
     "text": [
      "Training:  60%|██████    | 15/25 [00:07<00:02,  3.98it/s, loss=0.9279, acc=69.14%]libpng warning: iCCP: known incorrect sRGB profile\n",
      "Training:  68%|██████▊   | 17/25 [00:07<00:01,  4.30it/s, loss=0.9884, acc=68.75%]"
     ]
    },
    {
     "name": "stdout",
     "output_type": "stream",
     "text": [
      "Skipping unreadable image: ../space_images_split/train/cosmos space/5.jpg\n"
     ]
    },
    {
     "name": "stderr",
     "output_type": "stream",
     "text": [
      "Training:  76%|███████▌  | 19/25 [00:07<00:01,  5.45it/s, loss=0.6490, acc=69.06%]libpng warning: iCCP: known incorrect sRGB profile\n",
      "libpng warning: iCCP: known incorrect sRGB profile\n",
      "Training: 100%|██████████| 25/25 [00:28<00:00,  1.15s/it, loss=1.4409, acc=68.78%]\n",
      "Validation:   0%|          | 0/6 [00:00<?, ?it/s]"
     ]
    },
    {
     "name": "stdout",
     "output_type": "stream",
     "text": [
      "Skipping unreadable image: ../space_images_split/validation/constellation/8.jpg\n",
      "Skipping unreadable image: ../space_images_split/validation/galaxies/7.jpg\n"
     ]
    },
    {
     "name": "stderr",
     "output_type": "stream",
     "text": [
      "Validation: 100%|██████████| 6/6 [00:23<00:00,  4.00s/it, loss=2.0508, acc=58.28%]\n"
     ]
    },
    {
     "name": "stdout",
     "output_type": "stream",
     "text": [
      "\n",
      "Train Loss: 0.8723 | Train Acc: 68.78%\n",
      "Val Loss:   1.1477 | Val Acc:   58.28%\n",
      "Best model saved! (Val Acc: 58.28%)\n",
      "================================================================================\n",
      "Epoch 9/25\n",
      "------------------------------------------------------------\n"
     ]
    },
    {
     "name": "stderr",
     "output_type": "stream",
     "text": [
      "Training:   0%|          | 0/25 [00:00<?, ?it/s]"
     ]
    },
    {
     "name": "stdout",
     "output_type": "stream",
     "text": [
      "Skipping unreadable image: ../space_images_split/train/constellation/53.jpg\n",
      "Skipping unreadable image: ../space_images_split/train/stars/1.jpg\n",
      "Skipping unreadable image: ../space_images_split/train/cosmos space/5.jpg\n"
     ]
    },
    {
     "name": "stderr",
     "output_type": "stream",
     "text": [
      "libpng warning: iCCP: known incorrect sRGB profile\n",
      "Training:  32%|███▏      | 8/25 [00:06<00:06,  2.58it/s, loss=0.7986, acc=66.41%]"
     ]
    },
    {
     "name": "stdout",
     "output_type": "stream",
     "text": [
      "Skipping unreadable image: ../space_images_split/train/planets/11.jpg\n"
     ]
    },
    {
     "name": "stderr",
     "output_type": "stream",
     "text": [
      "Training:  36%|███▌      | 9/25 [00:07<00:08,  1.91it/s, loss=0.9152, acc=65.97%]"
     ]
    },
    {
     "name": "stdout",
     "output_type": "stream",
     "text": [
      "Skipping unreadable image: ../space_images_split/train/galaxies/41.jpg\n"
     ]
    },
    {
     "name": "stderr",
     "output_type": "stream",
     "text": [
      "Training:  48%|████▊     | 12/25 [00:07<00:03,  3.51it/s, loss=0.8057, acc=69.01%]"
     ]
    },
    {
     "name": "stdout",
     "output_type": "stream",
     "text": [
      "Skipping unreadable image: ../space_images_split/train/galaxies/167.jpg\n"
     ]
    },
    {
     "name": "stderr",
     "output_type": "stream",
     "text": [
      "Training:  52%|█████▏    | 13/25 [00:07<00:04,  2.81it/s, loss=0.4004, acc=70.67%]libpng warning: iCCP: known incorrect sRGB profile\n",
      "Training:  64%|██████▍   | 16/25 [00:08<00:02,  3.44it/s, loss=0.9746, acc=68.75%]libpng warning: iCCP: known incorrect sRGB profile\n",
      "Training:  80%|████████  | 20/25 [00:09<00:01,  4.75it/s, loss=1.0433, acc=66.56%]"
     ]
    },
    {
     "name": "stdout",
     "output_type": "stream",
     "text": [
      "Skipping unreadable image: ../space_images_split/train/constellation/9.jpg\n"
     ]
    },
    {
     "name": "stderr",
     "output_type": "stream",
     "text": [
      "libpng warning: iCCP: known incorrect sRGB profile\n",
      "libpng warning: iCCP: known incorrect sRGB profile\n",
      "Training: 100%|██████████| 25/25 [00:30<00:00,  1.22s/it, loss=2.0556, acc=67.49%]\n",
      "Validation:   0%|          | 0/6 [00:00<?, ?it/s]"
     ]
    },
    {
     "name": "stdout",
     "output_type": "stream",
     "text": [
      "Skipping unreadable image: ../space_images_split/validation/constellation/8.jpg\n",
      "Skipping unreadable image: ../space_images_split/validation/galaxies/7.jpg\n"
     ]
    },
    {
     "name": "stderr",
     "output_type": "stream",
     "text": [
      "Validation: 100%|██████████| 6/6 [00:24<00:00,  4.02s/it, loss=1.9328, acc=60.12%]\n"
     ]
    },
    {
     "name": "stdout",
     "output_type": "stream",
     "text": [
      "\n",
      "Train Loss: 0.8516 | Train Acc: 67.49%\n",
      "Val Loss:   1.1145 | Val Acc:   60.12%\n",
      "Best model saved! (Val Acc: 60.12%)\n",
      "================================================================================\n",
      "Epoch 10/25\n",
      "------------------------------------------------------------\n"
     ]
    },
    {
     "name": "stderr",
     "output_type": "stream",
     "text": [
      "Training:   0%|          | 0/25 [00:00<?, ?it/s]libpng warning: iCCP: known incorrect sRGB profile\n"
     ]
    },
    {
     "name": "stdout",
     "output_type": "stream",
     "text": [
      "Skipping unreadable image: ../space_images_split/train/stars/1.jpg\n"
     ]
    },
    {
     "name": "stderr",
     "output_type": "stream",
     "text": [
      "libpng warning: iCCP: known incorrect sRGB profile\n",
      "Training:  24%|██▍       | 6/25 [00:04<00:09,  1.91it/s, loss=0.7171, acc=71.88%]"
     ]
    },
    {
     "name": "stdout",
     "output_type": "stream",
     "text": [
      "Skipping unreadable image: ../space_images_split/train/planets/11.jpg\n"
     ]
    },
    {
     "name": "stderr",
     "output_type": "stream",
     "text": [
      "libpng warning: iCCP: known incorrect sRGB profile\n",
      "Training:  36%|███▌      | 9/25 [00:05<00:04,  3.22it/s, loss=0.6347, acc=72.19%]"
     ]
    },
    {
     "name": "stdout",
     "output_type": "stream",
     "text": [
      "Skipping unreadable image: ../space_images_split/train/galaxies/167.jpg\n",
      "Skipping unreadable image: ../space_images_split/train/galaxies/41.jpg\n",
      "Skipping unreadable image: ../space_images_split/train/cosmos space/5.jpg\n",
      "Skipping unreadable image: ../space_images_split/train/constellation/53.jpg\n"
     ]
    },
    {
     "name": "stderr",
     "output_type": "stream",
     "text": [
      "Training:  52%|█████▏    | 13/25 [00:06<00:03,  3.89it/s, loss=0.7780, acc=70.09%]libpng warning: iCCP: known incorrect sRGB profile\n",
      "Training:  68%|██████▊   | 17/25 [00:06<00:01,  4.42it/s, loss=0.9796, acc=70.40%]libpng warning: iCCP: known incorrect sRGB profile\n",
      "Training:  80%|████████  | 20/25 [00:07<00:01,  4.67it/s, loss=0.5758, acc=71.58%]"
     ]
    },
    {
     "name": "stdout",
     "output_type": "stream",
     "text": [
      "Skipping unreadable image: ../space_images_split/train/constellation/9.jpg\n"
     ]
    },
    {
     "name": "stderr",
     "output_type": "stream",
     "text": [
      "Training: 100%|██████████| 25/25 [00:28<00:00,  1.14s/it, loss=1.4111, acc=70.73%]\n",
      "Validation:   0%|          | 0/6 [00:00<?, ?it/s]"
     ]
    },
    {
     "name": "stdout",
     "output_type": "stream",
     "text": [
      "Skipping unreadable image: ../space_images_split/validation/constellation/8.jpg\n",
      "Skipping unreadable image: ../space_images_split/validation/galaxies/7.jpg\n"
     ]
    },
    {
     "name": "stderr",
     "output_type": "stream",
     "text": [
      "Validation: 100%|██████████| 6/6 [00:24<00:00,  4.01s/it, loss=1.4110, acc=58.28%]\n"
     ]
    },
    {
     "name": "stdout",
     "output_type": "stream",
     "text": [
      "\n",
      "Train Loss: 0.8271 | Train Acc: 70.73%\n",
      "Val Loss:   1.1250 | Val Acc:   58.28%\n",
      "================================================================================\n",
      "Epoch 11/25\n",
      "------------------------------------------------------------\n"
     ]
    },
    {
     "name": "stderr",
     "output_type": "stream",
     "text": [
      "Training:   0%|          | 0/25 [00:00<?, ?it/s]libpng warning: iCCP: known incorrect sRGB profile\n"
     ]
    },
    {
     "name": "stdout",
     "output_type": "stream",
     "text": [
      "Skipping unreadable image: ../space_images_split/train/planets/11.jpg\n",
      "Skipping unreadable image: ../space_images_split/train/cosmos space/5.jpg\n"
     ]
    },
    {
     "name": "stderr",
     "output_type": "stream",
     "text": [
      "libpng warning: iCCP: known incorrect sRGB profile\n",
      "Training:   4%|▍         | 1/25 [00:03<01:32,  3.84s/it, loss=0.4245, acc=81.25%]"
     ]
    },
    {
     "name": "stdout",
     "output_type": "stream",
     "text": [
      "Skipping unreadable image: ../space_images_split/train/constellation/9.jpg\n"
     ]
    },
    {
     "name": "stderr",
     "output_type": "stream",
     "text": [
      "Training:  20%|██        | 5/25 [00:04<00:13,  1.53it/s, loss=0.6363, acc=75.00%]"
     ]
    },
    {
     "name": "stdout",
     "output_type": "stream",
     "text": [
      "Skipping unreadable image: ../space_images_split/train/galaxies/167.jpg\n"
     ]
    },
    {
     "name": "stderr",
     "output_type": "stream",
     "text": [
      "Training:  28%|██▊       | 7/25 [00:05<00:08,  2.08it/s, loss=0.5308, acc=76.79%]"
     ]
    },
    {
     "name": "stdout",
     "output_type": "stream",
     "text": [
      "Skipping unreadable image: ../space_images_split/train/galaxies/41.jpg\n"
     ]
    },
    {
     "name": "stderr",
     "output_type": "stream",
     "text": [
      "Training:  40%|████      | 10/25 [00:05<00:05,  2.79it/s, loss=0.7016, acc=75.00%]libpng warning: iCCP: known incorrect sRGB profile\n",
      "Training:  56%|█████▌    | 14/25 [00:06<00:03,  3.05it/s, loss=1.0992, acc=73.21%]"
     ]
    },
    {
     "name": "stdout",
     "output_type": "stream",
     "text": [
      "Skipping unreadable image: ../space_images_split/train/constellation/53.jpg\n"
     ]
    },
    {
     "name": "stderr",
     "output_type": "stream",
     "text": [
      "Training:  56%|█████▌    | 14/25 [00:07<00:03,  3.05it/s, loss=1.1197, acc=72.71%]libpng warning: iCCP: known incorrect sRGB profile\n",
      "Training:  72%|███████▏  | 18/25 [00:08<00:02,  3.30it/s, loss=1.0514, acc=72.05%]"
     ]
    },
    {
     "name": "stdout",
     "output_type": "stream",
     "text": [
      "Skipping unreadable image: ../space_images_split/train/stars/1.jpg\n"
     ]
    },
    {
     "name": "stderr",
     "output_type": "stream",
     "text": [
      "Training:  76%|███████▌  | 19/25 [00:08<00:01,  3.58it/s, loss=0.5325, acc=72.70%]libpng warning: iCCP: known incorrect sRGB profile\n",
      "Training: 100%|██████████| 25/25 [00:29<00:00,  1.17s/it, loss=1.0593, acc=72.28%]\n",
      "Validation:   0%|          | 0/6 [00:00<?, ?it/s]"
     ]
    },
    {
     "name": "stdout",
     "output_type": "stream",
     "text": [
      "Skipping unreadable image: ../space_images_split/validation/constellation/8.jpg\n",
      "Skipping unreadable image: ../space_images_split/validation/galaxies/7.jpg\n"
     ]
    },
    {
     "name": "stderr",
     "output_type": "stream",
     "text": [
      "Validation: 100%|██████████| 6/6 [00:23<00:00,  3.99s/it, loss=1.4682, acc=54.60%]\n"
     ]
    },
    {
     "name": "stdout",
     "output_type": "stream",
     "text": [
      "\n",
      "Train Loss: 0.7905 | Train Acc: 72.28%\n",
      "Val Loss:   1.1651 | Val Acc:   54.60%\n",
      "================================================================================\n",
      "Epoch 12/25\n",
      "------------------------------------------------------------\n"
     ]
    },
    {
     "name": "stderr",
     "output_type": "stream",
     "text": [
      "Training:   0%|          | 0/25 [00:00<?, ?it/s]"
     ]
    },
    {
     "name": "stdout",
     "output_type": "stream",
     "text": [
      "Skipping unreadable image: ../space_images_split/train/galaxies/41.jpg\n"
     ]
    },
    {
     "name": "stderr",
     "output_type": "stream",
     "text": [
      "libpng warning: iCCP: known incorrect sRGB profile\n",
      "libpng warning: iCCP: known incorrect sRGB profile\n"
     ]
    },
    {
     "name": "stdout",
     "output_type": "stream",
     "text": [
      "Skipping unreadable image: ../space_images_split/train/constellation/53.jpg\n"
     ]
    },
    {
     "name": "stderr",
     "output_type": "stream",
     "text": [
      "libpng warning: iCCP: known incorrect sRGB profile\n",
      "Training:  44%|████▍     | 11/25 [00:06<00:04,  3.13it/s, loss=0.6797, acc=74.72%]"
     ]
    },
    {
     "name": "stdout",
     "output_type": "stream",
     "text": [
      "Skipping unreadable image: ../space_images_split/train/galaxies/167.jpg\n",
      "Skipping unreadable image: ../space_images_split/train/constellation/9.jpg\n"
     ]
    },
    {
     "name": "stderr",
     "output_type": "stream",
     "text": [
      "Training:  60%|██████    | 15/25 [00:07<00:03,  3.28it/s, loss=0.6086, acc=74.80%]"
     ]
    },
    {
     "name": "stdout",
     "output_type": "stream",
     "text": [
      "Skipping unreadable image: ../space_images_split/train/planets/11.jpg\n"
     ]
    },
    {
     "name": "stderr",
     "output_type": "stream",
     "text": [
      "libpng warning: iCCP: known incorrect sRGB profile\n"
     ]
    },
    {
     "name": "stdout",
     "output_type": "stream",
     "text": [
      "Skipping unreadable image: ../space_images_split/train/cosmos space/5.jpg\n"
     ]
    },
    {
     "name": "stderr",
     "output_type": "stream",
     "text": [
      "Training:  76%|███████▌  | 19/25 [00:08<00:01,  3.33it/s, loss=0.8272, acc=73.59%]libpng warning: iCCP: known incorrect sRGB profile\n",
      "Training:  84%|████████▍ | 21/25 [00:09<00:01,  3.27it/s, loss=0.6301, acc=73.30%]"
     ]
    },
    {
     "name": "stdout",
     "output_type": "stream",
     "text": [
      "Skipping unreadable image: ../space_images_split/train/stars/1.jpg\n"
     ]
    },
    {
     "name": "stderr",
     "output_type": "stream",
     "text": [
      "Training: 100%|██████████| 25/25 [00:29<00:00,  1.19s/it, loss=1.0634, acc=72.28%]\n",
      "Validation:   0%|          | 0/6 [00:00<?, ?it/s]"
     ]
    },
    {
     "name": "stdout",
     "output_type": "stream",
     "text": [
      "Skipping unreadable image: ../space_images_split/validation/constellation/8.jpg\n",
      "Skipping unreadable image: ../space_images_split/validation/galaxies/7.jpg\n"
     ]
    },
    {
     "name": "stderr",
     "output_type": "stream",
     "text": [
      "Validation: 100%|██████████| 6/6 [00:23<00:00,  3.97s/it, loss=1.5822, acc=56.44%]\n"
     ]
    },
    {
     "name": "stdout",
     "output_type": "stream",
     "text": [
      "\n",
      "Train Loss: 0.7160 | Train Acc: 72.28%\n",
      "Val Loss:   1.2106 | Val Acc:   56.44%\n",
      "================================================================================\n",
      "Epoch 13/25\n",
      "------------------------------------------------------------\n"
     ]
    },
    {
     "name": "stderr",
     "output_type": "stream",
     "text": [
      "Training:   0%|          | 0/25 [00:00<?, ?it/s]libpng warning: iCCP: known incorrect sRGB profile\n",
      "libpng warning: iCCP: known incorrect sRGB profile\n"
     ]
    },
    {
     "name": "stdout",
     "output_type": "stream",
     "text": [
      "Skipping unreadable image: ../space_images_split/train/planets/11.jpg\n"
     ]
    },
    {
     "name": "stderr",
     "output_type": "stream",
     "text": [
      "Training:  12%|█▏        | 3/25 [00:04<00:24,  1.10s/it, loss=0.6740, acc=68.75%]"
     ]
    },
    {
     "name": "stdout",
     "output_type": "stream",
     "text": [
      "Skipping unreadable image: ../space_images_split/train/cosmos space/5.jpg\n"
     ]
    },
    {
     "name": "stderr",
     "output_type": "stream",
     "text": [
      "Training:  28%|██▊       | 7/25 [00:04<00:07,  2.36it/s, loss=0.7495, acc=68.30%]libpng warning: iCCP: known incorrect sRGB profile\n",
      "Training:  28%|██▊       | 7/25 [00:04<00:07,  2.36it/s, loss=0.5862, acc=69.14%]"
     ]
    },
    {
     "name": "stdout",
     "output_type": "stream",
     "text": [
      "Skipping unreadable image: ../space_images_split/train/constellation/9.jpg\n"
     ]
    },
    {
     "name": "stderr",
     "output_type": "stream",
     "text": [
      "Training:  44%|████▍     | 11/25 [00:05<00:03,  3.85it/s, loss=0.7214, acc=69.01%]"
     ]
    },
    {
     "name": "stdout",
     "output_type": "stream",
     "text": [
      "Skipping unreadable image: ../space_images_split/train/stars/1.jpg\n"
     ]
    },
    {
     "name": "stderr",
     "output_type": "stream",
     "text": [
      "Training:  60%|██████    | 15/25 [00:07<00:03,  3.27it/s, loss=0.7674, acc=68.16%]"
     ]
    },
    {
     "name": "stdout",
     "output_type": "stream",
     "text": [
      "Skipping unreadable image: ../space_images_split/train/constellation/53.jpg\n"
     ]
    },
    {
     "name": "stderr",
     "output_type": "stream",
     "text": [
      "Training:  68%|██████▊   | 17/25 [00:07<00:02,  3.57it/s, loss=0.8146, acc=67.65%]libpng warning: iCCP: known incorrect sRGB profile\n"
     ]
    },
    {
     "name": "stdout",
     "output_type": "stream",
     "text": [
      "Skipping unreadable image: ../space_images_split/train/galaxies/41.jpg\n"
     ]
    },
    {
     "name": "stderr",
     "output_type": "stream",
     "text": [
      "Training:  72%|███████▏  | 18/25 [00:08<00:02,  3.24it/s, loss=0.5593, acc=69.08%]"
     ]
    },
    {
     "name": "stdout",
     "output_type": "stream",
     "text": [
      "Skipping unreadable image: ../space_images_split/train/galaxies/167.jpg\n"
     ]
    },
    {
     "name": "stderr",
     "output_type": "stream",
     "text": [
      "Training:  80%|████████  | 20/25 [00:08<00:01,  4.36it/s, loss=0.6034, acc=68.91%]libpng warning: iCCP: known incorrect sRGB profile\n",
      "Training: 100%|██████████| 25/25 [00:28<00:00,  1.16s/it, loss=0.8910, acc=68.01%]\n",
      "Validation:   0%|          | 0/6 [00:00<?, ?it/s]"
     ]
    },
    {
     "name": "stdout",
     "output_type": "stream",
     "text": [
      "Skipping unreadable image: ../space_images_split/validation/constellation/8.jpg\n",
      "Skipping unreadable image: ../space_images_split/validation/galaxies/7.jpg\n"
     ]
    },
    {
     "name": "stderr",
     "output_type": "stream",
     "text": [
      "Validation: 100%|██████████| 6/6 [00:23<00:00,  3.98s/it, loss=1.6422, acc=55.21%]\n"
     ]
    },
    {
     "name": "stdout",
     "output_type": "stream",
     "text": [
      "\n",
      "Train Loss: 0.7654 | Train Acc: 68.01%\n",
      "Val Loss:   1.1832 | Val Acc:   55.21%\n",
      "================================================================================\n",
      "Epoch 14/25\n",
      "------------------------------------------------------------\n"
     ]
    },
    {
     "name": "stderr",
     "output_type": "stream",
     "text": [
      "Training:   0%|          | 0/25 [00:00<?, ?it/s]libpng warning: iCCP: known incorrect sRGB profile\n"
     ]
    },
    {
     "name": "stdout",
     "output_type": "stream",
     "text": [
      "Skipping unreadable image: ../space_images_split/train/galaxies/167.jpg\n"
     ]
    },
    {
     "name": "stderr",
     "output_type": "stream",
     "text": [
      "Training:  12%|█▏        | 3/25 [00:03<00:21,  1.05it/s, loss=0.7819, acc=71.88%]"
     ]
    },
    {
     "name": "stdout",
     "output_type": "stream",
     "text": [
      "Skipping unreadable image: ../space_images_split/train/constellation/53.jpg\n",
      "Skipping unreadable image: ../space_images_split/train/galaxies/41.jpg\n"
     ]
    },
    {
     "name": "stderr",
     "output_type": "stream",
     "text": [
      "Training:  12%|█▏        | 3/25 [00:03<00:21,  1.05it/s, loss=0.7848, acc=71.09%]libpng warning: iCCP: known incorrect sRGB profile\n",
      "Training:  20%|██        | 5/25 [00:03<00:10,  1.89it/s, loss=0.7058, acc=71.25%]"
     ]
    },
    {
     "name": "stdout",
     "output_type": "stream",
     "text": [
      "Skipping unreadable image: ../space_images_split/train/cosmos space/5.jpg\n"
     ]
    },
    {
     "name": "stderr",
     "output_type": "stream",
     "text": [
      "libpng warning: iCCP: known incorrect sRGB profile\n"
     ]
    },
    {
     "name": "stdout",
     "output_type": "stream",
     "text": [
      "Skipping unreadable image: ../space_images_split/train/planets/11.jpg\n"
     ]
    },
    {
     "name": "stderr",
     "output_type": "stream",
     "text": [
      "Training:  32%|███▏      | 8/25 [00:05<00:06,  2.44it/s, loss=0.8240, acc=71.18%]"
     ]
    },
    {
     "name": "stdout",
     "output_type": "stream",
     "text": [
      "Skipping unreadable image: ../space_images_split/train/constellation/9.jpg\n"
     ]
    },
    {
     "name": "stderr",
     "output_type": "stream",
     "text": [
      "Training:  48%|████▊     | 12/25 [00:06<00:04,  3.23it/s, loss=0.4767, acc=73.32%]libpng warning: iCCP: known incorrect sRGB profile\n",
      "libpng warning: iCCP: known incorrect sRGB profile\n",
      "Training:  64%|██████▍   | 16/25 [00:07<00:02,  3.99it/s, loss=0.8828, acc=72.61%]"
     ]
    },
    {
     "name": "stdout",
     "output_type": "stream",
     "text": [
      "Skipping unreadable image: ../space_images_split/train/stars/1.jpg\n"
     ]
    },
    {
     "name": "stderr",
     "output_type": "stream",
     "text": [
      "Training: 100%|██████████| 25/25 [00:28<00:00,  1.16s/it, loss=0.9830, acc=71.89%]\n",
      "Validation:   0%|          | 0/6 [00:00<?, ?it/s]"
     ]
    },
    {
     "name": "stdout",
     "output_type": "stream",
     "text": [
      "Skipping unreadable image: ../space_images_split/validation/constellation/8.jpg\n",
      "Skipping unreadable image: ../space_images_split/validation/galaxies/7.jpg\n"
     ]
    },
    {
     "name": "stderr",
     "output_type": "stream",
     "text": [
      "Validation: 100%|██████████| 6/6 [00:23<00:00,  3.98s/it, loss=1.5271, acc=53.99%]\n"
     ]
    },
    {
     "name": "stdout",
     "output_type": "stream",
     "text": [
      "\n",
      "Train Loss: 0.7339 | Train Acc: 71.89%\n",
      "Val Loss:   1.1642 | Val Acc:   53.99%\n",
      "================================================================================\n",
      "Epoch 15/25\n",
      "------------------------------------------------------------\n"
     ]
    },
    {
     "name": "stderr",
     "output_type": "stream",
     "text": [
      "Training:   0%|          | 0/25 [00:00<?, ?it/s]libpng warning: iCCP: known incorrect sRGB profile\n"
     ]
    },
    {
     "name": "stdout",
     "output_type": "stream",
     "text": [
      "Skipping unreadable image: ../space_images_split/train/constellation/53.jpg\n",
      "Skipping unreadable image: ../space_images_split/train/planets/11.jpg\n"
     ]
    },
    {
     "name": "stderr",
     "output_type": "stream",
     "text": [
      "Training:  36%|███▌      | 9/25 [00:05<00:04,  3.36it/s, loss=0.8276, acc=74.65%]"
     ]
    },
    {
     "name": "stdout",
     "output_type": "stream",
     "text": [
      "Skipping unreadable image: ../space_images_split/train/constellation/9.jpg\n"
     ]
    },
    {
     "name": "stderr",
     "output_type": "stream",
     "text": [
      "libpng warning: iCCP: known incorrect sRGB profile\n",
      "Training:  48%|████▊     | 12/25 [00:05<00:03,  4.09it/s, loss=0.9315, acc=72.60%]libpng warning: iCCP: known incorrect sRGB profile\n"
     ]
    },
    {
     "name": "stdout",
     "output_type": "stream",
     "text": [
      "Skipping unreadable image: ../space_images_split/train/galaxies/41.jpg\n",
      "Skipping unreadable image: ../space_images_split/train/stars/1.jpg\n"
     ]
    },
    {
     "name": "stderr",
     "output_type": "stream",
     "text": [
      "libpng warning: iCCP: known incorrect sRGB profile\n",
      "Training:  80%|████████  | 20/25 [00:07<00:00,  5.11it/s, loss=0.7106, acc=73.91%]libpng warning: iCCP: known incorrect sRGB profile\n",
      "Training:  84%|████████▍ | 21/25 [00:07<00:00,  5.53it/s, loss=0.6405, acc=74.11%]"
     ]
    },
    {
     "name": "stdout",
     "output_type": "stream",
     "text": [
      "Skipping unreadable image: ../space_images_split/train/galaxies/167.jpg\n",
      "Skipping unreadable image: ../space_images_split/train/cosmos space/5.jpg\n"
     ]
    },
    {
     "name": "stderr",
     "output_type": "stream",
     "text": [
      "Training: 100%|██████████| 25/25 [00:28<00:00,  1.14s/it, loss=1.3204, acc=73.58%]\n",
      "Validation:   0%|          | 0/6 [00:00<?, ?it/s]"
     ]
    },
    {
     "name": "stdout",
     "output_type": "stream",
     "text": [
      "Skipping unreadable image: ../space_images_split/validation/constellation/8.jpg\n",
      "Skipping unreadable image: ../space_images_split/validation/galaxies/7.jpg\n"
     ]
    },
    {
     "name": "stderr",
     "output_type": "stream",
     "text": [
      "Validation: 100%|██████████| 6/6 [00:23<00:00,  3.96s/it, loss=1.5485, acc=56.44%]\n"
     ]
    },
    {
     "name": "stdout",
     "output_type": "stream",
     "text": [
      "\n",
      "Train Loss: 0.7089 | Train Acc: 73.58%\n",
      "Val Loss:   1.1348 | Val Acc:   56.44%\n",
      "================================================================================\n",
      "Epoch 16/25\n",
      "------------------------------------------------------------\n"
     ]
    },
    {
     "name": "stderr",
     "output_type": "stream",
     "text": [
      "Training:   0%|          | 0/25 [00:00<?, ?it/s]"
     ]
    },
    {
     "name": "stdout",
     "output_type": "stream",
     "text": [
      "Skipping unreadable image: ../space_images_split/train/planets/11.jpg\n",
      "Skipping unreadable image: ../space_images_split/train/cosmos space/5.jpg\n"
     ]
    },
    {
     "name": "stderr",
     "output_type": "stream",
     "text": [
      "libpng warning: iCCP: known incorrect sRGB profile\n",
      "Training:  28%|██▊       | 7/25 [00:04<00:08,  2.23it/s, loss=0.6670, acc=70.31%]"
     ]
    },
    {
     "name": "stdout",
     "output_type": "stream",
     "text": [
      "Skipping unreadable image: ../space_images_split/train/stars/1.jpg\n"
     ]
    },
    {
     "name": "stderr",
     "output_type": "stream",
     "text": [
      "Training:  36%|███▌      | 9/25 [00:05<00:05,  3.08it/s, loss=0.7630, acc=71.56%]"
     ]
    },
    {
     "name": "stdout",
     "output_type": "stream",
     "text": [
      "Skipping unreadable image: ../space_images_split/train/galaxies/41.jpg\n"
     ]
    },
    {
     "name": "stderr",
     "output_type": "stream",
     "text": [
      "libpng warning: iCCP: known incorrect sRGB profile\n",
      "Training:  44%|████▍     | 11/25 [00:05<00:04,  3.12it/s, loss=0.8662, acc=70.83%]libpng warning: iCCP: known incorrect sRGB profile\n",
      "Training:  76%|███████▌  | 19/25 [00:07<00:01,  4.93it/s, loss=0.8533, acc=71.72%]"
     ]
    },
    {
     "name": "stdout",
     "output_type": "stream",
     "text": [
      "Skipping unreadable image: ../space_images_split/train/galaxies/167.jpg\n"
     ]
    },
    {
     "name": "stderr",
     "output_type": "stream",
     "text": [
      "libpng warning: iCCP: known incorrect sRGB profile\n",
      "Training:  84%|████████▍ | 21/25 [00:07<00:00,  5.45it/s, loss=0.7723, acc=71.58%]libpng warning: iCCP: known incorrect sRGB profile\n"
     ]
    },
    {
     "name": "stdout",
     "output_type": "stream",
     "text": [
      "Skipping unreadable image: ../space_images_split/train/constellation/9.jpg\n",
      "Skipping unreadable image: ../space_images_split/train/constellation/53.jpg\n"
     ]
    },
    {
     "name": "stderr",
     "output_type": "stream",
     "text": [
      "Training: 100%|██████████| 25/25 [00:28<00:00,  1.14s/it, loss=0.8217, acc=71.63%]\n",
      "Validation:   0%|          | 0/6 [00:00<?, ?it/s]"
     ]
    },
    {
     "name": "stdout",
     "output_type": "stream",
     "text": [
      "Skipping unreadable image: ../space_images_split/validation/constellation/8.jpg\n",
      "Skipping unreadable image: ../space_images_split/validation/galaxies/7.jpg\n"
     ]
    },
    {
     "name": "stderr",
     "output_type": "stream",
     "text": [
      "Validation: 100%|██████████| 6/6 [00:24<00:00,  4.01s/it, loss=1.7394, acc=60.74%]\n"
     ]
    },
    {
     "name": "stdout",
     "output_type": "stream",
     "text": [
      "\n",
      "Train Loss: 0.7440 | Train Acc: 71.63%\n",
      "Val Loss:   1.1366 | Val Acc:   60.74%\n",
      "Best model saved! (Val Acc: 60.74%)\n",
      "================================================================================\n",
      "Epoch 17/25\n",
      "------------------------------------------------------------\n"
     ]
    },
    {
     "name": "stderr",
     "output_type": "stream",
     "text": [
      "Training:   0%|          | 0/25 [00:00<?, ?it/s]"
     ]
    },
    {
     "name": "stdout",
     "output_type": "stream",
     "text": [
      "Skipping unreadable image: ../space_images_split/train/constellation/9.jpg\n",
      "Skipping unreadable image: ../space_images_split/train/galaxies/41.jpg\n"
     ]
    },
    {
     "name": "stderr",
     "output_type": "stream",
     "text": [
      "libpng warning: iCCP: known incorrect sRGB profile\n",
      "Training:  24%|██▍       | 6/25 [00:04<00:09,  2.09it/s, loss=0.8653, acc=73.66%]libpng warning: iCCP: known incorrect sRGB profile\n",
      "Training:  40%|████      | 10/25 [00:05<00:04,  3.39it/s, loss=0.5925, acc=74.72%]"
     ]
    },
    {
     "name": "stdout",
     "output_type": "stream",
     "text": [
      "Skipping unreadable image: ../space_images_split/train/stars/1.jpg\n",
      "Skipping unreadable image: ../space_images_split/train/constellation/53.jpg\n"
     ]
    },
    {
     "name": "stderr",
     "output_type": "stream",
     "text": [
      "Training:  52%|█████▏    | 13/25 [00:06<00:03,  3.48it/s, loss=0.7650, acc=74.28%]"
     ]
    },
    {
     "name": "stdout",
     "output_type": "stream",
     "text": [
      "Skipping unreadable image: ../space_images_split/train/galaxies/167.jpg\n"
     ]
    },
    {
     "name": "stderr",
     "output_type": "stream",
     "text": [
      "libpng warning: iCCP: known incorrect sRGB profile\n",
      "libpng warning: iCCP: known incorrect sRGB profile\n",
      "Training:  64%|██████▍   | 16/25 [00:06<00:02,  3.78it/s, loss=0.6124, acc=73.53%]libpng warning: iCCP: known incorrect sRGB profile\n"
     ]
    },
    {
     "name": "stdout",
     "output_type": "stream",
     "text": [
      "Skipping unreadable image: ../space_images_split/train/planets/11.jpg\n"
     ]
    },
    {
     "name": "stderr",
     "output_type": "stream",
     "text": [
      "Training:  72%|███████▏  | 18/25 [00:07<00:02,  3.17it/s, loss=0.8745, acc=73.44%]"
     ]
    },
    {
     "name": "stdout",
     "output_type": "stream",
     "text": [
      "Skipping unreadable image: ../space_images_split/train/cosmos space/5.jpg\n"
     ]
    },
    {
     "name": "stderr",
     "output_type": "stream",
     "text": [
      "Training: 100%|██████████| 25/25 [00:28<00:00,  1.14s/it, loss=1.3195, acc=73.06%]\n",
      "Validation:   0%|          | 0/6 [00:00<?, ?it/s]"
     ]
    },
    {
     "name": "stdout",
     "output_type": "stream",
     "text": [
      "Skipping unreadable image: ../space_images_split/validation/constellation/8.jpg\n",
      "Skipping unreadable image: ../space_images_split/validation/galaxies/7.jpg\n"
     ]
    },
    {
     "name": "stderr",
     "output_type": "stream",
     "text": [
      "Validation: 100%|██████████| 6/6 [00:24<00:00,  4.00s/it, loss=1.7904, acc=58.28%]\n"
     ]
    },
    {
     "name": "stdout",
     "output_type": "stream",
     "text": [
      "\n",
      "Train Loss: 0.7083 | Train Acc: 73.06%\n",
      "Val Loss:   1.2013 | Val Acc:   58.28%\n",
      "================================================================================\n",
      "Epoch 18/25\n",
      "------------------------------------------------------------\n"
     ]
    },
    {
     "name": "stderr",
     "output_type": "stream",
     "text": [
      "Training:   0%|          | 0/25 [00:00<?, ?it/s]libpng warning: iCCP: known incorrect sRGB profile\n",
      "libpng warning: iCCP: known incorrect sRGB profile\n",
      "Training:  32%|███▏      | 8/25 [00:06<00:06,  2.44it/s, loss=0.7987, acc=71.48%]libpng warning: iCCP: known incorrect sRGB profile\n",
      "Training:  40%|████      | 10/25 [00:06<00:04,  3.01it/s, loss=0.4279, acc=71.88%]"
     ]
    },
    {
     "name": "stdout",
     "output_type": "stream",
     "text": [
      "Skipping unreadable image: ../space_images_split/train/galaxies/41.jpg\n",
      "Skipping unreadable image: ../space_images_split/train/stars/1.jpg\n"
     ]
    },
    {
     "name": "stderr",
     "output_type": "stream",
     "text": [
      "Training:  52%|█████▏    | 13/25 [00:07<00:02,  4.56it/s, loss=0.6142, acc=72.84%]libpng warning: iCCP: known incorrect sRGB profile\n"
     ]
    },
    {
     "name": "stdout",
     "output_type": "stream",
     "text": [
      "Skipping unreadable image: ../space_images_split/train/galaxies/167.jpg\n"
     ]
    },
    {
     "name": "stderr",
     "output_type": "stream",
     "text": [
      "Training:  64%|██████▍   | 16/25 [00:08<00:02,  4.04it/s, loss=0.6119, acc=73.71%]"
     ]
    },
    {
     "name": "stdout",
     "output_type": "stream",
     "text": [
      "Skipping unreadable image: ../space_images_split/train/constellation/53.jpg\n",
      "Skipping unreadable image: ../space_images_split/train/cosmos space/5.jpg\n"
     ]
    },
    {
     "name": "stderr",
     "output_type": "stream",
     "text": [
      "Training:  80%|████████  | 20/25 [00:09<00:01,  4.29it/s, loss=0.7786, acc=72.81%]"
     ]
    },
    {
     "name": "stdout",
     "output_type": "stream",
     "text": [
      "Skipping unreadable image: ../space_images_split/train/constellation/9.jpg\n"
     ]
    },
    {
     "name": "stderr",
     "output_type": "stream",
     "text": [
      "Training:  80%|████████  | 20/25 [00:09<00:01,  4.29it/s, loss=0.6268, acc=73.07%]libpng warning: iCCP: known incorrect sRGB profile\n",
      "Training:  88%|████████▊ | 22/25 [00:09<00:00,  4.56it/s, loss=0.7441, acc=72.87%]"
     ]
    },
    {
     "name": "stdout",
     "output_type": "stream",
     "text": [
      "Skipping unreadable image: ../space_images_split/train/planets/11.jpg\n"
     ]
    },
    {
     "name": "stderr",
     "output_type": "stream",
     "text": [
      "Training: 100%|██████████| 25/25 [00:30<00:00,  1.20s/it, loss=0.7397, acc=72.41%]\n",
      "Validation:   0%|          | 0/6 [00:00<?, ?it/s]"
     ]
    },
    {
     "name": "stdout",
     "output_type": "stream",
     "text": [
      "Skipping unreadable image: ../space_images_split/validation/constellation/8.jpg\n",
      "Skipping unreadable image: ../space_images_split/validation/galaxies/7.jpg\n"
     ]
    },
    {
     "name": "stderr",
     "output_type": "stream",
     "text": [
      "Validation: 100%|██████████| 6/6 [00:24<00:00,  4.00s/it, loss=1.8498, acc=56.44%]\n"
     ]
    },
    {
     "name": "stdout",
     "output_type": "stream",
     "text": [
      "\n",
      "Train Loss: 0.6882 | Train Acc: 72.41%\n",
      "Val Loss:   1.1530 | Val Acc:   56.44%\n",
      "================================================================================\n",
      "Epoch 19/25\n",
      "------------------------------------------------------------\n"
     ]
    },
    {
     "name": "stderr",
     "output_type": "stream",
     "text": [
      "Training:   0%|          | 0/25 [00:00<?, ?it/s]"
     ]
    },
    {
     "name": "stdout",
     "output_type": "stream",
     "text": [
      "Skipping unreadable image: ../space_images_split/train/cosmos space/5.jpg\n",
      "Skipping unreadable image: ../space_images_split/train/stars/1.jpg\n",
      "Skipping unreadable image: ../space_images_split/train/galaxies/41.jpg\n",
      "Skipping unreadable image: ../space_images_split/train/galaxies/167.jpg\n"
     ]
    },
    {
     "name": "stderr",
     "output_type": "stream",
     "text": [
      "Training:  28%|██▊       | 7/25 [00:04<00:06,  2.61it/s, loss=0.8439, acc=71.09%]"
     ]
    },
    {
     "name": "stdout",
     "output_type": "stream",
     "text": [
      "Skipping unreadable image: ../space_images_split/train/constellation/9.jpg\n",
      "Skipping unreadable image: ../space_images_split/train/planets/11.jpg\n"
     ]
    },
    {
     "name": "stderr",
     "output_type": "stream",
     "text": [
      "Training:  36%|███▌      | 9/25 [00:05<00:05,  2.94it/s, loss=0.8451, acc=71.18%]libpng warning: iCCP: known incorrect sRGB profile\n",
      "Training:  48%|████▊     | 12/25 [00:05<00:03,  3.83it/s, loss=0.4020, acc=74.74%]libpng warning: iCCP: known incorrect sRGB profile\n",
      "Training:  52%|█████▏    | 13/25 [00:06<00:03,  3.33it/s, loss=0.5711, acc=74.33%]libpng warning: iCCP: known incorrect sRGB profile\n",
      "Training:  60%|██████    | 15/25 [00:06<00:02,  4.13it/s, loss=0.6498, acc=74.80%]libpng warning: iCCP: known incorrect sRGB profile\n",
      "libpng warning: iCCP: known incorrect sRGB profile\n",
      "Training:  76%|███████▌  | 19/25 [00:07<00:01,  4.08it/s, loss=0.7829, acc=73.59%]"
     ]
    },
    {
     "name": "stdout",
     "output_type": "stream",
     "text": [
      "Skipping unreadable image: ../space_images_split/train/constellation/53.jpg\n"
     ]
    },
    {
     "name": "stderr",
     "output_type": "stream",
     "text": [
      "Training: 100%|██████████| 25/25 [00:28<00:00,  1.14s/it, loss=0.6277, acc=72.93%]\n",
      "Validation:   0%|          | 0/6 [00:00<?, ?it/s]"
     ]
    },
    {
     "name": "stdout",
     "output_type": "stream",
     "text": [
      "Skipping unreadable image: ../space_images_split/validation/constellation/8.jpg\n",
      "Skipping unreadable image: ../space_images_split/validation/galaxies/7.jpg\n"
     ]
    },
    {
     "name": "stderr",
     "output_type": "stream",
     "text": [
      "Validation: 100%|██████████| 6/6 [00:23<00:00,  4.00s/it, loss=1.5688, acc=59.51%]\n"
     ]
    },
    {
     "name": "stdout",
     "output_type": "stream",
     "text": [
      "\n",
      "Train Loss: 0.6775 | Train Acc: 72.93%\n",
      "Val Loss:   1.1372 | Val Acc:   59.51%\n",
      "================================================================================\n",
      "Epoch 20/25\n",
      "------------------------------------------------------------\n"
     ]
    },
    {
     "name": "stderr",
     "output_type": "stream",
     "text": [
      "Training:   0%|          | 0/25 [00:00<?, ?it/s]libpng warning: iCCP: known incorrect sRGB profile\n"
     ]
    },
    {
     "name": "stdout",
     "output_type": "stream",
     "text": [
      "Skipping unreadable image: ../space_images_split/train/constellation/53.jpg\n"
     ]
    },
    {
     "name": "stderr",
     "output_type": "stream",
     "text": [
      "Training:   4%|▍         | 1/25 [00:03<01:20,  3.34s/it, loss=0.4902, acc=81.25%]"
     ]
    },
    {
     "name": "stdout",
     "output_type": "stream",
     "text": [
      "Skipping unreadable image: ../space_images_split/train/planets/11.jpg\n"
     ]
    },
    {
     "name": "stderr",
     "output_type": "stream",
     "text": [
      "Training:  12%|█▏        | 3/25 [00:03<00:20,  1.08it/s, loss=0.6749, acc=74.22%]"
     ]
    },
    {
     "name": "stdout",
     "output_type": "stream",
     "text": [
      "Skipping unreadable image: ../space_images_split/train/constellation/9.jpg\n",
      "Skipping unreadable image: ../space_images_split/train/stars/1.jpg\n"
     ]
    },
    {
     "name": "stderr",
     "output_type": "stream",
     "text": [
      "Training:  20%|██        | 5/25 [00:04<00:11,  1.72it/s, loss=0.4506, acc=75.00%]"
     ]
    },
    {
     "name": "stdout",
     "output_type": "stream",
     "text": [
      "Skipping unreadable image: ../space_images_split/train/galaxies/167.jpg\n",
      "Skipping unreadable image: ../space_images_split/train/cosmos space/5.jpg\n",
      "Skipping unreadable image: ../space_images_split/train/galaxies/41.jpg\n"
     ]
    },
    {
     "name": "stderr",
     "output_type": "stream",
     "text": [
      "Training:  32%|███▏      | 8/25 [00:05<00:06,  2.47it/s, loss=0.7168, acc=75.69%]libpng warning: iCCP: known incorrect sRGB profile\n",
      "Training:  48%|████▊     | 12/25 [00:05<00:03,  3.90it/s, loss=0.8319, acc=75.96%]libpng warning: iCCP: known incorrect sRGB profile\n",
      "Training:  64%|██████▍   | 16/25 [00:06<00:02,  3.91it/s, loss=0.4340, acc=77.21%]libpng warning: iCCP: known incorrect sRGB profile\n",
      "libpng warning: iCCP: known incorrect sRGB profile\n",
      "Training: 100%|██████████| 25/25 [00:29<00:00,  1.16s/it, loss=0.5585, acc=76.55%]\n",
      "Validation:   0%|          | 0/6 [00:00<?, ?it/s]"
     ]
    },
    {
     "name": "stdout",
     "output_type": "stream",
     "text": [
      "Skipping unreadable image: ../space_images_split/validation/constellation/8.jpg\n",
      "Skipping unreadable image: ../space_images_split/validation/galaxies/7.jpg\n"
     ]
    },
    {
     "name": "stderr",
     "output_type": "stream",
     "text": [
      "Validation: 100%|██████████| 6/6 [00:23<00:00,  3.99s/it, loss=1.3232, acc=58.90%]\n"
     ]
    },
    {
     "name": "stdout",
     "output_type": "stream",
     "text": [
      "\n",
      "Train Loss: 0.6308 | Train Acc: 76.55%\n",
      "Val Loss:   1.1326 | Val Acc:   58.90%\n",
      "================================================================================\n",
      "Epoch 21/25\n",
      "------------------------------------------------------------\n"
     ]
    },
    {
     "name": "stderr",
     "output_type": "stream",
     "text": [
      "Training:   0%|          | 0/25 [00:00<?, ?it/s]libpng warning: iCCP: known incorrect sRGB profile\n",
      "Training:   4%|▍         | 1/25 [00:03<01:32,  3.85s/it, loss=0.8562, acc=71.88%]libpng warning: iCCP: known incorrect sRGB profile\n",
      "libpng warning: iCCP: known incorrect sRGB profile\n",
      "Training:  28%|██▊       | 7/25 [00:04<00:08,  2.11it/s, loss=0.5352, acc=75.00%]"
     ]
    },
    {
     "name": "stdout",
     "output_type": "stream",
     "text": [
      "Skipping unreadable image: ../space_images_split/train/cosmos space/5.jpg\n",
      "Skipping unreadable image: ../space_images_split/train/galaxies/41.jpg\n"
     ]
    },
    {
     "name": "stderr",
     "output_type": "stream",
     "text": [
      "Training:  36%|███▌      | 9/25 [00:05<00:05,  3.04it/s, loss=1.0632, acc=73.75%]libpng warning: iCCP: known incorrect sRGB profile\n",
      "Training:  44%|████▍     | 11/25 [00:05<00:04,  2.96it/s, loss=0.6943, acc=73.58%]"
     ]
    },
    {
     "name": "stdout",
     "output_type": "stream",
     "text": [
      "Skipping unreadable image: ../space_images_split/train/planets/11.jpg\n"
     ]
    },
    {
     "name": "stderr",
     "output_type": "stream",
     "text": [
      "libpng warning: iCCP: known incorrect sRGB profile\n",
      "Training:  60%|██████    | 15/25 [00:06<00:02,  3.80it/s, loss=0.5359, acc=73.96%]"
     ]
    },
    {
     "name": "stdout",
     "output_type": "stream",
     "text": [
      "Skipping unreadable image: ../space_images_split/train/constellation/9.jpg\n"
     ]
    },
    {
     "name": "stderr",
     "output_type": "stream",
     "text": [
      "Training:  72%|███████▏  | 18/25 [00:07<00:01,  3.94it/s, loss=0.6265, acc=74.18%]"
     ]
    },
    {
     "name": "stdout",
     "output_type": "stream",
     "text": [
      "Skipping unreadable image: ../space_images_split/train/constellation/53.jpg\n"
     ]
    },
    {
     "name": "stderr",
     "output_type": "stream",
     "text": [
      "Training:  88%|████████▊ | 22/25 [00:08<00:00,  4.56it/s, loss=0.5294, acc=74.57%]"
     ]
    },
    {
     "name": "stdout",
     "output_type": "stream",
     "text": [
      "Skipping unreadable image: ../space_images_split/train/galaxies/167.jpg\n",
      "Skipping unreadable image: ../space_images_split/train/stars/1.jpg\n"
     ]
    },
    {
     "name": "stderr",
     "output_type": "stream",
     "text": [
      "Training: 100%|██████████| 25/25 [00:29<00:00,  1.18s/it, loss=1.8101, acc=75.26%]\n",
      "Validation:   0%|          | 0/6 [00:00<?, ?it/s]"
     ]
    },
    {
     "name": "stdout",
     "output_type": "stream",
     "text": [
      "Skipping unreadable image: ../space_images_split/validation/constellation/8.jpg\n",
      "Skipping unreadable image: ../space_images_split/validation/galaxies/7.jpg\n"
     ]
    },
    {
     "name": "stderr",
     "output_type": "stream",
     "text": [
      "Validation: 100%|██████████| 6/6 [00:23<00:00,  3.99s/it, loss=1.3550, acc=58.28%]\n"
     ]
    },
    {
     "name": "stdout",
     "output_type": "stream",
     "text": [
      "\n",
      "Train Loss: 0.6494 | Train Acc: 75.26%\n",
      "Val Loss:   1.1526 | Val Acc:   58.28%\n",
      "================================================================================\n",
      "Epoch 22/25\n",
      "------------------------------------------------------------\n"
     ]
    },
    {
     "name": "stderr",
     "output_type": "stream",
     "text": [
      "Training:   0%|          | 0/25 [00:00<?, ?it/s]"
     ]
    },
    {
     "name": "stdout",
     "output_type": "stream",
     "text": [
      "Skipping unreadable image: ../space_images_split/train/cosmos space/5.jpg\n"
     ]
    },
    {
     "name": "stderr",
     "output_type": "stream",
     "text": [
      "Training:   4%|▍         | 1/25 [00:03<01:24,  3.51s/it, loss=0.6219, acc=75.00%]"
     ]
    },
    {
     "name": "stdout",
     "output_type": "stream",
     "text": [
      "Skipping unreadable image: ../space_images_split/train/planets/11.jpg\n",
      "Skipping unreadable image: ../space_images_split/train/constellation/53.jpg\n"
     ]
    },
    {
     "name": "stderr",
     "output_type": "stream",
     "text": [
      "libpng warning: iCCP: known incorrect sRGB profile\n",
      "Training:  28%|██▊       | 7/25 [00:04<00:06,  2.80it/s, loss=0.4765, acc=78.12%]libpng warning: iCCP: known incorrect sRGB profile\n",
      "Training:  28%|██▊       | 7/25 [00:04<00:06,  2.80it/s, loss=0.6300, acc=78.12%]libpng warning: iCCP: known incorrect sRGB profile\n",
      "Training:  36%|███▌      | 9/25 [00:05<00:05,  3.20it/s, loss=0.5664, acc=76.88%]"
     ]
    },
    {
     "name": "stdout",
     "output_type": "stream",
     "text": [
      "Skipping unreadable image: ../space_images_split/train/stars/1.jpg\n"
     ]
    },
    {
     "name": "stderr",
     "output_type": "stream",
     "text": [
      "Training:  52%|█████▏    | 13/25 [00:05<00:02,  4.84it/s, loss=0.6901, acc=76.34%]"
     ]
    },
    {
     "name": "stdout",
     "output_type": "stream",
     "text": [
      "Skipping unreadable image: ../space_images_split/train/constellation/9.jpg\n",
      "Skipping unreadable image: ../space_images_split/train/galaxies/41.jpg\n"
     ]
    },
    {
     "name": "stderr",
     "output_type": "stream",
     "text": [
      "Training:  68%|██████▊   | 17/25 [00:06<00:01,  4.87it/s, loss=0.6268, acc=76.04%]libpng warning: iCCP: known incorrect sRGB profile\n"
     ]
    },
    {
     "name": "stdout",
     "output_type": "stream",
     "text": [
      "Skipping unreadable image: ../space_images_split/train/galaxies/167.jpg\n"
     ]
    },
    {
     "name": "stderr",
     "output_type": "stream",
     "text": [
      "Training:  84%|████████▍ | 21/25 [00:07<00:00,  4.61it/s, loss=0.6688, acc=75.71%]libpng warning: iCCP: known incorrect sRGB profile\n",
      "Training: 100%|██████████| 25/25 [00:28<00:00,  1.13s/it, loss=0.9160, acc=76.04%]\n",
      "Validation:   0%|          | 0/6 [00:00<?, ?it/s]"
     ]
    },
    {
     "name": "stdout",
     "output_type": "stream",
     "text": [
      "Skipping unreadable image: ../space_images_split/validation/constellation/8.jpg\n",
      "Skipping unreadable image: ../space_images_split/validation/galaxies/7.jpg\n"
     ]
    },
    {
     "name": "stderr",
     "output_type": "stream",
     "text": [
      "Validation: 100%|██████████| 6/6 [00:23<00:00,  3.93s/it, loss=1.3097, acc=58.28%]\n"
     ]
    },
    {
     "name": "stdout",
     "output_type": "stream",
     "text": [
      "\n",
      "Train Loss: 0.6343 | Train Acc: 76.04%\n",
      "Val Loss:   1.1577 | Val Acc:   58.28%\n",
      "================================================================================\n",
      "Epoch 23/25\n",
      "------------------------------------------------------------\n"
     ]
    },
    {
     "name": "stderr",
     "output_type": "stream",
     "text": [
      "Training:   0%|          | 0/25 [00:00<?, ?it/s]libpng warning: iCCP: known incorrect sRGB profile\n",
      "libpng warning: iCCP: known incorrect sRGB profile\n"
     ]
    },
    {
     "name": "stdout",
     "output_type": "stream",
     "text": [
      "Skipping unreadable image: ../space_images_split/train/stars/1.jpg\n",
      "Skipping unreadable image: ../space_images_split/train/cosmos space/5.jpg\n"
     ]
    },
    {
     "name": "stderr",
     "output_type": "stream",
     "text": [
      "Training:  16%|█▌        | 4/25 [00:03<00:12,  1.62it/s, loss=0.6574, acc=81.25%]"
     ]
    },
    {
     "name": "stdout",
     "output_type": "stream",
     "text": [
      "Skipping unreadable image: ../space_images_split/train/galaxies/41.jpg\n",
      "Skipping unreadable image: ../space_images_split/train/galaxies/167.jpg\n"
     ]
    },
    {
     "name": "stderr",
     "output_type": "stream",
     "text": [
      "Training:  28%|██▊       | 7/25 [00:05<00:07,  2.33it/s, loss=0.7079, acc=76.95%]"
     ]
    },
    {
     "name": "stdout",
     "output_type": "stream",
     "text": [
      "Skipping unreadable image: ../space_images_split/train/constellation/9.jpg\n",
      "Skipping unreadable image: ../space_images_split/train/constellation/53.jpg\n"
     ]
    },
    {
     "name": "stderr",
     "output_type": "stream",
     "text": [
      "Training:  44%|████▍     | 11/25 [00:05<00:03,  3.73it/s, loss=0.8757, acc=78.69%]libpng warning: iCCP: known incorrect sRGB profile\n",
      "Training:  44%|████▍     | 11/25 [00:05<00:03,  3.73it/s, loss=0.5382, acc=78.12%]libpng warning: iCCP: known incorrect sRGB profile\n",
      "Training:  76%|███████▌  | 19/25 [00:07<00:00,  6.18it/s, loss=0.3994, acc=77.03%]"
     ]
    },
    {
     "name": "stdout",
     "output_type": "stream",
     "text": [
      "Skipping unreadable image: ../space_images_split/train/planets/11.jpg\n"
     ]
    },
    {
     "name": "stderr",
     "output_type": "stream",
     "text": [
      "Training:  84%|████████▍ | 21/25 [00:07<00:00,  4.32it/s, loss=0.5103, acc=77.23%]libpng warning: iCCP: known incorrect sRGB profile\n",
      "Training: 100%|██████████| 25/25 [00:28<00:00,  1.13s/it, loss=0.4800, acc=76.94%]\n",
      "Validation:   0%|          | 0/6 [00:00<?, ?it/s]"
     ]
    },
    {
     "name": "stdout",
     "output_type": "stream",
     "text": [
      "Skipping unreadable image: ../space_images_split/validation/constellation/8.jpg\n",
      "Skipping unreadable image: ../space_images_split/validation/galaxies/7.jpg\n"
     ]
    },
    {
     "name": "stderr",
     "output_type": "stream",
     "text": [
      "Validation: 100%|██████████| 6/6 [00:23<00:00,  3.91s/it, loss=1.3216, acc=58.28%]\n"
     ]
    },
    {
     "name": "stdout",
     "output_type": "stream",
     "text": [
      "\n",
      "Train Loss: 0.6310 | Train Acc: 76.94%\n",
      "Val Loss:   1.1377 | Val Acc:   58.28%\n",
      "================================================================================\n",
      "Epoch 24/25\n",
      "------------------------------------------------------------\n"
     ]
    },
    {
     "name": "stderr",
     "output_type": "stream",
     "text": [
      "Training:   0%|          | 0/25 [00:00<?, ?it/s]"
     ]
    },
    {
     "name": "stdout",
     "output_type": "stream",
     "text": [
      "Skipping unreadable image: ../space_images_split/train/galaxies/41.jpg\n",
      "Skipping unreadable image: ../space_images_split/train/cosmos space/5.jpg\n"
     ]
    },
    {
     "name": "stderr",
     "output_type": "stream",
     "text": [
      "libpng warning: iCCP: known incorrect sRGB profile\n",
      "Training:  12%|█▏        | 3/25 [00:03<00:17,  1.22it/s, loss=0.5718, acc=74.22%]"
     ]
    },
    {
     "name": "stdout",
     "output_type": "stream",
     "text": [
      "Skipping unreadable image: ../space_images_split/train/constellation/53.jpg\n"
     ]
    },
    {
     "name": "stderr",
     "output_type": "stream",
     "text": [
      "Training:  20%|██        | 5/25 [00:03<00:10,  1.97it/s, loss=0.3765, acc=76.88%]libpng warning: iCCP: known incorrect sRGB profile\n",
      "Training:  44%|████▍     | 11/25 [00:05<00:04,  3.38it/s, loss=0.7944, acc=77.34%]"
     ]
    },
    {
     "name": "stdout",
     "output_type": "stream",
     "text": [
      "Skipping unreadable image: ../space_images_split/train/stars/1.jpg\n",
      "Skipping unreadable image: ../space_images_split/train/galaxies/167.jpg\n"
     ]
    },
    {
     "name": "stderr",
     "output_type": "stream",
     "text": [
      "libpng warning: iCCP: known incorrect sRGB profile\n",
      "Training:  60%|██████    | 15/25 [00:06<00:02,  3.56it/s, loss=0.6599, acc=77.34%]"
     ]
    },
    {
     "name": "stdout",
     "output_type": "stream",
     "text": [
      "Skipping unreadable image: ../space_images_split/train/constellation/9.jpg\n"
     ]
    },
    {
     "name": "stderr",
     "output_type": "stream",
     "text": [
      "libpng warning: iCCP: known incorrect sRGB profile\n",
      "Training:  76%|███████▌  | 19/25 [00:07<00:01,  3.80it/s, loss=0.6399, acc=78.12%]libpng warning: iCCP: known incorrect sRGB profile\n"
     ]
    },
    {
     "name": "stdout",
     "output_type": "stream",
     "text": [
      "Skipping unreadable image: ../space_images_split/train/planets/11.jpg\n"
     ]
    },
    {
     "name": "stderr",
     "output_type": "stream",
     "text": [
      "Training: 100%|██████████| 25/25 [00:28<00:00,  1.14s/it, loss=1.9277, acc=76.30%]\n",
      "Validation:   0%|          | 0/6 [00:00<?, ?it/s]"
     ]
    },
    {
     "name": "stdout",
     "output_type": "stream",
     "text": [
      "Skipping unreadable image: ../space_images_split/validation/constellation/8.jpg\n",
      "Skipping unreadable image: ../space_images_split/validation/galaxies/7.jpg\n"
     ]
    },
    {
     "name": "stderr",
     "output_type": "stream",
     "text": [
      "Validation: 100%|██████████| 6/6 [00:23<00:00,  3.98s/it, loss=1.5805, acc=60.74%]\n"
     ]
    },
    {
     "name": "stdout",
     "output_type": "stream",
     "text": [
      "\n",
      "Train Loss: 0.6219 | Train Acc: 76.30%\n",
      "Val Loss:   1.1685 | Val Acc:   60.74%\n",
      "================================================================================\n",
      "Epoch 25/25\n",
      "------------------------------------------------------------\n"
     ]
    },
    {
     "name": "stderr",
     "output_type": "stream",
     "text": [
      "Training:   0%|          | 0/25 [00:00<?, ?it/s]libpng warning: iCCP: known incorrect sRGB profile\n"
     ]
    },
    {
     "name": "stdout",
     "output_type": "stream",
     "text": [
      "Skipping unreadable image: ../space_images_split/train/constellation/9.jpg\n"
     ]
    },
    {
     "name": "stderr",
     "output_type": "stream",
     "text": [
      "libpng warning: iCCP: known incorrect sRGB profile\n",
      "Training:  12%|█▏        | 3/25 [00:03<00:21,  1.00it/s, loss=0.4297, acc=78.91%]"
     ]
    },
    {
     "name": "stdout",
     "output_type": "stream",
     "text": [
      "Skipping unreadable image: ../space_images_split/train/planets/11.jpg\n"
     ]
    },
    {
     "name": "stderr",
     "output_type": "stream",
     "text": [
      "Training:  20%|██        | 5/25 [00:04<00:12,  1.65it/s, loss=0.6625, acc=77.50%]libpng warning: iCCP: known incorrect sRGB profile\n",
      "Training:  28%|██▊       | 7/25 [00:04<00:06,  2.62it/s, loss=0.8115, acc=76.17%]libpng warning: iCCP: known incorrect sRGB profile\n",
      "Training:  44%|████▍     | 11/25 [00:05<00:03,  3.82it/s, loss=0.6197, acc=75.85%]"
     ]
    },
    {
     "name": "stdout",
     "output_type": "stream",
     "text": [
      "Skipping unreadable image: ../space_images_split/train/cosmos space/5.jpg\n"
     ]
    },
    {
     "name": "stderr",
     "output_type": "stream",
     "text": [
      "Training:  48%|████▊     | 12/25 [00:05<00:03,  4.03it/s, loss=0.7056, acc=75.78%]"
     ]
    },
    {
     "name": "stdout",
     "output_type": "stream",
     "text": [
      "Skipping unreadable image: ../space_images_split/train/constellation/53.jpg\n",
      "Skipping unreadable image: ../space_images_split/train/galaxies/167.jpg\n"
     ]
    },
    {
     "name": "stderr",
     "output_type": "stream",
     "text": [
      "Training:  60%|██████    | 15/25 [00:06<00:02,  4.38it/s, loss=0.5269, acc=76.46%]libpng warning: iCCP: known incorrect sRGB profile\n"
     ]
    },
    {
     "name": "stdout",
     "output_type": "stream",
     "text": [
      "Skipping unreadable image: ../space_images_split/train/galaxies/41.jpg\n"
     ]
    },
    {
     "name": "stderr",
     "output_type": "stream",
     "text": [
      "Training:  76%|███████▌  | 19/25 [00:06<00:00,  6.08it/s, loss=0.5181, acc=76.64%]"
     ]
    },
    {
     "name": "stdout",
     "output_type": "stream",
     "text": [
      "Skipping unreadable image: ../space_images_split/train/stars/1.jpg\n"
     ]
    },
    {
     "name": "stderr",
     "output_type": "stream",
     "text": [
      "Training: 100%|██████████| 25/25 [00:28<00:00,  1.15s/it, loss=0.5723, acc=77.46%]\n",
      "Validation:   0%|          | 0/6 [00:00<?, ?it/s]"
     ]
    },
    {
     "name": "stdout",
     "output_type": "stream",
     "text": [
      "Skipping unreadable image: ../space_images_split/validation/constellation/8.jpg\n",
      "Skipping unreadable image: ../space_images_split/validation/galaxies/7.jpg\n"
     ]
    },
    {
     "name": "stderr",
     "output_type": "stream",
     "text": [
      "Validation: 100%|██████████| 6/6 [00:23<00:00,  3.91s/it, loss=1.4221, acc=60.74%]"
     ]
    },
    {
     "name": "stdout",
     "output_type": "stream",
     "text": [
      "\n",
      "Train Loss: 0.6002 | Train Acc: 77.46%\n",
      "Val Loss:   1.1367 | Val Acc:   60.74%\n",
      "\n",
      "Stage 1 training complete!\n",
      "================================================================================\n"
     ]
    },
    {
     "name": "stderr",
     "output_type": "stream",
     "text": [
      "\n"
     ]
    }
   ],
   "source": [
    "if split_success:\n",
    "    # Loss and optimizer\n",
    "    criterion = nn.CrossEntropyLoss(weight=class_weights_tensor)\n",
    "    optimizer = optim.Adam(model.parameters(), lr=LEARNING_RATE_STAGE1)\n",
    "    scheduler = ReduceLROnPlateau(optimizer, mode='min', factor=0.5, patience=5, verbose=True)\n",
    "\n",
    "    print(\"=\" * 80)\n",
    "    print(f\"Starting Stage 1 Training\")\n",
    "    print(\"-\" * 80)\n",
    "    print(f\"Estimated time on M1: 30-60 minutes\\n\")\n",
    "    print(\"=\" * 80)\n",
    "    \n",
    "    history_stage1 = {\n",
    "        'train_loss': [], 'train_acc': [],\n",
    "        'val_loss': [], 'val_acc': []\n",
    "    }\n",
    "    \n",
    "    best_val_acc = 0.0\n",
    "    patience_counter = 0\n",
    "    PATIENCE = 10\n",
    "    \n",
    "    for epoch in range(EPOCHS_STAGE1):\n",
    "        print(\"=\" * 80)\n",
    "        print(f\"Epoch {epoch+1}/{EPOCHS_STAGE1}\")\n",
    "        print(\"-\" * 60)\n",
    "        \n",
    "        # Train\n",
    "        train_loss, train_acc = train_epoch(model, train_loader, criterion, optimizer, DEVICE)\n",
    "        \n",
    "        # Validate\n",
    "        val_loss, val_acc, _, _ = validate(model, val_loader, criterion, DEVICE)\n",
    "        \n",
    "        # Scheduler step\n",
    "        scheduler.step(val_loss)\n",
    "        \n",
    "        # Save history\n",
    "        history_stage1['train_loss'].append(train_loss)\n",
    "        history_stage1['train_acc'].append(train_acc)\n",
    "        history_stage1['val_loss'].append(val_loss)\n",
    "        history_stage1['val_acc'].append(val_acc)\n",
    "        \n",
    "        print(f\"\\nTrain Loss: {train_loss:.4f} | Train Acc: {train_acc*100:.2f}%\")\n",
    "        print(f\"Val Loss:   {val_loss:.4f} | Val Acc:   {val_acc*100:.2f}%\")\n",
    "        \n",
    "        # Save best model\n",
    "        if val_acc > best_val_acc:\n",
    "            best_val_acc = val_acc\n",
    "            torch.save(model.state_dict(), 'models/stage1_best.pth')\n",
    "            print(f\"Best model saved! (Val Acc: {val_acc*100:.2f}%)\")\n",
    "            patience_counter = 0\n",
    "        else:\n",
    "            patience_counter += 1\n",
    "        \n",
    "        # Early stopping\n",
    "        if patience_counter >= PATIENCE:\n",
    "            print(f\"\\nEarly stopping triggered (patience={PATIENCE})\")\n",
    "            break\n",
    "    \n",
    "    print(\"\\nStage 1 training complete!\")\n",
    "    \n",
    "    # Load best model\n",
    "    model.load_state_dict(torch.load('models/stage1_best.pth'))\n",
    "\n",
    "else:\n",
    "    history_stage1 = None\n",
    "\n",
    "print(\"=\" * 80)"
   ]
  },
  {
   "cell_type": "markdown",
   "id": "757d57d7",
   "metadata": {},
   "source": [
    "# End of notebook 4 - Training stage 1"
   ]
  }
 ],
 "metadata": {
  "kernelspec": {
   "display_name": "astro-ml",
   "language": "python",
   "name": "python3"
  },
  "language_info": {
   "codemirror_mode": {
    "name": "ipython",
    "version": 3
   },
   "file_extension": ".py",
   "mimetype": "text/x-python",
   "name": "python",
   "nbconvert_exporter": "python",
   "pygments_lexer": "ipython3",
   "version": "3.10.18"
  }
 },
 "nbformat": 4,
 "nbformat_minor": 5
}
