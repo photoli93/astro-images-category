{
 "cells": [
  {
   "cell_type": "markdown",
   "id": "7036d689",
   "metadata": {},
   "source": [
    "# Space Images Classifier - Using Kaggle dataset\n",
    "\n",
    "https://www.kaggle.com/datasets/abhikalpsrivastava15/space-images-category?utm_source=chatgpt.com\n",
    "\n",
    "### Notebook 4 - Training stage 1 (Frozen backbone)"
   ]
  },
  {
   "cell_type": "markdown",
   "id": "255efa75",
   "metadata": {},
   "source": [
    "# Import librairies"
   ]
  },
  {
   "cell_type": "code",
   "execution_count": 1,
   "id": "937ec054",
   "metadata": {},
   "outputs": [],
   "source": [
    "import numpy as np\n",
    "import pandas as pd\n",
    "\n",
    "import matplotlib.pyplot as plt\n",
    "import seaborn as sns\n",
    "\n",
    "import sys\n",
    "import os\n",
    "import json\n",
    "\n",
    "# Add the root folder to Python's module search path\n",
    "sys.path.append(os.path.abspath(os.path.join(\"..\"))) \n",
    "# Import the project configuration\n",
    "from config import DEVICE, OUTPUT_PATH, BATCH_SIZE, NUM_WORKERS, EPOCHS_STAGE1, LEARNING_RATE_STAGE1\n",
    "from models import SpaceClassifier\n",
    "from train_utils import train_epoch, validate\n",
    "from datasets import SpaceImageDataset, train_transforms, val_test_transforms\n",
    "\n",
    "import shutil\n",
    "from pathlib import Path\n",
    "import cv2\n",
    "from tqdm import tqdm\n",
    "import random\n",
    "\n",
    "import warnings\n",
    "warnings.filterwarnings('ignore')\n",
    "\n",
    "import torch\n",
    "import torch.nn as nn\n",
    "import torch.optim as optim\n",
    "from torch.utils.data import Dataset, DataLoader\n",
    "from torchvision import transforms, models\n",
    "from torch.optim.lr_scheduler import ReduceLROnPlateau\n",
    "import torchvision.transforms.functional as TF\n",
    "\n",
    "from sklearn.model_selection import train_test_split\n",
    "from sklearn.metrics import classification_report, confusion_matrix, accuracy_score\n",
    "from sklearn.utils import class_weight"
   ]
  },
  {
   "cell_type": "markdown",
   "id": "b4f7aebf",
   "metadata": {},
   "source": [
    "# Load callback/config variables"
   ]
  },
  {
   "cell_type": "code",
   "execution_count": 2,
   "id": "5766abd9",
   "metadata": {},
   "outputs": [],
   "source": [
    "ROOT_PATH = Path(\"..\")\n",
    "# Path to load JSON\n",
    "CONFIG_JSON_PATH = ROOT_PATH / \"config_dynamic.json\"\n",
    "\n",
    "try:\n",
    "    with open(CONFIG_JSON_PATH) as f:\n",
    "        dynamic_config = json.load(f)\n",
    "except FileNotFoundError:\n",
    "    dynamic_config = {}\n",
    "    \n",
    "NUM_CLASSES = dynamic_config.get(\"NUM_CLASSES\", 0)\n",
    "class_names = dynamic_config.get(\"class_names\", [])\n",
    "split_success = dynamic_config.get(\"split_success\", 5)\n",
    "\n",
    "# Path to the saved tensor\n",
    "WEIGHTS_PATH = Path(\"models\") / \"class_weights_tensor.pth\"\n",
    "\n",
    "# Load the tensor\n",
    "class_weights_tensor = torch.load(WEIGHTS_PATH, map_location=DEVICE)"
   ]
  },
  {
   "cell_type": "code",
   "execution_count": 3,
   "id": "ec3f6ab2",
   "metadata": {},
   "outputs": [
    {
     "data": {
      "text/plain": [
       "tensor([1.0052, 1.1092, 0.7798, 1.0904, 1.0461, 1.0546], device='mps:0')"
      ]
     },
     "execution_count": 3,
     "metadata": {},
     "output_type": "execute_result"
    }
   ],
   "source": [
    "class_weights_tensor"
   ]
  },
  {
   "cell_type": "markdown",
   "id": "58bc9a1b",
   "metadata": {},
   "source": [
    "# Training stage 1 with frozen backbone"
   ]
  },
  {
   "cell_type": "markdown",
   "id": "fb148444",
   "metadata": {},
   "source": [
    "## Create EfficientNet-B0 model"
   ]
  },
  {
   "cell_type": "code",
   "execution_count": 4,
   "id": "02640134",
   "metadata": {},
   "outputs": [
    {
     "name": "stdout",
     "output_type": "stream",
     "text": [
      "================================================================================\n",
      "Model created: EfficientNet-B0\n",
      "Device: mps\n",
      "Total parameters: 4,337,026\n",
      "Trainable parameters: 329,478\n",
      "================================================================================\n"
     ]
    }
   ],
   "source": [
    "# Create model\n",
    "model = SpaceClassifier(NUM_CLASSES, pretrained=True)\n",
    "model = model.to(DEVICE)\n",
    "\n",
    "print(\"=\" * 80)\n",
    "print(f\"Model created: EfficientNet-B0\")\n",
    "print(f\"Device: {DEVICE}\")\n",
    "\n",
    "# Count parameters\n",
    "total_params = sum(p.numel() for p in model.parameters())\n",
    "trainable_params = sum(p.numel() for p in model.parameters() if p.requires_grad)\n",
    "print(f\"Total parameters: {total_params:,}\")\n",
    "print(f\"Trainable parameters: {trainable_params:,}\")\n",
    "\n",
    "print(\"=\" * 80)"
   ]
  },
  {
   "cell_type": "code",
   "execution_count": 5,
   "id": "651f237f",
   "metadata": {},
   "outputs": [
    {
     "name": "stdout",
     "output_type": "stream",
     "text": [
      "Sequential(\n",
      "  (0): Dropout(p=0.4, inplace=False)\n",
      "  (1): Linear(in_features=1280, out_features=256, bias=True)\n",
      "  (2): ReLU()\n",
      "  (3): Dropout(p=0.3, inplace=False)\n",
      "  (4): Linear(in_features=256, out_features=6, bias=True)\n",
      ")\n"
     ]
    }
   ],
   "source": [
    "print(model.backbone.classifier)"
   ]
  },
  {
   "cell_type": "markdown",
   "id": "42f8dae4",
   "metadata": {},
   "source": [
    "## Create Dataset"
   ]
  },
  {
   "cell_type": "code",
   "execution_count": 6,
   "id": "50cf59ea",
   "metadata": {},
   "outputs": [
    {
     "name": "stderr",
     "output_type": "stream",
     "text": [
      "libpng warning: iCCP: known incorrect sRGB profile\n",
      "libpng warning: iCCP: known incorrect sRGB profile\n",
      "libpng warning: iCCP: known incorrect sRGB profile\n",
      "libpng warning: iCCP: known incorrect sRGB profile\n",
      "libpng warning: iCCP: known incorrect sRGB profile\n"
     ]
    },
    {
     "name": "stdout",
     "output_type": "stream",
     "text": [
      "Dataset created from ../space_images_split/train\n",
      "   -> 765 valid images\n",
      "7 images skipped (see ../space_images_split/train/skipped_images.txt)\n",
      "Dataset created from ../space_images_split/validation\n",
      "   -> 161 valid images\n",
      "2 images skipped (see ../space_images_split/validation/skipped_images.txt)\n"
     ]
    }
   ],
   "source": [
    "train_dataset = SpaceImageDataset(OUTPUT_PATH / \"train\", transform=train_transforms)\n",
    "val_dataset = SpaceImageDataset(OUTPUT_PATH / \"validation\", transform=val_test_transforms)"
   ]
  },
  {
   "cell_type": "markdown",
   "id": "5a4e3dbd",
   "metadata": {},
   "source": [
    "## Create Data loaders"
   ]
  },
  {
   "cell_type": "code",
   "execution_count": 7,
   "id": "668074ee",
   "metadata": {},
   "outputs": [],
   "source": [
    "train_loader = DataLoader(\n",
    "    train_dataset, \n",
    "    batch_size=BATCH_SIZE,\n",
    "    shuffle=True, \n",
    "    num_workers=NUM_WORKERS,\n",
    "    pin_memory=True if DEVICE.type == 'mps' else False\n",
    ")\n",
    "\n",
    "val_loader = DataLoader(\n",
    "    val_dataset, \n",
    "    batch_size=BATCH_SIZE, \n",
    "    shuffle=False, \n",
    "    num_workers=NUM_WORKERS,\n",
    "    pin_memory=True if DEVICE.type == 'mps' else False\n",
    ")"
   ]
  },
  {
   "cell_type": "markdown",
   "id": "c0963a13",
   "metadata": {},
   "source": [
    "## Training the model - Stage 1\n",
    "\n",
    "Training only the classifier head (frozen backbone) to make it adapts to the dataset without disturbing pretrained features"
   ]
  },
  {
   "cell_type": "code",
   "execution_count": 8,
   "id": "27350b3f",
   "metadata": {},
   "outputs": [
    {
     "name": "stdout",
     "output_type": "stream",
     "text": [
      "================================================================================\n",
      "Starting Stage 1 Training\n",
      "--------------------------------------------------------------------------------\n",
      "Estimated time on M1: 30-60 minutes\n",
      "\n",
      "================================================================================\n",
      "Epoch 1/25\n",
      "------------------------------------------------------------\n"
     ]
    },
    {
     "name": "stderr",
     "output_type": "stream",
     "text": [
      "Training:   0%|          | 0/24 [00:00<?, ?it/s]libpng warning: iCCP: known incorrect sRGB profile\n",
      "libpng warning: iCCP: known incorrect sRGB profile\n",
      "Training:  21%|██        | 5/24 [00:03<00:10,  1.90it/s, loss=1.8924, acc=25.62%]libpng warning: iCCP: known incorrect sRGB profile\n",
      "Training:  25%|██▌       | 6/24 [00:04<00:08,  2.05it/s, loss=1.7960, acc=22.77%]libpng warning: iCCP: known incorrect sRGB profile\n",
      "Training:  62%|██████▎   | 15/24 [00:05<00:01,  5.41it/s, loss=1.4528, acc=35.55%]libpng warning: iCCP: known incorrect sRGB profile\n",
      "Training: 100%|██████████| 24/24 [00:28<00:00,  1.18s/it, loss=1.2801, acc=41.44%]\n",
      "Validation: 100%|██████████| 6/6 [00:24<00:00,  4.03s/it, loss=2.6221, acc=55.90%]\n"
     ]
    },
    {
     "name": "stdout",
     "output_type": "stream",
     "text": [
      "\n",
      "Train Loss: 1.5860 | Train Acc: 41.44%\n",
      "Val Loss:   1.2611 | Val Acc:   55.90%\n",
      "Best model saved! (Val Acc: 55.90%)\n",
      "================================================================================\n",
      "Epoch 2/25\n",
      "------------------------------------------------------------\n"
     ]
    },
    {
     "name": "stderr",
     "output_type": "stream",
     "text": [
      "Training:   0%|          | 0/24 [00:00<?, ?it/s]libpng warning: iCCP: known incorrect sRGB profile\n",
      "Training:  12%|█▎        | 3/24 [00:04<00:21,  1.04s/it, loss=1.4840, acc=46.88%]libpng warning: iCCP: known incorrect sRGB profile\n",
      "Training:  42%|████▏     | 10/24 [00:05<00:05,  2.73it/s, loss=1.0586, acc=53.98%]libpng warning: iCCP: known incorrect sRGB profile\n",
      "Training:  71%|███████   | 17/24 [00:06<00:01,  3.76it/s, loss=1.6133, acc=55.15%]libpng warning: iCCP: known incorrect sRGB profile\n",
      "Training:  83%|████████▎ | 20/24 [00:07<00:00,  5.33it/s, loss=0.9390, acc=56.09%]libpng warning: iCCP: known incorrect sRGB profile\n",
      "Training: 100%|██████████| 24/24 [00:28<00:00,  1.17s/it, loss=1.1299, acc=56.08%]\n",
      "Validation: 100%|██████████| 6/6 [00:23<00:00,  3.96s/it, loss=3.3268, acc=49.07%]\n"
     ]
    },
    {
     "name": "stdout",
     "output_type": "stream",
     "text": [
      "\n",
      "Train Loss: 1.1937 | Train Acc: 56.08%\n",
      "Val Loss:   1.1992 | Val Acc:   49.07%\n",
      "================================================================================\n",
      "Epoch 3/25\n",
      "------------------------------------------------------------\n"
     ]
    },
    {
     "name": "stderr",
     "output_type": "stream",
     "text": [
      "Training:   0%|          | 0/24 [00:00<?, ?it/s]libpng warning: iCCP: known incorrect sRGB profile\n",
      "Training:  29%|██▉       | 7/24 [00:04<00:07,  2.38it/s, loss=1.1768, acc=59.82%]libpng warning: iCCP: known incorrect sRGB profile\n",
      "Training:  38%|███▊      | 9/24 [00:04<00:04,  3.23it/s, loss=0.9260, acc=59.69%]libpng warning: iCCP: known incorrect sRGB profile\n",
      "libpng warning: iCCP: known incorrect sRGB profile\n",
      "Training:  62%|██████▎   | 15/24 [00:06<00:02,  3.51it/s, loss=1.3047, acc=59.38%]libpng warning: iCCP: known incorrect sRGB profile\n",
      "Training: 100%|██████████| 24/24 [00:27<00:00,  1.16s/it, loss=0.9497, acc=60.13%]\n",
      "Validation: 100%|██████████| 6/6 [00:23<00:00,  3.91s/it, loss=3.6827, acc=59.01%]\n"
     ]
    },
    {
     "name": "stdout",
     "output_type": "stream",
     "text": [
      "\n",
      "Train Loss: 1.0739 | Train Acc: 60.13%\n",
      "Val Loss:   1.0763 | Val Acc:   59.01%\n",
      "Best model saved! (Val Acc: 59.01%)\n",
      "================================================================================\n",
      "Epoch 4/25\n",
      "------------------------------------------------------------\n"
     ]
    },
    {
     "name": "stderr",
     "output_type": "stream",
     "text": [
      "Training:  25%|██▌       | 6/24 [00:04<00:08,  2.00it/s, loss=1.0497, acc=60.71%]libpng warning: iCCP: known incorrect sRGB profile\n",
      "libpng warning: iCCP: known incorrect sRGB profile\n",
      "Training:  42%|████▏     | 10/24 [00:05<00:04,  3.25it/s, loss=0.9298, acc=62.78%]libpng warning: iCCP: known incorrect sRGB profile\n",
      "libpng warning: iCCP: known incorrect sRGB profile\n",
      "Training:  50%|█████     | 12/24 [00:06<00:04,  2.71it/s, loss=1.1052, acc=61.78%]libpng warning: iCCP: known incorrect sRGB profile\n",
      "Training: 100%|██████████| 24/24 [00:28<00:00,  1.18s/it, loss=1.4320, acc=60.52%]\n",
      "Validation: 100%|██████████| 6/6 [00:23<00:00,  3.93s/it, loss=3.0133, acc=59.01%]\n"
     ]
    },
    {
     "name": "stdout",
     "output_type": "stream",
     "text": [
      "\n",
      "Train Loss: 1.0599 | Train Acc: 60.52%\n",
      "Val Loss:   1.0373 | Val Acc:   59.01%\n",
      "================================================================================\n",
      "Epoch 5/25\n",
      "------------------------------------------------------------\n"
     ]
    },
    {
     "name": "stderr",
     "output_type": "stream",
     "text": [
      "Training:  29%|██▉       | 7/24 [00:05<00:07,  2.37it/s, loss=1.2404, acc=63.28%]libpng warning: iCCP: known incorrect sRGB profile\n",
      "Training:  46%|████▌     | 11/24 [00:05<00:03,  3.43it/s, loss=1.4065, acc=62.24%]libpng warning: iCCP: known incorrect sRGB profile\n",
      "Training:  62%|██████▎   | 15/24 [00:06<00:02,  4.03it/s, loss=0.9237, acc=64.06%]libpng warning: iCCP: known incorrect sRGB profile\n",
      "libpng warning: iCCP: known incorrect sRGB profile\n",
      "Training:  79%|███████▉  | 19/24 [00:07<00:01,  4.29it/s, loss=1.1299, acc=63.59%]libpng warning: iCCP: known incorrect sRGB profile\n",
      "Training: 100%|██████████| 24/24 [00:28<00:00,  1.19s/it, loss=1.0735, acc=63.01%]\n",
      "Validation: 100%|██████████| 6/6 [00:23<00:00,  3.90s/it, loss=2.9766, acc=58.39%]\n"
     ]
    },
    {
     "name": "stdout",
     "output_type": "stream",
     "text": [
      "\n",
      "Train Loss: 1.0349 | Train Acc: 63.01%\n",
      "Val Loss:   1.0352 | Val Acc:   58.39%\n",
      "================================================================================\n",
      "Epoch 6/25\n",
      "------------------------------------------------------------\n"
     ]
    },
    {
     "name": "stderr",
     "output_type": "stream",
     "text": [
      "Training:   0%|          | 0/24 [00:00<?, ?it/s]libpng warning: iCCP: known incorrect sRGB profile\n",
      "libpng warning: iCCP: known incorrect sRGB profile\n",
      "libpng warning: iCCP: known incorrect sRGB profile\n",
      "Training:  12%|█▎        | 3/24 [00:03<00:19,  1.05it/s, loss=1.0400, acc=56.25%]libpng warning: iCCP: known incorrect sRGB profile\n",
      "Training:  75%|███████▌  | 18/24 [00:06<00:01,  5.90it/s, loss=1.3187, acc=62.34%]libpng warning: iCCP: known incorrect sRGB profile\n",
      "Training: 100%|██████████| 24/24 [00:29<00:00,  1.21s/it, loss=0.9617, acc=61.83%]\n",
      "Validation: 100%|██████████| 6/6 [00:23<00:00,  3.90s/it, loss=3.4914, acc=57.76%]\n"
     ]
    },
    {
     "name": "stdout",
     "output_type": "stream",
     "text": [
      "\n",
      "Train Loss: 0.9753 | Train Acc: 61.83%\n",
      "Val Loss:   1.0444 | Val Acc:   57.76%\n",
      "================================================================================\n",
      "Epoch 7/25\n",
      "------------------------------------------------------------\n"
     ]
    },
    {
     "name": "stderr",
     "output_type": "stream",
     "text": [
      "Training:  12%|█▎        | 3/24 [00:03<00:21,  1.04s/it, loss=1.3084, acc=56.25%]libpng warning: iCCP: known incorrect sRGB profile\n",
      "Training:  12%|█▎        | 3/24 [00:04<00:21,  1.04s/it, loss=0.9064, acc=59.38%]libpng warning: iCCP: known incorrect sRGB profile\n",
      "Training:  29%|██▉       | 7/24 [00:04<00:06,  2.59it/s, loss=0.7911, acc=62.11%]libpng warning: iCCP: known incorrect sRGB profile\n",
      "libpng warning: iCCP: known incorrect sRGB profile\n",
      "Training:  46%|████▌     | 11/24 [00:05<00:03,  3.27it/s, loss=0.6839, acc=63.92%]libpng warning: iCCP: known incorrect sRGB profile\n",
      "Training: 100%|██████████| 24/24 [00:28<00:00,  1.20s/it, loss=0.8149, acc=63.40%]\n",
      "Validation: 100%|██████████| 6/6 [00:23<00:00,  3.98s/it, loss=3.2790, acc=61.49%]\n"
     ]
    },
    {
     "name": "stdout",
     "output_type": "stream",
     "text": [
      "\n",
      "Train Loss: 0.9829 | Train Acc: 63.40%\n",
      "Val Loss:   1.0817 | Val Acc:   61.49%\n",
      "Best model saved! (Val Acc: 61.49%)\n",
      "================================================================================\n",
      "Epoch 8/25\n",
      "------------------------------------------------------------\n"
     ]
    },
    {
     "name": "stderr",
     "output_type": "stream",
     "text": [
      "Training:   0%|          | 0/24 [00:00<?, ?it/s]libpng warning: iCCP: known incorrect sRGB profile\n",
      "Training:  12%|█▎        | 3/24 [00:04<00:23,  1.11s/it, loss=0.7170, acc=58.33%]libpng warning: iCCP: known incorrect sRGB profile\n",
      "Training:  38%|███▊      | 9/24 [00:05<00:04,  3.15it/s, loss=1.1549, acc=62.19%]libpng warning: iCCP: known incorrect sRGB profile\n",
      "Training:  75%|███████▌  | 18/24 [00:07<00:01,  4.71it/s, loss=0.7859, acc=64.93%]libpng warning: iCCP: known incorrect sRGB profile\n",
      "Training:  75%|███████▌  | 18/24 [00:07<00:01,  4.71it/s, loss=0.8414, acc=64.97%]libpng warning: iCCP: known incorrect sRGB profile\n",
      "Training: 100%|██████████| 24/24 [00:28<00:00,  1.20s/it, loss=0.7727, acc=65.10%]\n",
      "Validation: 100%|██████████| 6/6 [00:23<00:00,  3.93s/it, loss=3.3301, acc=65.84%]\n"
     ]
    },
    {
     "name": "stdout",
     "output_type": "stream",
     "text": [
      "\n",
      "Train Loss: 0.9163 | Train Acc: 65.10%\n",
      "Val Loss:   0.9816 | Val Acc:   65.84%\n",
      "Best model saved! (Val Acc: 65.84%)\n",
      "================================================================================\n",
      "Epoch 9/25\n",
      "------------------------------------------------------------\n"
     ]
    },
    {
     "name": "stderr",
     "output_type": "stream",
     "text": [
      "Training:  17%|█▋        | 4/24 [00:03<00:12,  1.65it/s, loss=0.8153, acc=61.72%]libpng warning: iCCP: known incorrect sRGB profile\n",
      "Training:  29%|██▉       | 7/24 [00:04<00:05,  3.17it/s, loss=1.1749, acc=64.29%]libpng warning: iCCP: known incorrect sRGB profile\n",
      "Training:  29%|██▉       | 7/24 [00:04<00:05,  3.17it/s, loss=0.6806, acc=66.02%]libpng warning: iCCP: known incorrect sRGB profile\n",
      "libpng warning: iCCP: known incorrect sRGB profile\n",
      "Training:  83%|████████▎ | 20/24 [00:07<00:01,  3.71it/s, loss=0.6816, acc=64.43%]libpng warning: iCCP: known incorrect sRGB profile\n",
      "Training: 100%|██████████| 24/24 [00:28<00:00,  1.19s/it, loss=0.7550, acc=64.71%]\n",
      "Validation: 100%|██████████| 6/6 [00:23<00:00,  3.98s/it, loss=3.9629, acc=64.60%]\n"
     ]
    },
    {
     "name": "stdout",
     "output_type": "stream",
     "text": [
      "\n",
      "Train Loss: 0.9248 | Train Acc: 64.71%\n",
      "Val Loss:   0.9882 | Val Acc:   64.60%\n",
      "================================================================================\n",
      "Epoch 10/25\n",
      "------------------------------------------------------------\n"
     ]
    },
    {
     "name": "stderr",
     "output_type": "stream",
     "text": [
      "Training:   0%|          | 0/24 [00:00<?, ?it/s]libpng warning: iCCP: known incorrect sRGB profile\n",
      "Training:  33%|███▎      | 8/24 [00:04<00:05,  3.14it/s, loss=0.9108, acc=66.02%]libpng warning: iCCP: known incorrect sRGB profile\n",
      "libpng warning: iCCP: known incorrect sRGB profile\n",
      "libpng warning: iCCP: known incorrect sRGB profile\n",
      "libpng warning: iCCP: known incorrect sRGB profile\n",
      "Training: 100%|██████████| 24/24 [00:29<00:00,  1.23s/it, loss=0.7248, acc=66.67%]\n",
      "Validation: 100%|██████████| 6/6 [00:23<00:00,  3.96s/it, loss=3.1480, acc=59.01%]\n"
     ]
    },
    {
     "name": "stdout",
     "output_type": "stream",
     "text": [
      "\n",
      "Train Loss: 0.8802 | Train Acc: 66.67%\n",
      "Val Loss:   1.0080 | Val Acc:   59.01%\n",
      "================================================================================\n",
      "Epoch 11/25\n",
      "------------------------------------------------------------\n"
     ]
    },
    {
     "name": "stderr",
     "output_type": "stream",
     "text": [
      "Training:   0%|          | 0/24 [00:00<?, ?it/s]libpng warning: iCCP: known incorrect sRGB profile\n",
      "libpng warning: iCCP: known incorrect sRGB profile\n",
      "libpng warning: iCCP: known incorrect sRGB profile\n",
      "Training:  21%|██        | 5/24 [00:04<00:12,  1.58it/s, loss=0.9401, acc=59.90%]libpng warning: iCCP: known incorrect sRGB profile\n",
      "Training:  46%|████▌     | 11/24 [00:05<00:03,  3.70it/s, loss=0.8663, acc=61.20%]libpng warning: iCCP: known incorrect sRGB profile\n",
      "Training: 100%|██████████| 24/24 [00:28<00:00,  1.17s/it, loss=1.1482, acc=64.58%]\n",
      "Validation: 100%|██████████| 6/6 [00:23<00:00,  3.90s/it, loss=3.5903, acc=59.63%]\n"
     ]
    },
    {
     "name": "stdout",
     "output_type": "stream",
     "text": [
      "\n",
      "Train Loss: 0.9293 | Train Acc: 64.58%\n",
      "Val Loss:   0.9877 | Val Acc:   59.63%\n",
      "================================================================================\n",
      "Epoch 12/25\n",
      "------------------------------------------------------------\n"
     ]
    },
    {
     "name": "stderr",
     "output_type": "stream",
     "text": [
      "Training:   0%|          | 0/24 [00:00<?, ?it/s]libpng warning: iCCP: known incorrect sRGB profile\n",
      "libpng warning: iCCP: known incorrect sRGB profile\n",
      "Training:  12%|█▎        | 3/24 [00:04<00:24,  1.17s/it, loss=0.7992, acc=67.19%]libpng warning: iCCP: known incorrect sRGB profile\n",
      "Training:  71%|███████   | 17/24 [00:08<00:03,  2.32it/s, loss=0.7933, acc=67.10%]libpng warning: iCCP: known incorrect sRGB profile\n",
      "Training:  79%|███████▉  | 19/24 [00:08<00:01,  3.36it/s, loss=0.8022, acc=66.56%]libpng warning: iCCP: known incorrect sRGB profile\n",
      "Training: 100%|██████████| 24/24 [00:29<00:00,  1.24s/it, loss=1.1049, acc=66.67%]\n",
      "Validation: 100%|██████████| 6/6 [00:24<00:00,  4.07s/it, loss=3.1203, acc=63.98%]\n"
     ]
    },
    {
     "name": "stdout",
     "output_type": "stream",
     "text": [
      "\n",
      "Train Loss: 0.8909 | Train Acc: 66.67%\n",
      "Val Loss:   0.9653 | Val Acc:   63.98%\n",
      "================================================================================\n",
      "Epoch 13/25\n",
      "------------------------------------------------------------\n"
     ]
    },
    {
     "name": "stderr",
     "output_type": "stream",
     "text": [
      "Training:   4%|▍         | 1/24 [00:03<01:24,  3.68s/it, loss=0.7903, acc=67.19%]libpng warning: iCCP: known incorrect sRGB profile\n",
      "Training:  29%|██▉       | 7/24 [00:04<00:06,  2.44it/s, loss=1.0438, acc=68.36%]libpng warning: iCCP: known incorrect sRGB profile\n",
      "Training:  38%|███▊      | 9/24 [00:05<00:06,  2.46it/s, loss=1.0394, acc=66.25%]libpng warning: iCCP: known incorrect sRGB profile\n",
      "Training:  46%|████▌     | 11/24 [00:05<00:04,  3.13it/s, loss=0.5597, acc=67.97%]libpng warning: iCCP: known incorrect sRGB profile\n",
      "Training:  79%|███████▉  | 19/24 [00:08<00:01,  3.27it/s, loss=0.8652, acc=66.88%]libpng warning: iCCP: known incorrect sRGB profile\n",
      "Training: 100%|██████████| 24/24 [00:29<00:00,  1.21s/it, loss=0.8078, acc=66.93%]\n",
      "Validation: 100%|██████████| 6/6 [00:23<00:00,  3.94s/it, loss=3.7255, acc=63.98%]\n"
     ]
    },
    {
     "name": "stdout",
     "output_type": "stream",
     "text": [
      "\n",
      "Train Loss: 0.8755 | Train Acc: 66.93%\n",
      "Val Loss:   1.0141 | Val Acc:   63.98%\n",
      "================================================================================\n",
      "Epoch 14/25\n",
      "------------------------------------------------------------\n"
     ]
    },
    {
     "name": "stderr",
     "output_type": "stream",
     "text": [
      "Training:   4%|▍         | 1/24 [00:04<01:32,  4.00s/it, loss=0.8327, acc=67.19%]libpng warning: iCCP: known incorrect sRGB profile\n",
      "Training:  21%|██        | 5/24 [00:04<00:12,  1.55it/s, loss=0.6440, acc=67.50%]libpng warning: iCCP: known incorrect sRGB profile\n",
      "libpng warning: iCCP: known incorrect sRGB profile\n",
      "Training:  25%|██▌       | 6/24 [00:04<00:09,  1.85it/s, loss=0.7008, acc=69.79%]libpng warning: iCCP: known incorrect sRGB profile\n",
      "Training:  62%|██████▎   | 15/24 [00:07<00:02,  3.74it/s, loss=0.6954, acc=69.53%]libpng warning: iCCP: known incorrect sRGB profile\n",
      "Training: 100%|██████████| 24/24 [00:28<00:00,  1.21s/it, loss=0.7657, acc=69.80%]\n",
      "Validation: 100%|██████████| 6/6 [00:23<00:00,  3.91s/it, loss=4.0766, acc=62.73%]\n"
     ]
    },
    {
     "name": "stdout",
     "output_type": "stream",
     "text": [
      "\n",
      "Train Loss: 0.8289 | Train Acc: 69.80%\n",
      "Val Loss:   0.9412 | Val Acc:   62.73%\n",
      "================================================================================\n",
      "Epoch 15/25\n",
      "------------------------------------------------------------\n"
     ]
    },
    {
     "name": "stderr",
     "output_type": "stream",
     "text": [
      "Training:   0%|          | 0/24 [00:00<?, ?it/s]libpng warning: iCCP: known incorrect sRGB profile\n",
      "libpng warning: iCCP: known incorrect sRGB profile\n",
      "Training:  38%|███▊      | 9/24 [00:04<00:04,  3.30it/s, loss=1.2197, acc=65.62%]libpng warning: iCCP: known incorrect sRGB profile\n",
      "Training:  46%|████▌     | 11/24 [00:05<00:03,  3.53it/s, loss=0.8472, acc=67.19%]libpng warning: iCCP: known incorrect sRGB profile\n",
      "Training:  58%|█████▊    | 14/24 [00:05<00:02,  4.70it/s, loss=0.6654, acc=67.19%]libpng warning: iCCP: known incorrect sRGB profile\n",
      "Training: 100%|██████████| 24/24 [00:28<00:00,  1.17s/it, loss=0.6412, acc=66.93%]\n",
      "Validation: 100%|██████████| 6/6 [00:24<00:00,  4.02s/it, loss=3.2400, acc=63.98%]\n"
     ]
    },
    {
     "name": "stdout",
     "output_type": "stream",
     "text": [
      "\n",
      "Train Loss: 0.8746 | Train Acc: 66.93%\n",
      "Val Loss:   0.9200 | Val Acc:   63.98%\n",
      "================================================================================\n",
      "Epoch 16/25\n",
      "------------------------------------------------------------\n"
     ]
    },
    {
     "name": "stderr",
     "output_type": "stream",
     "text": [
      "Training:   0%|          | 0/24 [00:00<?, ?it/s]libpng warning: iCCP: known incorrect sRGB profile\n",
      "Training:   8%|▊         | 2/24 [00:05<00:46,  2.14s/it, loss=1.0180, acc=67.71%]libpng warning: iCCP: known incorrect sRGB profile\n",
      "Training:  17%|█▋        | 4/24 [00:05<00:17,  1.14it/s, loss=0.8891, acc=66.88%]libpng warning: iCCP: known incorrect sRGB profile\n",
      "Training:  58%|█████▊    | 14/24 [00:07<00:02,  3.66it/s, loss=1.0046, acc=65.40%]libpng warning: iCCP: known incorrect sRGB profile\n",
      "libpng warning: iCCP: known incorrect sRGB profile\n",
      "Training: 100%|██████████| 24/24 [00:30<00:00,  1.28s/it, loss=0.9214, acc=66.41%]\n",
      "Validation: 100%|██████████| 6/6 [00:23<00:00,  3.98s/it, loss=3.2101, acc=63.35%]\n"
     ]
    },
    {
     "name": "stdout",
     "output_type": "stream",
     "text": [
      "\n",
      "Train Loss: 0.8499 | Train Acc: 66.41%\n",
      "Val Loss:   0.9879 | Val Acc:   63.35%\n",
      "================================================================================\n",
      "Epoch 17/25\n",
      "------------------------------------------------------------\n"
     ]
    },
    {
     "name": "stderr",
     "output_type": "stream",
     "text": [
      "Training:   0%|          | 0/24 [00:00<?, ?it/s]libpng warning: iCCP: known incorrect sRGB profile\n",
      "Training:  46%|████▌     | 11/24 [00:05<00:03,  4.17it/s, loss=0.8909, acc=68.75%]libpng warning: iCCP: known incorrect sRGB profile\n",
      "Training:  50%|█████     | 12/24 [00:05<00:03,  3.48it/s, loss=0.9776, acc=67.45%]libpng warning: iCCP: known incorrect sRGB profile\n",
      "Training:  83%|████████▎ | 20/24 [00:07<00:00,  5.58it/s, loss=0.6622, acc=68.12%]libpng warning: iCCP: known incorrect sRGB profile\n",
      "Training:  88%|████████▊ | 21/24 [00:07<00:00,  3.64it/s, loss=0.5793, acc=68.90%]libpng warning: iCCP: known incorrect sRGB profile\n",
      "Training: 100%|██████████| 24/24 [00:28<00:00,  1.19s/it, loss=0.6878, acc=69.28%]\n",
      "Validation: 100%|██████████| 6/6 [00:23<00:00,  3.91s/it, loss=3.1953, acc=63.98%]\n"
     ]
    },
    {
     "name": "stdout",
     "output_type": "stream",
     "text": [
      "\n",
      "Train Loss: 0.7759 | Train Acc: 69.28%\n",
      "Val Loss:   0.9450 | Val Acc:   63.98%\n",
      "================================================================================\n",
      "Epoch 18/25\n",
      "------------------------------------------------------------\n"
     ]
    },
    {
     "name": "stderr",
     "output_type": "stream",
     "text": [
      "Training:   0%|          | 0/24 [00:00<?, ?it/s]libpng warning: iCCP: known incorrect sRGB profile\n",
      "libpng warning: iCCP: known incorrect sRGB profile\n",
      "Training:  29%|██▉       | 7/24 [00:05<00:07,  2.35it/s, loss=0.8843, acc=71.09%]libpng warning: iCCP: known incorrect sRGB profile\n",
      "Training:  67%|██████▋   | 16/24 [00:07<00:01,  4.05it/s, loss=0.8349, acc=67.58%]libpng warning: iCCP: known incorrect sRGB profile\n",
      "Training:  79%|███████▉  | 19/24 [00:08<00:01,  2.96it/s, loss=0.7680, acc=68.44%]libpng warning: iCCP: known incorrect sRGB profile\n",
      "Training: 100%|██████████| 24/24 [00:29<00:00,  1.24s/it, loss=0.8473, acc=68.24%]\n",
      "Validation: 100%|██████████| 6/6 [00:23<00:00,  3.97s/it, loss=3.8157, acc=67.08%]\n"
     ]
    },
    {
     "name": "stdout",
     "output_type": "stream",
     "text": [
      "\n",
      "Train Loss: 0.8329 | Train Acc: 68.24%\n",
      "Val Loss:   0.9491 | Val Acc:   67.08%\n",
      "Best model saved! (Val Acc: 67.08%)\n",
      "================================================================================\n",
      "Epoch 19/25\n",
      "------------------------------------------------------------\n"
     ]
    },
    {
     "name": "stderr",
     "output_type": "stream",
     "text": [
      "Training:  17%|█▋        | 4/24 [00:03<00:12,  1.57it/s, loss=0.9090, acc=65.62%]libpng warning: iCCP: known incorrect sRGB profile\n",
      "libpng warning: iCCP: known incorrect sRGB profile\n",
      "Training:  29%|██▉       | 7/24 [00:05<00:06,  2.46it/s, loss=1.0068, acc=64.06%]libpng warning: iCCP: known incorrect sRGB profile\n",
      "Training:  46%|████▌     | 11/24 [00:06<00:04,  3.21it/s, loss=0.6996, acc=64.32%]libpng warning: iCCP: known incorrect sRGB profile\n",
      "Training:  71%|███████   | 17/24 [00:08<00:02,  3.13it/s, loss=0.9286, acc=64.76%]libpng warning: iCCP: known incorrect sRGB profile\n",
      "Training: 100%|██████████| 24/24 [00:29<00:00,  1.21s/it, loss=0.8124, acc=64.84%]\n",
      "Validation: 100%|██████████| 6/6 [00:24<00:00,  4.09s/it, loss=3.4013, acc=66.46%]\n"
     ]
    },
    {
     "name": "stdout",
     "output_type": "stream",
     "text": [
      "\n",
      "Train Loss: 0.9061 | Train Acc: 64.84%\n",
      "Val Loss:   0.9638 | Val Acc:   66.46%\n",
      "================================================================================\n",
      "Epoch 20/25\n",
      "------------------------------------------------------------\n"
     ]
    },
    {
     "name": "stderr",
     "output_type": "stream",
     "text": [
      "Training:   0%|          | 0/24 [00:00<?, ?it/s]libpng warning: iCCP: known incorrect sRGB profile\n",
      "libpng warning: iCCP: known incorrect sRGB profile\n",
      "Training:  46%|████▌     | 11/24 [00:05<00:03,  3.46it/s, loss=0.7358, acc=64.77%]libpng warning: iCCP: known incorrect sRGB profile\n",
      "Training:  62%|██████▎   | 15/24 [00:06<00:02,  4.20it/s, loss=0.5977, acc=67.92%]libpng warning: iCCP: known incorrect sRGB profile\n",
      "Training:  62%|██████▎   | 15/24 [00:06<00:02,  4.20it/s, loss=0.7953, acc=68.16%]libpng warning: iCCP: known incorrect sRGB profile\n",
      "Training: 100%|██████████| 24/24 [00:28<00:00,  1.20s/it, loss=1.0060, acc=67.45%]\n",
      "Validation: 100%|██████████| 6/6 [00:23<00:00,  3.97s/it, loss=2.9839, acc=63.35%]\n"
     ]
    },
    {
     "name": "stdout",
     "output_type": "stream",
     "text": [
      "\n",
      "Train Loss: 0.8209 | Train Acc: 67.45%\n",
      "Val Loss:   0.9290 | Val Acc:   63.35%\n",
      "================================================================================\n",
      "Epoch 21/25\n",
      "------------------------------------------------------------\n"
     ]
    },
    {
     "name": "stderr",
     "output_type": "stream",
     "text": [
      "Training:   8%|▊         | 2/24 [00:03<00:35,  1.61s/it, loss=0.6129, acc=76.56%]libpng warning: iCCP: known incorrect sRGB profile\n",
      "Training:  17%|█▋        | 4/24 [00:04<00:13,  1.54it/s, loss=1.1027, acc=68.75%]libpng warning: iCCP: known incorrect sRGB profile\n",
      "Training:  29%|██▉       | 7/24 [00:05<00:07,  2.20it/s, loss=0.8850, acc=68.75%]libpng warning: iCCP: known incorrect sRGB profile\n",
      "Training:  62%|██████▎   | 15/24 [00:06<00:01,  4.84it/s, loss=0.8997, acc=72.27%]libpng warning: iCCP: known incorrect sRGB profile\n",
      "Training:  79%|███████▉  | 19/24 [00:07<00:01,  4.75it/s, loss=0.5130, acc=72.03%]libpng warning: iCCP: known incorrect sRGB profile\n",
      "Training: 100%|██████████| 24/24 [00:28<00:00,  1.19s/it, loss=0.7762, acc=71.37%]\n",
      "Validation: 100%|██████████| 6/6 [00:24<00:00,  4.04s/it, loss=3.2616, acc=63.98%]\n"
     ]
    },
    {
     "name": "stdout",
     "output_type": "stream",
     "text": [
      "\n",
      "Train Loss: 0.7937 | Train Acc: 71.37%\n",
      "Val Loss:   0.9513 | Val Acc:   63.98%\n",
      "================================================================================\n",
      "Epoch 22/25\n",
      "------------------------------------------------------------\n"
     ]
    },
    {
     "name": "stderr",
     "output_type": "stream",
     "text": [
      "Training:  21%|██        | 5/24 [00:03<00:09,  1.97it/s, loss=0.6867, acc=76.25%]libpng warning: iCCP: known incorrect sRGB profile\n",
      "Training:  33%|███▎      | 8/24 [00:04<00:05,  3.02it/s, loss=0.8037, acc=72.22%]libpng warning: iCCP: known incorrect sRGB profile\n",
      "libpng warning: iCCP: known incorrect sRGB profile\n",
      "Training:  42%|████▏     | 10/24 [00:05<00:04,  3.29it/s, loss=0.8212, acc=71.56%]libpng warning: iCCP: known incorrect sRGB profile\n",
      "Training:  71%|███████   | 17/24 [00:06<00:01,  4.41it/s, loss=0.5944, acc=69.97%]libpng warning: iCCP: known incorrect sRGB profile\n",
      "Training: 100%|██████████| 24/24 [00:28<00:00,  1.18s/it, loss=1.1806, acc=70.33%]\n",
      "Validation: 100%|██████████| 6/6 [00:23<00:00,  3.99s/it, loss=3.0911, acc=63.98%]\n"
     ]
    },
    {
     "name": "stdout",
     "output_type": "stream",
     "text": [
      "\n",
      "Train Loss: 0.7738 | Train Acc: 70.33%\n",
      "Val Loss:   0.9644 | Val Acc:   63.98%\n",
      "================================================================================\n",
      "Epoch 23/25\n",
      "------------------------------------------------------------\n"
     ]
    },
    {
     "name": "stderr",
     "output_type": "stream",
     "text": [
      "Training:   0%|          | 0/24 [00:00<?, ?it/s]libpng warning: iCCP: known incorrect sRGB profile\n",
      "libpng warning: iCCP: known incorrect sRGB profile\n",
      "libpng warning: iCCP: known incorrect sRGB profile\n",
      "Training:  29%|██▉       | 7/24 [00:05<00:07,  2.21it/s, loss=0.8052, acc=70.31%]libpng warning: iCCP: known incorrect sRGB profile\n",
      "Training:  38%|███▊      | 9/24 [00:05<00:06,  2.28it/s, loss=0.7439, acc=70.49%]libpng warning: iCCP: known incorrect sRGB profile\n",
      "Training: 100%|██████████| 24/24 [00:28<00:00,  1.21s/it, loss=0.6190, acc=69.93%]\n",
      "Validation: 100%|██████████| 6/6 [00:24<00:00,  4.06s/it, loss=3.5912, acc=63.35%]\n"
     ]
    },
    {
     "name": "stdout",
     "output_type": "stream",
     "text": [
      "\n",
      "Train Loss: 0.7645 | Train Acc: 69.93%\n",
      "Val Loss:   0.9603 | Val Acc:   63.35%\n",
      "================================================================================\n",
      "Epoch 24/25\n",
      "------------------------------------------------------------\n"
     ]
    },
    {
     "name": "stderr",
     "output_type": "stream",
     "text": [
      "Training:   0%|          | 0/24 [00:00<?, ?it/s]libpng warning: iCCP: known incorrect sRGB profile\n",
      "Training:  21%|██        | 5/24 [00:04<00:11,  1.70it/s, loss=0.9796, acc=71.88%]libpng warning: iCCP: known incorrect sRGB profile\n",
      "Training:  50%|█████     | 12/24 [00:05<00:02,  5.05it/s, loss=0.8202, acc=72.14%]libpng warning: iCCP: known incorrect sRGB profile\n",
      "Training:  58%|█████▊    | 14/24 [00:06<00:03,  3.21it/s, loss=0.7766, acc=72.71%]libpng warning: iCCP: known incorrect sRGB profile\n",
      "Training:  75%|███████▌  | 18/24 [00:07<00:01,  3.83it/s, loss=0.6955, acc=73.36%]libpng warning: iCCP: known incorrect sRGB profile\n",
      "Training: 100%|██████████| 24/24 [00:28<00:00,  1.20s/it, loss=0.7593, acc=72.29%]\n",
      "Validation: 100%|██████████| 6/6 [00:23<00:00,  3.88s/it, loss=3.4317, acc=64.60%]\n"
     ]
    },
    {
     "name": "stdout",
     "output_type": "stream",
     "text": [
      "\n",
      "Train Loss: 0.7493 | Train Acc: 72.29%\n",
      "Val Loss:   0.9450 | Val Acc:   64.60%\n",
      "================================================================================\n",
      "Epoch 25/25\n",
      "------------------------------------------------------------\n"
     ]
    },
    {
     "name": "stderr",
     "output_type": "stream",
     "text": [
      "Training:  12%|█▎        | 3/24 [00:04<00:23,  1.12s/it, loss=0.7820, acc=67.97%]libpng warning: iCCP: known incorrect sRGB profile\n",
      "libpng warning: iCCP: known incorrect sRGB profile\n",
      "Training:  21%|██        | 5/24 [00:04<00:13,  1.42it/s, loss=0.9491, acc=69.27%]libpng warning: iCCP: known incorrect sRGB profile\n",
      "Training:  50%|█████     | 12/24 [00:05<00:03,  3.67it/s, loss=0.7527, acc=71.88%]libpng warning: iCCP: known incorrect sRGB profile\n",
      "Training:  75%|███████▌  | 18/24 [00:06<00:01,  5.48it/s, loss=0.5280, acc=69.90%]libpng warning: iCCP: known incorrect sRGB profile\n",
      "Training: 100%|██████████| 24/24 [00:28<00:00,  1.20s/it, loss=0.8506, acc=69.93%]\n",
      "Validation: 100%|██████████| 6/6 [00:23<00:00,  3.89s/it, loss=3.2785, acc=64.60%]"
     ]
    },
    {
     "name": "stdout",
     "output_type": "stream",
     "text": [
      "\n",
      "Train Loss: 0.7960 | Train Acc: 69.93%\n",
      "Val Loss:   0.9394 | Val Acc:   64.60%\n",
      "\n",
      "Stage 1 training complete!\n",
      "================================================================================\n"
     ]
    },
    {
     "name": "stderr",
     "output_type": "stream",
     "text": [
      "\n"
     ]
    }
   ],
   "source": [
    "if split_success:\n",
    "    # Loss and optimizer\n",
    "    criterion = nn.CrossEntropyLoss(weight=class_weights_tensor)\n",
    "    optimizer = optim.Adam(model.parameters(), lr=LEARNING_RATE_STAGE1)\n",
    "    # Automatically reduces the learning rate by 50% if validation loss stops improving for 3 epochs (for small datasets)\n",
    "    scheduler = ReduceLROnPlateau(optimizer, mode='min', factor=0.5, patience=3, verbose=True)\n",
    "\n",
    "    print(\"=\" * 80)\n",
    "    print(f\"Starting Stage 1 Training\")\n",
    "    print(\"-\" * 80)\n",
    "    print(f\"Estimated time on M1: 30-60 minutes\\n\")\n",
    "    \n",
    "    history_stage1 = {\n",
    "        'train_loss': [], 'train_acc': [],\n",
    "        'val_loss': [], 'val_acc': []\n",
    "    }\n",
    "    \n",
    "    best_val_acc = 0.0\n",
    "    patience_counter = 0\n",
    "    PATIENCE = 10\n",
    "    \n",
    "    for epoch in range(EPOCHS_STAGE1):\n",
    "        print(\"=\" * 80)\n",
    "        print(f\"Epoch {epoch+1}/{EPOCHS_STAGE1}\")\n",
    "        print(\"-\" * 60)\n",
    "        \n",
    "        # Train\n",
    "        train_loss, train_acc = train_epoch(model, train_loader, criterion, optimizer, DEVICE)\n",
    "        \n",
    "        # Validate\n",
    "        val_loss, val_acc, _, _ = validate(model, val_loader, criterion, DEVICE)\n",
    "        \n",
    "        # Scheduler step\n",
    "        scheduler.step(val_loss)\n",
    "        \n",
    "        # Save history\n",
    "        history_stage1['train_loss'].append(train_loss)\n",
    "        history_stage1['train_acc'].append(train_acc)\n",
    "        history_stage1['val_loss'].append(val_loss)\n",
    "        history_stage1['val_acc'].append(val_acc)\n",
    "        \n",
    "        print(f\"\\nTrain Loss: {train_loss:.4f} | Train Acc: {train_acc*100:.2f}%\")\n",
    "        print(f\"Val Loss:   {val_loss:.4f} | Val Acc:   {val_acc*100:.2f}%\")\n",
    "        \n",
    "        # Save best model\n",
    "        if val_acc > best_val_acc:\n",
    "            best_val_acc = val_acc\n",
    "            torch.save(model.state_dict(), 'models/stage1_best.pth')\n",
    "            print(f\"Best model saved! (Val Acc: {val_acc*100:.2f}%)\")\n",
    "            # Save stage 1 logs to the disk\n",
    "            torch.save(history_stage1, 'models/history_stage1_del_img.pt')\n",
    "            patience_counter = 0\n",
    "        else:\n",
    "            patience_counter += 1\n",
    "        \n",
    "        # Early stopping\n",
    "        if patience_counter >= PATIENCE:\n",
    "            print(f\"\\nEarly stopping triggered (patience={PATIENCE})\")\n",
    "            break\n",
    "\n",
    "    print(\"\\nStage 1 training complete!\")\n",
    "\n",
    "else:\n",
    "    history_stage1 = None\n",
    "\n",
    "print(\"=\" * 80)"
   ]
  },
  {
   "cell_type": "markdown",
   "id": "619f40b3",
   "metadata": {},
   "source": [
    "# Comparison between skipping images or deleting images methods"
   ]
  },
  {
   "cell_type": "code",
   "execution_count": 9,
   "id": "2fe696cd",
   "metadata": {},
   "outputs": [
    {
     "name": "stdout",
     "output_type": "stream",
     "text": [
      "Keys in history: dict_keys(['train_loss', 'train_acc', 'val_loss', 'val_acc'])\n",
      "\n",
      "=== TRAIN_LOSS ===\n",
      "Last (skp): 0.7711\n",
      "Last (del): 0.8329\n",
      "Best (skp): 0.7711\n",
      "Best (del): 0.7759\n",
      "\n",
      "=== TRAIN_ACC ===\n",
      "Last (skp): 0.7073\n",
      "Last (del): 0.6824\n",
      "Best (skp): 0.7073\n",
      "Best (del): 0.6980\n",
      "\n",
      "=== VAL_LOSS ===\n",
      "Last (skp): 0.9423\n",
      "Last (del): 0.9491\n",
      "Best (skp): 0.9423\n",
      "Best (del): 0.9200\n",
      "\n",
      "=== VAL_ACC ===\n",
      "Last (skp): 0.6810\n",
      "Last (del): 0.6708\n",
      "Best (skp): 0.6810\n",
      "Best (del): 0.6708\n"
     ]
    }
   ],
   "source": [
    "import torch\n",
    "import matplotlib.pyplot as plt\n",
    "\n",
    "# Load both histories\n",
    "history_skp = torch.load(\"models/history_stage1_skp_img.pt\")\n",
    "history_del = torch.load(\"models/history_stage1_del_img.pt\")\n",
    "\n",
    "# Ensure they have the same keys\n",
    "print(\"Keys in history:\", history_skp.keys())\n",
    "\n",
    "# Quick numeric comparison\n",
    "for key in history_skp.keys():\n",
    "    skp_vals = history_skp[key]\n",
    "    del_vals = history_del[key]\n",
    "    \n",
    "    print(f\"\\n=== {key.upper()} ===\")\n",
    "    print(f\"Last (skp): {skp_vals[-1]:.4f}\")\n",
    "    print(f\"Last (del): {del_vals[-1]:.4f}\")\n",
    "    print(f\"Best (skp): {max(skp_vals) if 'acc' in key else min(skp_vals):.4f}\")\n",
    "    print(f\"Best (del): {max(del_vals) if 'acc' in key else min(del_vals):.4f}\")\n"
   ]
  },
  {
   "cell_type": "code",
   "execution_count": 10,
   "id": "52d32eaa",
   "metadata": {},
   "outputs": [
    {
     "data": {
      "image/png": "[encoded data removed]",
      "text/plain": [
       "<Figure size 1200x600 with 2 Axes>"
      ]
     },
     "metadata": {},
     "output_type": "display_data"
    },
    {
     "name": "stdout",
     "output_type": "stream",
     "text": [
      "Training curves saved\n"
     ]
    }
   ],
   "source": [
    "epochs_skp = range(1, len(history_skp['train_loss']) + 1)\n",
    "epochs_del = range(1, len(history_del['train_loss']) + 1)\n",
    "\n",
    "plt.figure(figsize=(12, 6))\n",
    "\n",
    "# --- Training Loss ---\n",
    "plt.subplot(1, 2, 1)\n",
    "plt.plot(epochs_skp, history_skp['train_loss'], 'b-', label='SKP Train Loss')\n",
    "plt.plot(epochs_skp, history_skp['val_loss'], 'b--', label='SKP Val Loss')\n",
    "plt.plot(epochs_del, history_del['train_loss'], 'r-', label='DEL Train Loss')\n",
    "plt.plot(epochs_del, history_del['val_loss'], 'r--', label='DEL Val Loss')\n",
    "plt.title(\"Loss Comparison\")\n",
    "plt.xlabel(\"Epoch\")\n",
    "plt.ylabel(\"Loss\")\n",
    "plt.legend()\n",
    "plt.grid(True)\n",
    "\n",
    "# --- Accuracy ---\n",
    "plt.subplot(1, 2, 2)\n",
    "plt.plot(epochs_skp, history_skp['train_acc'], 'b-', label='SKP Train Acc')\n",
    "plt.plot(epochs_skp, history_skp['val_acc'], 'b--', label='SKP Val Acc')\n",
    "plt.plot(epochs_del, history_del['train_acc'], 'r-', label='DEL Train Acc')\n",
    "plt.plot(epochs_del, history_del['val_acc'], 'r--', label='DEL Val Acc')\n",
    "plt.title(\"Accuracy Comparison\")\n",
    "plt.xlabel(\"Epoch\")\n",
    "plt.ylabel(\"Accuracy\")\n",
    "plt.legend()\n",
    "plt.grid(True)\n",
    "\n",
    "plt.tight_layout()\n",
    "plt.savefig('results/training_loss_skp_vs_del_img.png', dpi=150)\n",
    "plt.show()\n",
    "\n",
    "print(\"Training curves saved\")"
   ]
  },
  {
   "cell_type": "markdown",
   "id": "086b3989",
   "metadata": {},
   "source": [
    "- Left plot : DEL method has a more stable val loss curve, slightly lower overall > good sign of better generalization\n",
    "\n",
    "- For training accuracy, both methods reach ~70–73%, with DEL slightly ahead at some points and same for the validation accuracy, DEL consistently stays above SKP for most epochs. Moreover, SKP method seems to plateau around 55–60%, while DEL reaches ~61–63%. Overall the DEL method tends to be more stable (right plot) suggesting better generalization\n",
    "\n",
    "- DEL seems to be a better method with :\n",
    "    1. Slightly lower train/val loss.\n",
    "    2. Higher and more stable validation accuracy.\n",
    "    3. Less overfitting behavior."
   ]
  },
  {
   "cell_type": "markdown",
   "id": "757d57d7",
   "metadata": {},
   "source": [
    "# End of notebook 4 - Training stage 1"
   ]
  }
 ],
 "metadata": {
  "kernelspec": {
   "display_name": "astro-ml",
   "language": "python",
   "name": "python3"
  },
  "language_info": {
   "codemirror_mode": {
    "name": "ipython",
    "version": 3
   },
   "file_extension": ".py",
   "mimetype": "text/x-python",
   "name": "python",
   "nbconvert_exporter": "python",
   "pygments_lexer": "ipython3",
   "version": "3.10.18"
  }
 },
 "nbformat": 4,
 "nbformat_minor": 5
}
