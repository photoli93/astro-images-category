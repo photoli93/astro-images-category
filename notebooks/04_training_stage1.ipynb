{
 "cells": [
  {
   "cell_type": "markdown",
   "id": "7036d689",
   "metadata": {},
   "source": [
    "# Space Images Classifier - Using Kaggle dataset\n",
    "\n",
    "https://www.kaggle.com/datasets/abhikalpsrivastava15/space-images-category?utm_source=chatgpt.com\n",
    "\n",
    "### Notebook 4 - Training stage 1 (Frozen backbone)"
   ]
  },
  {
   "cell_type": "markdown",
   "id": "255efa75",
   "metadata": {},
   "source": [
    "# Import librairies"
   ]
  },
  {
   "cell_type": "code",
   "execution_count": 1,
   "id": "937ec054",
   "metadata": {},
   "outputs": [],
   "source": [
    "import numpy as np\n",
    "import pandas as pd\n",
    "\n",
    "import matplotlib.pyplot as plt\n",
    "import seaborn as sns\n",
    "\n",
    "import sys\n",
    "import os\n",
    "import json\n",
    "\n",
    "# Add the root folder to Python's module search path\n",
    "sys.path.append(os.path.abspath(os.path.join(\"..\"))) \n",
    "# Import the project configuration\n",
    "from config import DEVICE, OUTPUT_PATH, BATCH_SIZE, NUM_WORKERS, EPOCHS_STAGE1, LEARNING_RATE_STAGE1\n",
    "from models import SpaceClassifier\n",
    "from train_utils import train_epoch, validate\n",
    "from datasets import SpaceImageDataset, train_transforms, val_test_transforms\n",
    "\n",
    "import shutil\n",
    "from pathlib import Path\n",
    "import cv2\n",
    "from tqdm import tqdm\n",
    "import random\n",
    "\n",
    "import warnings\n",
    "warnings.filterwarnings('ignore')\n",
    "\n",
    "import torch\n",
    "import torch.nn as nn\n",
    "import torch.optim as optim\n",
    "from torch.utils.data import Dataset, DataLoader\n",
    "from torchvision import transforms, models\n",
    "from torch.optim.lr_scheduler import ReduceLROnPlateau\n",
    "import torchvision.transforms.functional as TF\n",
    "\n",
    "from sklearn.model_selection import train_test_split\n",
    "from sklearn.metrics import classification_report, confusion_matrix, accuracy_score\n",
    "from sklearn.utils import class_weight"
   ]
  },
  {
   "cell_type": "markdown",
   "id": "b4f7aebf",
   "metadata": {},
   "source": [
    "# Load callback/config variables"
   ]
  },
  {
   "cell_type": "code",
   "execution_count": 2,
   "id": "5766abd9",
   "metadata": {},
   "outputs": [],
   "source": [
    "ROOT_PATH = Path(\"..\")\n",
    "# Path to load JSON\n",
    "CONFIG_JSON_PATH = ROOT_PATH / \"config_dynamic.json\"\n",
    "\n",
    "try:\n",
    "    with open(CONFIG_JSON_PATH) as f:\n",
    "        dynamic_config = json.load(f)\n",
    "except FileNotFoundError:\n",
    "    dynamic_config = {}\n",
    "    \n",
    "NUM_CLASSES = dynamic_config.get(\"NUM_CLASSES\", 0)\n",
    "class_names = dynamic_config.get(\"class_names\", [])\n",
    "split_success = dynamic_config.get(\"split_success\", 5)\n",
    "\n",
    "# Path to the saved tensor\n",
    "WEIGHTS_PATH = Path(\"models\") / \"class_weights_tensor.pth\"\n",
    "\n",
    "# Load the tensor\n",
    "class_weights_tensor = torch.load(WEIGHTS_PATH, map_location=DEVICE)"
   ]
  },
  {
   "cell_type": "code",
   "execution_count": 3,
   "id": "ec3f6ab2",
   "metadata": {},
   "outputs": [
    {
     "data": {
      "text/plain": [
       "tensor([1.0052, 1.1092, 0.7798, 1.0904, 1.0461, 1.0546], device='mps:0')"
      ]
     },
     "execution_count": 3,
     "metadata": {},
     "output_type": "execute_result"
    }
   ],
   "source": [
    "class_weights_tensor"
   ]
  },
  {
   "cell_type": "markdown",
   "id": "58bc9a1b",
   "metadata": {},
   "source": [
    "# Training stage 1 with frozen backbone"
   ]
  },
  {
   "cell_type": "markdown",
   "id": "fb148444",
   "metadata": {},
   "source": [
    "## Create EfficientNet-B0 model"
   ]
  },
  {
   "cell_type": "code",
   "execution_count": 4,
   "id": "02640134",
   "metadata": {},
   "outputs": [
    {
     "name": "stdout",
     "output_type": "stream",
     "text": [
      "================================================================================\n",
      "Model created: EfficientNet-B0\n",
      "Device: mps\n",
      "Total parameters: 4,796,290\n",
      "Trainable parameters: 788,742\n",
      "================================================================================\n"
     ]
    }
   ],
   "source": [
    "# Create model\n",
    "model = SpaceClassifier(NUM_CLASSES, pretrained=True)\n",
    "model = model.to(DEVICE)\n",
    "\n",
    "print(\"=\" * 80)\n",
    "print(f\"Model created: EfficientNet-B0\")\n",
    "print(f\"Device: {DEVICE}\")\n",
    "\n",
    "# Count parameters\n",
    "total_params = sum(p.numel() for p in model.parameters())\n",
    "trainable_params = sum(p.numel() for p in model.parameters() if p.requires_grad)\n",
    "print(f\"Total parameters: {total_params:,}\")\n",
    "print(f\"Trainable parameters: {trainable_params:,}\")\n",
    "\n",
    "print(\"=\" * 80)"
   ]
  },
  {
   "cell_type": "code",
   "execution_count": 5,
   "id": "651f237f",
   "metadata": {},
   "outputs": [
    {
     "name": "stdout",
     "output_type": "stream",
     "text": [
      "Sequential(\n",
      "  (0): Dropout(p=0.4, inplace=False)\n",
      "  (1): Linear(in_features=1280, out_features=512, bias=True)\n",
      "  (2): ReLU()\n",
      "  (3): Dropout(p=0.3, inplace=False)\n",
      "  (4): Linear(in_features=512, out_features=256, bias=True)\n",
      "  (5): ReLU()\n",
      "  (6): Dropout(p=0.2, inplace=False)\n",
      "  (7): Linear(in_features=256, out_features=6, bias=True)\n",
      ")\n"
     ]
    }
   ],
   "source": [
    "print(model.backbone.classifier)"
   ]
  },
  {
   "cell_type": "markdown",
   "id": "42f8dae4",
   "metadata": {},
   "source": [
    "## Create Dataset"
   ]
  },
  {
   "cell_type": "code",
   "execution_count": 6,
   "id": "50cf59ea",
   "metadata": {},
   "outputs": [
    {
     "name": "stderr",
     "output_type": "stream",
     "text": [
      "libpng warning: iCCP: known incorrect sRGB profile\n",
      "libpng warning: iCCP: known incorrect sRGB profile\n",
      "libpng warning: iCCP: known incorrect sRGB profile\n",
      "libpng warning: iCCP: known incorrect sRGB profile\n",
      "libpng warning: iCCP: known incorrect sRGB profile\n"
     ]
    },
    {
     "name": "stdout",
     "output_type": "stream",
     "text": [
      "Dataset created from ../space_images_split/train\n",
      "   → 765 valid images\n",
      "7 images skipped (see ../space_images_split/train/skipped_images.txt)\n",
      "Dataset created from ../space_images_split/validation\n",
      "   → 161 valid images\n",
      "2 images skipped (see ../space_images_split/validation/skipped_images.txt)\n"
     ]
    }
   ],
   "source": [
    "train_dataset = SpaceImageDataset(OUTPUT_PATH / \"train\", transform=train_transforms)\n",
    "val_dataset = SpaceImageDataset(OUTPUT_PATH / \"validation\", transform=val_test_transforms)"
   ]
  },
  {
   "cell_type": "markdown",
   "id": "5a4e3dbd",
   "metadata": {},
   "source": [
    "## Create Data loaders"
   ]
  },
  {
   "cell_type": "code",
   "execution_count": 7,
   "id": "668074ee",
   "metadata": {},
   "outputs": [],
   "source": [
    "train_loader = DataLoader(\n",
    "    train_dataset, \n",
    "    batch_size=BATCH_SIZE,\n",
    "    shuffle=True, \n",
    "    num_workers=NUM_WORKERS,\n",
    "    pin_memory=True if DEVICE.type == 'mps' else False\n",
    ")\n",
    "\n",
    "val_loader = DataLoader(\n",
    "    val_dataset, \n",
    "    batch_size=BATCH_SIZE, \n",
    "    shuffle=False, \n",
    "    num_workers=NUM_WORKERS,\n",
    "    pin_memory=True if DEVICE.type == 'mps' else False\n",
    ")"
   ]
  },
  {
   "cell_type": "markdown",
   "id": "c0963a13",
   "metadata": {},
   "source": [
    "## Training the model - Phase 1"
   ]
  },
  {
   "cell_type": "code",
   "execution_count": 8,
   "id": "27350b3f",
   "metadata": {},
   "outputs": [
    {
     "name": "stdout",
     "output_type": "stream",
     "text": [
      "================================================================================\n",
      "Starting Stage 1 Training\n",
      "--------------------------------------------------------------------------------\n",
      "Estimated time on M1: 30-60 minutes\n",
      "\n",
      "================================================================================\n",
      "================================================================================\n",
      "Epoch 1/25\n",
      "------------------------------------------------------------\n"
     ]
    },
    {
     "name": "stderr",
     "output_type": "stream",
     "text": [
      "Training:   0%|          | 0/24 [00:00<?, ?it/s]libpng warning: iCCP: known incorrect sRGB profile\n",
      "Training:  46%|████▌     | 11/24 [00:05<00:03,  3.59it/s, loss=1.5699, acc=27.08%]libpng warning: iCCP: known incorrect sRGB profile\n",
      "libpng warning: iCCP: known incorrect sRGB profile\n",
      "libpng warning: iCCP: known incorrect sRGB profile\n",
      "Training:  83%|████████▎ | 20/24 [00:07<00:00,  5.89it/s, loss=1.5787, acc=36.25%]libpng warning: iCCP: known incorrect sRGB profile\n",
      "Training: 100%|██████████| 24/24 [00:28<00:00,  1.20s/it, loss=1.3666, acc=38.30%]\n",
      "Validation: 100%|██████████| 6/6 [00:23<00:00,  3.97s/it, loss=2.7155, acc=46.58%]\n"
     ]
    },
    {
     "name": "stdout",
     "output_type": "stream",
     "text": [
      "\n",
      "Train Loss: 1.5699 | Train Acc: 38.30%\n",
      "Val Loss:   1.2885 | Val Acc:   46.58%\n",
      "Best model saved! (Val Acc: 46.58%)\n",
      "================================================================================\n",
      "Epoch 2/25\n",
      "------------------------------------------------------------\n"
     ]
    },
    {
     "name": "stderr",
     "output_type": "stream",
     "text": [
      "Training:  12%|█▎        | 3/24 [00:02<00:16,  1.29it/s, loss=1.2035, acc=50.00%]libpng warning: iCCP: known incorrect sRGB profile\n",
      "Training:  29%|██▉       | 7/24 [00:03<00:05,  2.86it/s, loss=1.1773, acc=60.71%]libpng warning: iCCP: known incorrect sRGB profile\n",
      "Training:  33%|███▎      | 8/24 [00:03<00:05,  3.11it/s, loss=0.9578, acc=61.33%]libpng warning: iCCP: known incorrect sRGB profile\n",
      "Training:  46%|████▌     | 11/24 [00:05<00:03,  3.31it/s, loss=1.0749, acc=59.90%]libpng warning: iCCP: known incorrect sRGB profile\n",
      "libpng warning: iCCP: known incorrect sRGB profile\n",
      "Training: 100%|██████████| 24/24 [00:27<00:00,  1.16s/it, loss=0.8089, acc=55.03%]\n",
      "Validation: 100%|██████████| 6/6 [00:23<00:00,  3.94s/it, loss=2.3870, acc=52.17%]\n"
     ]
    },
    {
     "name": "stdout",
     "output_type": "stream",
     "text": [
      "\n",
      "Train Loss: 1.1526 | Train Acc: 55.03%\n",
      "Val Loss:   1.2005 | Val Acc:   52.17%\n",
      "Best model saved! (Val Acc: 52.17%)\n",
      "================================================================================\n",
      "Epoch 3/25\n",
      "------------------------------------------------------------\n"
     ]
    },
    {
     "name": "stderr",
     "output_type": "stream",
     "text": [
      "Training:   4%|▍         | 1/24 [00:02<01:06,  2.87s/it, loss=1.0599, acc=59.38%]libpng warning: iCCP: known incorrect sRGB profile\n",
      "Training:  38%|███▊      | 9/24 [00:04<00:04,  3.64it/s, loss=0.7316, acc=61.46%]libpng warning: iCCP: known incorrect sRGB profile\n",
      "libpng warning: iCCP: known incorrect sRGB profile\n",
      "Training:  67%|██████▋   | 16/24 [00:06<00:01,  4.31it/s, loss=1.1267, acc=59.01%]libpng warning: iCCP: known incorrect sRGB profile\n",
      "Training:  83%|████████▎ | 20/24 [00:07<00:00,  4.77it/s, loss=0.9122, acc=59.38%]libpng warning: iCCP: known incorrect sRGB profile\n",
      "Training: 100%|██████████| 24/24 [00:28<00:00,  1.17s/it, loss=1.2804, acc=59.22%]\n",
      "Validation: 100%|██████████| 6/6 [00:23<00:00,  3.91s/it, loss=2.5920, acc=52.17%]\n"
     ]
    },
    {
     "name": "stdout",
     "output_type": "stream",
     "text": [
      "\n",
      "Train Loss: 1.0715 | Train Acc: 59.22%\n",
      "Val Loss:   1.1507 | Val Acc:   52.17%\n",
      "================================================================================\n",
      "Epoch 4/25\n",
      "------------------------------------------------------------\n"
     ]
    },
    {
     "name": "stderr",
     "output_type": "stream",
     "text": [
      "Training:   0%|          | 0/24 [00:00<?, ?it/s]libpng warning: iCCP: known incorrect sRGB profile\n",
      "Training:   4%|▍         | 1/24 [00:04<01:30,  3.92s/it, loss=0.8358, acc=68.75%]libpng warning: iCCP: known incorrect sRGB profile\n",
      "Training:  12%|█▎        | 3/24 [00:04<00:26,  1.24s/it, loss=0.9441, acc=67.19%]libpng warning: iCCP: known incorrect sRGB profile\n",
      "Training:  21%|██        | 5/24 [00:04<00:13,  1.39it/s, loss=0.8011, acc=67.50%]libpng warning: iCCP: known incorrect sRGB profile\n",
      "Training:  54%|█████▍    | 13/24 [00:07<00:03,  3.20it/s, loss=0.7246, acc=63.84%]libpng warning: iCCP: known incorrect sRGB profile\n",
      "Training: 100%|██████████| 24/24 [00:29<00:00,  1.24s/it, loss=0.9344, acc=63.79%]\n",
      "Validation: 100%|██████████| 6/6 [00:23<00:00,  3.95s/it, loss=2.2025, acc=59.01%]\n"
     ]
    },
    {
     "name": "stdout",
     "output_type": "stream",
     "text": [
      "\n",
      "Train Loss: 0.9992 | Train Acc: 63.79%\n",
      "Val Loss:   1.1228 | Val Acc:   59.01%\n",
      "Best model saved! (Val Acc: 59.01%)\n",
      "================================================================================\n",
      "Epoch 5/25\n",
      "------------------------------------------------------------\n"
     ]
    },
    {
     "name": "stderr",
     "output_type": "stream",
     "text": [
      "Training:   0%|          | 0/24 [00:00<?, ?it/s]libpng warning: iCCP: known incorrect sRGB profile\n",
      "Training:  21%|██        | 5/24 [00:04<00:10,  1.84it/s, loss=0.7328, acc=65.10%]libpng warning: iCCP: known incorrect sRGB profile\n",
      "Training:  46%|████▌     | 11/24 [00:05<00:04,  3.07it/s, loss=0.9632, acc=64.32%]libpng warning: iCCP: known incorrect sRGB profile\n",
      "Training:  62%|██████▎   | 15/24 [00:06<00:02,  3.31it/s, loss=0.7955, acc=63.67%]libpng warning: iCCP: known incorrect sRGB profile\n",
      "Training:  71%|███████   | 17/24 [00:07<00:02,  2.97it/s, loss=0.9651, acc=63.60%]libpng warning: iCCP: known incorrect sRGB profile\n",
      "Training: 100%|██████████| 24/24 [00:28<00:00,  1.20s/it, loss=0.6176, acc=65.10%]\n",
      "Validation: 100%|██████████| 6/6 [00:23<00:00,  3.96s/it, loss=2.6134, acc=58.39%]\n"
     ]
    },
    {
     "name": "stdout",
     "output_type": "stream",
     "text": [
      "\n",
      "Train Loss: 0.8962 | Train Acc: 65.10%\n",
      "Val Loss:   1.1454 | Val Acc:   58.39%\n",
      "================================================================================\n",
      "Epoch 6/25\n",
      "------------------------------------------------------------\n"
     ]
    },
    {
     "name": "stderr",
     "output_type": "stream",
     "text": [
      "Training:  33%|███▎      | 8/24 [00:05<00:05,  2.86it/s, loss=0.8307, acc=68.75%]libpng warning: iCCP: known incorrect sRGB profile\n",
      "Training:  42%|████▏     | 10/24 [00:05<00:04,  3.49it/s, loss=0.5865, acc=69.69%]libpng warning: iCCP: known incorrect sRGB profile\n",
      "Training:  58%|█████▊    | 14/24 [00:06<00:03,  3.20it/s, loss=0.7289, acc=70.54%]libpng warning: iCCP: known incorrect sRGB profile\n",
      "Training:  75%|███████▌  | 18/24 [00:07<00:01,  4.67it/s, loss=1.1299, acc=69.44%]libpng warning: iCCP: known incorrect sRGB profile\n",
      "Training:  92%|█████████▏| 22/24 [00:07<00:00,  6.48it/s, loss=0.6652, acc=68.75%]libpng warning: iCCP: known incorrect sRGB profile\n",
      "Training: 100%|██████████| 24/24 [00:28<00:00,  1.18s/it, loss=0.7048, acc=68.10%]\n",
      "Validation: 100%|██████████| 6/6 [00:23<00:00,  3.88s/it, loss=3.0424, acc=57.14%]\n"
     ]
    },
    {
     "name": "stdout",
     "output_type": "stream",
     "text": [
      "\n",
      "Train Loss: 0.8657 | Train Acc: 68.10%\n",
      "Val Loss:   1.1308 | Val Acc:   57.14%\n",
      "================================================================================\n",
      "Epoch 7/25\n",
      "------------------------------------------------------------\n"
     ]
    },
    {
     "name": "stderr",
     "output_type": "stream",
     "text": [
      "Training:   0%|          | 0/24 [00:00<?, ?it/s]libpng warning: iCCP: known incorrect sRGB profile\n",
      "libpng warning: iCCP: known incorrect sRGB profile\n",
      "Training:  38%|███▊      | 9/24 [00:04<00:04,  3.14it/s, loss=1.0593, acc=67.50%]libpng warning: iCCP: known incorrect sRGB profile\n",
      "Training:  46%|████▌     | 11/24 [00:04<00:02,  4.43it/s, loss=0.7176, acc=68.18%]libpng warning: iCCP: known incorrect sRGB profile\n",
      "Training:  67%|██████▋   | 16/24 [00:06<00:02,  3.57it/s, loss=0.9986, acc=66.80%]libpng warning: iCCP: known incorrect sRGB profile\n",
      "Training: 100%|██████████| 24/24 [00:28<00:00,  1.17s/it, loss=0.4815, acc=69.67%]\n",
      "Validation: 100%|██████████| 6/6 [00:23<00:00,  3.89s/it, loss=3.4199, acc=54.66%]\n"
     ]
    },
    {
     "name": "stdout",
     "output_type": "stream",
     "text": [
      "\n",
      "Train Loss: 0.8241 | Train Acc: 69.67%\n",
      "Val Loss:   1.1669 | Val Acc:   54.66%\n",
      "================================================================================\n",
      "Epoch 8/25\n",
      "------------------------------------------------------------\n"
     ]
    },
    {
     "name": "stderr",
     "output_type": "stream",
     "text": [
      "Training:   0%|          | 0/24 [00:00<?, ?it/s]libpng warning: iCCP: known incorrect sRGB profile\n",
      "Training:  38%|███▊      | 9/24 [00:05<00:05,  2.81it/s, loss=1.0438, acc=67.36%]libpng warning: iCCP: known incorrect sRGB profile\n",
      "libpng warning: iCCP: known incorrect sRGB profile\n",
      "Training:  67%|██████▋   | 16/24 [00:06<00:01,  4.67it/s, loss=1.1428, acc=68.55%]libpng warning: iCCP: known incorrect sRGB profile\n",
      "Training:  71%|███████   | 17/24 [00:07<00:02,  3.28it/s, loss=0.9344, acc=68.20%]libpng warning: iCCP: known incorrect sRGB profile\n",
      "Training: 100%|██████████| 24/24 [00:28<00:00,  1.18s/it, loss=0.6721, acc=67.45%]\n",
      "Validation: 100%|██████████| 6/6 [00:23<00:00,  3.88s/it, loss=3.0930, acc=56.52%]\n"
     ]
    },
    {
     "name": "stdout",
     "output_type": "stream",
     "text": [
      "\n",
      "Train Loss: 0.8581 | Train Acc: 67.45%\n",
      "Val Loss:   1.1308 | Val Acc:   56.52%\n",
      "================================================================================\n",
      "Epoch 9/25\n",
      "------------------------------------------------------------\n"
     ]
    },
    {
     "name": "stderr",
     "output_type": "stream",
     "text": [
      "Training:   0%|          | 0/24 [00:00<?, ?it/s]libpng warning: iCCP: known incorrect sRGB profile\n",
      "Training:  29%|██▉       | 7/24 [00:05<00:07,  2.27it/s, loss=0.5114, acc=70.31%]libpng warning: iCCP: known incorrect sRGB profile\n",
      "Training:  46%|████▌     | 11/24 [00:05<00:03,  3.63it/s, loss=0.7726, acc=69.79%]libpng warning: iCCP: known incorrect sRGB profile\n",
      "Training:  62%|██████▎   | 15/24 [00:06<00:02,  4.50it/s, loss=0.9327, acc=70.00%]libpng warning: iCCP: known incorrect sRGB profile\n",
      "Training:  62%|██████▎   | 15/24 [00:06<00:02,  4.50it/s, loss=0.7261, acc=69.92%]libpng warning: iCCP: known incorrect sRGB profile\n",
      "Training: 100%|██████████| 24/24 [00:28<00:00,  1.18s/it, loss=0.8345, acc=68.89%]\n",
      "Validation: 100%|██████████| 6/6 [00:23<00:00,  3.96s/it, loss=3.8247, acc=57.76%]\n"
     ]
    },
    {
     "name": "stdout",
     "output_type": "stream",
     "text": [
      "\n",
      "Train Loss: 0.7887 | Train Acc: 68.89%\n",
      "Val Loss:   1.1819 | Val Acc:   57.76%\n",
      "================================================================================\n",
      "Epoch 10/25\n",
      "------------------------------------------------------------\n"
     ]
    },
    {
     "name": "stderr",
     "output_type": "stream",
     "text": [
      "Training:   0%|          | 0/24 [00:00<?, ?it/s]libpng warning: iCCP: known incorrect sRGB profile\n",
      "Training:  12%|█▎        | 3/24 [00:03<00:18,  1.12it/s, loss=1.1902, acc=67.97%]libpng warning: iCCP: known incorrect sRGB profile\n",
      "Training:  38%|███▊      | 9/24 [00:05<00:07,  2.00it/s, loss=0.5917, acc=69.10%]libpng warning: iCCP: known incorrect sRGB profile\n",
      "Training:  46%|████▌     | 11/24 [00:06<00:04,  2.84it/s, loss=0.9239, acc=70.05%]libpng warning: iCCP: known incorrect sRGB profile\n",
      "Training:  62%|██████▎   | 15/24 [00:06<00:02,  3.90it/s, loss=0.5161, acc=70.12%]libpng warning: iCCP: known incorrect sRGB profile\n",
      "Training: 100%|██████████| 24/24 [00:28<00:00,  1.19s/it, loss=1.1082, acc=68.89%]\n",
      "Validation: 100%|██████████| 6/6 [00:23<00:00,  3.89s/it, loss=3.3736, acc=59.01%]\n"
     ]
    },
    {
     "name": "stdout",
     "output_type": "stream",
     "text": [
      "\n",
      "Train Loss: 0.8214 | Train Acc: 68.89%\n",
      "Val Loss:   1.1926 | Val Acc:   59.01%\n",
      "================================================================================\n",
      "Epoch 11/25\n",
      "------------------------------------------------------------\n"
     ]
    },
    {
     "name": "stderr",
     "output_type": "stream",
     "text": [
      "Training:  21%|██        | 5/24 [00:03<00:10,  1.89it/s, loss=0.7764, acc=77.50%]libpng warning: iCCP: known incorrect sRGB profile\n",
      "Training:  38%|███▊      | 9/24 [00:05<00:05,  2.83it/s, loss=0.5438, acc=74.06%]libpng warning: iCCP: known incorrect sRGB profile\n",
      "Training:  46%|████▌     | 11/24 [00:05<00:05,  2.53it/s, loss=0.9858, acc=73.30%]libpng warning: iCCP: known incorrect sRGB profile\n",
      "Training:  54%|█████▍    | 13/24 [00:06<00:03,  3.54it/s, loss=0.6303, acc=72.32%]libpng warning: iCCP: known incorrect sRGB profile\n",
      "Training:  88%|████████▊ | 21/24 [00:07<00:00,  5.52it/s, loss=0.6498, acc=71.73%]libpng warning: iCCP: known incorrect sRGB profile\n",
      "Training: 100%|██████████| 24/24 [00:28<00:00,  1.19s/it, loss=0.9788, acc=71.76%]\n",
      "Validation: 100%|██████████| 6/6 [00:23<00:00,  3.90s/it, loss=3.1302, acc=56.52%]\n"
     ]
    },
    {
     "name": "stdout",
     "output_type": "stream",
     "text": [
      "\n",
      "Train Loss: 0.7766 | Train Acc: 71.76%\n",
      "Val Loss:   1.1919 | Val Acc:   56.52%\n",
      "================================================================================\n",
      "Epoch 12/25\n",
      "------------------------------------------------------------\n"
     ]
    },
    {
     "name": "stderr",
     "output_type": "stream",
     "text": [
      "Training:   0%|          | 0/24 [00:00<?, ?it/s]libpng warning: iCCP: known incorrect sRGB profile\n",
      "libpng warning: iCCP: known incorrect sRGB profile\n",
      "libpng warning: iCCP: known incorrect sRGB profile\n",
      "Training:  54%|█████▍    | 13/24 [00:05<00:03,  3.65it/s, loss=0.7633, acc=69.64%]libpng warning: iCCP: known incorrect sRGB profile\n",
      "Training:  62%|██████▎   | 15/24 [00:06<00:02,  3.88it/s, loss=0.8846, acc=70.90%]libpng warning: iCCP: known incorrect sRGB profile\n",
      "Training: 100%|██████████| 24/24 [00:27<00:00,  1.16s/it, loss=0.5582, acc=72.81%]\n",
      "Validation: 100%|██████████| 6/6 [00:23<00:00,  3.97s/it, loss=3.1893, acc=57.14%]\n"
     ]
    },
    {
     "name": "stdout",
     "output_type": "stream",
     "text": [
      "\n",
      "Train Loss: 0.7400 | Train Acc: 72.81%\n",
      "Val Loss:   1.1418 | Val Acc:   57.14%\n",
      "================================================================================\n",
      "Epoch 13/25\n",
      "------------------------------------------------------------\n"
     ]
    },
    {
     "name": "stderr",
     "output_type": "stream",
     "text": [
      "Training:   0%|          | 0/24 [00:00<?, ?it/s]libpng warning: iCCP: known incorrect sRGB profile\n",
      "Training:  21%|██        | 5/24 [00:04<00:11,  1.63it/s, loss=0.8710, acc=70.62%]libpng warning: iCCP: known incorrect sRGB profile\n",
      "Training:  42%|████▏     | 10/24 [00:05<00:04,  2.83it/s, loss=0.8413, acc=72.81%]libpng warning: iCCP: known incorrect sRGB profile\n",
      "Training:  67%|██████▋   | 16/24 [00:07<00:01,  4.18it/s, loss=0.5200, acc=73.53%]libpng warning: iCCP: known incorrect sRGB profile\n",
      "Training:  83%|████████▎ | 20/24 [00:07<00:00,  5.10it/s, loss=0.9048, acc=73.28%]libpng warning: iCCP: known incorrect sRGB profile\n",
      "Training: 100%|██████████| 24/24 [00:28<00:00,  1.19s/it, loss=0.8800, acc=72.55%]\n",
      "Validation: 100%|██████████| 6/6 [00:23<00:00,  3.90s/it, loss=3.3472, acc=58.39%]\n"
     ]
    },
    {
     "name": "stdout",
     "output_type": "stream",
     "text": [
      "\n",
      "Train Loss: 0.7333 | Train Acc: 72.55%\n",
      "Val Loss:   1.1301 | Val Acc:   58.39%\n",
      "================================================================================\n",
      "Epoch 14/25\n",
      "------------------------------------------------------------\n"
     ]
    },
    {
     "name": "stderr",
     "output_type": "stream",
     "text": [
      "Training:  21%|██        | 5/24 [00:03<00:08,  2.18it/s, loss=0.8453, acc=76.25%]libpng warning: iCCP: known incorrect sRGB profile\n",
      "Training:  42%|████▏     | 10/24 [00:04<00:03,  3.51it/s, loss=0.8764, acc=70.17%]libpng warning: iCCP: known incorrect sRGB profile\n",
      "libpng warning: iCCP: known incorrect sRGB profile\n",
      "libpng warning: iCCP: known incorrect sRGB profile\n",
      "libpng warning: iCCP: known incorrect sRGB profile\n",
      "Training: 100%|██████████| 24/24 [00:27<00:00,  1.15s/it, loss=0.5528, acc=71.63%]\n",
      "Validation: 100%|██████████| 6/6 [00:23<00:00,  3.98s/it, loss=2.6805, acc=59.63%]\n"
     ]
    },
    {
     "name": "stdout",
     "output_type": "stream",
     "text": [
      "\n",
      "Train Loss: 0.7368 | Train Acc: 71.63%\n",
      "Val Loss:   1.1483 | Val Acc:   59.63%\n",
      "Best model saved! (Val Acc: 59.63%)\n",
      "================================================================================\n",
      "Epoch 15/25\n",
      "------------------------------------------------------------\n"
     ]
    },
    {
     "name": "stderr",
     "output_type": "stream",
     "text": [
      "Training:   0%|          | 0/24 [00:00<?, ?it/s]libpng warning: iCCP: known incorrect sRGB profile\n",
      "Training:  29%|██▉       | 7/24 [00:04<00:04,  3.74it/s, loss=0.7474, acc=74.22%]libpng warning: iCCP: known incorrect sRGB profile\n",
      "Training:  50%|█████     | 12/24 [00:05<00:02,  4.11it/s, loss=0.6965, acc=74.52%]libpng warning: iCCP: known incorrect sRGB profile\n",
      "libpng warning: iCCP: known incorrect sRGB profile\n",
      "Training:  79%|███████▉  | 19/24 [00:06<00:01,  4.22it/s, loss=0.7532, acc=74.18%]libpng warning: iCCP: known incorrect sRGB profile\n",
      "Training: 100%|██████████| 24/24 [00:28<00:00,  1.18s/it, loss=0.4880, acc=73.99%]\n",
      "Validation: 100%|██████████| 6/6 [00:23<00:00,  3.90s/it, loss=3.1729, acc=59.01%]\n"
     ]
    },
    {
     "name": "stdout",
     "output_type": "stream",
     "text": [
      "\n",
      "Train Loss: 0.6936 | Train Acc: 73.99%\n",
      "Val Loss:   1.1457 | Val Acc:   59.01%\n",
      "================================================================================\n",
      "Epoch 16/25\n",
      "------------------------------------------------------------\n"
     ]
    },
    {
     "name": "stderr",
     "output_type": "stream",
     "text": [
      "Training:   0%|          | 0/24 [00:00<?, ?it/s]libpng warning: iCCP: known incorrect sRGB profile\n",
      "Training:  42%|████▏     | 10/24 [00:05<00:03,  3.51it/s, loss=0.7964, acc=78.44%]libpng warning: iCCP: known incorrect sRGB profile\n",
      "Training:  42%|████▏     | 10/24 [00:05<00:03,  3.51it/s, loss=0.7788, acc=77.56%]libpng warning: iCCP: known incorrect sRGB profile\n",
      "Training:  58%|█████▊    | 14/24 [00:06<00:02,  3.93it/s, loss=0.5267, acc=77.71%]libpng warning: iCCP: known incorrect sRGB profile\n",
      "Training:  79%|███████▉  | 19/24 [00:06<00:00,  5.33it/s, loss=0.5717, acc=77.30%]libpng warning: iCCP: known incorrect sRGB profile\n",
      "Training: 100%|██████████| 24/24 [00:27<00:00,  1.16s/it, loss=0.6266, acc=76.34%]\n",
      "Validation: 100%|██████████| 6/6 [00:23<00:00,  3.90s/it, loss=3.3059, acc=57.14%]\n"
     ]
    },
    {
     "name": "stdout",
     "output_type": "stream",
     "text": [
      "\n",
      "Train Loss: 0.6578 | Train Acc: 76.34%\n",
      "Val Loss:   1.1497 | Val Acc:   57.14%\n",
      "================================================================================\n",
      "Epoch 17/25\n",
      "------------------------------------------------------------\n"
     ]
    },
    {
     "name": "stderr",
     "output_type": "stream",
     "text": [
      "Training:  21%|██        | 5/24 [00:04<00:11,  1.58it/s, loss=0.4945, acc=73.44%]libpng warning: iCCP: known incorrect sRGB profile\n",
      "Training:  29%|██▉       | 7/24 [00:04<00:06,  2.52it/s, loss=0.7162, acc=75.00%]libpng warning: iCCP: known incorrect sRGB profile\n",
      "Training:  46%|████▌     | 11/24 [00:05<00:03,  3.93it/s, loss=0.6157, acc=75.26%]libpng warning: iCCP: known incorrect sRGB profile\n",
      "libpng warning: iCCP: known incorrect sRGB profile\n",
      "Training:  54%|█████▍    | 13/24 [00:05<00:02,  4.10it/s, loss=0.5822, acc=75.45%]libpng warning: iCCP: known incorrect sRGB profile\n",
      "Training: 100%|██████████| 24/24 [00:28<00:00,  1.17s/it, loss=0.7803, acc=74.77%]\n",
      "Validation: 100%|██████████| 6/6 [00:23<00:00,  3.89s/it, loss=2.9848, acc=57.14%]\n"
     ]
    },
    {
     "name": "stdout",
     "output_type": "stream",
     "text": [
      "\n",
      "Train Loss: 0.6692 | Train Acc: 74.77%\n",
      "Val Loss:   1.1397 | Val Acc:   57.14%\n",
      "================================================================================\n",
      "Epoch 18/25\n",
      "------------------------------------------------------------\n"
     ]
    },
    {
     "name": "stderr",
     "output_type": "stream",
     "text": [
      "Training:  12%|█▎        | 3/24 [00:04<00:21,  1.04s/it, loss=0.7514, acc=77.34%]libpng warning: iCCP: known incorrect sRGB profile\n",
      "Training:  38%|███▊      | 9/24 [00:05<00:05,  2.57it/s, loss=0.5960, acc=76.39%]libpng warning: iCCP: known incorrect sRGB profile\n",
      "Training:  67%|██████▋   | 16/24 [00:06<00:01,  4.84it/s, loss=0.6886, acc=74.80%]libpng warning: iCCP: known incorrect sRGB profile\n",
      "libpng warning: iCCP: known incorrect sRGB profile\n",
      "libpng warning: iCCP: known incorrect sRGB profile\n",
      "Training: 100%|██████████| 24/24 [00:27<00:00,  1.17s/it, loss=0.3832, acc=75.42%]\n",
      "Validation: 100%|██████████| 6/6 [00:23<00:00,  3.91s/it, loss=3.3511, acc=58.39%]\n"
     ]
    },
    {
     "name": "stdout",
     "output_type": "stream",
     "text": [
      "\n",
      "Train Loss: 0.6522 | Train Acc: 75.42%\n",
      "Val Loss:   1.1369 | Val Acc:   58.39%\n",
      "================================================================================\n",
      "Epoch 19/25\n",
      "------------------------------------------------------------\n"
     ]
    },
    {
     "name": "stderr",
     "output_type": "stream",
     "text": [
      "Training:   0%|          | 0/24 [00:00<?, ?it/s]libpng warning: iCCP: known incorrect sRGB profile\n",
      "libpng warning: iCCP: known incorrect sRGB profile\n",
      "Training:   4%|▍         | 1/24 [00:02<01:00,  2.61s/it, loss=0.7030, acc=65.62%]libpng warning: iCCP: known incorrect sRGB profile\n",
      "Training:   8%|▊         | 2/24 [00:03<00:33,  1.53s/it, loss=0.7233, acc=73.96%]libpng warning: iCCP: known incorrect sRGB profile\n",
      "Training:  46%|████▌     | 11/24 [00:04<00:02,  4.47it/s, loss=0.7004, acc=73.70%]libpng warning: iCCP: known incorrect sRGB profile\n",
      "Training: 100%|██████████| 24/24 [00:27<00:00,  1.16s/it, loss=0.6350, acc=76.08%]\n",
      "Validation: 100%|██████████| 6/6 [00:23<00:00,  3.89s/it, loss=2.9579, acc=57.76%]\n"
     ]
    },
    {
     "name": "stdout",
     "output_type": "stream",
     "text": [
      "\n",
      "Train Loss: 0.6430 | Train Acc: 76.08%\n",
      "Val Loss:   1.1346 | Val Acc:   57.76%\n",
      "================================================================================\n",
      "Epoch 20/25\n",
      "------------------------------------------------------------\n"
     ]
    },
    {
     "name": "stderr",
     "output_type": "stream",
     "text": [
      "Training:   0%|          | 0/24 [00:00<?, ?it/s]libpng warning: iCCP: known incorrect sRGB profile\n",
      "libpng warning: iCCP: known incorrect sRGB profile\n",
      "Training:   4%|▍         | 1/24 [00:03<01:11,  3.11s/it, loss=0.5577, acc=84.38%]libpng warning: iCCP: known incorrect sRGB profile\n",
      "Training:  12%|█▎        | 3/24 [00:03<00:18,  1.16it/s, loss=0.6809, acc=80.47%]libpng warning: iCCP: known incorrect sRGB profile\n",
      "Training:  33%|███▎      | 8/24 [00:04<00:04,  3.42it/s, loss=0.5116, acc=77.73%]libpng warning: iCCP: known incorrect sRGB profile\n",
      "Training: 100%|██████████| 24/24 [00:27<00:00,  1.15s/it, loss=0.5585, acc=75.69%]\n",
      "Validation: 100%|██████████| 6/6 [00:23<00:00,  3.95s/it, loss=3.4120, acc=56.52%]\n"
     ]
    },
    {
     "name": "stdout",
     "output_type": "stream",
     "text": [
      "\n",
      "Train Loss: 0.6182 | Train Acc: 75.69%\n",
      "Val Loss:   1.1388 | Val Acc:   56.52%\n",
      "================================================================================\n",
      "Epoch 21/25\n",
      "------------------------------------------------------------\n"
     ]
    },
    {
     "name": "stderr",
     "output_type": "stream",
     "text": [
      "Training:  12%|█▎        | 3/24 [00:03<00:19,  1.06it/s, loss=0.4903, acc=77.34%]libpng warning: iCCP: known incorrect sRGB profile\n",
      "Training:  21%|██        | 5/24 [00:04<00:11,  1.61it/s, loss=0.6791, acc=78.12%]libpng warning: iCCP: known incorrect sRGB profile\n",
      "Training:  42%|████▏     | 10/24 [00:05<00:05,  2.69it/s, loss=0.7051, acc=75.94%]libpng warning: iCCP: known incorrect sRGB profile\n",
      "Training:  46%|████▌     | 11/24 [00:05<00:04,  2.71it/s, loss=0.8930, acc=73.70%]libpng warning: iCCP: known incorrect sRGB profile\n",
      "Training:  54%|█████▍    | 13/24 [00:06<00:03,  3.31it/s, loss=0.6839, acc=73.88%]libpng warning: iCCP: known incorrect sRGB profile\n",
      "Training: 100%|██████████| 24/24 [00:28<00:00,  1.19s/it, loss=0.5979, acc=73.20%]\n",
      "Validation: 100%|██████████| 6/6 [00:23<00:00,  3.98s/it, loss=3.2788, acc=58.39%]\n"
     ]
    },
    {
     "name": "stdout",
     "output_type": "stream",
     "text": [
      "\n",
      "Train Loss: 0.6787 | Train Acc: 73.20%\n",
      "Val Loss:   1.1427 | Val Acc:   58.39%\n",
      "================================================================================\n",
      "Epoch 22/25\n",
      "------------------------------------------------------------\n"
     ]
    },
    {
     "name": "stderr",
     "output_type": "stream",
     "text": [
      "Training:   0%|          | 0/24 [00:00<?, ?it/s]libpng warning: iCCP: known incorrect sRGB profile\n",
      "libpng warning: iCCP: known incorrect sRGB profile\n",
      "Training:  29%|██▉       | 7/24 [00:04<00:05,  2.88it/s, loss=0.6586, acc=74.55%]libpng warning: iCCP: known incorrect sRGB profile\n",
      "Training:  79%|███████▉  | 19/24 [00:07<00:01,  4.67it/s, loss=0.4707, acc=74.22%]libpng warning: iCCP: known incorrect sRGB profile\n",
      "libpng warning: iCCP: known incorrect sRGB profile\n",
      "Training: 100%|██████████| 24/24 [00:28<00:00,  1.18s/it, loss=0.6972, acc=74.64%]\n",
      "Validation: 100%|██████████| 6/6 [00:23<00:00,  3.89s/it, loss=2.8425, acc=57.76%]\n"
     ]
    },
    {
     "name": "stdout",
     "output_type": "stream",
     "text": [
      "\n",
      "Train Loss: 0.6339 | Train Acc: 74.64%\n",
      "Val Loss:   1.1319 | Val Acc:   57.76%\n",
      "================================================================================\n",
      "Epoch 23/25\n",
      "------------------------------------------------------------\n"
     ]
    },
    {
     "name": "stderr",
     "output_type": "stream",
     "text": [
      "Training:   0%|          | 0/24 [00:00<?, ?it/s]libpng warning: iCCP: known incorrect sRGB profile\n",
      "Training:  12%|█▎        | 3/24 [00:04<00:21,  1.04s/it, loss=0.4565, acc=83.59%]libpng warning: iCCP: known incorrect sRGB profile\n",
      "Training:  21%|██        | 5/24 [00:04<00:10,  1.83it/s, loss=0.5169, acc=81.25%]libpng warning: iCCP: known incorrect sRGB profile\n",
      "Training:  54%|█████▍    | 13/24 [00:05<00:02,  3.68it/s, loss=1.0691, acc=76.79%]libpng warning: iCCP: known incorrect sRGB profile\n",
      "Training:  75%|███████▌  | 18/24 [00:07<00:01,  3.97it/s, loss=0.4228, acc=77.80%]libpng warning: iCCP: known incorrect sRGB profile\n",
      "Training: 100%|██████████| 24/24 [00:28<00:00,  1.19s/it, loss=0.5162, acc=78.30%]\n",
      "Validation: 100%|██████████| 6/6 [00:24<00:00,  4.06s/it, loss=2.6907, acc=58.39%]\n"
     ]
    },
    {
     "name": "stdout",
     "output_type": "stream",
     "text": [
      "\n",
      "Train Loss: 0.5995 | Train Acc: 78.30%\n",
      "Val Loss:   1.1153 | Val Acc:   58.39%\n",
      "================================================================================\n",
      "Epoch 24/25\n",
      "------------------------------------------------------------\n"
     ]
    },
    {
     "name": "stderr",
     "output_type": "stream",
     "text": [
      "Training:   0%|          | 0/24 [00:00<?, ?it/s]libpng warning: iCCP: known incorrect sRGB profile\n",
      "Training:  12%|█▎        | 3/24 [00:04<00:22,  1.06s/it, loss=0.3385, acc=78.91%]libpng warning: iCCP: known incorrect sRGB profile\n",
      "Training:  54%|█████▍    | 13/24 [00:06<00:02,  3.82it/s, loss=0.6715, acc=78.12%]libpng warning: iCCP: known incorrect sRGB profile\n",
      "Training:  62%|██████▎   | 15/24 [00:06<00:02,  3.42it/s, loss=0.5532, acc=78.33%]libpng warning: iCCP: known incorrect sRGB profile\n",
      "Training:  71%|███████   | 17/24 [00:07<00:01,  4.32it/s, loss=0.6641, acc=78.12%]libpng warning: iCCP: known incorrect sRGB profile\n",
      "Training: 100%|██████████| 24/24 [00:28<00:00,  1.19s/it, loss=0.6180, acc=78.56%]\n",
      "Validation: 100%|██████████| 6/6 [00:23<00:00,  3.94s/it, loss=2.8473, acc=59.01%]"
     ]
    },
    {
     "name": "stdout",
     "output_type": "stream",
     "text": [
      "\n",
      "Train Loss: 0.5888 | Train Acc: 78.56%\n",
      "Val Loss:   1.1098 | Val Acc:   59.01%\n",
      "\n",
      "Early stopping triggered (patience=10)\n",
      "\n",
      "Stage 1 training complete!\n",
      "================================================================================\n"
     ]
    },
    {
     "name": "stderr",
     "output_type": "stream",
     "text": [
      "\n"
     ]
    }
   ],
   "source": [
    "if split_success:\n",
    "    # Loss and optimizer\n",
    "    criterion = nn.CrossEntropyLoss(weight=class_weights_tensor)\n",
    "    optimizer = optim.Adam(model.parameters(), lr=LEARNING_RATE_STAGE1)\n",
    "    # Automatically reduces the learning rate by 50% if validation loss stops improving for 5 epochs\n",
    "    scheduler = ReduceLROnPlateau(optimizer, mode='min', factor=0.5, patience=5, verbose=True)\n",
    "\n",
    "    print(\"=\" * 80)\n",
    "    print(f\"Starting Stage 1 Training\")\n",
    "    print(\"-\" * 80)\n",
    "    print(f\"Estimated time on M1: 30-60 minutes\\n\")\n",
    "    print(\"=\" * 80)\n",
    "    \n",
    "    history_stage1 = {\n",
    "        'train_loss': [], 'train_acc': [],\n",
    "        'val_loss': [], 'val_acc': []\n",
    "    }\n",
    "    \n",
    "    best_val_acc = 0.0\n",
    "    patience_counter = 0\n",
    "    PATIENCE = 10\n",
    "    \n",
    "    for epoch in range(EPOCHS_STAGE1):\n",
    "        print(\"=\" * 80)\n",
    "        print(f\"Epoch {epoch+1}/{EPOCHS_STAGE1}\")\n",
    "        print(\"-\" * 60)\n",
    "        \n",
    "        # Train\n",
    "        train_loss, train_acc = train_epoch(model, train_loader, criterion, optimizer, DEVICE)\n",
    "        \n",
    "        # Validate\n",
    "        val_loss, val_acc, _, _ = validate(model, val_loader, criterion, DEVICE)\n",
    "        \n",
    "        # Scheduler step\n",
    "        scheduler.step(val_loss)\n",
    "        \n",
    "        # Save history\n",
    "        history_stage1['train_loss'].append(train_loss)\n",
    "        history_stage1['train_acc'].append(train_acc)\n",
    "        history_stage1['val_loss'].append(val_loss)\n",
    "        history_stage1['val_acc'].append(val_acc)\n",
    "        \n",
    "        print(f\"\\nTrain Loss: {train_loss:.4f} | Train Acc: {train_acc*100:.2f}%\")\n",
    "        print(f\"Val Loss:   {val_loss:.4f} | Val Acc:   {val_acc*100:.2f}%\")\n",
    "        \n",
    "        # Save best model\n",
    "        if val_acc > best_val_acc:\n",
    "            best_val_acc = val_acc\n",
    "            torch.save(model.state_dict(), 'models/stage1_best.pth')\n",
    "            print(f\"Best model saved! (Val Acc: {val_acc*100:.2f}%)\")\n",
    "            # Save stage 1 logs to the disk\n",
    "            torch.save(history_stage1, 'models/history_stage1_del_img.pt')\n",
    "            patience_counter = 0\n",
    "        else:\n",
    "            patience_counter += 1\n",
    "        \n",
    "        # Early stopping\n",
    "        if patience_counter >= PATIENCE:\n",
    "            print(f\"\\nEarly stopping triggered (patience={PATIENCE})\")\n",
    "            break\n",
    "\n",
    "    print(\"\\nStage 1 training complete!\")\n",
    "\n",
    "else:\n",
    "    history_stage1 = None\n",
    "\n",
    "print(\"=\" * 80)"
   ]
  },
  {
   "cell_type": "markdown",
   "id": "619f40b3",
   "metadata": {},
   "source": [
    "# Comparison between skipping images or deleting images methods"
   ]
  },
  {
   "cell_type": "code",
   "execution_count": 9,
   "id": "2fe696cd",
   "metadata": {},
   "outputs": [
    {
     "name": "stdout",
     "output_type": "stream",
     "text": [
      "Keys in history: dict_keys(['train_loss', 'train_acc', 'val_loss', 'val_acc'])\n",
      "\n",
      "=== TRAIN_LOSS ===\n",
      "Last (skp): 0.7440\n",
      "Last (del): 0.7368\n",
      "Best (skp): 0.7089\n",
      "Best (del): 0.7333\n",
      "\n",
      "=== TRAIN_ACC ===\n",
      "Last (skp): 0.7163\n",
      "Last (del): 0.7163\n",
      "Best (skp): 0.7358\n",
      "Best (del): 0.7281\n",
      "\n",
      "=== VAL_LOSS ===\n",
      "Last (skp): 1.1366\n",
      "Last (del): 1.1483\n",
      "Best (skp): 1.0913\n",
      "Best (del): 1.1228\n",
      "\n",
      "=== VAL_ACC ===\n",
      "Last (skp): 0.6074\n",
      "Last (del): 0.5963\n",
      "Best (skp): 0.6074\n",
      "Best (del): 0.5963\n"
     ]
    }
   ],
   "source": [
    "import torch\n",
    "import matplotlib.pyplot as plt\n",
    "\n",
    "# Load both histories\n",
    "history_skp = torch.load(\"models/history_stage1_skp_img.pt\")\n",
    "history_del = torch.load(\"models/history_stage1_del_img.pt\")\n",
    "\n",
    "# Ensure they have the same keys\n",
    "print(\"Keys in history:\", history_skp.keys())\n",
    "\n",
    "# Quick numeric comparison\n",
    "for key in history_skp.keys():\n",
    "    skp_vals = history_skp[key]\n",
    "    del_vals = history_del[key]\n",
    "    \n",
    "    print(f\"\\n=== {key.upper()} ===\")\n",
    "    print(f\"Last (skp): {skp_vals[-1]:.4f}\")\n",
    "    print(f\"Last (del): {del_vals[-1]:.4f}\")\n",
    "    print(f\"Best (skp): {max(skp_vals) if 'acc' in key else min(skp_vals):.4f}\")\n",
    "    print(f\"Best (del): {max(del_vals) if 'acc' in key else min(del_vals):.4f}\")\n"
   ]
  },
  {
   "cell_type": "code",
   "execution_count": 10,
   "id": "52d32eaa",
   "metadata": {},
   "outputs": [
    {
     "data": {
      "image/png": "[encoded data removed]",
      "text/plain": [
       "<Figure size 1200x600 with 2 Axes>"
      ]
     },
     "metadata": {},
     "output_type": "display_data"
    }
   ],
   "source": [
    "epochs_skp = range(1, len(history_skp['train_loss']) + 1)\n",
    "epochs_del = range(1, len(history_del['train_loss']) + 1)\n",
    "\n",
    "plt.figure(figsize=(12, 6))\n",
    "\n",
    "# --- Training Loss ---\n",
    "plt.subplot(1, 2, 1)\n",
    "plt.plot(epochs_skp, history_skp['train_loss'], 'b-', label='SKP Train Loss')\n",
    "plt.plot(epochs_skp, history_skp['val_loss'], 'b--', label='SKP Val Loss')\n",
    "plt.plot(epochs_del, history_del['train_loss'], 'r-', label='DEL Train Loss')\n",
    "plt.plot(epochs_del, history_del['val_loss'], 'r--', label='DEL Val Loss')\n",
    "plt.title(\"Loss Comparison\")\n",
    "plt.xlabel(\"Epoch\")\n",
    "plt.ylabel(\"Loss\")\n",
    "plt.legend()\n",
    "plt.grid(True)\n",
    "\n",
    "# --- Accuracy ---\n",
    "plt.subplot(1, 2, 2)\n",
    "plt.plot(epochs_skp, history_skp['train_acc'], 'b-', label='SKP Train Acc')\n",
    "plt.plot(epochs_skp, history_skp['val_acc'], 'b--', label='SKP Val Acc')\n",
    "plt.plot(epochs_del, history_del['train_acc'], 'r-', label='DEL Train Acc')\n",
    "plt.plot(epochs_del, history_del['val_acc'], 'r--', label='DEL Val Acc')\n",
    "plt.title(\"Accuracy Comparison\")\n",
    "plt.xlabel(\"Epoch\")\n",
    "plt.ylabel(\"Accuracy\")\n",
    "plt.legend()\n",
    "plt.grid(True)\n",
    "\n",
    "plt.tight_layout()\n",
    "plt.show()\n"
   ]
  },
  {
   "cell_type": "code",
   "execution_count": 11,
   "id": "7dfc0098",
   "metadata": {},
   "outputs": [
    {
     "name": "stdout",
     "output_type": "stream",
     "text": [
      "\n",
      "Best Val Accuracy (SKP): 60.74%\n",
      "Best Val Accuracy (DEL): 59.63%\n",
      "\n",
      "SKP method performed better overall.\n"
     ]
    }
   ],
   "source": [
    "best_val_acc_skp = max(history_skp['val_acc'])\n",
    "best_val_acc_del = max(history_del['val_acc'])\n",
    "\n",
    "print(f\"\\nBest Val Accuracy (SKP): {best_val_acc_skp*100:.2f}%\")\n",
    "print(f\"Best Val Accuracy (DEL): {best_val_acc_del*100:.2f}%\")\n",
    "\n",
    "if best_val_acc_skp > best_val_acc_del:\n",
    "    print(\"\\nSKP method performed better overall.\")\n",
    "else:\n",
    "    print(\"\\nDEL method performed better overall.\")\n"
   ]
  },
  {
   "cell_type": "markdown",
   "id": "757d57d7",
   "metadata": {},
   "source": [
    "# End of notebook 4 - Training stage 1"
   ]
  }
 ],
 "metadata": {
  "kernelspec": {
   "display_name": "astro-ml",
   "language": "python",
   "name": "python3"
  },
  "language_info": {
   "codemirror_mode": {
    "name": "ipython",
    "version": 3
   },
   "file_extension": ".py",
   "mimetype": "text/x-python",
   "name": "python",
   "nbconvert_exporter": "python",
   "pygments_lexer": "ipython3",
   "version": "3.10.18"
  }
 },
 "nbformat": 4,
 "nbformat_minor": 5
}
