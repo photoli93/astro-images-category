{
 "cells": [
  {
   "cell_type": "markdown",
   "id": "7036d689",
   "metadata": {},
   "source": [
    "# Space Images Classifier - Using Kaggle dataset\n",
    "\n",
    "https://www.kaggle.com/datasets/abhikalpsrivastava15/space-images-category?utm_source=chatgpt.com"
   ]
  },
  {
   "cell_type": "markdown",
   "id": "255efa75",
   "metadata": {},
   "source": [
    "# Import librairies"
   ]
  },
  {
   "cell_type": "code",
   "execution_count": 1,
   "id": "937ec054",
   "metadata": {},
   "outputs": [],
   "source": [
    "import os\n",
    "import shutil\n",
    "import numpy as np\n",
    "import pandas as pd\n",
    "import matplotlib.pyplot as plt\n",
    "import seaborn as sns\n",
    "from pathlib import Path\n",
    "import cv2\n",
    "from tqdm import tqdm\n",
    "import warnings\n",
    "warnings.filterwarnings('ignore')\n",
    "\n",
    "import tensorflow as tf\n",
    "from tensorflow import keras\n",
    "from tensorflow.keras import layers, models\n",
    "from tensorflow.keras.preprocessing.image import ImageDataGenerator\n",
    "from tensorflow.keras.applications import EfficientNetB0\n",
    "from tensorflow.keras.callbacks import EarlyStopping, ReduceLROnPlateau, ModelCheckpoint\n",
    "\n",
    "from sklearn.model_selection import train_test_split\n",
    "from sklearn.metrics import classification_report, confusion_matrix\n",
    "from sklearn.utils import class_weight"
   ]
  },
  {
   "cell_type": "markdown",
   "id": "b39c3ccf",
   "metadata": {},
   "source": [
    "# Settings to optimize M1 Chip"
   ]
  },
  {
   "cell_type": "code",
   "execution_count": 2,
   "id": "3abd8049",
   "metadata": {},
   "outputs": [
    {
     "name": "stdout",
     "output_type": "stream",
     "text": [
      "================================================================================\n",
      "\n",
      "Optimized parameters for M1 Chip\n",
      "================================================================================\n",
      "\n",
      "TensorFlow version: 2.16.2\n",
      "M1 GPU detected: 1 device(s)\n",
      "\n",
      "================================================================================\n",
      "Optimized parameters for M1 Chip\n",
      "================================================================================\n",
      "\n",
      "Auto-tuned prefetching: ENABLED\n",
      "Parallel data loading: ENABLED\n"
     ]
    }
   ],
   "source": [
    "# ============================================================================\n",
    "# Configuration optimized for M1 Chip\n",
    "# ============================================================================\n",
    "print(\"=\" * 80 + \"\\n\")\n",
    "print(\"Optimized parameters for M1 Chip\")\n",
    "print(\"=\" * 80 + \"\\n\")\n",
    "\n",
    "print(f\"TensorFlow version: {tf.__version__}\")\n",
    "\n",
    "gpus = tf.config.list_physical_devices('GPU')\n",
    "if gpus:\n",
    "    print(f\"M1 GPU detected: {len(gpus)} device(s)\")\n",
    "    for gpu in gpus:\n",
    "        tf.config.experimental.set_memory_growth(gpu, True)\n",
    "else:\n",
    "    print(\"Running on CPU\")\n",
    "\n",
    "# Set seeds for reproducibility\n",
    "SEED = 42\n",
    "np.random.seed(SEED)\n",
    "tf.random.set_seed(SEED)\n",
    "os.environ['PYTHONHASHSEED'] = str(SEED)\n",
    "\n",
    "print(\"\\n\" + \"=\" * 80)\n",
    "\n",
    "# ============================================================================\n",
    "# Optimized parameters for M1 Chip - 16Go RAM\n",
    "# ============================================================================\n",
    "print(\"Optimized parameters for M1 Chip\")\n",
    "print(\"=\" * 80 + \"\\n\")\n",
    "\n",
    "# Memory-optimized settings\n",
    "PREFETCH_SIZE = tf.data.AUTOTUNE  # Auto-optimize data loading\n",
    "NUM_PARALLEL_CALLS = tf.data.AUTOTUNE  # Use all CPU cores\n",
    "\n",
    "print(f\"Auto-tuned prefetching: ENABLED\")\n",
    "print(f\"Parallel data loading: ENABLED\")"
   ]
  },
  {
   "cell_type": "markdown",
   "id": "1c7d48dd",
   "metadata": {},
   "source": [
    "# Data configuration"
   ]
  },
  {
   "cell_type": "code",
   "execution_count": 3,
   "id": "a8e73bf4",
   "metadata": {},
   "outputs": [
    {
     "name": "stdout",
     "output_type": "stream",
     "text": [
      "================================================================================\n",
      "Original dataset: ../space-images-category\n",
      "Split dataset: ../space_images_split\n",
      "Split ratios: Train=0.7, Val=0.15, Test=0.15\n",
      "Random seed: 42 (for reproducibility)\n",
      "================================================================================\n"
     ]
    }
   ],
   "source": [
    "print(\"=\" * 80)\n",
    "\n",
    "ORIGINAL_DATA_PATH = Path(\"../space-images-category\")\n",
    "OUTPUT_PATH = Path(\"../space_images_split\")\n",
    "\n",
    "# Split ratios for training, validation and test sets\n",
    "TRAIN_RATIO = 0.70\n",
    "VAL_RATIO = 0.15\n",
    "TEST_RATIO = 0.15\n",
    "\n",
    "# Model parameters\n",
    "IMG_SIZE = 224\n",
    "BATCH_SIZE = 32\n",
    "EPOCHS_STAGE1 = 25\n",
    "EPOCHS_STAGE2 = 15\n",
    "\n",
    "print(f\"Original dataset: {ORIGINAL_DATA_PATH}\")\n",
    "print(f\"Split dataset: {OUTPUT_PATH}\")\n",
    "print(f\"Split ratios: Train={TRAIN_RATIO}, Val={VAL_RATIO}, Test={TEST_RATIO}\")\n",
    "print(f\"Random seed: {SEED} (for reproducibility)\")\n",
    "print(\"=\" * 80)"
   ]
  },
  {
   "cell_type": "code",
   "execution_count": 4,
   "id": "9677e687",
   "metadata": {},
   "outputs": [
    {
     "name": "stdout",
     "output_type": "stream",
     "text": [
      "/Users/photoli93/Desktop/Projets perso Python/astro_img_classification/notebooks\n"
     ]
    }
   ],
   "source": [
    "print(os.getcwd())"
   ]
  },
  {
   "cell_type": "code",
   "execution_count": 12,
   "id": "50e33647",
   "metadata": {},
   "outputs": [
    {
     "name": "stdout",
     "output_type": "stream",
     "text": [
      "================================================================================\n",
      "Found 6 classes: ['constellation', 'cosmos space', 'galaxies', 'nebula', 'planets', 'stars']\n",
      "Created directory structure\n",
      "Splitting images (seed=42 for reproducibility)\n"
     ]
    },
    {
     "name": "stderr",
     "output_type": "stream",
     "text": [
      "Processing classes: 100%|██████████| 6/6 [00:01<00:00,  5.10it/s]\n"
     ]
    },
    {
     "name": "stdout",
     "output_type": "stream",
     "text": [
      "\n",
      "================================================================================\n",
      "Overview split summary\n",
      "--------------------------------------------------------------------------------\n",
      "        class  total  train  validation  test  train_pct   val_pct  test_pct\n",
      "constellation    183    128          27    28  69.945355 14.754098 15.300546\n",
      " cosmos space    166    116          24    26  69.879518 14.457831 15.662651\n",
      "     galaxies    237    165          35    37  69.620253 14.767932 15.611814\n",
      "       nebula    170    118          25    27  69.411765 14.705882 15.882353\n",
      "      planets    176    123          26    27  69.886364 14.772727 15.340909\n",
      "        stars    175    122          26    27  69.714286 14.857143 15.428571\n",
      "================================================================================\n",
      "Split summary saved: ../space_images_split/split_summary.csv\n",
      "Verifying that there is no data leaking\n",
      "Verified : No overlap between train/val/test sets\n",
      "================================================================================\n"
     ]
    },
    {
     "data": {
      "image/png": "[encoded data removed]",
      "text/plain": [
       "<Figure size 1600x600 with 2 Axes>"
      ]
     },
     "metadata": {},
     "output_type": "display_data"
    },
    {
     "name": "stdout",
     "output_type": "stream",
     "text": [
      "================================================================================\n",
      "Split visualization saved: ../space_images_split/split_visualization.png\n",
      "Data split complete with no data leaking\n",
      "================================================================================\n"
     ]
    }
   ],
   "source": [
    "# ============================================================================\n",
    "# Phase 1: Create Train/Val/Test folders (Only executed once)\n",
    "# ============================================================================\n",
    "\n",
    "def create_train_val_test_split(original_path, output_path, train_ratio, val_ratio, test_ratio, seed=42):\n",
    "    \"\"\"\n",
    "    Create stratified train/validation/test split\n",
    "    \n",
    "    This function:\n",
    "    1. Preserves class distribution in all splits\n",
    "    2. Ensures no overlapping between train/val/test\n",
    "    3. Creates separate directories for each split\n",
    "    4. Is reproducible (same split every time with same seed)\n",
    "    \"\"\"\n",
    "    \n",
    "    if not original_path.exists():\n",
    "        print(f\"Error : Dataset not found at {original_path}\")\n",
    "        print(\"Please download from: https://www.kaggle.com/datasets/abhikalpsrivastava15/space-images-category\")\n",
    "        return False\n",
    "    \n",
    "    # Check if split already exists\n",
    "    if output_path.exists():\n",
    "        response = input(f\"{output_path} already exists. Recreate split? [YES/NO]: \")\n",
    "        if response.lower() != 'yes':\n",
    "            print(\"Using existing split\")\n",
    "            return True\n",
    "        shutil.rmtree(output_path)\n",
    "    \n",
    "    # Get all classes\n",
    "    classes = sorted([d.name for d in original_path.iterdir() if d.is_dir()])\n",
    "    \n",
    "    if not classes:\n",
    "        print(\"Error : No class folders found in dataset\")\n",
    "        return False\n",
    "    \n",
    "    print('=' * 80)\n",
    "    print(f\"Found {len(classes)} classes: {classes}\")\n",
    "\n",
    "    # Create output directories\n",
    "    train_path = output_path / \"train\"\n",
    "    val_path = output_path / \"validation\"\n",
    "    test_path = output_path / \"test\"\n",
    "    \n",
    "    for split_path in [train_path, val_path, test_path]:\n",
    "        for cls in classes:\n",
    "            (split_path / cls).mkdir(parents=True, exist_ok=True)\n",
    "    \n",
    "    print(f\"Created directory structure\")\n",
    "    \n",
    "    # Split each class\n",
    "    split_summary = []\n",
    "    \n",
    "    print(f\"Splitting images (seed={seed} for reproducibility)\")\n",
    "\n",
    "    # Loop through classes with progress bar\n",
    "    for cls in tqdm(classes, desc=\"Processing classes\"):\n",
    "        cls_path = original_path / cls\n",
    "        \n",
    "        # Get all images\n",
    "        images = []\n",
    "        for ext in ['*.jpg', '*.jpeg', '*.png', '*.JPG', '*.JPEG', '*.PNG']:\n",
    "            images.extend(list(cls_path.glob(ext)))\n",
    "        \n",
    "        if not images:\n",
    "            print(f\"No images found for class: {cls}\")\n",
    "            continue\n",
    "        \n",
    "        # Shuffle with seed for reproducibility\n",
    "        np.random.seed(seed)\n",
    "        images = np.array(images)\n",
    "        np.random.shuffle(images)\n",
    "        \n",
    "        # Calculate split indices\n",
    "        n_total = len(images)\n",
    "        n_train = int(n_total * train_ratio)\n",
    "        n_val = int(n_total * val_ratio)\n",
    "        n_test = n_total - n_train - n_val\n",
    "        \n",
    "        # Split images\n",
    "        train_images = images[:n_train]\n",
    "        val_images = images[n_train:n_train+n_val]\n",
    "        test_images = images[n_train+n_val:]\n",
    "        \n",
    "        # Copy images to respective folders\n",
    "        for img in train_images:\n",
    "            shutil.copy2(img, train_path / cls / img.name)\n",
    "        \n",
    "        for img in val_images:\n",
    "            shutil.copy2(img, val_path / cls / img.name)\n",
    "        \n",
    "        for img in test_images:\n",
    "            shutil.copy2(img, test_path / cls / img.name)\n",
    "        \n",
    "        split_summary.append({\n",
    "            'class': cls,\n",
    "            'total': n_total,\n",
    "            'train': n_train,\n",
    "            'validation': n_val,\n",
    "            'test': n_test,\n",
    "            'train_pct': n_train/n_total*100,\n",
    "            'val_pct': n_val/n_total*100,\n",
    "            'test_pct': n_test/n_total*100\n",
    "        })\n",
    "    \n",
    "    # Display summary\n",
    "    df_summary = pd.DataFrame(split_summary)\n",
    "    print(f\"\\n{'=' * 80}\")\n",
    "    print(\"Overview split summary\")\n",
    "    print('-' * 80)\n",
    "    print(df_summary.to_string(index=False))\n",
    "    print('=' * 80)\n",
    "\n",
    "    # Save summary\n",
    "    df_summary.to_csv(output_path / 'split_summary.csv', index=False)\n",
    "    print(f\"Split summary saved: {output_path / 'split_summary.csv'}\")\n",
    "    \n",
    "    # Verify no overlap\n",
    "    print(\"Verifying that there is no data leaking\")\n",
    "    train_files = set([f.name for f in (train_path / classes[0]).glob(\"*\")])\n",
    "    val_files = set([f.name for f in (val_path / classes[0]).glob(\"*\")])\n",
    "    test_files = set([f.name for f in (test_path / classes[0]).glob(\"*\")])\n",
    "    \n",
    "    overlap_train_val = train_files & val_files\n",
    "    overlap_train_test = train_files & test_files\n",
    "    overlap_val_test = val_files & test_files\n",
    "    \n",
    "    if overlap_train_val or overlap_train_test or overlap_val_test:\n",
    "        print(\"Warning : Data leaking detected\")\n",
    "    else:\n",
    "        print(\"Verified : No overlap between train/val/test sets\")\n",
    "        print('=' * 80)\n",
    "    \n",
    "    # Visualize split distribution\n",
    "    fig, axes = plt.subplots(1, 2, figsize=(16, 6))\n",
    "    \n",
    "    # Absolute counts\n",
    "    x = np.arange(len(classes))\n",
    "    width = 0.25\n",
    "    \n",
    "    axes[0].bar(x - width, df_summary['train'], width, label='Train')\n",
    "    axes[0].bar(x, df_summary['validation'], width, label='Validation')\n",
    "    axes[0].bar(x + width, df_summary['test'], width, label='Test')\n",
    "    axes[0].set_xlabel('Class', fontsize=12, fontweight='bold')\n",
    "    axes[0].set_ylabel('Number of images', fontsize=12, fontweight='bold')\n",
    "    axes[0].set_title('Image Distribution across splits', fontsize=14, fontweight='bold')\n",
    "    axes[0].set_xticks(x)\n",
    "    axes[0].set_xticklabels(classes, rotation=45, ha='right')\n",
    "    axes[0].legend()\n",
    "    axes[0].grid(axis='y', alpha=0.3)\n",
    "    \n",
    "    # Percentages\n",
    "    axes[1].bar(x - width, df_summary['train_pct'], width, label='Train')\n",
    "    axes[1].bar(x, df_summary['val_pct'], width, label='Validation')\n",
    "    axes[1].bar(x + width, df_summary['test_pct'], width, label='Test')\n",
    "    axes[1].set_xlabel('Class', fontsize=12, fontweight='bold')\n",
    "    axes[1].set_ylabel('Percentage (%)', fontsize=12, fontweight='bold')\n",
    "    axes[1].set_title('Percentage Distribution', fontsize=14, fontweight='bold')\n",
    "    axes[1].set_xticks(x)\n",
    "    axes[1].set_xticklabels(classes, rotation=45, ha='right')\n",
    "    axes[1].legend()\n",
    "    axes[1].grid(axis='y', alpha=0.3)\n",
    "    axes[1].axhline(y=70, color='gray', linestyle='--', alpha=0.5)\n",
    "    axes[1].axhline(y=15, color='gray', linestyle='--', alpha=0.5)\n",
    "    \n",
    "    plt.tight_layout()\n",
    "    plt.savefig(output_path / 'split_visualization.png', dpi=150, bbox_inches='tight')\n",
    "    plt.show()\n",
    "    \n",
    "    print('=' * 80)\n",
    "    print(f\"Split visualization saved: {output_path / 'split_visualization.png'}\")\n",
    "    print(\"Data split complete with no data leaking\")\n",
    "    print('=' * 80)\n",
    "    \n",
    "    return True\n",
    "\n",
    "# Create the split\n",
    "split_success = create_train_val_test_split(\n",
    "    ORIGINAL_DATA_PATH, \n",
    "    OUTPUT_PATH, \n",
    "    TRAIN_RATIO, \n",
    "    VAL_RATIO, \n",
    "    TEST_RATIO, \n",
    "    SEED\n",
    ")"
   ]
  },
  {
   "cell_type": "markdown",
   "id": "ac5b84ce",
   "metadata": {},
   "source": [
    "# Data loading Data Generators"
   ]
  },
  {
   "cell_type": "code",
   "execution_count": null,
   "id": "d32262c9",
   "metadata": {},
   "outputs": [],
   "source": []
  },
  {
   "cell_type": "code",
   "execution_count": null,
   "id": "02640134",
   "metadata": {},
   "outputs": [],
   "source": []
  },
  {
   "cell_type": "code",
   "execution_count": null,
   "id": "651f237f",
   "metadata": {},
   "outputs": [],
   "source": []
  },
  {
   "cell_type": "code",
   "execution_count": null,
   "id": "a79ea6ce",
   "metadata": {},
   "outputs": [],
   "source": []
  },
  {
   "cell_type": "code",
   "execution_count": null,
   "id": "446e61e0",
   "metadata": {},
   "outputs": [],
   "source": []
  },
  {
   "cell_type": "code",
   "execution_count": null,
   "id": "0343a119",
   "metadata": {},
   "outputs": [],
   "source": []
  },
  {
   "cell_type": "code",
   "execution_count": null,
   "id": "93333e83",
   "metadata": {},
   "outputs": [],
   "source": []
  }
 ],
 "metadata": {
  "kernelspec": {
   "display_name": "astro-ml",
   "language": "python",
   "name": "python3"
  },
  "language_info": {
   "codemirror_mode": {
    "name": "ipython",
    "version": 3
   },
   "file_extension": ".py",
   "mimetype": "text/x-python",
   "name": "python",
   "nbconvert_exporter": "python",
   "pygments_lexer": "ipython3",
   "version": "3.10.18"
  }
 },
 "nbformat": 4,
 "nbformat_minor": 5
}
