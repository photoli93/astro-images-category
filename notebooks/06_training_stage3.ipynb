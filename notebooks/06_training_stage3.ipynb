{
 "cells": [
  {
   "cell_type": "markdown",
   "id": "7036d689",
   "metadata": {},
   "source": [
    "# Space Images Classifier - Using Kaggle dataset\n",
    "\n",
    "https://www.kaggle.com/datasets/abhikalpsrivastava15/space-images-category?utm_source=chatgpt.com\n",
    "\n",
    "### Notebook 6 - Training stage 3 (Unfrozen entire backbone for full fine-tuning)"
   ]
  },
  {
   "cell_type": "markdown",
   "id": "255efa75",
   "metadata": {},
   "source": [
    "# Import librairies"
   ]
  },
  {
   "cell_type": "code",
   "execution_count": 1,
   "id": "937ec054",
   "metadata": {},
   "outputs": [],
   "source": [
    "import numpy as np\n",
    "import pandas as pd\n",
    "\n",
    "import matplotlib.pyplot as plt\n",
    "import seaborn as sns\n",
    "\n",
    "import sys\n",
    "import os\n",
    "import json\n",
    "\n",
    "# Add the root folder to Python's module search path\n",
    "sys.path.append(os.path.abspath(os.path.join(\"..\"))) \n",
    "# Import the project configuration\n",
    "from config import DEVICE, OUTPUT_PATH, BATCH_SIZE, NUM_WORKERS, EPOCHS_STAGE3, LEARNING_RATE_STAGE3\n",
    "from models import SpaceClassifier\n",
    "from train_utils import train_epoch, validate\n",
    "from datasets import SpaceImageDataset, train_transforms, val_test_transforms\n",
    "\n",
    "import shutil\n",
    "from pathlib import Path\n",
    "import cv2\n",
    "from tqdm import tqdm\n",
    "import random\n",
    "\n",
    "import warnings\n",
    "warnings.filterwarnings('ignore')\n",
    "\n",
    "import torch\n",
    "import torch.nn as nn\n",
    "import torch.optim as optim\n",
    "from torch.utils.data import Dataset, DataLoader\n",
    "from torchvision import transforms, models\n",
    "from torch.optim.lr_scheduler import ReduceLROnPlateau\n",
    "import torchvision.transforms.functional as TF\n",
    "\n",
    "from sklearn.model_selection import train_test_split\n",
    "from sklearn.metrics import classification_report, confusion_matrix, accuracy_score\n",
    "from sklearn.utils import class_weight"
   ]
  },
  {
   "cell_type": "markdown",
   "id": "b4f7aebf",
   "metadata": {},
   "source": [
    "# Load callback/config variables"
   ]
  },
  {
   "cell_type": "code",
   "execution_count": 2,
   "id": "5766abd9",
   "metadata": {},
   "outputs": [],
   "source": [
    "ROOT_PATH = Path(\"..\")\n",
    "# Path to load JSON\n",
    "CONFIG_JSON_PATH = ROOT_PATH / \"config_dynamic.json\"\n",
    "\n",
    "try:\n",
    "    with open(CONFIG_JSON_PATH) as f:\n",
    "        dynamic_config = json.load(f)\n",
    "except FileNotFoundError:\n",
    "    dynamic_config = {}\n",
    "    \n",
    "NUM_CLASSES = dynamic_config.get(\"NUM_CLASSES\", 0)\n",
    "class_names = dynamic_config.get(\"class_names\", [])\n",
    "split_success = dynamic_config.get(\"split_success\", 5)\n",
    "\n",
    "# Path to the saved tensor\n",
    "WEIGHTS_PATH = Path(\"models\") / \"class_weights_tensor.pth\"\n",
    "\n",
    "# Load the tensor\n",
    "class_weights_tensor = torch.load(WEIGHTS_PATH, map_location=DEVICE)\n",
    "\n"
   ]
  },
  {
   "cell_type": "markdown",
   "id": "58bc9a1b",
   "metadata": {},
   "source": [
    "# Training stage 3 with unfrozen entire backbone"
   ]
  },
  {
   "cell_type": "markdown",
   "id": "fb148444",
   "metadata": {},
   "source": [
    "## Load the best model from stage 2"
   ]
  },
  {
   "cell_type": "code",
   "execution_count": null,
   "id": "02640134",
   "metadata": {},
   "outputs": [
    {
     "name": "stdout",
     "output_type": "stream",
     "text": [
      "================================================================================\n",
      "Model created: EfficientNet-B0\n",
      "Device: mps\n",
      "Total parameters: 4,337,026\n",
      "Trainable parameters: 329,478\n",
      "--------------------------------------------------------------------------------\n",
      "Best model from stage 2 loaded\n",
      "History of the stages 1 and 2 loaded\n",
      "================================================================================\n"
     ]
    }
   ],
   "source": [
    "# Create model\n",
    "model = SpaceClassifier(NUM_CLASSES, pretrained=True)\n",
    "model = model.to(DEVICE)\n",
    "\n",
    "print(\"=\" * 80)\n",
    "print(f\"Model created: EfficientNet-B0\")\n",
    "print(f\"Device: {DEVICE}\")\n",
    "\n",
    "# Count parameters\n",
    "total_params = sum(p.numel() for p in model.parameters())\n",
    "print(f\"Total parameters: {total_params:,}\")\n",
    "print(\"-\" * 80)\n",
    "\n",
    "# Load best model\n",
    "model.load_state_dict(torch.load('models/stage2_best.pth'))\n",
    "print(\"Best model from stage 2 loaded\")\n",
    "# Load logs from stage1 and stage2\n",
    "history_stage1 = torch.load('models/history_stage1_del_img.pt')\n",
    "history_stage2 = torch.load('models/history_stage2.pt')\n",
    "print(\"History of the stages 1 and 2 loaded\")\n",
    "print(\"=\" * 80)"
   ]
  },
  {
   "cell_type": "markdown",
   "id": "b24fb85d",
   "metadata": {},
   "source": [
    "## Create Dataset"
   ]
  },
  {
   "cell_type": "code",
   "execution_count": 4,
   "id": "bdbc53a0",
   "metadata": {},
   "outputs": [
    {
     "name": "stderr",
     "output_type": "stream",
     "text": [
      "libpng warning: iCCP: known incorrect sRGB profile\n",
      "libpng warning: iCCP: known incorrect sRGB profile\n",
      "libpng warning: iCCP: known incorrect sRGB profile\n",
      "libpng warning: iCCP: known incorrect sRGB profile\n",
      "libpng warning: iCCP: known incorrect sRGB profile\n"
     ]
    },
    {
     "name": "stdout",
     "output_type": "stream",
     "text": [
      "Dataset created from ../space_images_split/train\n",
      "   -> 765 valid images\n",
      "7 images skipped (see ../space_images_split/train/skipped_images.txt)\n",
      "Dataset created from ../space_images_split/validation\n",
      "   -> 161 valid images\n",
      "2 images skipped (see ../space_images_split/validation/skipped_images.txt)\n"
     ]
    }
   ],
   "source": [
    "train_dataset = SpaceImageDataset(OUTPUT_PATH / \"train\", transform=train_transforms)\n",
    "val_dataset = SpaceImageDataset(OUTPUT_PATH / \"validation\", transform=val_test_transforms)"
   ]
  },
  {
   "cell_type": "markdown",
   "id": "8f72fcda",
   "metadata": {},
   "source": [
    "## Create Data loaders"
   ]
  },
  {
   "cell_type": "code",
   "execution_count": 5,
   "id": "3f157dea",
   "metadata": {},
   "outputs": [],
   "source": [
    "train_loader = DataLoader(\n",
    "    train_dataset, \n",
    "    batch_size=BATCH_SIZE,\n",
    "    shuffle=True, \n",
    "    num_workers=NUM_WORKERS,\n",
    "    pin_memory=True if DEVICE.type == 'mps' else False\n",
    ")\n",
    "\n",
    "val_loader = DataLoader(\n",
    "    val_dataset, \n",
    "    batch_size=BATCH_SIZE, \n",
    "    shuffle=False, \n",
    "    num_workers=NUM_WORKERS,\n",
    "    pin_memory=True if DEVICE.type == 'mps' else False\n",
    ")"
   ]
  },
  {
   "cell_type": "markdown",
   "id": "c0963a13",
   "metadata": {},
   "source": [
    "## Training the model - Stage 3\n",
    "\n",
    "Unfrozen the entire backbone, fine-tuning on the whole backbone"
   ]
  },
  {
   "cell_type": "code",
   "execution_count": 6,
   "id": "27350b3f",
   "metadata": {},
   "outputs": [
    {
     "name": "stdout",
     "output_type": "stream",
     "text": [
      "Backbone unfrozen for stage 3\n",
      "Backbone fully unfrozen for stage 3\n",
      "Trainable parameters: 4,337,026\n",
      "================================================================================\n",
      "Starting Stage 3 Fine-Tuning\n",
      "--------------------------------------------------------------------------------\n",
      "Estimated time on M1: 20-40 minutes\n",
      "================================================================================\n",
      "Epoch 1/15\n",
      "------------------------------------------------------------\n"
     ]
    },
    {
     "name": "stderr",
     "output_type": "stream",
     "text": [
      "Training:   0%|          | 0/24 [00:00<?, ?it/s]libpng warning: iCCP: known incorrect sRGB profile\n",
      "libpng warning: iCCP: known incorrect sRGB profile\n",
      "Training:  12%|█▎        | 3/24 [00:24<01:58,  5.64s/it, loss=0.4532, acc=85.42%]libpng warning: iCCP: known incorrect sRGB profile\n",
      "Training:  21%|██        | 5/24 [00:25<00:45,  2.39s/it, loss=0.6648, acc=85.62%]libpng warning: iCCP: known incorrect sRGB profile\n",
      "Training:  62%|██████▎   | 15/24 [00:28<00:03,  2.47it/s, loss=0.5873, acc=80.00%]libpng warning: iCCP: known incorrect sRGB profile\n",
      "Training: 100%|██████████| 24/24 [00:56<00:00,  2.35s/it, loss=0.4768, acc=80.52%]\n",
      "Validation: 100%|██████████| 6/6 [00:29<00:00,  4.88s/it, loss=3.3818, acc=62.73%]\n"
     ]
    },
    {
     "name": "stdout",
     "output_type": "stream",
     "text": [
      "\n",
      "Train Loss: 0.5613 | Train Acc: 80.52%\n",
      "Val Loss:   0.9916 | Val Acc:   62.73%\n",
      "Best model saved! (Val Acc: 62.73%)\n",
      "================================================================================\n",
      "Epoch 2/15\n",
      "------------------------------------------------------------\n"
     ]
    },
    {
     "name": "stderr",
     "output_type": "stream",
     "text": [
      "Training:   0%|          | 0/24 [00:00<?, ?it/s]libpng warning: iCCP: known incorrect sRGB profile\n",
      "libpng warning: iCCP: known incorrect sRGB profile\n",
      "Training:  21%|██        | 5/24 [00:06<00:14,  1.31it/s, loss=0.3965, acc=75.62%]libpng warning: iCCP: known incorrect sRGB profile\n",
      "Training:  50%|█████     | 12/24 [00:08<00:04,  2.68it/s, loss=0.6593, acc=79.17%]libpng warning: iCCP: known incorrect sRGB profile\n",
      "Training:  67%|██████▋   | 16/24 [00:10<00:02,  2.86it/s, loss=0.5835, acc=80.27%]libpng warning: iCCP: known incorrect sRGB profile\n",
      "Training: 100%|██████████| 24/24 [00:33<00:00,  1.38s/it, loss=0.4948, acc=80.13%]\n",
      "Validation: 100%|██████████| 6/6 [00:24<00:00,  4.11s/it, loss=3.6404, acc=66.46%]\n"
     ]
    },
    {
     "name": "stdout",
     "output_type": "stream",
     "text": [
      "\n",
      "Train Loss: 0.5663 | Train Acc: 80.13%\n",
      "Val Loss:   0.9780 | Val Acc:   66.46%\n",
      "Best model saved! (Val Acc: 66.46%)\n",
      "================================================================================\n",
      "Epoch 3/15\n",
      "------------------------------------------------------------\n"
     ]
    },
    {
     "name": "stderr",
     "output_type": "stream",
     "text": [
      "Training:   0%|          | 0/24 [00:00<?, ?it/s]libpng warning: iCCP: known incorrect sRGB profile\n",
      "Training:   8%|▊         | 2/24 [00:05<00:47,  2.17s/it, loss=0.3137, acc=89.06%]libpng warning: iCCP: known incorrect sRGB profile\n",
      "Training:  12%|█▎        | 3/24 [00:05<00:27,  1.33s/it, loss=0.6042, acc=86.46%]libpng warning: iCCP: known incorrect sRGB profile\n",
      "Training:  25%|██▌       | 6/24 [00:06<00:10,  1.68it/s, loss=0.5161, acc=82.29%]libpng warning: iCCP: known incorrect sRGB profile\n",
      "Training:  58%|█████▊    | 14/24 [00:09<00:03,  2.58it/s, loss=0.2903, acc=84.60%]libpng warning: iCCP: known incorrect sRGB profile\n",
      "Training: 100%|██████████| 24/24 [00:32<00:00,  1.37s/it, loss=0.6413, acc=82.88%]\n",
      "Validation: 100%|██████████| 6/6 [00:24<00:00,  4.13s/it, loss=3.4200, acc=68.32%]\n"
     ]
    },
    {
     "name": "stdout",
     "output_type": "stream",
     "text": [
      "\n",
      "Train Loss: 0.4842 | Train Acc: 82.88%\n",
      "Val Loss:   0.9705 | Val Acc:   68.32%\n",
      "Best model saved! (Val Acc: 68.32%)\n",
      "================================================================================\n",
      "Epoch 4/15\n",
      "------------------------------------------------------------\n"
     ]
    },
    {
     "name": "stderr",
     "output_type": "stream",
     "text": [
      "Training:   8%|▊         | 2/24 [00:05<00:47,  2.18s/it, loss=0.4969, acc=82.81%]libpng warning: iCCP: known incorrect sRGB profile\n",
      "Training:  29%|██▉       | 7/24 [00:06<00:08,  1.93it/s, loss=0.4526, acc=84.38%]libpng warning: iCCP: known incorrect sRGB profile\n",
      "Training:  38%|███▊      | 9/24 [00:07<00:06,  2.36it/s, loss=0.4279, acc=85.42%]libpng warning: iCCP: known incorrect sRGB profile\n",
      "Training:  50%|█████     | 12/24 [00:08<00:04,  2.61it/s, loss=0.5959, acc=84.90%]libpng warning: iCCP: known incorrect sRGB profile\n",
      "libpng warning: iCCP: known incorrect sRGB profile\n",
      "Training: 100%|██████████| 24/24 [00:32<00:00,  1.37s/it, loss=0.4994, acc=85.23%]\n",
      "Validation: 100%|██████████| 6/6 [00:24<00:00,  4.13s/it, loss=3.9412, acc=67.70%]\n"
     ]
    },
    {
     "name": "stdout",
     "output_type": "stream",
     "text": [
      "\n",
      "Train Loss: 0.4607 | Train Acc: 85.23%\n",
      "Val Loss:   1.0296 | Val Acc:   67.70%\n",
      "================================================================================\n",
      "Epoch 5/15\n",
      "------------------------------------------------------------\n"
     ]
    },
    {
     "name": "stderr",
     "output_type": "stream",
     "text": [
      "Training:  33%|███▎      | 8/24 [00:07<00:07,  2.07it/s, loss=0.6065, acc=84.77%]libpng warning: iCCP: known incorrect sRGB profile\n",
      "Training:  42%|████▏     | 10/24 [00:08<00:05,  2.41it/s, loss=0.3210, acc=84.38%]libpng warning: iCCP: known incorrect sRGB profile\n",
      "Training:  54%|█████▍    | 13/24 [00:09<00:04,  2.67it/s, loss=0.3682, acc=82.93%]libpng warning: iCCP: known incorrect sRGB profile\n",
      "Training:  67%|██████▋   | 16/24 [00:10<00:02,  2.77it/s, loss=0.3268, acc=83.98%]libpng warning: iCCP: known incorrect sRGB profile\n",
      "libpng warning: iCCP: known incorrect sRGB profile\n",
      "Training: 100%|██████████| 24/24 [00:33<00:00,  1.39s/it, loss=0.4272, acc=83.14%]\n",
      "Validation: 100%|██████████| 6/6 [00:24<00:00,  4.10s/it, loss=3.5897, acc=65.84%]\n"
     ]
    },
    {
     "name": "stdout",
     "output_type": "stream",
     "text": [
      "\n",
      "Train Loss: 0.4613 | Train Acc: 83.14%\n",
      "Val Loss:   1.0016 | Val Acc:   65.84%\n",
      "================================================================================\n",
      "Epoch 6/15\n",
      "------------------------------------------------------------\n"
     ]
    },
    {
     "name": "stderr",
     "output_type": "stream",
     "text": [
      "Training:   0%|          | 0/24 [00:00<?, ?it/s]libpng warning: iCCP: known incorrect sRGB profile\n",
      "libpng warning: iCCP: known incorrect sRGB profile\n",
      "libpng warning: iCCP: known incorrect sRGB profile\n",
      "libpng warning: iCCP: known incorrect sRGB profile\n",
      "Training:  62%|██████▎   | 15/24 [00:09<00:03,  2.81it/s, loss=0.3904, acc=86.04%]libpng warning: iCCP: known incorrect sRGB profile\n",
      "Training: 100%|██████████| 24/24 [00:32<00:00,  1.35s/it, loss=0.3272, acc=85.49%]\n",
      "Validation: 100%|██████████| 6/6 [00:24<00:00,  4.08s/it, loss=4.0592, acc=67.08%]\n"
     ]
    },
    {
     "name": "stdout",
     "output_type": "stream",
     "text": [
      "\n",
      "Train Loss: 0.4003 | Train Acc: 85.49%\n",
      "Val Loss:   1.0215 | Val Acc:   67.08%\n",
      "================================================================================\n",
      "Epoch 7/15\n",
      "------------------------------------------------------------\n"
     ]
    },
    {
     "name": "stderr",
     "output_type": "stream",
     "text": [
      "Training:   0%|          | 0/24 [00:00<?, ?it/s]libpng warning: iCCP: known incorrect sRGB profile\n",
      "libpng warning: iCCP: known incorrect sRGB profile\n",
      "Training:   4%|▍         | 1/24 [00:05<01:55,  5.03s/it, loss=0.4145, acc=87.50%]libpng warning: iCCP: known incorrect sRGB profile\n",
      "Training:  29%|██▉       | 7/24 [00:07<00:08,  1.93it/s, loss=0.3495, acc=84.82%]libpng warning: iCCP: known incorrect sRGB profile\n",
      "libpng warning: iCCP: known incorrect sRGB profile\n",
      "Training: 100%|██████████| 24/24 [00:32<00:00,  1.37s/it, loss=0.3034, acc=86.27%]\n",
      "Validation: 100%|██████████| 6/6 [00:24<00:00,  4.09s/it, loss=3.7047, acc=65.84%]\n"
     ]
    },
    {
     "name": "stdout",
     "output_type": "stream",
     "text": [
      "\n",
      "Train Loss: 0.4101 | Train Acc: 86.27%\n",
      "Val Loss:   1.0281 | Val Acc:   65.84%\n",
      "================================================================================\n",
      "Epoch 8/15\n",
      "------------------------------------------------------------\n"
     ]
    },
    {
     "name": "stderr",
     "output_type": "stream",
     "text": [
      "Training:   0%|          | 0/24 [00:00<?, ?it/s]libpng warning: iCCP: known incorrect sRGB profile\n",
      "libpng warning: iCCP: known incorrect sRGB profile\n",
      "Training:  25%|██▌       | 6/24 [00:06<00:10,  1.73it/s, loss=0.3926, acc=88.02%]libpng warning: iCCP: known incorrect sRGB profile\n",
      "Training:  46%|████▌     | 11/24 [00:07<00:04,  2.67it/s, loss=0.2435, acc=87.50%]libpng warning: iCCP: known incorrect sRGB profile\n",
      "Training:  54%|█████▍    | 13/24 [00:08<00:03,  2.81it/s, loss=0.3783, acc=86.78%]libpng warning: iCCP: known incorrect sRGB profile\n",
      "Training: 100%|██████████| 24/24 [00:32<00:00,  1.35s/it, loss=0.2663, acc=88.10%]\n",
      "Validation: 100%|██████████| 6/6 [00:24<00:00,  4.06s/it, loss=3.5708, acc=65.84%]\n"
     ]
    },
    {
     "name": "stdout",
     "output_type": "stream",
     "text": [
      "\n",
      "Train Loss: 0.3318 | Train Acc: 88.10%\n",
      "Val Loss:   1.0482 | Val Acc:   65.84%\n",
      "================================================================================\n",
      "Epoch 9/15\n",
      "------------------------------------------------------------\n"
     ]
    },
    {
     "name": "stderr",
     "output_type": "stream",
     "text": [
      "Training:   0%|          | 0/24 [00:00<?, ?it/s]libpng warning: iCCP: known incorrect sRGB profile\n",
      "Training:  12%|█▎        | 3/24 [00:05<00:28,  1.37s/it, loss=0.2973, acc=85.42%]libpng warning: iCCP: known incorrect sRGB profile\n",
      "libpng warning: iCCP: known incorrect sRGB profile\n",
      "libpng warning: iCCP: known incorrect sRGB profile\n",
      "Training:  67%|██████▋   | 16/24 [00:10<00:03,  2.64it/s, loss=0.5137, acc=87.89%]libpng warning: iCCP: known incorrect sRGB profile\n",
      "Training: 100%|██████████| 24/24 [00:33<00:00,  1.39s/it, loss=0.3279, acc=89.28%]\n",
      "Validation: 100%|██████████| 6/6 [00:24<00:00,  4.13s/it, loss=3.9654, acc=67.70%]"
     ]
    },
    {
     "name": "stdout",
     "output_type": "stream",
     "text": [
      "\n",
      "Train Loss: 0.3462 | Train Acc: 89.28%\n",
      "Val Loss:   1.0501 | Val Acc:   67.70%\n",
      "\n",
      "Early stopping triggered (patience=6)\n",
      "\n",
      "Stage 3 fine-tuning complete!\n",
      "================================================================================\n"
     ]
    },
    {
     "name": "stderr",
     "output_type": "stream",
     "text": [
      "\n"
     ]
    }
   ],
   "source": [
    "if split_success and history_stage1:\n",
    "    # Unfreeze for stage 3\n",
    "    model.unfreeze_backbone_stage(stage=3)\n",
    "\n",
    "    # Loss and optimizer\n",
    "    criterion = nn.CrossEntropyLoss(weight=class_weights_tensor)\n",
    "    optimizer = optim.Adam(model.parameters(), lr=LEARNING_RATE_STAGE3)\n",
    "    scheduler = ReduceLROnPlateau(optimizer, mode='min', factor=0.5, patience=3, verbose=True)\n",
    "\n",
    "    trainable_params = sum(p.numel() for p in model.parameters() if p.requires_grad)\n",
    "    print(f\"Trainable parameters: {trainable_params:,}\")\n",
    "    \n",
    "    print(\"=\" * 80)\n",
    "    print(f\"Starting Stage 3 Fine-Tuning\")\n",
    "    print(\"-\" * 80)\n",
    "    print(f\"Estimated time on M1: 20-40 minutes\")\n",
    "\n",
    "    history_stage3 = {\n",
    "        'train_loss': [], 'train_acc': [],\n",
    "        'val_loss': [], 'val_acc': []\n",
    "    }\n",
    "    \n",
    "    best_val_acc = 0.0\n",
    "    patience_counter = 0\n",
    "    PATIENCE = 6\n",
    "    \n",
    "    for epoch in range(EPOCHS_STAGE3):\n",
    "        print(\"=\" * 80)\n",
    "        print(f\"Epoch {epoch+1}/{EPOCHS_STAGE3}\")\n",
    "        print(\"-\" * 60)\n",
    "        \n",
    "        train_loss, train_acc = train_epoch(model, train_loader, criterion, optimizer, DEVICE)\n",
    "        val_loss, val_acc, _, _ = validate(model, val_loader, criterion, DEVICE)\n",
    "        \n",
    "        scheduler.step(val_loss)\n",
    "        \n",
    "        history_stage3['train_loss'].append(train_loss)\n",
    "        history_stage3['train_acc'].append(train_acc)\n",
    "        history_stage3['val_loss'].append(val_loss)\n",
    "        history_stage3['val_acc'].append(val_acc)\n",
    "        \n",
    "        print(f\"\\nTrain Loss: {train_loss:.4f} | Train Acc: {train_acc*100:.2f}%\")\n",
    "        print(f\"Val Loss:   {val_loss:.4f} | Val Acc:   {val_acc*100:.2f}%\")\n",
    "        \n",
    "        if val_acc > best_val_acc:\n",
    "            best_val_acc = val_acc\n",
    "            torch.save(model.state_dict(), 'models/stage3_best.pth')\n",
    "            print(f\"Best model saved! (Val Acc: {val_acc*100:.2f}%)\")\n",
    "            # Save stage 2 logs to the disk\n",
    "            torch.save(history_stage3, 'models/history_stage3.pt')\n",
    "            patience_counter = 0\n",
    "        else:\n",
    "            patience_counter += 1\n",
    "        \n",
    "        if patience_counter >= PATIENCE:\n",
    "            print(f\"\\nEarly stopping triggered (patience={PATIENCE})\")\n",
    "            break\n",
    "    \n",
    "    print(\"\\nStage 3 fine-tuning complete!\")\n",
    "\n",
    "else:\n",
    "    history_stage3 = None\n",
    "\n",
    "print(\"=\" * 80)"
   ]
  },
  {
   "cell_type": "markdown",
   "id": "156191a6",
   "metadata": {},
   "source": [
    "## Training visualization (stages 1 to 3)"
   ]
  },
  {
   "cell_type": "code",
   "execution_count": 10,
   "id": "0d0a1977",
   "metadata": {},
   "outputs": [
    {
     "data": {
      "image/png": "[encoded data removed]",
      "text/plain": [
       "<Figure size 1600x600 with 2 Axes>"
      ]
     },
     "metadata": {},
     "output_type": "display_data"
    },
    {
     "name": "stdout",
     "output_type": "stream",
     "text": [
      "Training curves saved\n"
     ]
    }
   ],
   "source": [
    "if history_stage1 and history_stage2 and history_stage3:\n",
    "    # Combine histories\n",
    "    train_loss = history_stage1['train_loss'] + history_stage2['train_loss'] + history_stage3['train_loss']\n",
    "    train_acc  = history_stage1['train_acc']  + history_stage2['train_acc']  + history_stage3['train_acc']\n",
    "    val_loss   = history_stage1['val_loss']   + history_stage2['val_loss']   + history_stage3['val_loss']\n",
    "    val_acc    = history_stage1['val_acc']    + history_stage2['val_acc']    + history_stage3['val_acc']\n",
    "\n",
    "    epochs = range(1, len(train_loss) + 1)\n",
    "    \n",
    "    fine_tune_start_1 = len(history_stage1['train_acc'])\n",
    "    fine_tune_start_2 = len(history_stage1['train_acc']) + len(history_stage2['train_acc'])\n",
    "    \n",
    "    fig, (ax1, ax2) = plt.subplots(1, 2, figsize=(16, 6))\n",
    "    \n",
    "    # Accuracy\n",
    "    ax1.plot(epochs, train_acc, 'b-', label='Training', linewidth=2.5)\n",
    "    ax1.plot(epochs, val_acc, 'r-', label='Validation', linewidth=2.5)\n",
    "    ax1.axvline(x=fine_tune_start_1, color='gray', linestyle='--', label='Fine-tuning Stage 2', alpha=0.7)\n",
    "    ax1.axvline(x=fine_tune_start_2, color='black', linestyle='--', label='Fine-tuning Stage 3', alpha=0.7)\n",
    "    ax1.set_title('Model Accuracy', fontsize=14, fontweight='bold')\n",
    "    ax1.set_xlabel('Epoch')\n",
    "    ax1.set_ylabel('Accuracy')\n",
    "    ax1.legend()\n",
    "    ax1.grid(alpha=0.3)\n",
    "    \n",
    "    # Loss\n",
    "    ax2.plot(epochs, train_loss, 'b-', label='Training', linewidth=2.5)\n",
    "    ax2.plot(epochs, val_loss, 'r-', label='Validation', linewidth=2.5)\n",
    "    ax2.axvline(x=fine_tune_start_1, color='gray', linestyle='--', label='Fine-tuning Stage 2', alpha=0.7)\n",
    "    ax2.axvline(x=fine_tune_start_2, color='black', linestyle='--', label='Fine-tuning Stage 3', alpha=0.7)\n",
    "    ax2.set_title('Model Loss', fontsize=14, fontweight='bold')\n",
    "    ax2.set_xlabel('Epoch')\n",
    "    ax2.set_ylabel('Loss')\n",
    "    ax2.legend()\n",
    "    ax2.grid(alpha=0.3)\n",
    "    \n",
    "    plt.tight_layout()\n",
    "    plt.savefig('results/training_curve_stages123.png', dpi=150)\n",
    "    plt.show()\n",
    "\n",
    "    print(\"Training curves saved\")"
   ]
  },
  {
   "cell_type": "markdown",
   "id": "4a195edd",
   "metadata": {},
   "source": [
    "The first dashed line marks the beginning of the stage 2 (the partial fine-tuning). A noticeable improvement in training accuracy and a slight bump in validation accuracy mean that the backbone started adapting in my dataset.\n",
    "\n",
    "The second dashed line marks the start of the stage 3 (full fine-tuning of the backbokne). The trainnig accuracy improved strongly (up to ~90%) and the validation accuracy rises slightly (up to ~68% compared to 66% at stage 2)\n",
    "\n",
    "That’s a normal and expected pattern during full fine-tuning — the model squeezes out the last bit of performance but becomes more specialized to your training set."
   ]
  },
  {
   "cell_type": "markdown",
   "id": "757d57d7",
   "metadata": {},
   "source": [
    "# End of notebook 5 - Training stage 2"
   ]
  }
 ],
 "metadata": {
  "kernelspec": {
   "display_name": "astro-ml",
   "language": "python",
   "name": "python3"
  },
  "language_info": {
   "codemirror_mode": {
    "name": "ipython",
    "version": 3
   },
   "file_extension": ".py",
   "mimetype": "text/x-python",
   "name": "python",
   "nbconvert_exporter": "python",
   "pygments_lexer": "ipython3",
   "version": "3.10.18"
  }
 },
 "nbformat": 4,
 "nbformat_minor": 5
}
